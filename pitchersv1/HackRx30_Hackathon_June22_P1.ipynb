{
  "cells": [
    {
      "cell_type": "code",
      "source": [
        "from google.colab import drive\n",
        "drive.mount('/content/drive')"
      ],
      "metadata": {
        "colab": {
          "base_uri": "https://localhost:8080/"
        },
        "id": "MEYkZFMvYVEs",
        "outputId": "565a24ed-1a81-4bdf-9b96-7e3b399035a2"
      },
      "execution_count": null,
      "outputs": [
        {
          "output_type": "stream",
          "name": "stdout",
          "text": [
            "Mounted at /content/drive\n"
          ]
        }
      ]
    },
    {
      "cell_type": "code",
      "execution_count": null,
      "metadata": {
        "id": "tAK3E0dkYTMM"
      },
      "outputs": [],
      "source": [
        "import pandas as pd\n",
        "import re\n",
        "from pprint import pprint\n"
      ]
    },
    {
      "cell_type": "code",
      "execution_count": null,
      "metadata": {
        "id": "_ZjJyX1BYTMO"
      },
      "outputs": [],
      "source": [
        "filepath = '/content/drive/MyDrive/BAJAJ/GNN_datasets/amazon-meta.txt'\n",
        "text = open(filepath, 'r', encoding = 'utf-8')"
      ]
    },
    {
      "cell_type": "code",
      "execution_count": null,
      "metadata": {
        "id": "ooCB46DOYTMO"
      },
      "outputs": [],
      "source": [
        "Ids = []\n",
        "ASINs = []\n",
        "titles =[]\n",
        "salesranks = []\n",
        "similars = []\n",
        "num_categories = []\n",
        "groups = []\n",
        "categories = []\n",
        "reviews = []\n",
        "reviewinfo = []\n",
        "lc = 0\n",
        "for line in text:\n",
        "    lastcat = False\n",
        "    lastrev = False\n",
        "    categoies =[]\n",
        "    lineelements = line.split(':')\n",
        "    lineelements = [x.strip() for x in lineelements]\n",
        "    if 'Id' == lineelements[0]:\n",
        "        Ids.append(lineelements[1])\n",
        "    elif 'ASIN' == lineelements[0]:\n",
        "        ASINs.append(lineelements[1])\n",
        "    elif 'discontinued product' in lineelements:\n",
        "        Ids.pop(-1)\n",
        "        ASINs.pop(-1)\n",
        "    elif 'title' == lineelements[0]:\n",
        "        titles.append(''.join(lineelements[1]))\n",
        "    elif 'group' == lineelements[0]:\n",
        "        groups.append(lineelements[1])\n",
        "    elif 'salesrank' == lineelements[0]:\n",
        "        salesranks.append(lineelements[1])\n",
        "    elif 'similar' == lineelements[0]:\n",
        "        lineelements.pop(0)\n",
        "        element = ' '.join(lineelements)\n",
        "        similars.append(element)\n",
        "        \n",
        "    elif 'categories' == lineelements[0]:\n",
        "        num_categories.append(lineelements[1])\n",
        "        lastcat = True\n",
        "        cats = []\n",
        "        cnt = 0\n",
        "        for i in range(int(lineelements[1])):\n",
        "            l = text.readline()\n",
        "            cats.append('|'.join(l.split('|')[2:]).strip())\n",
        "        categories.append(cats)\n",
        "    elif 'reviews' == lineelements[0]:\n",
        "        review = ':'.join(lineelements[1:]).strip()\n",
        "        reviews.append(review)\n",
        "        sub = review.split()\n",
        "        subsub = [x.split(':') for x in sub]\n",
        "        r = []\n",
        "        for i in range(int(subsub[1][1])):\n",
        "            l = text.readline()\n",
        "            r.append(l)\n",
        "        reviewinfo.append(r)"
      ]
    },
    {
      "cell_type": "code",
      "execution_count": null,
      "metadata": {
        "id": "t7bXeXWZYTMQ"
      },
      "outputs": [],
      "source": [
        "data = {'ID':Ids, \n",
        "        'ASIN':ASINs, \n",
        "        'title':titles, \n",
        "        'group':groups, \n",
        "        'salesrank':salesranks, \n",
        "        'similar':similars, \n",
        "        'num_categories':num_categories, \n",
        "        'categories':categories,\n",
        "        'review':reviews, \n",
        "        'reviewinfo':reviewinfo}"
      ]
    },
    {
      "cell_type": "code",
      "execution_count": null,
      "metadata": {
        "scrolled": true,
        "id": "M-rW8AuIYTMQ"
      },
      "outputs": [],
      "source": [
        "df = pd.DataFrame(data)"
      ]
    },
    {
      "cell_type": "code",
      "execution_count": null,
      "metadata": {
        "colab": {
          "base_uri": "https://localhost:8080/",
          "height": 337
        },
        "id": "PfZuuQCRYTMR",
        "outputId": "f1a4bef5-d1d5-4629-9438-67b871a059e1"
      },
      "outputs": [
        {
          "output_type": "execute_result",
          "data": {
            "text/plain": [
              "  ID        ASIN                                             title group  \\\n",
              "0  1  0827229534                             Patterns of Preaching  Book   \n",
              "1  2  0738700797                                         Candlemas  Book   \n",
              "2  3  0486287785  World War II Allied Fighter Planes Trading Cards  Book   \n",
              "3  4  0842328327                 Life Application Bible Commentary  Book   \n",
              "4  5  1577943082              Prayers That Avail Much for Business  Book   \n",
              "\n",
              "  salesrank                                            similar num_categories  \\\n",
              "0    396585  5  0804215715  156101074X  0687023955  0687074...              2   \n",
              "1    168596  5  0738700827  1567184960  1567182836  0738700...              2   \n",
              "2   1270652                                                  0              1   \n",
              "3    631289  5  0842328130  0830818138  0842330313  0842328...              5   \n",
              "4    455160  5  157794349X  0892749504  1577941829  0892749...              2   \n",
              "\n",
              "                                          categories  \\\n",
              "0  [Subjects[1000]|Religion & Spirituality[22]|Ch...   \n",
              "1  [Subjects[1000]|Religion & Spirituality[22]|Ea...   \n",
              "2  [Subjects[1000]|Home & Garden[48]|Crafts & Hob...   \n",
              "3  [Subjects[1000]|Religion & Spirituality[22]|Ch...   \n",
              "4  [Subjects[1000]|Religion & Spirituality[22]|Ch...   \n",
              "\n",
              "                                    review  \\\n",
              "0      total:2  downloaded:2  avg rating:5   \n",
              "1  total:12  downloaded:12  avg rating:4.5   \n",
              "2      total:1  downloaded:1  avg rating:5   \n",
              "3      total:1  downloaded:1  avg rating:4   \n",
              "4      total:0  downloaded:0  avg rating:0   \n",
              "\n",
              "                                          reviewinfo  \n",
              "0  [    2000-7-28  cutomer: A2JW67OY8U6HHK  ratin...  \n",
              "1  [    2001-12-16  cutomer: A11NCO6YTE4BTJ  rati...  \n",
              "2  [    2003-7-10  cutomer: A3IDGASRQAW8B2  ratin...  \n",
              "3  [    2004-8-19  cutomer: A2591BUPXCS705  ratin...  \n",
              "4                                                 []  "
            ],
            "text/html": [
              "\n",
              "  <div id=\"df-42beba34-4b9c-47f2-910d-b4f0ec30ada8\">\n",
              "    <div class=\"colab-df-container\">\n",
              "      <div>\n",
              "<style scoped>\n",
              "    .dataframe tbody tr th:only-of-type {\n",
              "        vertical-align: middle;\n",
              "    }\n",
              "\n",
              "    .dataframe tbody tr th {\n",
              "        vertical-align: top;\n",
              "    }\n",
              "\n",
              "    .dataframe thead th {\n",
              "        text-align: right;\n",
              "    }\n",
              "</style>\n",
              "<table border=\"1\" class=\"dataframe\">\n",
              "  <thead>\n",
              "    <tr style=\"text-align: right;\">\n",
              "      <th></th>\n",
              "      <th>ID</th>\n",
              "      <th>ASIN</th>\n",
              "      <th>title</th>\n",
              "      <th>group</th>\n",
              "      <th>salesrank</th>\n",
              "      <th>similar</th>\n",
              "      <th>num_categories</th>\n",
              "      <th>categories</th>\n",
              "      <th>review</th>\n",
              "      <th>reviewinfo</th>\n",
              "    </tr>\n",
              "  </thead>\n",
              "  <tbody>\n",
              "    <tr>\n",
              "      <th>0</th>\n",
              "      <td>1</td>\n",
              "      <td>0827229534</td>\n",
              "      <td>Patterns of Preaching</td>\n",
              "      <td>Book</td>\n",
              "      <td>396585</td>\n",
              "      <td>5  0804215715  156101074X  0687023955  0687074...</td>\n",
              "      <td>2</td>\n",
              "      <td>[Subjects[1000]|Religion &amp; Spirituality[22]|Ch...</td>\n",
              "      <td>total:2  downloaded:2  avg rating:5</td>\n",
              "      <td>[    2000-7-28  cutomer: A2JW67OY8U6HHK  ratin...</td>\n",
              "    </tr>\n",
              "    <tr>\n",
              "      <th>1</th>\n",
              "      <td>2</td>\n",
              "      <td>0738700797</td>\n",
              "      <td>Candlemas</td>\n",
              "      <td>Book</td>\n",
              "      <td>168596</td>\n",
              "      <td>5  0738700827  1567184960  1567182836  0738700...</td>\n",
              "      <td>2</td>\n",
              "      <td>[Subjects[1000]|Religion &amp; Spirituality[22]|Ea...</td>\n",
              "      <td>total:12  downloaded:12  avg rating:4.5</td>\n",
              "      <td>[    2001-12-16  cutomer: A11NCO6YTE4BTJ  rati...</td>\n",
              "    </tr>\n",
              "    <tr>\n",
              "      <th>2</th>\n",
              "      <td>3</td>\n",
              "      <td>0486287785</td>\n",
              "      <td>World War II Allied Fighter Planes Trading Cards</td>\n",
              "      <td>Book</td>\n",
              "      <td>1270652</td>\n",
              "      <td>0</td>\n",
              "      <td>1</td>\n",
              "      <td>[Subjects[1000]|Home &amp; Garden[48]|Crafts &amp; Hob...</td>\n",
              "      <td>total:1  downloaded:1  avg rating:5</td>\n",
              "      <td>[    2003-7-10  cutomer: A3IDGASRQAW8B2  ratin...</td>\n",
              "    </tr>\n",
              "    <tr>\n",
              "      <th>3</th>\n",
              "      <td>4</td>\n",
              "      <td>0842328327</td>\n",
              "      <td>Life Application Bible Commentary</td>\n",
              "      <td>Book</td>\n",
              "      <td>631289</td>\n",
              "      <td>5  0842328130  0830818138  0842330313  0842328...</td>\n",
              "      <td>5</td>\n",
              "      <td>[Subjects[1000]|Religion &amp; Spirituality[22]|Ch...</td>\n",
              "      <td>total:1  downloaded:1  avg rating:4</td>\n",
              "      <td>[    2004-8-19  cutomer: A2591BUPXCS705  ratin...</td>\n",
              "    </tr>\n",
              "    <tr>\n",
              "      <th>4</th>\n",
              "      <td>5</td>\n",
              "      <td>1577943082</td>\n",
              "      <td>Prayers That Avail Much for Business</td>\n",
              "      <td>Book</td>\n",
              "      <td>455160</td>\n",
              "      <td>5  157794349X  0892749504  1577941829  0892749...</td>\n",
              "      <td>2</td>\n",
              "      <td>[Subjects[1000]|Religion &amp; Spirituality[22]|Ch...</td>\n",
              "      <td>total:0  downloaded:0  avg rating:0</td>\n",
              "      <td>[]</td>\n",
              "    </tr>\n",
              "  </tbody>\n",
              "</table>\n",
              "</div>\n",
              "      <button class=\"colab-df-convert\" onclick=\"convertToInteractive('df-42beba34-4b9c-47f2-910d-b4f0ec30ada8')\"\n",
              "              title=\"Convert this dataframe to an interactive table.\"\n",
              "              style=\"display:none;\">\n",
              "        \n",
              "  <svg xmlns=\"http://www.w3.org/2000/svg\" height=\"24px\"viewBox=\"0 0 24 24\"\n",
              "       width=\"24px\">\n",
              "    <path d=\"M0 0h24v24H0V0z\" fill=\"none\"/>\n",
              "    <path d=\"M18.56 5.44l.94 2.06.94-2.06 2.06-.94-2.06-.94-.94-2.06-.94 2.06-2.06.94zm-11 1L8.5 8.5l.94-2.06 2.06-.94-2.06-.94L8.5 2.5l-.94 2.06-2.06.94zm10 10l.94 2.06.94-2.06 2.06-.94-2.06-.94-.94-2.06-.94 2.06-2.06.94z\"/><path d=\"M17.41 7.96l-1.37-1.37c-.4-.4-.92-.59-1.43-.59-.52 0-1.04.2-1.43.59L10.3 9.45l-7.72 7.72c-.78.78-.78 2.05 0 2.83L4 21.41c.39.39.9.59 1.41.59.51 0 1.02-.2 1.41-.59l7.78-7.78 2.81-2.81c.8-.78.8-2.07 0-2.86zM5.41 20L4 18.59l7.72-7.72 1.47 1.35L5.41 20z\"/>\n",
              "  </svg>\n",
              "      </button>\n",
              "      \n",
              "  <style>\n",
              "    .colab-df-container {\n",
              "      display:flex;\n",
              "      flex-wrap:wrap;\n",
              "      gap: 12px;\n",
              "    }\n",
              "\n",
              "    .colab-df-convert {\n",
              "      background-color: #E8F0FE;\n",
              "      border: none;\n",
              "      border-radius: 50%;\n",
              "      cursor: pointer;\n",
              "      display: none;\n",
              "      fill: #1967D2;\n",
              "      height: 32px;\n",
              "      padding: 0 0 0 0;\n",
              "      width: 32px;\n",
              "    }\n",
              "\n",
              "    .colab-df-convert:hover {\n",
              "      background-color: #E2EBFA;\n",
              "      box-shadow: 0px 1px 2px rgba(60, 64, 67, 0.3), 0px 1px 3px 1px rgba(60, 64, 67, 0.15);\n",
              "      fill: #174EA6;\n",
              "    }\n",
              "\n",
              "    [theme=dark] .colab-df-convert {\n",
              "      background-color: #3B4455;\n",
              "      fill: #D2E3FC;\n",
              "    }\n",
              "\n",
              "    [theme=dark] .colab-df-convert:hover {\n",
              "      background-color: #434B5C;\n",
              "      box-shadow: 0px 1px 3px 1px rgba(0, 0, 0, 0.15);\n",
              "      filter: drop-shadow(0px 1px 2px rgba(0, 0, 0, 0.3));\n",
              "      fill: #FFFFFF;\n",
              "    }\n",
              "  </style>\n",
              "\n",
              "      <script>\n",
              "        const buttonEl =\n",
              "          document.querySelector('#df-42beba34-4b9c-47f2-910d-b4f0ec30ada8 button.colab-df-convert');\n",
              "        buttonEl.style.display =\n",
              "          google.colab.kernel.accessAllowed ? 'block' : 'none';\n",
              "\n",
              "        async function convertToInteractive(key) {\n",
              "          const element = document.querySelector('#df-42beba34-4b9c-47f2-910d-b4f0ec30ada8');\n",
              "          const dataTable =\n",
              "            await google.colab.kernel.invokeFunction('convertToInteractive',\n",
              "                                                     [key], {});\n",
              "          if (!dataTable) return;\n",
              "\n",
              "          const docLinkHtml = 'Like what you see? Visit the ' +\n",
              "            '<a target=\"_blank\" href=https://colab.research.google.com/notebooks/data_table.ipynb>data table notebook</a>'\n",
              "            + ' to learn more about interactive tables.';\n",
              "          element.innerHTML = '';\n",
              "          dataTable['output_type'] = 'display_data';\n",
              "          await google.colab.output.renderOutput(dataTable, element);\n",
              "          const docLink = document.createElement('div');\n",
              "          docLink.innerHTML = docLinkHtml;\n",
              "          element.appendChild(docLink);\n",
              "        }\n",
              "      </script>\n",
              "    </div>\n",
              "  </div>\n",
              "  "
            ]
          },
          "metadata": {},
          "execution_count": 8
        }
      ],
      "source": [
        "df.head()"
      ]
    },
    {
      "cell_type": "code",
      "execution_count": null,
      "metadata": {
        "id": "AAmCggK5YTMS"
      },
      "outputs": [],
      "source": [
        "df.to_csv('/content/drive/MyDrive/extracteddata.csv')"
      ]
    },
    {
      "cell_type": "code",
      "source": [
        ""
      ],
      "metadata": {
        "id": "bhf2JSBA_hsz"
      },
      "execution_count": null,
      "outputs": []
    }
  ],
  "metadata": {
    "kernelspec": {
      "display_name": "Python 3 (ipykernel)",
      "language": "python",
      "name": "python3"
    },
    "language_info": {
      "codemirror_mode": {
        "name": "ipython",
        "version": 3
      },
      "file_extension": ".py",
      "mimetype": "text/x-python",
      "name": "python",
      "nbconvert_exporter": "python",
      "pygments_lexer": "ipython3",
      "version": "3.8.8"
    },
    "colab": {
      "name": "HackRx30_Hackathon_June22_P1.ipynb",
      "provenance": [],
      "collapsed_sections": []
    }
  },
  "nbformat": 4,
  "nbformat_minor": 0
}