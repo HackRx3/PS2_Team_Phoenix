{
  "cells": [
    {
      "cell_type": "markdown",
      "source": [
        "# 1. Product Clustering and recommendation based on cluster and rating - Data preprocessing"
      ],
      "metadata": {
        "id": "bXF1P1tABart"
      }
    },
    {
      "cell_type": "code",
      "execution_count": 1,
      "metadata": {
        "colab": {
          "base_uri": "https://localhost:8080/"
        },
        "id": "2lUbES9pNxgu",
        "outputId": "ca77cdfc-e937-4689-f1ca-d4c3749f6a0c"
      },
      "outputs": [
        {
          "output_type": "stream",
          "name": "stdout",
          "text": [
            "Looking in indexes: https://pypi.org/simple, https://us-python.pkg.dev/colab-wheels/public/simple/\n",
            "Collecting stemming\n",
            "  Downloading stemming-1.0.1.zip (13 kB)\n",
            "Building wheels for collected packages: stemming\n",
            "  Building wheel for stemming (setup.py): started\n",
            "  Building wheel for stemming (setup.py): finished with status 'done'\n",
            "  Created wheel for stemming: filename=stemming-1.0.1-py3-none-any.whl size=11138 sha256=ca9c2cde5d080ad33cd57ce30d1a5b576e643da92e25b65500904f4d4e7e9245\n",
            "  Stored in directory: /root/.cache/pip/wheels/6b/e5/e2/c52ebc0a5b53fd82b00cc385e57bb1c90bd50e5f54ddbc06d1\n",
            "Successfully built stemming\n",
            "Installing collected packages: stemming\n",
            "Successfully installed stemming-1.0.1\n"
          ]
        }
      ],
      "source": [
        "%%bash\n",
        "pip install stemming"
      ]
    },
    {
      "cell_type": "code",
      "execution_count": 2,
      "metadata": {
        "colab": {
          "base_uri": "https://localhost:8080/"
        },
        "id": "9amWKQiCNQIK",
        "outputId": "cac8fc11-8d95-41e2-fcec-aec5edd3b473"
      },
      "outputs": [
        {
          "output_type": "stream",
          "name": "stderr",
          "text": [
            "[nltk_data] Downloading package stopwords to /root/nltk_data...\n",
            "[nltk_data]   Unzipping corpora/stopwords.zip.\n"
          ]
        },
        {
          "output_type": "execute_result",
          "data": {
            "text/plain": [
              "True"
            ]
          },
          "metadata": {},
          "execution_count": 2
        }
      ],
      "source": [
        "import string\n",
        "import pandas as pd\n",
        "import re\n",
        "import nltk\n",
        "from nltk.corpus import stopwords\n",
        "from stemming.porter2 import stem\n",
        "import networkx \n",
        "import numpy as np\n",
        "import networkx as nx\n",
        "import seaborn as sns\n",
        "import matplotlib.pyplot as plt\n",
        "import plotly.express as px\n",
        "import matplotlib.pylab as plt\n",
        "from IPython.display import Image\n",
        "from community import community_louvain\n",
        "from collections import Counter\n",
        "from itertools import chain\n",
        "#pyo.init_notebook_mode()\n",
        "import plotly.io as pio\n",
        "pio.renderers.default = 'browser'\n",
        "import nltk\n",
        "nltk.download('stopwords')"
      ]
    },
    {
      "cell_type": "code",
      "source": [
        "from google.colab import drive\n",
        "drive.mount('/content/drive')"
      ],
      "metadata": {
        "colab": {
          "base_uri": "https://localhost:8080/"
        },
        "id": "SE-ffkkQ-e25",
        "outputId": "2bfa25c5-5c01-4f34-92fb-c91fb3d93025"
      },
      "execution_count": 152,
      "outputs": [
        {
          "output_type": "stream",
          "name": "stdout",
          "text": [
            "Drive already mounted at /content/drive; to attempt to forcibly remount, call drive.mount(\"/content/drive\", force_remount=True).\n"
          ]
        }
      ]
    },
    {
      "cell_type": "code",
      "execution_count": 276,
      "metadata": {
        "id": "AkkOxfRtNQIM"
      },
      "outputs": [],
      "source": [
        "# Open the file to read Amazon Product Metadata\n",
        "df = open ('/content/drive/MyDrive/BAJAJ/GNN_datasets/amazon-meta.txt', 'r', encoding='utf-8', errors= 'ignore')"
      ]
    },
    {
      "cell_type": "code",
      "execution_count": 277,
      "metadata": {
        "id": "XF4sZ-yPNQIN"
      },
      "outputs": [],
      "source": [
        "# Initialize a nested product dictionary that will hold cleaned up amazon product data. \n",
        "amazonProducts= {}"
      ]
    },
    {
      "cell_type": "code",
      "source": [
        "\"\"\"    elif(line.startswith(\"ASIN\")):\n",
        "        ASIN = line[5:].strip()\n",
        "    elif(line.startswith(\"title\")):\n",
        "        Title = line[6:].strip()\n",
        "        Title = ' '.join(Title.split())\n",
        "        continue\n",
        "    elif(line.startswith(\"group\")):\n",
        "        Group = line[6:].strip()\n",
        "    elif(line.startswith(\"salesrank\")):\n",
        "        SalesRank = line[10:].strip()\n",
        "    elif(line.startswith(\"similar\")):\n",
        "        ls = line.split()\n",
        "        no_sim = ls[1:2]\n",
        "        Copurchased = ' '.join([c for c in ls[2:]])\n",
        "    elif(line.startswith(\"categories\")):\n",
        "        ls = line.split()\n",
        "        Categories = ' '.join((df.readline()).lower() for i in range(int(ls[1].strip())))\n",
        "        Categories = re.compile('[%s]' % re.escape(string.digits+string.punctuation)).sub(' ',Categories)\n",
        "        Categories = ' '.join(set(Categories.split())-set(stopwords.words(\"english\")))\n",
        "        Categories = ' '.join(stem(word) for word in Categories.split())\"\"\""
      ],
      "metadata": {
        "colab": {
          "base_uri": "https://localhost:8080/",
          "height": 105
        },
        "id": "3tE6Xezwnjjh",
        "outputId": "ab7cb801-44c2-4c2c-e816-a34a95e9d682"
      },
      "execution_count": 278,
      "outputs": [
        {
          "output_type": "execute_result",
          "data": {
            "text/plain": [
              "'    elif(line.startswith(\"ASIN\")):\\n        ASIN = line[5:].strip()\\n    elif(line.startswith(\"title\")):\\n        Title = line[6:].strip()\\n        Title = \\' \\'.join(Title.split())\\n        continue\\n    elif(line.startswith(\"group\")):\\n        Group = line[6:].strip()\\n    elif(line.startswith(\"salesrank\")):\\n        SalesRank = line[10:].strip()\\n    elif(line.startswith(\"similar\")):\\n        ls = line.split()\\n        no_sim = ls[1:2]\\n        Copurchased = \\' \\'.join([c for c in ls[2:]])\\n    elif(line.startswith(\"categories\")):\\n        ls = line.split()\\n        Categories = \\' \\'.join((df.readline()).lower() for i in range(int(ls[1].strip())))\\n        Categories = re.compile(\\'[%s]\\' % re.escape(string.digits+string.punctuation)).sub(\\' \\',Categories)\\n        Categories = \\' \\'.join(set(Categories.split())-set(stopwords.words(\"english\")))\\n        Categories = \\' \\'.join(stem(word) for word in Categories.split())'"
            ],
            "application/vnd.google.colaboratory.intrinsic+json": {
              "type": "string"
            }
          },
          "metadata": {},
          "execution_count": 278
        }
      ]
    },
    {
      "cell_type": "code",
      "execution_count": 279,
      "metadata": {
        "colab": {
          "base_uri": "https://localhost:8080/",
          "height": 105
        },
        "id": "bgIvuxUNNQIO",
        "outputId": "8eba5c68-14a7-4610-8f35-873de82d7379"
      },
      "outputs": [
        {
          "output_type": "execute_result",
          "data": {
            "text/plain": [
              "'# Read the data from the Amazon file and fill the amazonProducts nested dictionary\\n(Id, ASIN, Title, Categories, Group, Copurchased, SalesRank, TotalReviews, AvgRating, DegreeCentrality, ClusteringCoeff,helpf,votes) = (\"\", \"\", \"\", \"\", \"\", \"\", 0, 0, 0.0, 0, 0.0,0,0)\\n\\nfor line in df:\\n    line = line.strip()\\n    if(line.startswith(\"Id\")): # a product block started\\n        Id = line[3:].strip()\\n        counter = 0\\n    elif(line.startswith(\"ASIN\")):\\n        ASIN = line[5:].strip()\\n    elif(line.startswith(\"group\")):\\n        Group = line[6:].strip()\\n    elif(line.startswith(\"title\")):\\n        Title = line[6:].strip()\\n        Title = \\' \\'.join(Title.split())\\n    elif(line.startswith(\"salesrank\")):\\n        SalesRank = line[10:].strip()\\n    elif(line.startswith(\"reviews\")):\\n        ls = line.split()\\n        TotalReviews = ls[2].strip()\\n        AvgRating = ls[7].strip() # a product block ended\\n    elif(line.startswith(\"19\")):\\n        ls = line.split()\\n        if(counter==0):\\n          votes=0\\n          helpf=0\\n        else:\\n          votes=votes+int(ls[6].strip())\\n          helpf=helpf+int(ls[8].strip())\\n    elif(line.startswith(\"20\")):\\n        ls = line.split()\\n        ls = line.split()\\n        if(counter==0):\\n          votes=0\\n          helpf=0\\n        else:\\n          votes=votes+int(ls[6].strip())\\n          helpf=helpf+int(ls[8].strip())\\n    elif (line==\"\"): # write out fields to amazonProducts dictionary\\n        try:\\n            MetaData = {}\\n            if (ASIN != \"\"):\\n                amazonProducts[ASIN] = MetaData\\n            MetaData[\\'Id\\'] = Id\\n            #MetaData[\\'Title\\'] = Title\\n            #MetaData[\\'Categories\\'] = \\' \\'.join(set(Categories.split()))\\n            MetaData[\\'Group\\'] = Group\\n            #MetaData[\\'Copurchased\\'] = Copurchased\\n            MetaData[\\'SalesRank\\'] = int(SalesRank)\\n            MetaData[\\'TotalReviews\\'] = int(TotalReviews)\\n            MetaData[\\'AvgRating\\'] = float(AvgRating)\\n            MetaData[\\'Helpful\\'] = int(helpf)\\n            MetaData[\\'Votes\\'] = int(votes)\\n            #MetaData[\\'DegreeCentrality\\'] = DegreeCentrality\\n            #MetaData[\\'ClusteringCoeff\\'] = ClusteringCoeff\\n        except NameError:\\n            continue\\n        (Id, ASIN, Title, Categories, Group, Copurchased, SalesRank, TotalReviews, AvgRating, DegreeCentrality, ClusteringCoeff,helpf,votes) = (\"\", \"\", \"\", \"\", \"\", \"\", 0, 0, 0.0, 0, 0.0,0,0)\\ndf.close'"
            ],
            "application/vnd.google.colaboratory.intrinsic+json": {
              "type": "string"
            }
          },
          "metadata": {},
          "execution_count": 279
        }
      ],
      "source": [
        "\"\"\"# Read the data from the Amazon file and fill the amazonProducts nested dictionary\n",
        "(Id, ASIN, Title, Categories, Group, Copurchased, SalesRank, TotalReviews, AvgRating, DegreeCentrality, ClusteringCoeff,helpf,votes) = (\"\", \"\", \"\", \"\", \"\", \"\", 0, 0, 0.0, 0, 0.0,0,0)\n",
        "\n",
        "for line in df:\n",
        "    line = line.strip()\n",
        "    if(line.startswith(\"Id\")): # a product block started\n",
        "        Id = line[3:].strip()\n",
        "        counter = 0\n",
        "    elif(line.startswith(\"ASIN\")):\n",
        "        ASIN = line[5:].strip()\n",
        "    elif(line.startswith(\"group\")):\n",
        "        Group = line[6:].strip()\n",
        "    elif(line.startswith(\"title\")):\n",
        "        Title = line[6:].strip()\n",
        "        Title = ' '.join(Title.split())\n",
        "    elif(line.startswith(\"salesrank\")):\n",
        "        SalesRank = line[10:].strip()\n",
        "    elif(line.startswith(\"reviews\")):\n",
        "        ls = line.split()\n",
        "        TotalReviews = ls[2].strip()\n",
        "        AvgRating = ls[7].strip() # a product block ended\n",
        "    elif(line.startswith(\"19\")):\n",
        "        ls = line.split()\n",
        "        if(counter==0):\n",
        "          votes=0\n",
        "          helpf=0\n",
        "        else:\n",
        "          votes=votes+int(ls[6].strip())\n",
        "          helpf=helpf+int(ls[8].strip())\n",
        "    elif(line.startswith(\"20\")):\n",
        "        ls = line.split()\n",
        "        ls = line.split()\n",
        "        if(counter==0):\n",
        "          votes=0\n",
        "          helpf=0\n",
        "        else:\n",
        "          votes=votes+int(ls[6].strip())\n",
        "          helpf=helpf+int(ls[8].strip())\n",
        "    elif (line==\"\"): # write out fields to amazonProducts dictionary\n",
        "        try:\n",
        "            MetaData = {}\n",
        "            if (ASIN != \"\"):\n",
        "                amazonProducts[ASIN] = MetaData\n",
        "            MetaData['Id'] = Id\n",
        "            #MetaData['Title'] = Title\n",
        "            #MetaData['Categories'] = ' '.join(set(Categories.split()))\n",
        "            MetaData['Group'] = Group\n",
        "            #MetaData['Copurchased'] = Copurchased\n",
        "            MetaData['SalesRank'] = int(SalesRank)\n",
        "            MetaData['TotalReviews'] = int(TotalReviews)\n",
        "            MetaData['AvgRating'] = float(AvgRating)\n",
        "            MetaData['Helpful'] = int(helpf)\n",
        "            MetaData['Votes'] = int(votes)\n",
        "            #MetaData['DegreeCentrality'] = DegreeCentrality\n",
        "            #MetaData['ClusteringCoeff'] = ClusteringCoeff\n",
        "        except NameError:\n",
        "            continue\n",
        "        (Id, ASIN, Title, Categories, Group, Copurchased, SalesRank, TotalReviews, AvgRating, DegreeCentrality, ClusteringCoeff,helpf,votes) = (\"\", \"\", \"\", \"\", \"\", \"\", 0, 0, 0.0, 0, 0.0,0,0)\n",
        "df.close\"\"\""
      ]
    },
    {
      "cell_type": "code",
      "source": [
        "# Read the data from the Amazon file and fill the amazonProducts nested dictionary\n",
        "(Id, ASIN, Title, Categories, Group, Copurchased, SalesRank, TotalReviews, AvgRating, DegreeCentrality, ClusteringCoeff,helpf,votes) = (\"\", \"\", \"\", \"\", \"\", \"\", 0, 0, 0.0, 0, 0.0,0,0)\n",
        "\n",
        "for line in df:\n",
        "    line = line.strip()\n",
        "    if(line.startswith(\"Id\")): # a product block started\n",
        "        Id = line[3:].strip()\n",
        "        counter = 0\n",
        "    elif(line.startswith(\"ASIN\")):\n",
        "        ASIN = line[5:].strip()\n",
        "    elif(line.startswith(\"group\")):\n",
        "        Group = line[6:].strip()\n",
        "    elif(line.startswith(\"title\")):\n",
        "        Title = line[6:].strip()\n",
        "        Title = ' '.join(Title.split())\n",
        "    elif(line.startswith(\"salesrank\")):\n",
        "        SalesRank = line[10:].strip()\n",
        "    elif(line.startswith(\"reviews\")):\n",
        "        ls = line.split()\n",
        "        TotalReviews = ls[2].strip()\n",
        "        AvgRating = ls[7].strip() # a product block ended\n",
        "    elif(line.startswith(\"19\")):\n",
        "        ls = line.split()\n",
        "        votes=votes+int(ls[6].strip())\n",
        "        helpf=helpf+int(ls[8].strip())\n",
        "    elif(line.startswith(\"20\")):\n",
        "        ls = line.split()\n",
        "        ls = line.split()\n",
        "        votes=votes+int(ls[6].strip())\n",
        "        helpf=helpf+int(ls[8].strip())\n",
        "    elif(line.startswith(\"categories\")):\n",
        "        ls = line.split()\n",
        "        Categories = ' '.join((df.readline()).lower() for i in range(int(ls[1].strip())))\n",
        "        Categories = re.compile('[%s]' % re.escape(string.digits+string.punctuation)).sub(' ',Categories)\n",
        "        Categories = ' '.join(set(Categories.split())-set(stopwords.words(\"english\")))\n",
        "        Categories = ' '.join(stem(word) for word in Categories.split())\n",
        "    elif (line==\"\"): # write out fields to amazonProducts dictionary\n",
        "        try:\n",
        "            MetaData = {}\n",
        "            if (ASIN != \"\"):\n",
        "                amazonProducts[ASIN] = MetaData\n",
        "            MetaData['Id'] = Id\n",
        "            #MetaData['Title'] = Title\n",
        "            #MetaData['Categories'] = ' '.join(set(Categories.split()))\n",
        "            MetaData['Group'] = Group\n",
        "            #MetaData['Copurchased'] = Copurchased\n",
        "            MetaData['SalesRank'] = int(SalesRank)\n",
        "            MetaData['TotalReviews'] = int(TotalReviews)\n",
        "            MetaData['AvgRating'] = float(AvgRating)\n",
        "            MetaData['Helpful'] = int(helpf)\n",
        "            MetaData['Votes'] = int(votes)\n",
        "            #MetaData['DegreeCentrality'] = DegreeCentrality\n",
        "            #MetaData['ClusteringCoeff'] = ClusteringCoeff\n",
        "        except NameError:\n",
        "            continue\n",
        "        (Id, ASIN, Title, Categories, Group, Copurchased, SalesRank, TotalReviews, AvgRating, DegreeCentrality, ClusteringCoeff,helpf,votes) = (\"\", \"\", \"\", \"\", \"\", \"\", 0, 0, 0.0, 0, 0.0,0,0)\n",
        "df.close"
      ],
      "metadata": {
        "colab": {
          "base_uri": "https://localhost:8080/"
        },
        "id": "qc1RVZop2jFZ",
        "outputId": "07f903e1-7c7b-4841-a195-10ada83089a7"
      },
      "execution_count": 280,
      "outputs": [
        {
          "output_type": "execute_result",
          "data": {
            "text/plain": [
              "<function TextIOWrapper.close>"
            ]
          },
          "metadata": {},
          "execution_count": 280
        }
      ]
    },
    {
      "cell_type": "code",
      "source": [
        "df = pd.DataFrame.from_dict(amazonProducts)"
      ],
      "metadata": {
        "id": "g4mKGtoXaNFk"
      },
      "execution_count": 281,
      "outputs": []
    },
    {
      "cell_type": "code",
      "source": [
        "df = df.T"
      ],
      "metadata": {
        "id": "13ERGpu2fCOh"
      },
      "execution_count": 282,
      "outputs": []
    },
    {
      "cell_type": "code",
      "source": [
        "df.Group.unique()"
      ],
      "metadata": {
        "colab": {
          "base_uri": "https://localhost:8080/"
        },
        "id": "MDCt9e3is2Y5",
        "outputId": "1c8c1d32-40d1-4ea4-f05b-5a385416ef1b"
      },
      "execution_count": 283,
      "outputs": [
        {
          "output_type": "execute_result",
          "data": {
            "text/plain": [
              "array(['', 'Book', 'Music', 'DVD', 'Video', 'Toy', 'Video Games',\n",
              "       'Software', 'Baby Product', 'CE', 'Sports'], dtype=object)"
            ]
          },
          "metadata": {},
          "execution_count": 283
        }
      ]
    },
    {
      "cell_type": "code",
      "source": [
        "df.isnull().sum()"
      ],
      "metadata": {
        "colab": {
          "base_uri": "https://localhost:8080/"
        },
        "id": "Qt9_--SMwlyA",
        "outputId": "1c0c6e43-0112-4cd6-84cb-42bebdb67f0a"
      },
      "execution_count": 284,
      "outputs": [
        {
          "output_type": "execute_result",
          "data": {
            "text/plain": [
              "Id              0\n",
              "Group           0\n",
              "SalesRank       0\n",
              "TotalReviews    0\n",
              "AvgRating       0\n",
              "Helpful         0\n",
              "Votes           0\n",
              "dtype: int64"
            ]
          },
          "metadata": {},
          "execution_count": 284
        }
      ]
    },
    {
      "cell_type": "code",
      "source": [
        "df['Group'].value_counts()"
      ],
      "metadata": {
        "colab": {
          "base_uri": "https://localhost:8080/"
        },
        "id": "hvfEMkgqwolQ",
        "outputId": "fc716cd2-23b3-4e23-f278-292958fbadf3"
      },
      "execution_count": 285,
      "outputs": [
        {
          "output_type": "execute_result",
          "data": {
            "text/plain": [
              "Book            393561\n",
              "Music           103144\n",
              "Video            26131\n",
              "DVD              19828\n",
              "                  5868\n",
              "Toy                  8\n",
              "Software             5\n",
              "CE                   4\n",
              "Video Games          1\n",
              "Baby Product         1\n",
              "Sports               1\n",
              "Name: Group, dtype: int64"
            ]
          },
          "metadata": {},
          "execution_count": 285
        }
      ]
    },
    {
      "cell_type": "code",
      "source": [
        "df.isnull().sum()"
      ],
      "metadata": {
        "colab": {
          "base_uri": "https://localhost:8080/"
        },
        "id": "Fbg4rvC-wjQj",
        "outputId": "9be8a2f2-3c70-4fa1-ee4b-3ea90895335b"
      },
      "execution_count": 286,
      "outputs": [
        {
          "output_type": "execute_result",
          "data": {
            "text/plain": [
              "Id              0\n",
              "Group           0\n",
              "SalesRank       0\n",
              "TotalReviews    0\n",
              "AvgRating       0\n",
              "Helpful         0\n",
              "Votes           0\n",
              "dtype: int64"
            ]
          },
          "metadata": {},
          "execution_count": 286
        }
      ]
    },
    {
      "cell_type": "code",
      "source": [
        "df = df[(df['Group'] == 'Book') | (df['Group'] == 'Music') | (df['Group'] == 'Video') | (df['Group'] == 'DVD')]"
      ],
      "metadata": {
        "id": "tB-CJrSfw4M7"
      },
      "execution_count": 287,
      "outputs": []
    },
    {
      "cell_type": "code",
      "source": [
        "df['HelpfulVotes']=df['Votes']-df['Helpful']"
      ],
      "metadata": {
        "id": "HH1d8P_zuPGH"
      },
      "execution_count": 288,
      "outputs": []
    },
    {
      "cell_type": "code",
      "source": [
        "df['ASIN'] = df.index"
      ],
      "metadata": {
        "id": "SErMDeotuPDq"
      },
      "execution_count": 289,
      "outputs": []
    },
    {
      "cell_type": "code",
      "source": [
        "df1 = df.set_index('Id')"
      ],
      "metadata": {
        "id": "bxV1s62Kxz5E"
      },
      "execution_count": 290,
      "outputs": []
    },
    {
      "cell_type": "code",
      "source": [
        "df1['Helpful'] = df1['Helpful'].astype(int)"
      ],
      "metadata": {
        "id": "9DCaEZQdySNN"
      },
      "execution_count": 291,
      "outputs": []
    },
    {
      "cell_type": "code",
      "source": [
        "sns.scatterplot(data=df1, x=\"Helpful\")"
      ],
      "metadata": {
        "colab": {
          "base_uri": "https://localhost:8080/",
          "height": 296
        },
        "id": "6uVXGNDC3Nne",
        "outputId": "a9a2cdd2-9161-4532-fe5d-6feb6ebfba06"
      },
      "execution_count": 292,
      "outputs": [
        {
          "output_type": "execute_result",
          "data": {
            "text/plain": [
              "<matplotlib.axes._subplots.AxesSubplot at 0x7f676278eb90>"
            ]
          },
          "metadata": {},
          "execution_count": 292
        },
        {
          "output_type": "display_data",
          "data": {
            "text/plain": [
              "<Figure size 432x288 with 1 Axes>"
            ],
            "image/png": "[encoded data removed]"
          },
          "metadata": {
            "needs_background": "light"
          }
        }
      ]
    },
    {
      "cell_type": "code",
      "source": [
        "df1['Helpful'].describe()"
      ],
      "metadata": {
        "colab": {
          "base_uri": "https://localhost:8080/"
        },
        "id": "tNG8Cb8Y3ob5",
        "outputId": "d7ef22bb-15ce-4e23-fd42-b7a0be5e3588"
      },
      "execution_count": 293,
      "outputs": [
        {
          "output_type": "execute_result",
          "data": {
            "text/plain": [
              "count    542664.000000\n",
              "mean         53.096802\n",
              "std         266.525417\n",
              "min           0.000000\n",
              "25%           0.000000\n",
              "50%           8.000000\n",
              "75%          35.000000\n",
              "max       27354.000000\n",
              "Name: Helpful, dtype: float64"
            ]
          },
          "metadata": {},
          "execution_count": 293
        }
      ]
    },
    {
      "cell_type": "code",
      "source": [
        "df1.hist(bins=4)"
      ],
      "metadata": {
        "colab": {
          "base_uri": "https://localhost:8080/",
          "height": 316
        },
        "id": "3iPT6WDn45Dw",
        "outputId": "7c855de4-67b1-418c-c604-66d4aeab9eda"
      },
      "execution_count": 294,
      "outputs": [
        {
          "output_type": "execute_result",
          "data": {
            "text/plain": [
              "array([[<matplotlib.axes._subplots.AxesSubplot object at 0x7f671cbbfad0>]],\n",
              "      dtype=object)"
            ]
          },
          "metadata": {},
          "execution_count": 294
        },
        {
          "output_type": "display_data",
          "data": {
            "text/plain": [
              "<Figure size 432x288 with 1 Axes>"
            ],
            "image/png": "[encoded data removed]"
          },
          "metadata": {
            "needs_background": "light"
          }
        }
      ]
    },
    {
      "cell_type": "code",
      "source": [
        "df1=df1.reset_index()"
      ],
      "metadata": {
        "id": "GzJbxOM7zDSb"
      },
      "execution_count": 295,
      "outputs": []
    },
    {
      "cell_type": "code",
      "source": [
        "df1['label_code'] = pd.cut(x=df1['Helpful'], bins=[-1, 8, 35, 27355], labels=['0', '1', '2'])"
      ],
      "metadata": {
        "id": "OiqCXnLR5cww"
      },
      "execution_count": 296,
      "outputs": []
    },
    {
      "cell_type": "code",
      "source": [
        "df2 = df1[0:100000]"
      ],
      "metadata": {
        "id": "71mGrcb19jW_"
      },
      "execution_count": 297,
      "outputs": []
    },
    {
      "cell_type": "code",
      "source": [
        "df2['Helpful'].describe()"
      ],
      "metadata": {
        "colab": {
          "base_uri": "https://localhost:8080/"
        },
        "id": "sDDgNmuj9rwQ",
        "outputId": "b273e59b-0cbf-4d12-c5b3-a93613b77a25"
      },
      "execution_count": 298,
      "outputs": [
        {
          "output_type": "execute_result",
          "data": {
            "text/plain": [
              "count    100000.000000\n",
              "mean         53.414440\n",
              "std         274.804652\n",
              "min           0.000000\n",
              "25%           0.000000\n",
              "50%           8.000000\n",
              "75%          35.000000\n",
              "max       27354.000000\n",
              "Name: Helpful, dtype: float64"
            ]
          },
          "metadata": {},
          "execution_count": 298
        }
      ]
    },
    {
      "cell_type": "code",
      "source": [
        "df2 = df1[100000:200000]\n",
        "df2['Helpful'].describe()"
      ],
      "metadata": {
        "colab": {
          "base_uri": "https://localhost:8080/"
        },
        "id": "0PiWP9Y69vsN",
        "outputId": "219fb970-a439-4fc9-e673-da49804ad6af"
      },
      "execution_count": 299,
      "outputs": [
        {
          "output_type": "execute_result",
          "data": {
            "text/plain": [
              "count    100000.000000\n",
              "mean         53.023110\n",
              "std         268.220622\n",
              "min           0.000000\n",
              "25%           0.000000\n",
              "50%           8.000000\n",
              "75%          34.000000\n",
              "max       24783.000000\n",
              "Name: Helpful, dtype: float64"
            ]
          },
          "metadata": {},
          "execution_count": 299
        }
      ]
    },
    {
      "cell_type": "code",
      "source": [
        "df2 = df1[200000:300000]\n",
        "df2['Helpful'].describe()"
      ],
      "metadata": {
        "colab": {
          "base_uri": "https://localhost:8080/"
        },
        "id": "580goguc95js",
        "outputId": "15c16071-ddc5-4f55-9034-7b5ef40384fe"
      },
      "execution_count": 300,
      "outputs": [
        {
          "output_type": "execute_result",
          "data": {
            "text/plain": [
              "count    100000.000000\n",
              "mean         51.904310\n",
              "std         248.348625\n",
              "min           0.000000\n",
              "25%           0.000000\n",
              "50%           8.000000\n",
              "75%          34.000000\n",
              "max       25287.000000\n",
              "Name: Helpful, dtype: float64"
            ]
          },
          "metadata": {},
          "execution_count": 300
        }
      ]
    },
    {
      "cell_type": "code",
      "source": [
        "df2 = df1[300000:400000]\n",
        "df2['Helpful'].describe()"
      ],
      "metadata": {
        "colab": {
          "base_uri": "https://localhost:8080/"
        },
        "id": "JHhtxBGL98fO",
        "outputId": "2c29b304-7c41-406a-a226-ca75fee3968c"
      },
      "execution_count": 301,
      "outputs": [
        {
          "output_type": "execute_result",
          "data": {
            "text/plain": [
              "count    100000.000000\n",
              "mean         48.587200\n",
              "std         276.150735\n",
              "min           0.000000\n",
              "25%           0.000000\n",
              "50%           7.000000\n",
              "75%          30.000000\n",
              "max       27297.000000\n",
              "Name: Helpful, dtype: float64"
            ]
          },
          "metadata": {},
          "execution_count": 301
        }
      ]
    },
    {
      "cell_type": "code",
      "source": [
        "df2 = df1[400000:]\n",
        "df2['Helpful'].describe()"
      ],
      "metadata": {
        "colab": {
          "base_uri": "https://localhost:8080/"
        },
        "id": "WqnaDOM2-BE5",
        "outputId": "cdfe843f-5676-48d4-bc18-eaf7692d809b"
      },
      "execution_count": 302,
      "outputs": [
        {
          "output_type": "execute_result",
          "data": {
            "text/plain": [
              "count    142664.000000\n",
              "mean         56.922678\n",
              "std         264.819862\n",
              "min           0.000000\n",
              "25%           0.000000\n",
              "50%          10.000000\n",
              "75%          38.000000\n",
              "max       25408.000000\n",
              "Name: Helpful, dtype: float64"
            ]
          },
          "metadata": {},
          "execution_count": 302
        }
      ]
    },
    {
      "cell_type": "code",
      "source": [
        "df2 = df1[400000:]\n",
        "df2['AvgRating']=df2['AvgRating'].astype(float)\n",
        "df2.groupby('AvgRating').count()"
      ],
      "metadata": {
        "colab": {
          "base_uri": "https://localhost:8080/",
          "height": 533
        },
        "id": "5xEUb3gp-Utn",
        "outputId": "c9511e7d-f46e-4b81-cd30-6934d9012d07"
      },
      "execution_count": 303,
      "outputs": [
        {
          "output_type": "stream",
          "name": "stderr",
          "text": [
            "/usr/local/lib/python3.7/dist-packages/ipykernel_launcher.py:2: SettingWithCopyWarning:\n",
            "\n",
            "\n",
            "A value is trying to be set on a copy of a slice from a DataFrame.\n",
            "Try using .loc[row_indexer,col_indexer] = value instead\n",
            "\n",
            "See the caveats in the documentation: https://pandas.pydata.org/pandas-docs/stable/user_guide/indexing.html#returning-a-view-versus-a-copy\n",
            "\n"
          ]
        },
        {
          "output_type": "execute_result",
          "data": {
            "text/plain": [
              "              Id  Group  SalesRank  TotalReviews  Helpful  Votes  \\\n",
              "AvgRating                                                          \n",
              "0.0        30920  30920      30920         30920    30920  30920   \n",
              "1.0          803    803        803           803      803    803   \n",
              "1.5          250    250        250           250      250    250   \n",
              "2.0         1166   1166       1166          1166     1166   1166   \n",
              "2.5         1985   1985       1985          1985     1985   1985   \n",
              "3.0         5995   5995       5995          5995     5995   5995   \n",
              "3.5         9711   9711       9711          9711     9711   9711   \n",
              "4.0        23135  23135      23135         23135    23135  23135   \n",
              "4.5        28547  28547      28547         28547    28547  28547   \n",
              "5.0        40152  40152      40152         40152    40152  40152   \n",
              "\n",
              "           HelpfulVotes   ASIN  label_code  \n",
              "AvgRating                                   \n",
              "0.0               30920  30920       30920  \n",
              "1.0                 803    803         803  \n",
              "1.5                 250    250         250  \n",
              "2.0                1166   1166        1166  \n",
              "2.5                1985   1985        1985  \n",
              "3.0                5995   5995        5995  \n",
              "3.5                9711   9711        9711  \n",
              "4.0               23135  23135       23135  \n",
              "4.5               28547  28547       28547  \n",
              "5.0               40152  40152       40152  "
            ],
            "text/html": [
              "\n",
              "  <div id=\"df-5ec49356-5698-484b-a842-b26ec9e20720\">\n",
              "    <div class=\"colab-df-container\">\n",
              "      <div>\n",
              "<style scoped>\n",
              "    .dataframe tbody tr th:only-of-type {\n",
              "        vertical-align: middle;\n",
              "    }\n",
              "\n",
              "    .dataframe tbody tr th {\n",
              "        vertical-align: top;\n",
              "    }\n",
              "\n",
              "    .dataframe thead th {\n",
              "        text-align: right;\n",
              "    }\n",
              "</style>\n",
              "<table border=\"1\" class=\"dataframe\">\n",
              "  <thead>\n",
              "    <tr style=\"text-align: right;\">\n",
              "      <th></th>\n",
              "      <th>Id</th>\n",
              "      <th>Group</th>\n",
              "      <th>SalesRank</th>\n",
              "      <th>TotalReviews</th>\n",
              "      <th>Helpful</th>\n",
              "      <th>Votes</th>\n",
              "      <th>HelpfulVotes</th>\n",
              "      <th>ASIN</th>\n",
              "      <th>label_code</th>\n",
              "    </tr>\n",
              "    <tr>\n",
              "      <th>AvgRating</th>\n",
              "      <th></th>\n",
              "      <th></th>\n",
              "      <th></th>\n",
              "      <th></th>\n",
              "      <th></th>\n",
              "      <th></th>\n",
              "      <th></th>\n",
              "      <th></th>\n",
              "      <th></th>\n",
              "    </tr>\n",
              "  </thead>\n",
              "  <tbody>\n",
              "    <tr>\n",
              "      <th>0.0</th>\n",
              "      <td>30920</td>\n",
              "      <td>30920</td>\n",
              "      <td>30920</td>\n",
              "      <td>30920</td>\n",
              "      <td>30920</td>\n",
              "      <td>30920</td>\n",
              "      <td>30920</td>\n",
              "      <td>30920</td>\n",
              "      <td>30920</td>\n",
              "    </tr>\n",
              "    <tr>\n",
              "      <th>1.0</th>\n",
              "      <td>803</td>\n",
              "      <td>803</td>\n",
              "      <td>803</td>\n",
              "      <td>803</td>\n",
              "      <td>803</td>\n",
              "      <td>803</td>\n",
              "      <td>803</td>\n",
              "      <td>803</td>\n",
              "      <td>803</td>\n",
              "    </tr>\n",
              "    <tr>\n",
              "      <th>1.5</th>\n",
              "      <td>250</td>\n",
              "      <td>250</td>\n",
              "      <td>250</td>\n",
              "      <td>250</td>\n",
              "      <td>250</td>\n",
              "      <td>250</td>\n",
              "      <td>250</td>\n",
              "      <td>250</td>\n",
              "      <td>250</td>\n",
              "    </tr>\n",
              "    <tr>\n",
              "      <th>2.0</th>\n",
              "      <td>1166</td>\n",
              "      <td>1166</td>\n",
              "      <td>1166</td>\n",
              "      <td>1166</td>\n",
              "      <td>1166</td>\n",
              "      <td>1166</td>\n",
              "      <td>1166</td>\n",
              "      <td>1166</td>\n",
              "      <td>1166</td>\n",
              "    </tr>\n",
              "    <tr>\n",
              "      <th>2.5</th>\n",
              "      <td>1985</td>\n",
              "      <td>1985</td>\n",
              "      <td>1985</td>\n",
              "      <td>1985</td>\n",
              "      <td>1985</td>\n",
              "      <td>1985</td>\n",
              "      <td>1985</td>\n",
              "      <td>1985</td>\n",
              "      <td>1985</td>\n",
              "    </tr>\n",
              "    <tr>\n",
              "      <th>3.0</th>\n",
              "      <td>5995</td>\n",
              "      <td>5995</td>\n",
              "      <td>5995</td>\n",
              "      <td>5995</td>\n",
              "      <td>5995</td>\n",
              "      <td>5995</td>\n",
              "      <td>5995</td>\n",
              "      <td>5995</td>\n",
              "      <td>5995</td>\n",
              "    </tr>\n",
              "    <tr>\n",
              "      <th>3.5</th>\n",
              "      <td>9711</td>\n",
              "      <td>9711</td>\n",
              "      <td>9711</td>\n",
              "      <td>9711</td>\n",
              "      <td>9711</td>\n",
              "      <td>9711</td>\n",
              "      <td>9711</td>\n",
              "      <td>9711</td>\n",
              "      <td>9711</td>\n",
              "    </tr>\n",
              "    <tr>\n",
              "      <th>4.0</th>\n",
              "      <td>23135</td>\n",
              "      <td>23135</td>\n",
              "      <td>23135</td>\n",
              "      <td>23135</td>\n",
              "      <td>23135</td>\n",
              "      <td>23135</td>\n",
              "      <td>23135</td>\n",
              "      <td>23135</td>\n",
              "      <td>23135</td>\n",
              "    </tr>\n",
              "    <tr>\n",
              "      <th>4.5</th>\n",
              "      <td>28547</td>\n",
              "      <td>28547</td>\n",
              "      <td>28547</td>\n",
              "      <td>28547</td>\n",
              "      <td>28547</td>\n",
              "      <td>28547</td>\n",
              "      <td>28547</td>\n",
              "      <td>28547</td>\n",
              "      <td>28547</td>\n",
              "    </tr>\n",
              "    <tr>\n",
              "      <th>5.0</th>\n",
              "      <td>40152</td>\n",
              "      <td>40152</td>\n",
              "      <td>40152</td>\n",
              "      <td>40152</td>\n",
              "      <td>40152</td>\n",
              "      <td>40152</td>\n",
              "      <td>40152</td>\n",
              "      <td>40152</td>\n",
              "      <td>40152</td>\n",
              "    </tr>\n",
              "  </tbody>\n",
              "</table>\n",
              "</div>\n",
              "      <button class=\"colab-df-convert\" onclick=\"convertToInteractive('df-5ec49356-5698-484b-a842-b26ec9e20720')\"\n",
              "              title=\"Convert this dataframe to an interactive table.\"\n",
              "              style=\"display:none;\">\n",
              "        \n",
              "  <svg xmlns=\"http://www.w3.org/2000/svg\" height=\"24px\"viewBox=\"0 0 24 24\"\n",
              "       width=\"24px\">\n",
              "    <path d=\"M0 0h24v24H0V0z\" fill=\"none\"/>\n",
              "    <path d=\"M18.56 5.44l.94 2.06.94-2.06 2.06-.94-2.06-.94-.94-2.06-.94 2.06-2.06.94zm-11 1L8.5 8.5l.94-2.06 2.06-.94-2.06-.94L8.5 2.5l-.94 2.06-2.06.94zm10 10l.94 2.06.94-2.06 2.06-.94-2.06-.94-.94-2.06-.94 2.06-2.06.94z\"/><path d=\"M17.41 7.96l-1.37-1.37c-.4-.4-.92-.59-1.43-.59-.52 0-1.04.2-1.43.59L10.3 9.45l-7.72 7.72c-.78.78-.78 2.05 0 2.83L4 21.41c.39.39.9.59 1.41.59.51 0 1.02-.2 1.41-.59l7.78-7.78 2.81-2.81c.8-.78.8-2.07 0-2.86zM5.41 20L4 18.59l7.72-7.72 1.47 1.35L5.41 20z\"/>\n",
              "  </svg>\n",
              "      </button>\n",
              "      \n",
              "  <style>\n",
              "    .colab-df-container {\n",
              "      display:flex;\n",
              "      flex-wrap:wrap;\n",
              "      gap: 12px;\n",
              "    }\n",
              "\n",
              "    .colab-df-convert {\n",
              "      background-color: #E8F0FE;\n",
              "      border: none;\n",
              "      border-radius: 50%;\n",
              "      cursor: pointer;\n",
              "      display: none;\n",
              "      fill: #1967D2;\n",
              "      height: 32px;\n",
              "      padding: 0 0 0 0;\n",
              "      width: 32px;\n",
              "    }\n",
              "\n",
              "    .colab-df-convert:hover {\n",
              "      background-color: #E2EBFA;\n",
              "      box-shadow: 0px 1px 2px rgba(60, 64, 67, 0.3), 0px 1px 3px 1px rgba(60, 64, 67, 0.15);\n",
              "      fill: #174EA6;\n",
              "    }\n",
              "\n",
              "    [theme=dark] .colab-df-convert {\n",
              "      background-color: #3B4455;\n",
              "      fill: #D2E3FC;\n",
              "    }\n",
              "\n",
              "    [theme=dark] .colab-df-convert:hover {\n",
              "      background-color: #434B5C;\n",
              "      box-shadow: 0px 1px 3px 1px rgba(0, 0, 0, 0.15);\n",
              "      filter: drop-shadow(0px 1px 2px rgba(0, 0, 0, 0.3));\n",
              "      fill: #FFFFFF;\n",
              "    }\n",
              "  </style>\n",
              "\n",
              "      <script>\n",
              "        const buttonEl =\n",
              "          document.querySelector('#df-5ec49356-5698-484b-a842-b26ec9e20720 button.colab-df-convert');\n",
              "        buttonEl.style.display =\n",
              "          google.colab.kernel.accessAllowed ? 'block' : 'none';\n",
              "\n",
              "        async function convertToInteractive(key) {\n",
              "          const element = document.querySelector('#df-5ec49356-5698-484b-a842-b26ec9e20720');\n",
              "          const dataTable =\n",
              "            await google.colab.kernel.invokeFunction('convertToInteractive',\n",
              "                                                     [key], {});\n",
              "          if (!dataTable) return;\n",
              "\n",
              "          const docLinkHtml = 'Like what you see? Visit the ' +\n",
              "            '<a target=\"_blank\" href=https://colab.research.google.com/notebooks/data_table.ipynb>data table notebook</a>'\n",
              "            + ' to learn more about interactive tables.';\n",
              "          element.innerHTML = '';\n",
              "          dataTable['output_type'] = 'display_data';\n",
              "          await google.colab.output.renderOutput(dataTable, element);\n",
              "          const docLink = document.createElement('div');\n",
              "          docLink.innerHTML = docLinkHtml;\n",
              "          element.appendChild(docLink);\n",
              "        }\n",
              "      </script>\n",
              "    </div>\n",
              "  </div>\n",
              "  "
            ]
          },
          "metadata": {},
          "execution_count": 303
        }
      ]
    },
    {
      "cell_type": "code",
      "source": [
        "df2.groupby('label_code').count()"
      ],
      "metadata": {
        "colab": {
          "base_uri": "https://localhost:8080/",
          "height": 175
        },
        "id": "5oo-0gQu_NCB",
        "outputId": "d6e9dd13-8710-4303-faa6-14daee87e138"
      },
      "execution_count": 304,
      "outputs": [
        {
          "output_type": "execute_result",
          "data": {
            "text/plain": [
              "               Id  Group  SalesRank  TotalReviews  AvgRating  Helpful  Votes  \\\n",
              "label_code                                                                     \n",
              "0           68103  68103      68103         68103      68103    68103  68103   \n",
              "1           37031  37031      37031         37031      37031    37031  37031   \n",
              "2           37530  37530      37530         37530      37530    37530  37530   \n",
              "\n",
              "            HelpfulVotes   ASIN  \n",
              "label_code                       \n",
              "0                  68103  68103  \n",
              "1                  37031  37031  \n",
              "2                  37530  37530  "
            ],
            "text/html": [
              "\n",
              "  <div id=\"df-9c7e13d2-ba9e-4876-a09c-27be5e1d9717\">\n",
              "    <div class=\"colab-df-container\">\n",
              "      <div>\n",
              "<style scoped>\n",
              "    .dataframe tbody tr th:only-of-type {\n",
              "        vertical-align: middle;\n",
              "    }\n",
              "\n",
              "    .dataframe tbody tr th {\n",
              "        vertical-align: top;\n",
              "    }\n",
              "\n",
              "    .dataframe thead th {\n",
              "        text-align: right;\n",
              "    }\n",
              "</style>\n",
              "<table border=\"1\" class=\"dataframe\">\n",
              "  <thead>\n",
              "    <tr style=\"text-align: right;\">\n",
              "      <th></th>\n",
              "      <th>Id</th>\n",
              "      <th>Group</th>\n",
              "      <th>SalesRank</th>\n",
              "      <th>TotalReviews</th>\n",
              "      <th>AvgRating</th>\n",
              "      <th>Helpful</th>\n",
              "      <th>Votes</th>\n",
              "      <th>HelpfulVotes</th>\n",
              "      <th>ASIN</th>\n",
              "    </tr>\n",
              "    <tr>\n",
              "      <th>label_code</th>\n",
              "      <th></th>\n",
              "      <th></th>\n",
              "      <th></th>\n",
              "      <th></th>\n",
              "      <th></th>\n",
              "      <th></th>\n",
              "      <th></th>\n",
              "      <th></th>\n",
              "      <th></th>\n",
              "    </tr>\n",
              "  </thead>\n",
              "  <tbody>\n",
              "    <tr>\n",
              "      <th>0</th>\n",
              "      <td>68103</td>\n",
              "      <td>68103</td>\n",
              "      <td>68103</td>\n",
              "      <td>68103</td>\n",
              "      <td>68103</td>\n",
              "      <td>68103</td>\n",
              "      <td>68103</td>\n",
              "      <td>68103</td>\n",
              "      <td>68103</td>\n",
              "    </tr>\n",
              "    <tr>\n",
              "      <th>1</th>\n",
              "      <td>37031</td>\n",
              "      <td>37031</td>\n",
              "      <td>37031</td>\n",
              "      <td>37031</td>\n",
              "      <td>37031</td>\n",
              "      <td>37031</td>\n",
              "      <td>37031</td>\n",
              "      <td>37031</td>\n",
              "      <td>37031</td>\n",
              "    </tr>\n",
              "    <tr>\n",
              "      <th>2</th>\n",
              "      <td>37530</td>\n",
              "      <td>37530</td>\n",
              "      <td>37530</td>\n",
              "      <td>37530</td>\n",
              "      <td>37530</td>\n",
              "      <td>37530</td>\n",
              "      <td>37530</td>\n",
              "      <td>37530</td>\n",
              "      <td>37530</td>\n",
              "    </tr>\n",
              "  </tbody>\n",
              "</table>\n",
              "</div>\n",
              "      <button class=\"colab-df-convert\" onclick=\"convertToInteractive('df-9c7e13d2-ba9e-4876-a09c-27be5e1d9717')\"\n",
              "              title=\"Convert this dataframe to an interactive table.\"\n",
              "              style=\"display:none;\">\n",
              "        \n",
              "  <svg xmlns=\"http://www.w3.org/2000/svg\" height=\"24px\"viewBox=\"0 0 24 24\"\n",
              "       width=\"24px\">\n",
              "    <path d=\"M0 0h24v24H0V0z\" fill=\"none\"/>\n",
              "    <path d=\"M18.56 5.44l.94 2.06.94-2.06 2.06-.94-2.06-.94-.94-2.06-.94 2.06-2.06.94zm-11 1L8.5 8.5l.94-2.06 2.06-.94-2.06-.94L8.5 2.5l-.94 2.06-2.06.94zm10 10l.94 2.06.94-2.06 2.06-.94-2.06-.94-.94-2.06-.94 2.06-2.06.94z\"/><path d=\"M17.41 7.96l-1.37-1.37c-.4-.4-.92-.59-1.43-.59-.52 0-1.04.2-1.43.59L10.3 9.45l-7.72 7.72c-.78.78-.78 2.05 0 2.83L4 21.41c.39.39.9.59 1.41.59.51 0 1.02-.2 1.41-.59l7.78-7.78 2.81-2.81c.8-.78.8-2.07 0-2.86zM5.41 20L4 18.59l7.72-7.72 1.47 1.35L5.41 20z\"/>\n",
              "  </svg>\n",
              "      </button>\n",
              "      \n",
              "  <style>\n",
              "    .colab-df-container {\n",
              "      display:flex;\n",
              "      flex-wrap:wrap;\n",
              "      gap: 12px;\n",
              "    }\n",
              "\n",
              "    .colab-df-convert {\n",
              "      background-color: #E8F0FE;\n",
              "      border: none;\n",
              "      border-radius: 50%;\n",
              "      cursor: pointer;\n",
              "      display: none;\n",
              "      fill: #1967D2;\n",
              "      height: 32px;\n",
              "      padding: 0 0 0 0;\n",
              "      width: 32px;\n",
              "    }\n",
              "\n",
              "    .colab-df-convert:hover {\n",
              "      background-color: #E2EBFA;\n",
              "      box-shadow: 0px 1px 2px rgba(60, 64, 67, 0.3), 0px 1px 3px 1px rgba(60, 64, 67, 0.15);\n",
              "      fill: #174EA6;\n",
              "    }\n",
              "\n",
              "    [theme=dark] .colab-df-convert {\n",
              "      background-color: #3B4455;\n",
              "      fill: #D2E3FC;\n",
              "    }\n",
              "\n",
              "    [theme=dark] .colab-df-convert:hover {\n",
              "      background-color: #434B5C;\n",
              "      box-shadow: 0px 1px 3px 1px rgba(0, 0, 0, 0.15);\n",
              "      filter: drop-shadow(0px 1px 2px rgba(0, 0, 0, 0.3));\n",
              "      fill: #FFFFFF;\n",
              "    }\n",
              "  </style>\n",
              "\n",
              "      <script>\n",
              "        const buttonEl =\n",
              "          document.querySelector('#df-9c7e13d2-ba9e-4876-a09c-27be5e1d9717 button.colab-df-convert');\n",
              "        buttonEl.style.display =\n",
              "          google.colab.kernel.accessAllowed ? 'block' : 'none';\n",
              "\n",
              "        async function convertToInteractive(key) {\n",
              "          const element = document.querySelector('#df-9c7e13d2-ba9e-4876-a09c-27be5e1d9717');\n",
              "          const dataTable =\n",
              "            await google.colab.kernel.invokeFunction('convertToInteractive',\n",
              "                                                     [key], {});\n",
              "          if (!dataTable) return;\n",
              "\n",
              "          const docLinkHtml = 'Like what you see? Visit the ' +\n",
              "            '<a target=\"_blank\" href=https://colab.research.google.com/notebooks/data_table.ipynb>data table notebook</a>'\n",
              "            + ' to learn more about interactive tables.';\n",
              "          element.innerHTML = '';\n",
              "          dataTable['output_type'] = 'display_data';\n",
              "          await google.colab.output.renderOutput(dataTable, element);\n",
              "          const docLink = document.createElement('div');\n",
              "          docLink.innerHTML = docLinkHtml;\n",
              "          element.appendChild(docLink);\n",
              "        }\n",
              "      </script>\n",
              "    </div>\n",
              "  </div>\n",
              "  "
            ]
          },
          "metadata": {},
          "execution_count": 304
        }
      ]
    },
    {
      "cell_type": "code",
      "source": [
        "df1"
      ],
      "metadata": {
        "colab": {
          "base_uri": "https://localhost:8080/",
          "height": 424
        },
        "id": "c7iGutNa58U9",
        "outputId": "86e7e151-3152-4480-d82d-e3ffd49a19e1"
      },
      "execution_count": 305,
      "outputs": [
        {
          "output_type": "execute_result",
          "data": {
            "text/plain": [
              "            Id  Group SalesRank TotalReviews AvgRating  Helpful Votes  \\\n",
              "0            1   Book    396585            2       5.0       14    16   \n",
              "1            2   Book    168596           12       4.5       76    84   \n",
              "2            3   Book   1270652            1       5.0        2     2   \n",
              "3            4   Book    631289            1       4.0        1     1   \n",
              "4            5   Book    455160            0       0.0        0     0   \n",
              "...        ...    ...       ...          ...       ...      ...   ...   \n",
              "542659  548547    DVD         0            1       5.0        0     2   \n",
              "542660  548548    DVD         0            8       3.0       25    36   \n",
              "542661  548549   Book         0            1       4.0        3     7   \n",
              "542662  548550    DVD         0            3       5.0        6     6   \n",
              "542663  548551  Music         0            1       5.0        9     9   \n",
              "\n",
              "       HelpfulVotes        ASIN label_code  \n",
              "0                 2  0827229534          1  \n",
              "1                 8  0738700797          2  \n",
              "2                 0  0486287785          0  \n",
              "3                 0  0842328327          0  \n",
              "4                 0  1577943082          0  \n",
              "...             ...         ...        ...  \n",
              "542659            2  B000059TOC          0  \n",
              "542660           11  B00006JBIX          1  \n",
              "542661            4  0879736836          0  \n",
              "542662            0  B00008DDST          0  \n",
              "542663            0  B00005MHUG          1  \n",
              "\n",
              "[542664 rows x 10 columns]"
            ],
            "text/html": [
              "\n",
              "  <div id=\"df-aa40970e-fa4d-40fc-a91c-9e43fe85e816\">\n",
              "    <div class=\"colab-df-container\">\n",
              "      <div>\n",
              "<style scoped>\n",
              "    .dataframe tbody tr th:only-of-type {\n",
              "        vertical-align: middle;\n",
              "    }\n",
              "\n",
              "    .dataframe tbody tr th {\n",
              "        vertical-align: top;\n",
              "    }\n",
              "\n",
              "    .dataframe thead th {\n",
              "        text-align: right;\n",
              "    }\n",
              "</style>\n",
              "<table border=\"1\" class=\"dataframe\">\n",
              "  <thead>\n",
              "    <tr style=\"text-align: right;\">\n",
              "      <th></th>\n",
              "      <th>Id</th>\n",
              "      <th>Group</th>\n",
              "      <th>SalesRank</th>\n",
              "      <th>TotalReviews</th>\n",
              "      <th>AvgRating</th>\n",
              "      <th>Helpful</th>\n",
              "      <th>Votes</th>\n",
              "      <th>HelpfulVotes</th>\n",
              "      <th>ASIN</th>\n",
              "      <th>label_code</th>\n",
              "    </tr>\n",
              "  </thead>\n",
              "  <tbody>\n",
              "    <tr>\n",
              "      <th>0</th>\n",
              "      <td>1</td>\n",
              "      <td>Book</td>\n",
              "      <td>396585</td>\n",
              "      <td>2</td>\n",
              "      <td>5.0</td>\n",
              "      <td>14</td>\n",
              "      <td>16</td>\n",
              "      <td>2</td>\n",
              "      <td>0827229534</td>\n",
              "      <td>1</td>\n",
              "    </tr>\n",
              "    <tr>\n",
              "      <th>1</th>\n",
              "      <td>2</td>\n",
              "      <td>Book</td>\n",
              "      <td>168596</td>\n",
              "      <td>12</td>\n",
              "      <td>4.5</td>\n",
              "      <td>76</td>\n",
              "      <td>84</td>\n",
              "      <td>8</td>\n",
              "      <td>0738700797</td>\n",
              "      <td>2</td>\n",
              "    </tr>\n",
              "    <tr>\n",
              "      <th>2</th>\n",
              "      <td>3</td>\n",
              "      <td>Book</td>\n",
              "      <td>1270652</td>\n",
              "      <td>1</td>\n",
              "      <td>5.0</td>\n",
              "      <td>2</td>\n",
              "      <td>2</td>\n",
              "      <td>0</td>\n",
              "      <td>0486287785</td>\n",
              "      <td>0</td>\n",
              "    </tr>\n",
              "    <tr>\n",
              "      <th>3</th>\n",
              "      <td>4</td>\n",
              "      <td>Book</td>\n",
              "      <td>631289</td>\n",
              "      <td>1</td>\n",
              "      <td>4.0</td>\n",
              "      <td>1</td>\n",
              "      <td>1</td>\n",
              "      <td>0</td>\n",
              "      <td>0842328327</td>\n",
              "      <td>0</td>\n",
              "    </tr>\n",
              "    <tr>\n",
              "      <th>4</th>\n",
              "      <td>5</td>\n",
              "      <td>Book</td>\n",
              "      <td>455160</td>\n",
              "      <td>0</td>\n",
              "      <td>0.0</td>\n",
              "      <td>0</td>\n",
              "      <td>0</td>\n",
              "      <td>0</td>\n",
              "      <td>1577943082</td>\n",
              "      <td>0</td>\n",
              "    </tr>\n",
              "    <tr>\n",
              "      <th>...</th>\n",
              "      <td>...</td>\n",
              "      <td>...</td>\n",
              "      <td>...</td>\n",
              "      <td>...</td>\n",
              "      <td>...</td>\n",
              "      <td>...</td>\n",
              "      <td>...</td>\n",
              "      <td>...</td>\n",
              "      <td>...</td>\n",
              "      <td>...</td>\n",
              "    </tr>\n",
              "    <tr>\n",
              "      <th>542659</th>\n",
              "      <td>548547</td>\n",
              "      <td>DVD</td>\n",
              "      <td>0</td>\n",
              "      <td>1</td>\n",
              "      <td>5.0</td>\n",
              "      <td>0</td>\n",
              "      <td>2</td>\n",
              "      <td>2</td>\n",
              "      <td>B000059TOC</td>\n",
              "      <td>0</td>\n",
              "    </tr>\n",
              "    <tr>\n",
              "      <th>542660</th>\n",
              "      <td>548548</td>\n",
              "      <td>DVD</td>\n",
              "      <td>0</td>\n",
              "      <td>8</td>\n",
              "      <td>3.0</td>\n",
              "      <td>25</td>\n",
              "      <td>36</td>\n",
              "      <td>11</td>\n",
              "      <td>B00006JBIX</td>\n",
              "      <td>1</td>\n",
              "    </tr>\n",
              "    <tr>\n",
              "      <th>542661</th>\n",
              "      <td>548549</td>\n",
              "      <td>Book</td>\n",
              "      <td>0</td>\n",
              "      <td>1</td>\n",
              "      <td>4.0</td>\n",
              "      <td>3</td>\n",
              "      <td>7</td>\n",
              "      <td>4</td>\n",
              "      <td>0879736836</td>\n",
              "      <td>0</td>\n",
              "    </tr>\n",
              "    <tr>\n",
              "      <th>542662</th>\n",
              "      <td>548550</td>\n",
              "      <td>DVD</td>\n",
              "      <td>0</td>\n",
              "      <td>3</td>\n",
              "      <td>5.0</td>\n",
              "      <td>6</td>\n",
              "      <td>6</td>\n",
              "      <td>0</td>\n",
              "      <td>B00008DDST</td>\n",
              "      <td>0</td>\n",
              "    </tr>\n",
              "    <tr>\n",
              "      <th>542663</th>\n",
              "      <td>548551</td>\n",
              "      <td>Music</td>\n",
              "      <td>0</td>\n",
              "      <td>1</td>\n",
              "      <td>5.0</td>\n",
              "      <td>9</td>\n",
              "      <td>9</td>\n",
              "      <td>0</td>\n",
              "      <td>B00005MHUG</td>\n",
              "      <td>1</td>\n",
              "    </tr>\n",
              "  </tbody>\n",
              "</table>\n",
              "<p>542664 rows × 10 columns</p>\n",
              "</div>\n",
              "      <button class=\"colab-df-convert\" onclick=\"convertToInteractive('df-aa40970e-fa4d-40fc-a91c-9e43fe85e816')\"\n",
              "              title=\"Convert this dataframe to an interactive table.\"\n",
              "              style=\"display:none;\">\n",
              "        \n",
              "  <svg xmlns=\"http://www.w3.org/2000/svg\" height=\"24px\"viewBox=\"0 0 24 24\"\n",
              "       width=\"24px\">\n",
              "    <path d=\"M0 0h24v24H0V0z\" fill=\"none\"/>\n",
              "    <path d=\"M18.56 5.44l.94 2.06.94-2.06 2.06-.94-2.06-.94-.94-2.06-.94 2.06-2.06.94zm-11 1L8.5 8.5l.94-2.06 2.06-.94-2.06-.94L8.5 2.5l-.94 2.06-2.06.94zm10 10l.94 2.06.94-2.06 2.06-.94-2.06-.94-.94-2.06-.94 2.06-2.06.94z\"/><path d=\"M17.41 7.96l-1.37-1.37c-.4-.4-.92-.59-1.43-.59-.52 0-1.04.2-1.43.59L10.3 9.45l-7.72 7.72c-.78.78-.78 2.05 0 2.83L4 21.41c.39.39.9.59 1.41.59.51 0 1.02-.2 1.41-.59l7.78-7.78 2.81-2.81c.8-.78.8-2.07 0-2.86zM5.41 20L4 18.59l7.72-7.72 1.47 1.35L5.41 20z\"/>\n",
              "  </svg>\n",
              "      </button>\n",
              "      \n",
              "  <style>\n",
              "    .colab-df-container {\n",
              "      display:flex;\n",
              "      flex-wrap:wrap;\n",
              "      gap: 12px;\n",
              "    }\n",
              "\n",
              "    .colab-df-convert {\n",
              "      background-color: #E8F0FE;\n",
              "      border: none;\n",
              "      border-radius: 50%;\n",
              "      cursor: pointer;\n",
              "      display: none;\n",
              "      fill: #1967D2;\n",
              "      height: 32px;\n",
              "      padding: 0 0 0 0;\n",
              "      width: 32px;\n",
              "    }\n",
              "\n",
              "    .colab-df-convert:hover {\n",
              "      background-color: #E2EBFA;\n",
              "      box-shadow: 0px 1px 2px rgba(60, 64, 67, 0.3), 0px 1px 3px 1px rgba(60, 64, 67, 0.15);\n",
              "      fill: #174EA6;\n",
              "    }\n",
              "\n",
              "    [theme=dark] .colab-df-convert {\n",
              "      background-color: #3B4455;\n",
              "      fill: #D2E3FC;\n",
              "    }\n",
              "\n",
              "    [theme=dark] .colab-df-convert:hover {\n",
              "      background-color: #434B5C;\n",
              "      box-shadow: 0px 1px 3px 1px rgba(0, 0, 0, 0.15);\n",
              "      filter: drop-shadow(0px 1px 2px rgba(0, 0, 0, 0.3));\n",
              "      fill: #FFFFFF;\n",
              "    }\n",
              "  </style>\n",
              "\n",
              "      <script>\n",
              "        const buttonEl =\n",
              "          document.querySelector('#df-aa40970e-fa4d-40fc-a91c-9e43fe85e816 button.colab-df-convert');\n",
              "        buttonEl.style.display =\n",
              "          google.colab.kernel.accessAllowed ? 'block' : 'none';\n",
              "\n",
              "        async function convertToInteractive(key) {\n",
              "          const element = document.querySelector('#df-aa40970e-fa4d-40fc-a91c-9e43fe85e816');\n",
              "          const dataTable =\n",
              "            await google.colab.kernel.invokeFunction('convertToInteractive',\n",
              "                                                     [key], {});\n",
              "          if (!dataTable) return;\n",
              "\n",
              "          const docLinkHtml = 'Like what you see? Visit the ' +\n",
              "            '<a target=\"_blank\" href=https://colab.research.google.com/notebooks/data_table.ipynb>data table notebook</a>'\n",
              "            + ' to learn more about interactive tables.';\n",
              "          element.innerHTML = '';\n",
              "          dataTable['output_type'] = 'display_data';\n",
              "          await google.colab.output.renderOutput(dataTable, element);\n",
              "          const docLink = document.createElement('div');\n",
              "          docLink.innerHTML = docLinkHtml;\n",
              "          element.appendChild(docLink);\n",
              "        }\n",
              "      </script>\n",
              "    </div>\n",
              "  </div>\n",
              "  "
            ]
          },
          "metadata": {},
          "execution_count": 305
        }
      ]
    },
    {
      "cell_type": "code",
      "source": [
        "from sklearn.preprocessing import OneHotEncoder\n",
        "encoder = OneHotEncoder(handle_unknown='ignore')\n",
        "encoder_df = pd.DataFrame(encoder.fit_transform(df1[['Group']]).toarray())\n",
        "df1 = df1.join(encoder_df)"
      ],
      "metadata": {
        "id": "dSwLAk9luO5c"
      },
      "execution_count": 306,
      "outputs": []
    },
    {
      "cell_type": "code",
      "source": [
        "df1=df1.drop('Group',axis=1)"
      ],
      "metadata": {
        "id": "MayOKp_dyg3-"
      },
      "execution_count": 307,
      "outputs": []
    },
    {
      "cell_type": "code",
      "source": [
        "df1"
      ],
      "metadata": {
        "colab": {
          "base_uri": "https://localhost:8080/",
          "height": 424
        },
        "id": "HiI-tYp6zsrE",
        "outputId": "8a2bd2cf-b2fb-4bc7-d6b5-6cd52b8a3d12"
      },
      "execution_count": 308,
      "outputs": [
        {
          "output_type": "execute_result",
          "data": {
            "text/plain": [
              "            Id SalesRank TotalReviews AvgRating  Helpful Votes HelpfulVotes  \\\n",
              "0            1    396585            2       5.0       14    16            2   \n",
              "1            2    168596           12       4.5       76    84            8   \n",
              "2            3   1270652            1       5.0        2     2            0   \n",
              "3            4    631289            1       4.0        1     1            0   \n",
              "4            5    455160            0       0.0        0     0            0   \n",
              "...        ...       ...          ...       ...      ...   ...          ...   \n",
              "542659  548547         0            1       5.0        0     2            2   \n",
              "542660  548548         0            8       3.0       25    36           11   \n",
              "542661  548549         0            1       4.0        3     7            4   \n",
              "542662  548550         0            3       5.0        6     6            0   \n",
              "542663  548551         0            1       5.0        9     9            0   \n",
              "\n",
              "              ASIN label_code    0    1    2    3  \n",
              "0       0827229534          1  1.0  0.0  0.0  0.0  \n",
              "1       0738700797          2  1.0  0.0  0.0  0.0  \n",
              "2       0486287785          0  1.0  0.0  0.0  0.0  \n",
              "3       0842328327          0  1.0  0.0  0.0  0.0  \n",
              "4       1577943082          0  1.0  0.0  0.0  0.0  \n",
              "...            ...        ...  ...  ...  ...  ...  \n",
              "542659  B000059TOC          0  0.0  1.0  0.0  0.0  \n",
              "542660  B00006JBIX          1  0.0  1.0  0.0  0.0  \n",
              "542661  0879736836          0  1.0  0.0  0.0  0.0  \n",
              "542662  B00008DDST          0  0.0  1.0  0.0  0.0  \n",
              "542663  B00005MHUG          1  0.0  0.0  1.0  0.0  \n",
              "\n",
              "[542664 rows x 13 columns]"
            ],
            "text/html": [
              "\n",
              "  <div id=\"df-8cdd55e0-c78a-4c63-a89c-3563f43a1c9d\">\n",
              "    <div class=\"colab-df-container\">\n",
              "      <div>\n",
              "<style scoped>\n",
              "    .dataframe tbody tr th:only-of-type {\n",
              "        vertical-align: middle;\n",
              "    }\n",
              "\n",
              "    .dataframe tbody tr th {\n",
              "        vertical-align: top;\n",
              "    }\n",
              "\n",
              "    .dataframe thead th {\n",
              "        text-align: right;\n",
              "    }\n",
              "</style>\n",
              "<table border=\"1\" class=\"dataframe\">\n",
              "  <thead>\n",
              "    <tr style=\"text-align: right;\">\n",
              "      <th></th>\n",
              "      <th>Id</th>\n",
              "      <th>SalesRank</th>\n",
              "      <th>TotalReviews</th>\n",
              "      <th>AvgRating</th>\n",
              "      <th>Helpful</th>\n",
              "      <th>Votes</th>\n",
              "      <th>HelpfulVotes</th>\n",
              "      <th>ASIN</th>\n",
              "      <th>label_code</th>\n",
              "      <th>0</th>\n",
              "      <th>1</th>\n",
              "      <th>2</th>\n",
              "      <th>3</th>\n",
              "    </tr>\n",
              "  </thead>\n",
              "  <tbody>\n",
              "    <tr>\n",
              "      <th>0</th>\n",
              "      <td>1</td>\n",
              "      <td>396585</td>\n",
              "      <td>2</td>\n",
              "      <td>5.0</td>\n",
              "      <td>14</td>\n",
              "      <td>16</td>\n",
              "      <td>2</td>\n",
              "      <td>0827229534</td>\n",
              "      <td>1</td>\n",
              "      <td>1.0</td>\n",
              "      <td>0.0</td>\n",
              "      <td>0.0</td>\n",
              "      <td>0.0</td>\n",
              "    </tr>\n",
              "    <tr>\n",
              "      <th>1</th>\n",
              "      <td>2</td>\n",
              "      <td>168596</td>\n",
              "      <td>12</td>\n",
              "      <td>4.5</td>\n",
              "      <td>76</td>\n",
              "      <td>84</td>\n",
              "      <td>8</td>\n",
              "      <td>0738700797</td>\n",
              "      <td>2</td>\n",
              "      <td>1.0</td>\n",
              "      <td>0.0</td>\n",
              "      <td>0.0</td>\n",
              "      <td>0.0</td>\n",
              "    </tr>\n",
              "    <tr>\n",
              "      <th>2</th>\n",
              "      <td>3</td>\n",
              "      <td>1270652</td>\n",
              "      <td>1</td>\n",
              "      <td>5.0</td>\n",
              "      <td>2</td>\n",
              "      <td>2</td>\n",
              "      <td>0</td>\n",
              "      <td>0486287785</td>\n",
              "      <td>0</td>\n",
              "      <td>1.0</td>\n",
              "      <td>0.0</td>\n",
              "      <td>0.0</td>\n",
              "      <td>0.0</td>\n",
              "    </tr>\n",
              "    <tr>\n",
              "      <th>3</th>\n",
              "      <td>4</td>\n",
              "      <td>631289</td>\n",
              "      <td>1</td>\n",
              "      <td>4.0</td>\n",
              "      <td>1</td>\n",
              "      <td>1</td>\n",
              "      <td>0</td>\n",
              "      <td>0842328327</td>\n",
              "      <td>0</td>\n",
              "      <td>1.0</td>\n",
              "      <td>0.0</td>\n",
              "      <td>0.0</td>\n",
              "      <td>0.0</td>\n",
              "    </tr>\n",
              "    <tr>\n",
              "      <th>4</th>\n",
              "      <td>5</td>\n",
              "      <td>455160</td>\n",
              "      <td>0</td>\n",
              "      <td>0.0</td>\n",
              "      <td>0</td>\n",
              "      <td>0</td>\n",
              "      <td>0</td>\n",
              "      <td>1577943082</td>\n",
              "      <td>0</td>\n",
              "      <td>1.0</td>\n",
              "      <td>0.0</td>\n",
              "      <td>0.0</td>\n",
              "      <td>0.0</td>\n",
              "    </tr>\n",
              "    <tr>\n",
              "      <th>...</th>\n",
              "      <td>...</td>\n",
              "      <td>...</td>\n",
              "      <td>...</td>\n",
              "      <td>...</td>\n",
              "      <td>...</td>\n",
              "      <td>...</td>\n",
              "      <td>...</td>\n",
              "      <td>...</td>\n",
              "      <td>...</td>\n",
              "      <td>...</td>\n",
              "      <td>...</td>\n",
              "      <td>...</td>\n",
              "      <td>...</td>\n",
              "    </tr>\n",
              "    <tr>\n",
              "      <th>542659</th>\n",
              "      <td>548547</td>\n",
              "      <td>0</td>\n",
              "      <td>1</td>\n",
              "      <td>5.0</td>\n",
              "      <td>0</td>\n",
              "      <td>2</td>\n",
              "      <td>2</td>\n",
              "      <td>B000059TOC</td>\n",
              "      <td>0</td>\n",
              "      <td>0.0</td>\n",
              "      <td>1.0</td>\n",
              "      <td>0.0</td>\n",
              "      <td>0.0</td>\n",
              "    </tr>\n",
              "    <tr>\n",
              "      <th>542660</th>\n",
              "      <td>548548</td>\n",
              "      <td>0</td>\n",
              "      <td>8</td>\n",
              "      <td>3.0</td>\n",
              "      <td>25</td>\n",
              "      <td>36</td>\n",
              "      <td>11</td>\n",
              "      <td>B00006JBIX</td>\n",
              "      <td>1</td>\n",
              "      <td>0.0</td>\n",
              "      <td>1.0</td>\n",
              "      <td>0.0</td>\n",
              "      <td>0.0</td>\n",
              "    </tr>\n",
              "    <tr>\n",
              "      <th>542661</th>\n",
              "      <td>548549</td>\n",
              "      <td>0</td>\n",
              "      <td>1</td>\n",
              "      <td>4.0</td>\n",
              "      <td>3</td>\n",
              "      <td>7</td>\n",
              "      <td>4</td>\n",
              "      <td>0879736836</td>\n",
              "      <td>0</td>\n",
              "      <td>1.0</td>\n",
              "      <td>0.0</td>\n",
              "      <td>0.0</td>\n",
              "      <td>0.0</td>\n",
              "    </tr>\n",
              "    <tr>\n",
              "      <th>542662</th>\n",
              "      <td>548550</td>\n",
              "      <td>0</td>\n",
              "      <td>3</td>\n",
              "      <td>5.0</td>\n",
              "      <td>6</td>\n",
              "      <td>6</td>\n",
              "      <td>0</td>\n",
              "      <td>B00008DDST</td>\n",
              "      <td>0</td>\n",
              "      <td>0.0</td>\n",
              "      <td>1.0</td>\n",
              "      <td>0.0</td>\n",
              "      <td>0.0</td>\n",
              "    </tr>\n",
              "    <tr>\n",
              "      <th>542663</th>\n",
              "      <td>548551</td>\n",
              "      <td>0</td>\n",
              "      <td>1</td>\n",
              "      <td>5.0</td>\n",
              "      <td>9</td>\n",
              "      <td>9</td>\n",
              "      <td>0</td>\n",
              "      <td>B00005MHUG</td>\n",
              "      <td>1</td>\n",
              "      <td>0.0</td>\n",
              "      <td>0.0</td>\n",
              "      <td>1.0</td>\n",
              "      <td>0.0</td>\n",
              "    </tr>\n",
              "  </tbody>\n",
              "</table>\n",
              "<p>542664 rows × 13 columns</p>\n",
              "</div>\n",
              "      <button class=\"colab-df-convert\" onclick=\"convertToInteractive('df-8cdd55e0-c78a-4c63-a89c-3563f43a1c9d')\"\n",
              "              title=\"Convert this dataframe to an interactive table.\"\n",
              "              style=\"display:none;\">\n",
              "        \n",
              "  <svg xmlns=\"http://www.w3.org/2000/svg\" height=\"24px\"viewBox=\"0 0 24 24\"\n",
              "       width=\"24px\">\n",
              "    <path d=\"M0 0h24v24H0V0z\" fill=\"none\"/>\n",
              "    <path d=\"M18.56 5.44l.94 2.06.94-2.06 2.06-.94-2.06-.94-.94-2.06-.94 2.06-2.06.94zm-11 1L8.5 8.5l.94-2.06 2.06-.94-2.06-.94L8.5 2.5l-.94 2.06-2.06.94zm10 10l.94 2.06.94-2.06 2.06-.94-2.06-.94-.94-2.06-.94 2.06-2.06.94z\"/><path d=\"M17.41 7.96l-1.37-1.37c-.4-.4-.92-.59-1.43-.59-.52 0-1.04.2-1.43.59L10.3 9.45l-7.72 7.72c-.78.78-.78 2.05 0 2.83L4 21.41c.39.39.9.59 1.41.59.51 0 1.02-.2 1.41-.59l7.78-7.78 2.81-2.81c.8-.78.8-2.07 0-2.86zM5.41 20L4 18.59l7.72-7.72 1.47 1.35L5.41 20z\"/>\n",
              "  </svg>\n",
              "      </button>\n",
              "      \n",
              "  <style>\n",
              "    .colab-df-container {\n",
              "      display:flex;\n",
              "      flex-wrap:wrap;\n",
              "      gap: 12px;\n",
              "    }\n",
              "\n",
              "    .colab-df-convert {\n",
              "      background-color: #E8F0FE;\n",
              "      border: none;\n",
              "      border-radius: 50%;\n",
              "      cursor: pointer;\n",
              "      display: none;\n",
              "      fill: #1967D2;\n",
              "      height: 32px;\n",
              "      padding: 0 0 0 0;\n",
              "      width: 32px;\n",
              "    }\n",
              "\n",
              "    .colab-df-convert:hover {\n",
              "      background-color: #E2EBFA;\n",
              "      box-shadow: 0px 1px 2px rgba(60, 64, 67, 0.3), 0px 1px 3px 1px rgba(60, 64, 67, 0.15);\n",
              "      fill: #174EA6;\n",
              "    }\n",
              "\n",
              "    [theme=dark] .colab-df-convert {\n",
              "      background-color: #3B4455;\n",
              "      fill: #D2E3FC;\n",
              "    }\n",
              "\n",
              "    [theme=dark] .colab-df-convert:hover {\n",
              "      background-color: #434B5C;\n",
              "      box-shadow: 0px 1px 3px 1px rgba(0, 0, 0, 0.15);\n",
              "      filter: drop-shadow(0px 1px 2px rgba(0, 0, 0, 0.3));\n",
              "      fill: #FFFFFF;\n",
              "    }\n",
              "  </style>\n",
              "\n",
              "      <script>\n",
              "        const buttonEl =\n",
              "          document.querySelector('#df-8cdd55e0-c78a-4c63-a89c-3563f43a1c9d button.colab-df-convert');\n",
              "        buttonEl.style.display =\n",
              "          google.colab.kernel.accessAllowed ? 'block' : 'none';\n",
              "\n",
              "        async function convertToInteractive(key) {\n",
              "          const element = document.querySelector('#df-8cdd55e0-c78a-4c63-a89c-3563f43a1c9d');\n",
              "          const dataTable =\n",
              "            await google.colab.kernel.invokeFunction('convertToInteractive',\n",
              "                                                     [key], {});\n",
              "          if (!dataTable) return;\n",
              "\n",
              "          const docLinkHtml = 'Like what you see? Visit the ' +\n",
              "            '<a target=\"_blank\" href=https://colab.research.google.com/notebooks/data_table.ipynb>data table notebook</a>'\n",
              "            + ' to learn more about interactive tables.';\n",
              "          element.innerHTML = '';\n",
              "          dataTable['output_type'] = 'display_data';\n",
              "          await google.colab.output.renderOutput(dataTable, element);\n",
              "          const docLink = document.createElement('div');\n",
              "          docLink.innerHTML = docLinkHtml;\n",
              "          element.appendChild(docLink);\n",
              "        }\n",
              "      </script>\n",
              "    </div>\n",
              "  </div>\n",
              "  "
            ]
          },
          "metadata": {},
          "execution_count": 308
        }
      ]
    },
    {
      "cell_type": "code",
      "source": [
        ""
      ],
      "metadata": {
        "id": "usuNn6gWzzUD"
      },
      "execution_count": null,
      "outputs": []
    }
  ],
  "metadata": {
    "colab": {
      "name": "HackRx30_Hackathon_June22_P4.ipynb",
      "provenance": [],
      "collapsed_sections": []
    },
    "kernelspec": {
      "display_name": "Python 3",
      "language": "python",
      "name": "python3"
    },
    "language_info": {
      "codemirror_mode": {
        "name": "ipython",
        "version": 3
      },
      "file_extension": ".py",
      "mimetype": "text/x-python",
      "name": "python",
      "nbconvert_exporter": "python",
      "pygments_lexer": "ipython3",
      "version": "3.8.5"
    }
  },
  "nbformat": 4,
  "nbformat_minor": 0
}