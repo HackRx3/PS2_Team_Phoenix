{
  "cells": [
    {
      "cell_type": "markdown",
      "source": [
        "# Product Clustering for Recommendation based on Customer Insights, Profiling and Customer Satisfaction"
      ],
      "metadata": {
        "id": "DvSYysl22t5q"
      }
    },
    {
      "cell_type": "markdown",
      "source": [
        "##Data Preprocessing and feature extraction for Clustering products"
      ],
      "metadata": {
        "id": "z1Jz6sfS2xrr"
      }
    },
    {
      "cell_type": "code",
      "execution_count": null,
      "metadata": {
        "colab": {
          "base_uri": "https://localhost:8080/"
        },
        "id": "2lUbES9pNxgu",
        "outputId": "3ffbb1e7-4d25-40b1-c51b-336e511c825b"
      },
      "outputs": [
        {
          "output_type": "stream",
          "name": "stdout",
          "text": [
            "Looking in indexes: https://pypi.org/simple, https://us-python.pkg.dev/colab-wheels/public/simple/\n",
            "Requirement already satisfied: stemming in /usr/local/lib/python3.7/dist-packages (1.0.1)\n"
          ]
        }
      ],
      "source": [
        "%%bash\n",
        "pip install stemming"
      ]
    },
    {
      "cell_type": "code",
      "execution_count": null,
      "metadata": {
        "colab": {
          "base_uri": "https://localhost:8080/"
        },
        "id": "9amWKQiCNQIK",
        "outputId": "17942cda-ccd5-4291-dff1-2c6f4c9c09cf"
      },
      "outputs": [
        {
          "output_type": "stream",
          "name": "stderr",
          "text": [
            "[nltk_data] Downloading package stopwords to /root/nltk_data...\n",
            "[nltk_data]   Package stopwords is already up-to-date!\n"
          ]
        },
        {
          "output_type": "execute_result",
          "data": {
            "text/plain": [
              "True"
            ]
          },
          "metadata": {},
          "execution_count": 2
        }
      ],
      "source": [
        "import string\n",
        "import pandas as pd\n",
        "import re\n",
        "import nltk\n",
        "from nltk.corpus import stopwords\n",
        "from stemming.porter2 import stem\n",
        "import numpy as np\n",
        "import networkx as nx\n",
        "import seaborn as sns\n",
        "import matplotlib.pyplot as plt\n",
        "import nltk\n",
        "nltk.download('stopwords')"
      ]
    },
    {
      "cell_type": "code",
      "source": [
        "from google.colab import drive\n",
        "drive.mount('/content/drive')"
      ],
      "metadata": {
        "colab": {
          "base_uri": "https://localhost:8080/"
        },
        "id": "SE-ffkkQ-e25",
        "outputId": "7189e418-f2cf-4b70-8901-69598a1bb0e9"
      },
      "execution_count": null,
      "outputs": [
        {
          "output_type": "stream",
          "name": "stdout",
          "text": [
            "Drive already mounted at /content/drive; to attempt to forcibly remount, call drive.mount(\"/content/drive\", force_remount=True).\n"
          ]
        }
      ]
    },
    {
      "cell_type": "markdown",
      "source": [
        "### Open the file to read Amazon Product Metadata"
      ],
      "metadata": {
        "id": "IVB0H2Ea3x78"
      }
    },
    {
      "cell_type": "code",
      "execution_count": null,
      "metadata": {
        "id": "AkkOxfRtNQIM"
      },
      "outputs": [],
      "source": [
        "df = open ('/content/drive/MyDrive/BAJAJ/GNN_datasets/amazon-meta.txt', 'r', encoding='utf-8', errors= 'ignore')"
      ]
    },
    {
      "cell_type": "markdown",
      "source": [
        "### Initialize a nested product dictionary that will hold cleaned up amazon product data. "
      ],
      "metadata": {
        "id": "dsRAd2se30BU"
      }
    },
    {
      "cell_type": "code",
      "execution_count": null,
      "metadata": {
        "id": "XF4sZ-yPNQIN"
      },
      "outputs": [],
      "source": [
        "amazonProducts= {}"
      ]
    },
    {
      "cell_type": "markdown",
      "source": [
        "### Read the data from the Amazon meta information file and fill the AmazonProducts nested dictionary with features of products and extracted features of users reviews"
      ],
      "metadata": {
        "id": "Ab3yrLbu35lV"
      }
    },
    {
      "cell_type": "code",
      "source": [
        "(Id, ASIN, Title, Categories, Group, Copurchased, SalesRank, TotalReviews, AvgRating, DegreeCentrality, ClusteringCoeff,helpf,votes) = (\"\", \"\", \"\", \"\", \"\", \"\", 0, 0, 0.0, 0, 0.0,0,0)\n",
        "for line in df:\n",
        "    line = line.strip()\n",
        "    if(line.startswith(\"Id\")):\n",
        "        Id = line[3:].strip()\n",
        "        counter = 0\n",
        "    elif(line.startswith(\"ASIN\")):\n",
        "        ASIN = line[5:].strip()\n",
        "    elif(line.startswith(\"group\")):\n",
        "        Group = line[6:].strip()\n",
        "    elif(line.startswith(\"title\")):\n",
        "        Title = line[6:].strip()\n",
        "        Title = ' '.join(Title.split())\n",
        "    elif(line.startswith(\"salesrank\")):\n",
        "        SalesRank = line[10:].strip()\n",
        "    elif(line.startswith(\"reviews\")):\n",
        "        ls = line.split()\n",
        "        TotalReviews = ls[2].strip()\n",
        "        AvgRating = ls[7].strip()\n",
        "    elif(line.startswith(\"19\")):\n",
        "        ls = line.split()\n",
        "        votes=votes+int(ls[6].strip()) #aggreating votes number\n",
        "        helpf=helpf+int(ls[8].strip()) #aggregating helpful votes number\n",
        "    elif(line.startswith(\"20\")):\n",
        "        ls = line.split()\n",
        "        votes=votes+int(ls[6].strip()) #aggreating votes number\n",
        "        helpf=helpf+int(ls[8].strip()) #aggregating helpful votes number\n",
        "    elif(line.startswith(\"categories\")):\n",
        "        ls = line.split() #aggregating categories to a list\n",
        "        Categories = ' '.join((df.readline()).lower() for i in range(int(ls[1].strip())))\n",
        "        Categories = re.compile('[%s]' % re.escape(string.digits+string.punctuation)).sub(' ',Categories)\n",
        "        Categories = ' '.join(set(Categories.split())-set(stopwords.words(\"english\")))\n",
        "        Categories = ' '.join(stem(word) for word in Categories.split())\n",
        "    elif (line==\"\"): # write out fields to amazonProducts dictionary\n",
        "        try:\n",
        "            MetaData = {}\n",
        "            if (ASIN != \"\"):\n",
        "                amazonProducts[ASIN] = MetaData\n",
        "            MetaData['Id'] = Id\n",
        "            MetaData['Title'] = Title\n",
        "            MetaData['Categories'] = ' '.join(set(Categories.split()))\n",
        "            MetaData['Group'] = Group\n",
        "            MetaData['SalesRank'] = int(SalesRank)\n",
        "            MetaData['TotalReviews'] = int(TotalReviews)\n",
        "            MetaData['AvgRating'] = float(AvgRating)\n",
        "            MetaData['Helpful'] = int(helpf)\n",
        "            MetaData['Votes'] = int(votes)\n",
        "        except NameError:\n",
        "            continue\n",
        "        (Id, ASIN, Title, Categories, Group, Copurchased, SalesRank, TotalReviews, AvgRating, DegreeCentrality, ClusteringCoeff,helpf,votes) = (\"\", \"\", \"\", \"\", \"\", \"\", 0, 0, 0.0, 0, 0.0,0,0)\n",
        "df.close"
      ],
      "metadata": {
        "id": "qc1RVZop2jFZ"
      },
      "execution_count": null,
      "outputs": []
    },
    {
      "cell_type": "markdown",
      "source": [
        "###Converting Dictionary to Dataframe"
      ],
      "metadata": {
        "id": "4_zlOodW4GVB"
      }
    },
    {
      "cell_type": "code",
      "source": [
        "df = pd.DataFrame.from_dict(amazonProducts)\n",
        "df = df.T"
      ],
      "metadata": {
        "id": "g4mKGtoXaNFk"
      },
      "execution_count": null,
      "outputs": []
    },
    {
      "cell_type": "markdown",
      "source": [
        "####Unique Groups of Products Available"
      ],
      "metadata": {
        "id": "uBjL1Db_4NdQ"
      }
    },
    {
      "cell_type": "code",
      "source": [
        "df.Group.unique()"
      ],
      "metadata": {
        "id": "MDCt9e3is2Y5"
      },
      "execution_count": null,
      "outputs": []
    },
    {
      "cell_type": "markdown",
      "source": [
        "####Checking for null data items"
      ],
      "metadata": {
        "id": "a9tcJMOC4TQY"
      }
    },
    {
      "cell_type": "code",
      "source": [
        "df.isnull().sum()"
      ],
      "metadata": {
        "id": "Qt9_--SMwlyA"
      },
      "execution_count": null,
      "outputs": []
    },
    {
      "cell_type": "markdown",
      "source": [
        "####Checking Distribution of Various Groups of Products"
      ],
      "metadata": {
        "id": "_AttfOC34WYh"
      }
    },
    {
      "cell_type": "code",
      "source": [
        "df['Group'].value_counts()"
      ],
      "metadata": {
        "id": "hvfEMkgqwolQ"
      },
      "execution_count": null,
      "outputs": []
    },
    {
      "cell_type": "markdown",
      "source": [
        "#### **We can conclude from above that product groups apart from Book,Music,Video and DVD other categories are very insignificant in number and we ignore them**"
      ],
      "metadata": {
        "id": "y5g1kpZV4cej"
      }
    },
    {
      "cell_type": "code",
      "source": [
        "df = df[(df['Group'] == 'Book') | (df['Group'] == 'Music') | (df['Group'] == 'Video') | (df['Group'] == 'DVD')]"
      ],
      "metadata": {
        "id": "tB-CJrSfw4M7"
      },
      "execution_count": null,
      "outputs": []
    },
    {
      "cell_type": "markdown",
      "source": [
        "#### **Finding Number of Non-Helpful Votes**"
      ],
      "metadata": {
        "id": "IIwNhRUM4iG7"
      }
    },
    {
      "cell_type": "code",
      "source": [
        "df['NonHelpfulVotes']=df['Votes']-df['Helpful']"
      ],
      "metadata": {
        "id": "HH1d8P_zuPGH"
      },
      "execution_count": null,
      "outputs": []
    },
    {
      "cell_type": "code",
      "source": [
        "df['ASIN'] = df.index\n",
        "df1 = df.set_index('Id')\n",
        "df1['Helpful'] = df1['Helpful'].astype(int)"
      ],
      "metadata": {
        "id": "bxV1s62Kxz5E"
      },
      "execution_count": null,
      "outputs": []
    },
    {
      "cell_type": "markdown",
      "source": [
        "####Checking Distribution of Helpful Votes of Products to evaluate number of bins we can group them into"
      ],
      "metadata": {
        "id": "j-CmKKuy4mos"
      }
    },
    {
      "cell_type": "code",
      "source": [
        "df1['Helpful'].describe()"
      ],
      "metadata": {
        "id": "tNG8Cb8Y3ob5"
      },
      "execution_count": null,
      "outputs": []
    },
    {
      "cell_type": "code",
      "source": [
        "df1.hist(bins=4)"
      ],
      "metadata": {
        "id": "3iPT6WDn45Dw"
      },
      "execution_count": null,
      "outputs": []
    },
    {
      "cell_type": "code",
      "source": [
        "df1=df1.reset_index()"
      ],
      "metadata": {
        "id": "GzJbxOM7zDSb"
      },
      "execution_count": null,
      "outputs": []
    },
    {
      "cell_type": "markdown",
      "source": [
        "#### Visualization of Helpful ratings over samples of 100000 datapoints to visualize the distribution in samples"
      ],
      "metadata": {
        "id": "7w0RIA0jNu-s"
      }
    },
    {
      "cell_type": "code",
      "source": [
        "df2 = df1[0:100000]\n",
        "print(df2['Helpful'].describe())\n",
        "df2 = df1[100000:200000]\n",
        "print(df2['Helpful'].describe())\n",
        "df2 = df1[200000:300000]\n",
        "print(df2['Helpful'].describe())\n",
        "df2 = df1[300000:400000]\n",
        "print(df2['Helpful'].describe())\n",
        "df2 = df1[400000:]\n",
        "print(df2['Helpful'].describe())\n",
        "df2 = df1[400000:]\n",
        "df2['AvgRating']=df2['AvgRating'].astype(float)\n",
        "print(df2.groupby('AvgRating').count())\n",
        "print(df2.groupby('label_code').count())"
      ],
      "metadata": {
        "id": "8Js343cNNwnd"
      },
      "execution_count": null,
      "outputs": []
    },
    {
      "cell_type": "markdown",
      "source": [
        "#### **Categorizing Products into 4 buckets based on customer insights based on the distribution of helpful rating**"
      ],
      "metadata": {
        "id": "pUV1Hu4f45NX"
      }
    },
    {
      "cell_type": "code",
      "source": [
        "df1['label_code'] = pd.cut(x=df1['Helpful'], bins=[-1, 8, 35, 27355], labels=['0', '1', '2'])"
      ],
      "metadata": {
        "id": "OiqCXnLR5cww"
      },
      "execution_count": null,
      "outputs": []
    },
    {
      "cell_type": "markdown",
      "source": [
        "####One Hot Encoding the Groups of Products"
      ],
      "metadata": {
        "id": "bGqoCWgiOGII"
      }
    },
    {
      "cell_type": "code",
      "source": [
        "from sklearn.preprocessing import OneHotEncoder\n",
        "encoder = OneHotEncoder(handle_unknown='ignore')\n",
        "encoder_df = pd.DataFrame(encoder.fit_transform(df1[['Group']]).toarray())\n",
        "df1 = df1.join(encoder_df)"
      ],
      "metadata": {
        "id": "dSwLAk9luO5c"
      },
      "execution_count": null,
      "outputs": []
    },
    {
      "cell_type": "code",
      "source": [
        "df1=df1.drop('Group',axis=1)"
      ],
      "metadata": {
        "id": "MayOKp_dyg3-"
      },
      "execution_count": null,
      "outputs": []
    },
    {
      "cell_type": "code",
      "source": [
        "df1['label_code']=df1['label_code'].astype(int)"
      ],
      "metadata": {
        "id": "YWw-vcmdRPI9"
      },
      "execution_count": null,
      "outputs": []
    },
    {
      "cell_type": "markdown",
      "source": [
        "### Saving the dataframe for Future Use "
      ],
      "metadata": {
        "id": "suJL5FLGOhWu"
      }
    },
    {
      "cell_type": "code",
      "source": [
        "df1.to_csv(\"/content/drive/MyDrive/BAJAJ/GNN_datasets/customer_insights_recommendations.csv\")"
      ],
      "metadata": {
        "id": "fMoXDSFFOgq9"
      },
      "execution_count": null,
      "outputs": []
    },
    {
      "cell_type": "markdown",
      "source": [
        "## Recommendation based on Customer Insights Cluster and Category Similarity"
      ],
      "metadata": {
        "id": "bwowseUPOned"
      }
    },
    {
      "cell_type": "markdown",
      "source": [
        "### In order to compare similarity between 2 products we compute similarity between category to which they belongs by finding jaccard similarity metric between 2 categories"
      ],
      "metadata": {
        "id": "HQTQ-RIJOKwp"
      }
    },
    {
      "cell_type": "code",
      "source": [
        "def jaccard(a, b):\n",
        "    a = set((str(a)).split())\n",
        "    c = a.intersection(b)\n",
        "    return float(len(c)) / (len(a) + len(b) - len(c))"
      ],
      "metadata": {
        "id": "KhkbVGAtyjKg"
      },
      "execution_count": null,
      "outputs": []
    },
    {
      "cell_type": "code",
      "source": [
        "def prod_label_recomm(x_counter):\n",
        "  # get label of asin\n",
        "  df_counter = df1.loc[df1['Id'] == x_counter]\n",
        "  x = int(df_counter['label_code'])\n",
        "  y = set((str(df_counter['Categories'])).split())\n",
        "  df_counter = df1.loc[df1['label_code'] == x]\n",
        "  df_counter = df_counter.loc[df_counter['AvgRating']>=4.5]\n",
        "  df_counter['score_cat_inter']= df_counter['Categories'].apply(lambda x: jaccard(x,y))\n",
        "  sorted_df = df_counter.sort_values([\"score_cat_inter\"], ascending=False)\n",
        "  return sorted_df[1:6]['Id'].tolist()\n"
      ],
      "metadata": {
        "id": "RE1Y5l7uylYv"
      },
      "execution_count": null,
      "outputs": []
    },
    {
      "cell_type": "markdown",
      "source": [
        "### Testing the recommendations for giving Product Id"
      ],
      "metadata": {
        "id": "sDaKiME6O4Fv"
      }
    },
    {
      "cell_type": "code",
      "source": [
        "X = prod_label_recomm('B00000AU3R')"
      ],
      "metadata": {
        "id": "fguxOsl9yJLY"
      },
      "execution_count": null,
      "outputs": []
    },
    {
      "cell_type": "code",
      "source": [
        ""
      ],
      "metadata": {
        "id": "Hb-1fp-N1i0k"
      },
      "execution_count": null,
      "outputs": []
    }
  ],
  "metadata": {
    "colab": {
      "name": "HackRx30_Hackathon_June22_P4.ipynb",
      "provenance": [],
      "collapsed_sections": []
    },
    "kernelspec": {
      "display_name": "Python 3",
      "language": "python",
      "name": "python3"
    },
    "language_info": {
      "codemirror_mode": {
        "name": "ipython",
        "version": 3
      },
      "file_extension": ".py",
      "mimetype": "text/x-python",
      "name": "python",
      "nbconvert_exporter": "python",
      "pygments_lexer": "ipython3",
      "version": "3.8.5"
    }
  },
  "nbformat": 4,
  "nbformat_minor": 0
}