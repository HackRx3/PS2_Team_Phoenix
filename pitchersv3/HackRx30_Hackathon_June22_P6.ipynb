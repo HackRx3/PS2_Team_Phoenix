{
  "cells": [
    {
      "cell_type": "code",
      "source": [
        "from google.colab import drive\n",
        "drive.mount('/content/drive')"
      ],
      "metadata": {
        "colab": {
          "base_uri": "https://localhost:8080/"
        },
        "id": "fX39w9f-6RQ9",
        "outputId": "54fbb9b0-e5e7-4ecf-9c23-8c0383a1d2aa"
      },
      "id": "fX39w9f-6RQ9",
      "execution_count": null,
      "outputs": [
        {
          "output_type": "stream",
          "name": "stdout",
          "text": [
            "Drive already mounted at /content/drive; to attempt to forcibly remount, call drive.mount(\"/content/drive\", force_remount=True).\n"
          ]
        }
      ]
    },
    {
      "cell_type": "code",
      "execution_count": null,
      "id": "5c6ded2f",
      "metadata": {
        "id": "5c6ded2f"
      },
      "outputs": [],
      "source": [
        "#importing libraries\n",
        "import networkx as nx\n",
        "import pandas as pd\n",
        "import numpy as np\n",
        "from matplotlib import pyplot as plt\n",
        "from sklearn.preprocessing import OneHotEncoder\n",
        "from sklearn.metrics.pairwise import cosine_similarity"
      ]
    },
    {
      "cell_type": "code",
      "execution_count": null,
      "id": "bc2cffd0",
      "metadata": {
        "id": "bc2cffd0"
      },
      "outputs": [],
      "source": [
        "#Creating a Directed graph from the given edgelist\n",
        "Graphtype = nx.DiGraph()\n",
        "filepath = 'drive/MyDrive/GNN_datasets/amazon0601.txt'\n",
        "G = nx.read_edgelist(\n",
        "    filepath,\n",
        "    comments='#',\n",
        "     \n",
        "    create_using=Graphtype,\n",
        "    nodetype=int\n",
        ")"
      ]
    },
    {
      "cell_type": "code",
      "execution_count": null,
      "id": "b87718d3",
      "metadata": {
        "id": "b87718d3"
      },
      "outputs": [],
      "source": [
        "#Reading Metdadata\n",
        "df = pd.read_csv('drive/MyDrive/GNN_datasets/finalpreprocesseddata.csv')"
      ]
    },
    {
      "cell_type": "code",
      "execution_count": null,
      "id": "9ddd3d09",
      "metadata": {
        "colab": {
          "base_uri": "https://localhost:8080/",
          "height": 320
        },
        "id": "9ddd3d09",
        "outputId": "0f373390-30b9-4eaa-8549-fc0d9976fdc6"
      },
      "outputs": [
        {
          "output_type": "execute_result",
          "data": {
            "text/plain": [
              "   ID        ASIN                                             title group  \\\n",
              "0   1  0827229534                             Patterns of Preaching  Book   \n",
              "1   2  0738700797                                         Candlemas  Book   \n",
              "2   3  0486287785  World War II Allied Fighter Planes Trading Cards  Book   \n",
              "3   4  0842328327                 Life Application Bible Commentary  Book   \n",
              "4   5  1577943082              Prayers That Avail Much for Business  Book   \n",
              "\n",
              "   salesrank  num_categories  totalreviews  downloadedreviews  avg_rating  \n",
              "0     396585               2             2                  2         5.0  \n",
              "1     168596               2            12                 12         4.5  \n",
              "2    1270652               1             1                  1         5.0  \n",
              "3     631289               5             1                  1         4.0  \n",
              "4     455160               2             0                  0         0.0  "
            ],
            "text/html": [
              "\n",
              "  <div id=\"df-7d8167b2-ce90-4878-abd7-5c3508a2358a\">\n",
              "    <div class=\"colab-df-container\">\n",
              "      <div>\n",
              "<style scoped>\n",
              "    .dataframe tbody tr th:only-of-type {\n",
              "        vertical-align: middle;\n",
              "    }\n",
              "\n",
              "    .dataframe tbody tr th {\n",
              "        vertical-align: top;\n",
              "    }\n",
              "\n",
              "    .dataframe thead th {\n",
              "        text-align: right;\n",
              "    }\n",
              "</style>\n",
              "<table border=\"1\" class=\"dataframe\">\n",
              "  <thead>\n",
              "    <tr style=\"text-align: right;\">\n",
              "      <th></th>\n",
              "      <th>ID</th>\n",
              "      <th>ASIN</th>\n",
              "      <th>title</th>\n",
              "      <th>group</th>\n",
              "      <th>salesrank</th>\n",
              "      <th>num_categories</th>\n",
              "      <th>totalreviews</th>\n",
              "      <th>downloadedreviews</th>\n",
              "      <th>avg_rating</th>\n",
              "    </tr>\n",
              "  </thead>\n",
              "  <tbody>\n",
              "    <tr>\n",
              "      <th>0</th>\n",
              "      <td>1</td>\n",
              "      <td>0827229534</td>\n",
              "      <td>Patterns of Preaching</td>\n",
              "      <td>Book</td>\n",
              "      <td>396585</td>\n",
              "      <td>2</td>\n",
              "      <td>2</td>\n",
              "      <td>2</td>\n",
              "      <td>5.0</td>\n",
              "    </tr>\n",
              "    <tr>\n",
              "      <th>1</th>\n",
              "      <td>2</td>\n",
              "      <td>0738700797</td>\n",
              "      <td>Candlemas</td>\n",
              "      <td>Book</td>\n",
              "      <td>168596</td>\n",
              "      <td>2</td>\n",
              "      <td>12</td>\n",
              "      <td>12</td>\n",
              "      <td>4.5</td>\n",
              "    </tr>\n",
              "    <tr>\n",
              "      <th>2</th>\n",
              "      <td>3</td>\n",
              "      <td>0486287785</td>\n",
              "      <td>World War II Allied Fighter Planes Trading Cards</td>\n",
              "      <td>Book</td>\n",
              "      <td>1270652</td>\n",
              "      <td>1</td>\n",
              "      <td>1</td>\n",
              "      <td>1</td>\n",
              "      <td>5.0</td>\n",
              "    </tr>\n",
              "    <tr>\n",
              "      <th>3</th>\n",
              "      <td>4</td>\n",
              "      <td>0842328327</td>\n",
              "      <td>Life Application Bible Commentary</td>\n",
              "      <td>Book</td>\n",
              "      <td>631289</td>\n",
              "      <td>5</td>\n",
              "      <td>1</td>\n",
              "      <td>1</td>\n",
              "      <td>4.0</td>\n",
              "    </tr>\n",
              "    <tr>\n",
              "      <th>4</th>\n",
              "      <td>5</td>\n",
              "      <td>1577943082</td>\n",
              "      <td>Prayers That Avail Much for Business</td>\n",
              "      <td>Book</td>\n",
              "      <td>455160</td>\n",
              "      <td>2</td>\n",
              "      <td>0</td>\n",
              "      <td>0</td>\n",
              "      <td>0.0</td>\n",
              "    </tr>\n",
              "  </tbody>\n",
              "</table>\n",
              "</div>\n",
              "      <button class=\"colab-df-convert\" onclick=\"convertToInteractive('df-7d8167b2-ce90-4878-abd7-5c3508a2358a')\"\n",
              "              title=\"Convert this dataframe to an interactive table.\"\n",
              "              style=\"display:none;\">\n",
              "        \n",
              "  <svg xmlns=\"http://www.w3.org/2000/svg\" height=\"24px\"viewBox=\"0 0 24 24\"\n",
              "       width=\"24px\">\n",
              "    <path d=\"M0 0h24v24H0V0z\" fill=\"none\"/>\n",
              "    <path d=\"M18.56 5.44l.94 2.06.94-2.06 2.06-.94-2.06-.94-.94-2.06-.94 2.06-2.06.94zm-11 1L8.5 8.5l.94-2.06 2.06-.94-2.06-.94L8.5 2.5l-.94 2.06-2.06.94zm10 10l.94 2.06.94-2.06 2.06-.94-2.06-.94-.94-2.06-.94 2.06-2.06.94z\"/><path d=\"M17.41 7.96l-1.37-1.37c-.4-.4-.92-.59-1.43-.59-.52 0-1.04.2-1.43.59L10.3 9.45l-7.72 7.72c-.78.78-.78 2.05 0 2.83L4 21.41c.39.39.9.59 1.41.59.51 0 1.02-.2 1.41-.59l7.78-7.78 2.81-2.81c.8-.78.8-2.07 0-2.86zM5.41 20L4 18.59l7.72-7.72 1.47 1.35L5.41 20z\"/>\n",
              "  </svg>\n",
              "      </button>\n",
              "      \n",
              "  <style>\n",
              "    .colab-df-container {\n",
              "      display:flex;\n",
              "      flex-wrap:wrap;\n",
              "      gap: 12px;\n",
              "    }\n",
              "\n",
              "    .colab-df-convert {\n",
              "      background-color: #E8F0FE;\n",
              "      border: none;\n",
              "      border-radius: 50%;\n",
              "      cursor: pointer;\n",
              "      display: none;\n",
              "      fill: #1967D2;\n",
              "      height: 32px;\n",
              "      padding: 0 0 0 0;\n",
              "      width: 32px;\n",
              "    }\n",
              "\n",
              "    .colab-df-convert:hover {\n",
              "      background-color: #E2EBFA;\n",
              "      box-shadow: 0px 1px 2px rgba(60, 64, 67, 0.3), 0px 1px 3px 1px rgba(60, 64, 67, 0.15);\n",
              "      fill: #174EA6;\n",
              "    }\n",
              "\n",
              "    [theme=dark] .colab-df-convert {\n",
              "      background-color: #3B4455;\n",
              "      fill: #D2E3FC;\n",
              "    }\n",
              "\n",
              "    [theme=dark] .colab-df-convert:hover {\n",
              "      background-color: #434B5C;\n",
              "      box-shadow: 0px 1px 3px 1px rgba(0, 0, 0, 0.15);\n",
              "      filter: drop-shadow(0px 1px 2px rgba(0, 0, 0, 0.3));\n",
              "      fill: #FFFFFF;\n",
              "    }\n",
              "  </style>\n",
              "\n",
              "      <script>\n",
              "        const buttonEl =\n",
              "          document.querySelector('#df-7d8167b2-ce90-4878-abd7-5c3508a2358a button.colab-df-convert');\n",
              "        buttonEl.style.display =\n",
              "          google.colab.kernel.accessAllowed ? 'block' : 'none';\n",
              "\n",
              "        async function convertToInteractive(key) {\n",
              "          const element = document.querySelector('#df-7d8167b2-ce90-4878-abd7-5c3508a2358a');\n",
              "          const dataTable =\n",
              "            await google.colab.kernel.invokeFunction('convertToInteractive',\n",
              "                                                     [key], {});\n",
              "          if (!dataTable) return;\n",
              "\n",
              "          const docLinkHtml = 'Like what you see? Visit the ' +\n",
              "            '<a target=\"_blank\" href=https://colab.research.google.com/notebooks/data_table.ipynb>data table notebook</a>'\n",
              "            + ' to learn more about interactive tables.';\n",
              "          element.innerHTML = '';\n",
              "          dataTable['output_type'] = 'display_data';\n",
              "          await google.colab.output.renderOutput(dataTable, element);\n",
              "          const docLink = document.createElement('div');\n",
              "          docLink.innerHTML = docLinkHtml;\n",
              "          element.appendChild(docLink);\n",
              "        }\n",
              "      </script>\n",
              "    </div>\n",
              "  </div>\n",
              "  "
            ]
          },
          "metadata": {},
          "execution_count": 19
        }
      ],
      "source": [
        "df.head()"
      ]
    },
    {
      "cell_type": "code",
      "execution_count": null,
      "id": "d4801bfd",
      "metadata": {
        "colab": {
          "base_uri": "https://localhost:8080/"
        },
        "id": "d4801bfd",
        "outputId": "be347501-39ed-4e9a-d71a-b198638b46ef"
      },
      "outputs": [
        {
          "output_type": "execute_result",
          "data": {
            "text/plain": [
              "ID                   0\n",
              "ASIN                 0\n",
              "title                2\n",
              "group                0\n",
              "salesrank            0\n",
              "num_categories       0\n",
              "totalreviews         0\n",
              "downloadedreviews    0\n",
              "avg_rating           0\n",
              "dtype: int64"
            ]
          },
          "metadata": {},
          "execution_count": 20
        }
      ],
      "source": [
        "#checking null values\n",
        "df.isnull().sum()"
      ]
    },
    {
      "cell_type": "code",
      "execution_count": null,
      "id": "cde48f3c",
      "metadata": {
        "id": "cde48f3c"
      },
      "outputs": [],
      "source": [
        "#dropping null values\n",
        "df = df.dropna()"
      ]
    },
    {
      "cell_type": "code",
      "execution_count": null,
      "id": "77181b21",
      "metadata": {
        "colab": {
          "base_uri": "https://localhost:8080/"
        },
        "id": "77181b21",
        "outputId": "ab43d2ce-09a3-47c4-f15b-ca2d3aa3e869"
      },
      "outputs": [
        {
          "output_type": "execute_result",
          "data": {
            "text/plain": [
              "ID                   0\n",
              "ASIN                 0\n",
              "title                0\n",
              "group                0\n",
              "salesrank            0\n",
              "num_categories       0\n",
              "totalreviews         0\n",
              "downloadedreviews    0\n",
              "avg_rating           0\n",
              "dtype: int64"
            ]
          },
          "metadata": {},
          "execution_count": 22
        }
      ],
      "source": [
        "df.isnull().sum()"
      ]
    },
    {
      "cell_type": "code",
      "execution_count": null,
      "id": "24e60de1",
      "metadata": {
        "colab": {
          "base_uri": "https://localhost:8080/"
        },
        "id": "24e60de1",
        "outputId": "54226ced-c9ee-43ab-9a7b-72cbc6a0f417"
      },
      "outputs": [
        {
          "output_type": "execute_result",
          "data": {
            "text/plain": [
              "Book            393559\n",
              "Music           103144\n",
              "Video            26131\n",
              "DVD              19828\n",
              "Toy                  8\n",
              "Software             5\n",
              "CE                   4\n",
              "Video Games          1\n",
              "Baby Product         1\n",
              "Sports               1\n",
              "Name: group, dtype: int64"
            ]
          },
          "metadata": {},
          "execution_count": 23
        }
      ],
      "source": [
        "df['group'].value_counts()"
      ]
    },
    {
      "cell_type": "code",
      "execution_count": null,
      "id": "52d04f77",
      "metadata": {
        "colab": {
          "base_uri": "https://localhost:8080/",
          "height": 320
        },
        "id": "52d04f77",
        "outputId": "bb8654bf-c2a1-468d-fda3-ce05d6eb7e56"
      },
      "outputs": [
        {
          "output_type": "execute_result",
          "data": {
            "text/plain": [
              "   ID        ASIN                                             title group  \\\n",
              "0   1  0827229534                             Patterns of Preaching  Book   \n",
              "1   2  0738700797                                         Candlemas  Book   \n",
              "2   3  0486287785  World War II Allied Fighter Planes Trading Cards  Book   \n",
              "3   4  0842328327                 Life Application Bible Commentary  Book   \n",
              "4   5  1577943082              Prayers That Avail Much for Business  Book   \n",
              "\n",
              "   salesrank  num_categories  totalreviews  downloadedreviews  avg_rating  \n",
              "0     396585               2             2                  2         5.0  \n",
              "1     168596               2            12                 12         4.5  \n",
              "2    1270652               1             1                  1         5.0  \n",
              "3     631289               5             1                  1         4.0  \n",
              "4     455160               2             0                  0         0.0  "
            ],
            "text/html": [
              "\n",
              "  <div id=\"df-f610d24a-1bbf-4322-acfb-d74e96fef057\">\n",
              "    <div class=\"colab-df-container\">\n",
              "      <div>\n",
              "<style scoped>\n",
              "    .dataframe tbody tr th:only-of-type {\n",
              "        vertical-align: middle;\n",
              "    }\n",
              "\n",
              "    .dataframe tbody tr th {\n",
              "        vertical-align: top;\n",
              "    }\n",
              "\n",
              "    .dataframe thead th {\n",
              "        text-align: right;\n",
              "    }\n",
              "</style>\n",
              "<table border=\"1\" class=\"dataframe\">\n",
              "  <thead>\n",
              "    <tr style=\"text-align: right;\">\n",
              "      <th></th>\n",
              "      <th>ID</th>\n",
              "      <th>ASIN</th>\n",
              "      <th>title</th>\n",
              "      <th>group</th>\n",
              "      <th>salesrank</th>\n",
              "      <th>num_categories</th>\n",
              "      <th>totalreviews</th>\n",
              "      <th>downloadedreviews</th>\n",
              "      <th>avg_rating</th>\n",
              "    </tr>\n",
              "  </thead>\n",
              "  <tbody>\n",
              "    <tr>\n",
              "      <th>0</th>\n",
              "      <td>1</td>\n",
              "      <td>0827229534</td>\n",
              "      <td>Patterns of Preaching</td>\n",
              "      <td>Book</td>\n",
              "      <td>396585</td>\n",
              "      <td>2</td>\n",
              "      <td>2</td>\n",
              "      <td>2</td>\n",
              "      <td>5.0</td>\n",
              "    </tr>\n",
              "    <tr>\n",
              "      <th>1</th>\n",
              "      <td>2</td>\n",
              "      <td>0738700797</td>\n",
              "      <td>Candlemas</td>\n",
              "      <td>Book</td>\n",
              "      <td>168596</td>\n",
              "      <td>2</td>\n",
              "      <td>12</td>\n",
              "      <td>12</td>\n",
              "      <td>4.5</td>\n",
              "    </tr>\n",
              "    <tr>\n",
              "      <th>2</th>\n",
              "      <td>3</td>\n",
              "      <td>0486287785</td>\n",
              "      <td>World War II Allied Fighter Planes Trading Cards</td>\n",
              "      <td>Book</td>\n",
              "      <td>1270652</td>\n",
              "      <td>1</td>\n",
              "      <td>1</td>\n",
              "      <td>1</td>\n",
              "      <td>5.0</td>\n",
              "    </tr>\n",
              "    <tr>\n",
              "      <th>3</th>\n",
              "      <td>4</td>\n",
              "      <td>0842328327</td>\n",
              "      <td>Life Application Bible Commentary</td>\n",
              "      <td>Book</td>\n",
              "      <td>631289</td>\n",
              "      <td>5</td>\n",
              "      <td>1</td>\n",
              "      <td>1</td>\n",
              "      <td>4.0</td>\n",
              "    </tr>\n",
              "    <tr>\n",
              "      <th>4</th>\n",
              "      <td>5</td>\n",
              "      <td>1577943082</td>\n",
              "      <td>Prayers That Avail Much for Business</td>\n",
              "      <td>Book</td>\n",
              "      <td>455160</td>\n",
              "      <td>2</td>\n",
              "      <td>0</td>\n",
              "      <td>0</td>\n",
              "      <td>0.0</td>\n",
              "    </tr>\n",
              "  </tbody>\n",
              "</table>\n",
              "</div>\n",
              "      <button class=\"colab-df-convert\" onclick=\"convertToInteractive('df-f610d24a-1bbf-4322-acfb-d74e96fef057')\"\n",
              "              title=\"Convert this dataframe to an interactive table.\"\n",
              "              style=\"display:none;\">\n",
              "        \n",
              "  <svg xmlns=\"http://www.w3.org/2000/svg\" height=\"24px\"viewBox=\"0 0 24 24\"\n",
              "       width=\"24px\">\n",
              "    <path d=\"M0 0h24v24H0V0z\" fill=\"none\"/>\n",
              "    <path d=\"M18.56 5.44l.94 2.06.94-2.06 2.06-.94-2.06-.94-.94-2.06-.94 2.06-2.06.94zm-11 1L8.5 8.5l.94-2.06 2.06-.94-2.06-.94L8.5 2.5l-.94 2.06-2.06.94zm10 10l.94 2.06.94-2.06 2.06-.94-2.06-.94-.94-2.06-.94 2.06-2.06.94z\"/><path d=\"M17.41 7.96l-1.37-1.37c-.4-.4-.92-.59-1.43-.59-.52 0-1.04.2-1.43.59L10.3 9.45l-7.72 7.72c-.78.78-.78 2.05 0 2.83L4 21.41c.39.39.9.59 1.41.59.51 0 1.02-.2 1.41-.59l7.78-7.78 2.81-2.81c.8-.78.8-2.07 0-2.86zM5.41 20L4 18.59l7.72-7.72 1.47 1.35L5.41 20z\"/>\n",
              "  </svg>\n",
              "      </button>\n",
              "      \n",
              "  <style>\n",
              "    .colab-df-container {\n",
              "      display:flex;\n",
              "      flex-wrap:wrap;\n",
              "      gap: 12px;\n",
              "    }\n",
              "\n",
              "    .colab-df-convert {\n",
              "      background-color: #E8F0FE;\n",
              "      border: none;\n",
              "      border-radius: 50%;\n",
              "      cursor: pointer;\n",
              "      display: none;\n",
              "      fill: #1967D2;\n",
              "      height: 32px;\n",
              "      padding: 0 0 0 0;\n",
              "      width: 32px;\n",
              "    }\n",
              "\n",
              "    .colab-df-convert:hover {\n",
              "      background-color: #E2EBFA;\n",
              "      box-shadow: 0px 1px 2px rgba(60, 64, 67, 0.3), 0px 1px 3px 1px rgba(60, 64, 67, 0.15);\n",
              "      fill: #174EA6;\n",
              "    }\n",
              "\n",
              "    [theme=dark] .colab-df-convert {\n",
              "      background-color: #3B4455;\n",
              "      fill: #D2E3FC;\n",
              "    }\n",
              "\n",
              "    [theme=dark] .colab-df-convert:hover {\n",
              "      background-color: #434B5C;\n",
              "      box-shadow: 0px 1px 3px 1px rgba(0, 0, 0, 0.15);\n",
              "      filter: drop-shadow(0px 1px 2px rgba(0, 0, 0, 0.3));\n",
              "      fill: #FFFFFF;\n",
              "    }\n",
              "  </style>\n",
              "\n",
              "      <script>\n",
              "        const buttonEl =\n",
              "          document.querySelector('#df-f610d24a-1bbf-4322-acfb-d74e96fef057 button.colab-df-convert');\n",
              "        buttonEl.style.display =\n",
              "          google.colab.kernel.accessAllowed ? 'block' : 'none';\n",
              "\n",
              "        async function convertToInteractive(key) {\n",
              "          const element = document.querySelector('#df-f610d24a-1bbf-4322-acfb-d74e96fef057');\n",
              "          const dataTable =\n",
              "            await google.colab.kernel.invokeFunction('convertToInteractive',\n",
              "                                                     [key], {});\n",
              "          if (!dataTable) return;\n",
              "\n",
              "          const docLinkHtml = 'Like what you see? Visit the ' +\n",
              "            '<a target=\"_blank\" href=https://colab.research.google.com/notebooks/data_table.ipynb>data table notebook</a>'\n",
              "            + ' to learn more about interactive tables.';\n",
              "          element.innerHTML = '';\n",
              "          dataTable['output_type'] = 'display_data';\n",
              "          await google.colab.output.renderOutput(dataTable, element);\n",
              "          const docLink = document.createElement('div');\n",
              "          docLink.innerHTML = docLinkHtml;\n",
              "          element.appendChild(docLink);\n",
              "        }\n",
              "      </script>\n",
              "    </div>\n",
              "  </div>\n",
              "  "
            ]
          },
          "metadata": {},
          "execution_count": 24
        }
      ],
      "source": [
        "df.head()"
      ]
    },
    {
      "cell_type": "code",
      "execution_count": null,
      "id": "e0ace1b6",
      "metadata": {
        "id": "e0ace1b6"
      },
      "outputs": [],
      "source": [
        "#Indexig the graph on the attribute 'ID'\n",
        "df = df.set_index('ID')"
      ]
    },
    {
      "cell_type": "code",
      "source": [
        "df.to_csv(index=False)"
      ],
      "metadata": {
        "id": "-oHpxynjRepV"
      },
      "id": "-oHpxynjRepV",
      "execution_count": null,
      "outputs": []
    },
    {
      "cell_type": "code",
      "execution_count": null,
      "id": "3f5f5b22",
      "metadata": {
        "id": "3f5f5b22"
      },
      "outputs": [],
      "source": [
        "#attributes that each nodes will have data for\n",
        "nodeattrdf = df[['ASIN','title','group', 'num_categories','salesrank', 'totalreviews', 'downloadedreviews', 'avg_rating']].copy()"
      ]
    },
    {
      "cell_type": "code",
      "execution_count": null,
      "id": "0a7b9e22",
      "metadata": {
        "id": "0a7b9e22"
      },
      "outputs": [],
      "source": [
        "#combining the transaction data and the metadata into a networkX graph\n",
        "nx.set_node_attributes(G, nodeattrdf.to_dict('index'))"
      ]
    },
    {
      "cell_type": "code",
      "execution_count": null,
      "id": "c8a625f2",
      "metadata": {
        "colab": {
          "base_uri": "https://localhost:8080/"
        },
        "id": "c8a625f2",
        "outputId": "4637fca4-0eea-4865-8dc9-5ed5f8fa0c5d"
      },
      "outputs": [
        {
          "output_type": "execute_result",
          "data": {
            "text/plain": [
              "{'ASIN': '0231118597',\n",
              " 'avg_rating': 4.5,\n",
              " 'downloadedreviews': 15,\n",
              " 'group': 'Book',\n",
              " 'num_categories': 4,\n",
              " 'salesrank': 277409,\n",
              " 'title': 'Losing Matt Shepard',\n",
              " 'totalreviews': 15}"
            ]
          },
          "metadata": {},
          "execution_count": 28
        }
      ],
      "source": [
        "G.nodes[8]"
      ]
    },
    {
      "cell_type": "code",
      "execution_count": null,
      "id": "85c12cb3",
      "metadata": {
        "id": "85c12cb3"
      },
      "outputs": [],
      "source": [
        "#Empty nodes/Disjoint nodes do not contribute significantly when recommended products\n",
        "#They have been removed\n",
        "remove = [nodes for nodes in dict(G.nodes()) if len(G.nodes[nodes]) == 0]"
      ]
    },
    {
      "cell_type": "code",
      "execution_count": null,
      "id": "a4ee8862",
      "metadata": {
        "id": "a4ee8862"
      },
      "outputs": [],
      "source": [
        "G.remove_nodes_from(remove)"
      ]
    },
    {
      "cell_type": "code",
      "source": [
        "#remove"
      ],
      "metadata": {
        "id": "W1Wilbct8-IL"
      },
      "id": "W1Wilbct8-IL",
      "execution_count": null,
      "outputs": []
    },
    {
      "cell_type": "code",
      "execution_count": null,
      "id": "233ed40e",
      "metadata": {
        "id": "233ed40e"
      },
      "outputs": [],
      "source": [
        "#Here, n is the array of all non-deleted nodes in the graph\n",
        "n = list(G.nodes)"
      ]
    },
    {
      "cell_type": "code",
      "execution_count": null,
      "id": "de2d7f5b",
      "metadata": {
        "id": "de2d7f5b"
      },
      "outputs": [],
      "source": [
        "n =  np.array(n)\n",
        "n = np.unique(n)"
      ]
    },
    {
      "cell_type": "code",
      "execution_count": null,
      "id": "5ba003cd",
      "metadata": {
        "colab": {
          "base_uri": "https://localhost:8080/"
        },
        "id": "5ba003cd",
        "outputId": "82741e18-4a91-4a7e-9bbb-ae1be408c10c"
      },
      "outputs": [
        {
          "output_type": "execute_result",
          "data": {
            "text/plain": [
              "array([     1,      2,      3, ..., 403391, 403392, 403393])"
            ]
          },
          "metadata": {},
          "execution_count": 34
        }
      ],
      "source": [
        "n"
      ]
    },
    {
      "cell_type": "code",
      "execution_count": null,
      "id": "c15aacee",
      "metadata": {
        "id": "c15aacee"
      },
      "outputs": [],
      "source": [
        "#to retrive all target nodes from the edges starting from the source\n",
        "def getclean(pro_id):    \n",
        "    l = str(list(G.edges(pro_id)))\n",
        "    l = l.replace('[','')\n",
        "    l = l.replace(']','')\n",
        "    l = l.replace(',','')\n",
        "    l = l.replace('(','')\n",
        "    l = l.replace(')','')\n",
        "    l = l.replace(str(pro_id)+\" \", '')\n",
        "    b = l.split()\n",
        "    b = np.array(b)\n",
        "    b = b.astype(int)\n",
        "    return b"
      ]
    },
    {
      "cell_type": "code",
      "source": [
        "G.edges(5)"
      ],
      "metadata": {
        "colab": {
          "base_uri": "https://localhost:8080/"
        },
        "id": "watyxZORSOLB",
        "outputId": "b9330442-051b-4340-ba00-6b8bdbab0194"
      },
      "id": "watyxZORSOLB",
      "execution_count": null,
      "outputs": [
        {
          "output_type": "execute_result",
          "data": {
            "text/plain": [
              "OutEdgeDataView([(5, 6), (5, 44), (5, 46), (5, 47), (5, 48), (5, 49), (5, 50), (5, 51), (5, 52), (5, 53)])"
            ]
          },
          "metadata": {},
          "execution_count": 36
        }
      ]
    },
    {
      "cell_type": "code",
      "source": [
        "getclean(5)"
      ],
      "metadata": {
        "colab": {
          "base_uri": "https://localhost:8080/"
        },
        "id": "nYJXKrDmULVm",
        "outputId": "77eeff65-b36d-4e5c-8583-f5400887c153"
      },
      "id": "nYJXKrDmULVm",
      "execution_count": null,
      "outputs": [
        {
          "output_type": "execute_result",
          "data": {
            "text/plain": [
              "array([ 6, 44, 46, 47, 48, 49, 50, 51, 52, 53])"
            ]
          },
          "metadata": {},
          "execution_count": 37
        }
      ]
    },
    {
      "cell_type": "code",
      "source": [
        "#Function for user to search for a product\n",
        "#Implemented in API\n",
        "def search(s):\n",
        "  s = s.lower()\n",
        "  indx = df.index[(df['title'].str.contains(s, case = False))==True]   \n",
        "  indx = np.array(indx)\n",
        "  indx = indx.astype(int)\n",
        "  return indx\n",
        "  "
      ],
      "metadata": {
        "id": "_epelfQ_mO9I"
      },
      "id": "_epelfQ_mO9I",
      "execution_count": null,
      "outputs": []
    },
    {
      "cell_type": "code",
      "source": [
        "#storing array of indexes in iarray\n",
        "iarray = search(str(input()))"
      ],
      "metadata": {
        "colab": {
          "base_uri": "https://localhost:8080/"
        },
        "id": "S5ywqUt1qFV-",
        "outputId": "50e90c7b-950f-45f6-ec91-3ac3573f533d"
      },
      "id": "S5ywqUt1qFV-",
      "execution_count": null,
      "outputs": [
        {
          "name": "stdout",
          "output_type": "stream",
          "text": [
            "34\n"
          ]
        }
      ]
    },
    {
      "cell_type": "code",
      "source": [
        "\n",
        "len(iarray)"
      ],
      "metadata": {
        "colab": {
          "base_uri": "https://localhost:8080/"
        },
        "id": "g9hQZQfHssMS",
        "outputId": "0118c05f-2467-4623-fa9b-98751b238ad3"
      },
      "id": "g9hQZQfHssMS",
      "execution_count": null,
      "outputs": [
        {
          "output_type": "execute_result",
          "data": {
            "text/plain": [
              "165"
            ]
          },
          "metadata": {},
          "execution_count": 40
        }
      ]
    },
    {
      "cell_type": "code",
      "source": [
        "for i in range(0, len(iarray)):\n",
        "  if(iarray[i] in n):\n",
        "    print(iarray[i], G.nodes[iarray[i]]['title'])"
      ],
      "metadata": {
        "id": "gWjqZxtwnG7P",
        "colab": {
          "base_uri": "https://localhost:8080/"
        },
        "outputId": "66ce4fac-859e-44fa-83e5-f157a3baff2b"
      },
      "id": "gWjqZxtwnG7P",
      "execution_count": null,
      "outputs": [
        {
          "output_type": "stream",
          "name": "stdout",
          "text": [
            "1671 Michelin London Mini-Spiral Atlas No. 2034 (Michelin Maps & Atlases)\n",
            "12168 Beneath A Texas Sky (Count On A Cop) (Harlequin Superromance, No. 1034)\n",
            "12186 Miracle on 34th Street\n",
            "12495 Lew Hunter's Screenwriting 434 (Lew Hunter's Screenwriting 434)\n",
            "13949 The Best Fake Book Ever -- C Instruments (2nd Ed.) -- 3rd Ed. Now Available ISBN# 0634034243\n",
            "18278 Anne of Green Gables (Classic 1934)\n",
            "19384 The Waffen-SS (Men at Arms Series, 34)\n",
            "25907 Voyage 34\n",
            "30752 Race and Crime (Patterson Smith Reprint Series in Criminology, Law Enforcement, and Social Problems, No. 34)\n",
            "34206 ISO 13485 (EN 46000) Requirements, 99 Requirements Checklist and Compliance Guide\n",
            "37349 Star Trek - Voyager, Episode 34\n",
            "44288 Developmentally Appropriate Practice in Early Childhood Programs (Naeyc (Series), #234.)\n",
            "57801 The Hyperion Schubert Edition 34 - \"A Voyage of Discovery\"\n",
            "58603 George Romney, 1734-1802\n",
            "63644 Airbus A340 and A330 (Jetliner History)\n",
            "64209 1926-1934\n",
            "68455 The Best 345 Colleges, 2003 Edition (Princeton Review Series)\n",
            "71182 One Wedding Night... (Silhouette Desire, No. 1434)\n",
            "76387 The Canadian Frontier, 1534-1760 (Histories of the American Frontier (Paperback))\n",
            "82487 Miracle on 34th Street\n",
            "82510 Collected Works of Lysander Spooner (34 works/6 volumes)\n",
            "82540 Decorate a Pumpkin with 34 Stickers (Dover Little Activity Books)\n",
            "83523 The Dakota or Sioux in Minnesota As They Were in 1834 (Borealis Books)\n",
            "84846 Personnel Analyst (The Passbook Series. Passbooks for Career Opportunities ; C-2344)\n",
            "85706 Top Tunes Karaoke CDG The 80's FunPack TTFP-33&34 (Vol. 1)\n",
            "86733 New Adventures of Mary-Kate & Ashley #34\n",
            "93127 Electrode Dynamics (Oxford Chemistry Primers , No 34)\n",
            "95075 Genders, Races, and Religious Cultures in Modern American Poetry, 1908-1934 (Cambridge Studies in American Literature and Culture)\n",
            "95417 The Diary Of Anais Nin, Volume 2 (1934-1939)\n",
            "97681 Gayellow Pages East & South #34 2001\n",
            "98850 Miracle on 34th Street\n",
            "99602 Miracle on 34th Street\n",
            "111087 Bsk #34\n",
            "111633 On Bearing Unbearable States of Mind (New Library of Psychoanalysis, 34)\n",
            "122049 Queer Commentary and the Hebrew Bible (Journal for the Study of the Old Testament. Supplement Series, 334)\n",
            "122534 Applications of Inductively Coupled Plasma-Mass Spectrometry to Radionuclide Determinations (Stp, 1344, Vol 2)\n",
            "126485 The Official LSAT Preptest 34\n",
            "127082 North America XB-70A Valkyrie (Volume 34)\n",
            "127944 Crecy 1346\n",
            "128313 Crecy 1346\n",
            "143899 34th Publication Design Annual\n",
            "147168 The T-34 Russian Battle Tank\n",
            "151601 1934-1940\n",
            "154483 Star Trek - The Next Generation, Episode 134\n",
            "154637 Travels in the Interiors of North America 1832-1834\n",
            "155924 Dragon Ball Z - Namek  (Vol. 11)(Episodes 32-34)\n",
            "162002 Sheikh'S Reward (Romance, 3634)\n",
            "164970 Word Biblical Commentary Vol. 28, Ezekiel 1-19  (allen), 346pp\n",
            "167921 Thoroughbred #34 On the Track (Thoroughbred)\n",
            "168497 Miracle on 34th Street\n",
            "170970 Blue Steel (1934)\n",
            "171231 Freddie King (1934-1976)\n",
            "180206 The 34th Rule (Star Trek\n",
            "188056 Italian Aces of World War 2 (Osprey Aircraft of the Aces No 34)\n",
            "188092 Bachem Ba 349 Natter\n",
            "195937 The Big Book of Little Ribbon Embroidery Designs (3411)\n",
            "196679 The 34th Annual Ryder Cup 2002\n",
            "201149 345 Solved Seismic Design Problems (4th Edition)\n",
            "202062 Dames (1934 Film) / San Francisco (1936 Film) / Suzy (1936 Film) [3 on 1]\n",
            "204434 Sheikh'S Woman (Body & Soul) (Silhouette Desire, 1341)\n",
            "206466 Continuous Time Sigma Delta Modulation for A/d Conversion in Radio Receivers Volume 634 (The Kluwer International Series in Engineering and Computer Science)\n",
            "211745 How to Design and Build Children's Play Equipment/05934 (Ortho Books)\n",
            "215616 Drama Classics Triple Feature, Vol. 2 (The Black Pirate / The Scarlet Pimpernel (1934) / The Iron Mask)\n",
            "216384 Laborer (Srs C 434)\n",
            "217209 T-34-85 Medium Tank 1944-1994 (New Vanguard , No 20)\n",
            "219254 Slow Fever (Freedom Valley) (Silhoutte Desire, No 1334)\n",
            "225354 The United States Occupation of Haiti, 1915-1934\n",
            "229867 U-234-Hitler's Last U-Boat\n",
            "229952 The Official 2002 Blackbook Price Guide to U.S. Paper Money, 34th Edition (Official Blackbook Price Guide of United States Paper Money)\n",
            "232424 Word Biblical Commentary Vol. 34b, Mark 8\n",
            "233104 Complete Recorded Works, Vol. 6 (1934-35)\n",
            "239999 ISO 13485 (EN 46000) In Our Company, Self-Study Course for Personnel\n",
            "242725 W. Eugene Smith Photographs 1934-1975\n",
            "243971 Asymptotic Approximations of Integrals (Classics in Applied Mathematics, 34)\n",
            "244526 Sensual Secrets (Blaze, 34)\n",
            "249891 The Trailsman 234\n",
            "249984 A Narrative of Events, Since the First of August, 1834 (Latin America Otherwise)\n",
            "250590 A Christmas Carol / Miracle on 34th Street\n",
            "252328 T-34/76 & T-34/85\n",
            "252788 Star Trek - The Original Series, Vol. 34, Episodes 67 & 68\n",
            "256279 Babes in Toyland (1934 Film)\n",
            "263231 Animorphs #34\n",
            "266697 GAAP For Governments Field Guide 2001-2002 Including GASB 34\n",
            "270593 Star Trek - The Next Generation, Episode 34\n",
            "275102 Miracle on 34th Street\n",
            "275106 Miracle on 34th Street\n",
            "282873 Hank the Cowdog 34\n",
            "282906 Star Trek - The Original Series, Episode 34\n",
            "283120 Airbus A340 (ABC Airliner)\n",
            "283537 The Golden Years 1934-1954\n",
            "285175 Star Packer/Blue Steel (1934)\n",
            "287836 It's a Wonderful Life/Miracle on 34th Street\n",
            "288130 Complete Recorded Works, Vol. 3 (1934-1935)\n",
            "293004 The Mona Lucy (Silhouette Special Edition No. 1534) (the Foxes series)\n",
            "293137 Revenge of the Lawn Gnomes (Goosebumps #34)\n",
            "293967 Applying Fasb Statement No 34 to Oil and Gas Producing Operations Accounted for by the Full Cost Method\n",
            "303613 Planning & Planting a Moon Garden (Storey Country Wisdom Bulletin, a-234)\n",
            "312094 A History of Japan, 1334-1615\n",
            "314912 Locked in the Attic(Sugar Creek Gang, Vol. 34)\n",
            "318877 Raw Vision Magazine #34\n",
            "321604 Michelin Aquitaine, France Map No. 234 (Michelin Maps & Atlases)\n",
            "324033 Treasury of Novenas/No. 345/22\n",
            "324522 English Law in the Age of the Black Death, 1348-1381\n",
            "325226 Lecuona Cuban Boys, Vol. 3 (1934-1942)\n",
            "328715 When I Was a German, 1934-1945\n",
            "336926 Dreams of the Raven (Star Trek, No 34)\n",
            "337452 Chief Housekeeper (Career Examination Series C-3432)\n",
            "341656 Michelin London Street Map No. 34 (Michelin Maps & Atlases)\n",
            "343771 What Holly Heard (Fear Street #34)\n",
            "346980 Jose Clemente Orozco in the United States, 1927-1934\n",
            "347010 Classic Early Solos (1934-1937)\n",
            "349474 Authorized International Edition of the Soyuzmultfilm Library (in Russian) Vol 34\n",
            "349606 Visionaire 34\n",
            "349674 The Russian Avant-Garde Book 1910-1934\n",
            "357740 Hal Kemp & His Orchestra 1934 & 1936\n",
            "360244 Ephesians 1-3 (Anchor Bible Volume 34)\n",
            "360256 A History of Japan to 1334\n",
            "364800 It's a Wonderful Life / Miracle on 34th Street\n",
            "366048 The Domestic Affections, 1812 (Revolution and Romanticism, 1789-1834)\n",
            "367519 Chardon's Journal at Fort Clark 1834-1839\n",
            "369547 A Bill of Rights for Future Generations (Proceedings, No 34)\n",
            "371198 A Journey into Mohawk and Oneida Country, 1634-1635\n",
            "376932 Little Orphan Annie, 1934\n",
            "384633 Edith Piaf Song Collection (Product No. 50481348)\n",
            "388979 Alexander 334-323 Bc\n",
            "399238 Collected Poems of Dylan Thomas 1934-1952 (New Directions Book)\n",
            "399918 Kovels' Antiques and Collectibles Price List 2002, 34th Edition (Kovels' Antiques & Collectibles Price List)\n"
          ]
        }
      ]
    },
    {
      "cell_type": "code",
      "execution_count": null,
      "id": "df1f9185",
      "metadata": {
        "colab": {
          "base_uri": "https://localhost:8080/"
        },
        "id": "df1f9185",
        "outputId": "73b781a9-1992-4033-e8fb-c0c62558eaef"
      },
      "outputs": [
        {
          "output_type": "stream",
          "name": "stdout",
          "text": [
            "34\n",
            "Selected product is 34\n"
          ]
        }
      ],
      "source": [
        "#product id of the product bought by user\n",
        "tempinput = int(input())\n",
        "if(tempinput in n):\n",
        "  pro_id = tempinput\n",
        "  print(\"Selected product is\", pro_id)\n",
        "else:\n",
        "  print(\"Empty node has been removed from the graph!\")"
      ]
    },
    {
      "cell_type": "code",
      "execution_count": null,
      "id": "0f82930d",
      "metadata": {
        "id": "0f82930d"
      },
      "outputs": [],
      "source": [
        "#finalresult denotes all the connected edges to the source(source is product selected)\n",
        "finalresult = []\n",
        "resultarray = np.unique(getclean(pro_id))\n",
        "for i in range(1, len(resultarray)):\n",
        "    if(resultarray[i] in n):\n",
        "        finalresult.append(resultarray[i])"
      ]
    },
    {
      "cell_type": "code",
      "execution_count": null,
      "id": "7a69f129",
      "metadata": {
        "colab": {
          "base_uri": "https://localhost:8080/"
        },
        "id": "7a69f129",
        "outputId": "3d1ab718-a3f9-4956-bb1d-a8ba52a1d541"
      },
      "outputs": [
        {
          "output_type": "execute_result",
          "data": {
            "text/plain": [
              "9"
            ]
          },
          "metadata": {},
          "execution_count": 44
        }
      ],
      "source": [
        "len(finalresult)"
      ]
    },
    {
      "cell_type": "code",
      "execution_count": null,
      "id": "83704f85",
      "metadata": {
        "id": "83704f85"
      },
      "outputs": [],
      "source": [
        "#function to display titles\n",
        "def showtitles(array):\n",
        "    titles = []\n",
        "    for i in range(len(array)):\n",
        "        titles.append(G.nodes[array[i]]['title'])\n",
        "    return titles\n",
        "    \n",
        "    \n",
        "    "
      ]
    },
    {
      "cell_type": "code",
      "source": [
        "#function to display ASIN numbers\n",
        "def showasin(array):\n",
        "    asins = []\n",
        "    for i in range(len(array)):\n",
        "        asins.append(G.nodes[array[i]]['ASIN'])\n",
        "    asins = np.array(asins)\n",
        "    #asins = asins.astype(int)\n",
        "    return asins"
      ],
      "metadata": {
        "id": "UsicXyZM-mWy"
      },
      "id": "UsicXyZM-mWy",
      "execution_count": null,
      "outputs": []
    },
    {
      "cell_type": "code",
      "execution_count": null,
      "id": "05af53c5",
      "metadata": {
        "colab": {
          "base_uri": "https://localhost:8080/"
        },
        "id": "05af53c5",
        "outputId": "958659ef-36f3-44be-e7f0-51a17b54ed35"
      },
      "outputs": [
        {
          "output_type": "stream",
          "name": "stdout",
          "text": [
            "Southern By the Grace of God \n",
            "\n",
            "\n",
            " ['Uists & Barra (Pevensey Island guides)', \"The NBA's 100 Greatest Plays\", 'Puddnhead Wilson', 'The Best of Schoolhouse Rock! - 30th Anniversary Edition', 'Amamantar Sencillo y Puro', 'Desde Que Samba E Samba', 'Learning in Overdrive', 'Filtrations on the Homology of Algebraic Varieties (Memoirs of the American Mathematical Society, 529)', 'Public Life in Renaissance Florence (Cornell Paperbacks)']\n"
          ]
        }
      ],
      "source": [
        "t = showtitles(finalresult)\n",
        "print(G.nodes[pro_id]['title'],\"\\n\\n\\n\", t)"
      ]
    },
    {
      "cell_type": "code",
      "execution_count": null,
      "id": "bb9c6411",
      "metadata": {
        "id": "bb9c6411"
      },
      "outputs": [],
      "source": [
        "#Function to retrive a subset of the dictionary(i.e the features we are concerned with)\n",
        "def getsubdict(d):\n",
        "    required_keys = ('group' ,'num_categories', 'totalreviews', 'downloadedreviews', 'avg_rating')\n",
        "    subdict = {x: d[x] for x in required_keys if x in d}\n",
        "    return subdict\n",
        "    \n"
      ]
    },
    {
      "cell_type": "markdown",
      "source": [
        "Here, our initial approach was to calculate Correlation and Cosine similarities between the features of the two nodes to determine the \"weight\", or how similar they were. \n",
        "However, that approach was erroneous. Correlation implies that a product with high salesrank will be highly correlated with a product with high salesrank. But, Low salesrank is desirable. \n",
        "\n",
        "Hence, we moved to a new metric - Jaccard Index.\n",
        "\n",
        "Jaccard index is a metric that is a a function of number of nodes, not node attributes. Hence, it serves out purpose."
      ],
      "metadata": {
        "id": "L_IVVyrvBVlR"
      },
      "id": "L_IVVyrvBVlR"
    },
    {
      "cell_type": "code",
      "execution_count": null,
      "id": "7febbcd4",
      "metadata": {
        "id": "7febbcd4"
      },
      "outputs": [],
      "source": [
        "# def gethighestcorr(pro_id, finalresult, metric):  \n",
        "#     corrdict = {}\n",
        "#     cosdict = {}   \n",
        "#     selarray = np.array(list(getsubdict(G.nodes[pro_id]).values()))\n",
        "#     selarray = selarray.astype(float)\n",
        "#     for i in range(1,len(finalresult)):\n",
        "#         comparray = np.array(list(getsubdict(G.nodes[finalresult[i]]).values()))\n",
        "#         comparray = comparray.astype(float)        \n",
        "#         if(pro_id != i):\n",
        "#             cosineval = cosine_similarity([selarray], [comparray])[0][0]\n",
        "#             cosdict[finalresult[i]] = cosineval\n",
        "#             corr = np.corrcoef(selarray, comparray)[0][1]\n",
        "#             corrdict[finalresult[i]] = corr               \n",
        "#     corrdict = dict(sorted(corrdict.items(), key=lambda item: item[1], reverse = True))\n",
        "#     cosdict = dict(sorted(cosdict.items(), key=lambda item: item[1], reverse = True))\n",
        "#     print(corrdict, cosdict)\n",
        "#     if(metric == 'corr'):\n",
        "#       return corrdict\n",
        "#     elif(metric == 'cosine'):\n",
        "#       return cosdict\n",
        "    "
      ]
    },
    {
      "cell_type": "code",
      "execution_count": null,
      "id": "c863a1ae",
      "metadata": {
        "id": "c863a1ae"
      },
      "outputs": [],
      "source": [
        "# metric = input()\n",
        "# finaldict = gethighestcorr(pro_id, finalresult, metric)"
      ]
    },
    {
      "cell_type": "code",
      "source": [
        "# len(finaldict)"
      ],
      "metadata": {
        "id": "l5pykBRH9UiP"
      },
      "id": "l5pykBRH9UiP",
      "execution_count": null,
      "outputs": []
    },
    {
      "cell_type": "code",
      "execution_count": null,
      "id": "cadf1ea3",
      "metadata": {
        "id": "cadf1ea3"
      },
      "outputs": [],
      "source": [
        "# top5 = np.array(list(finaldict.keys()))[:5]"
      ]
    },
    {
      "cell_type": "code",
      "execution_count": null,
      "id": "e5c2d38d",
      "metadata": {
        "id": "e5c2d38d"
      },
      "outputs": [],
      "source": [
        "# top5"
      ]
    },
    {
      "cell_type": "code",
      "execution_count": null,
      "id": "5655d9cc",
      "metadata": {
        "id": "5655d9cc"
      },
      "outputs": [],
      "source": [
        "# showtitles(top5)"
      ]
    },
    {
      "cell_type": "code",
      "source": [
        "# showasin(top5)"
      ],
      "metadata": {
        "id": "ZoD5F43U8A7t"
      },
      "id": "ZoD5F43U8A7t",
      "execution_count": null,
      "outputs": []
    },
    {
      "cell_type": "code",
      "source": [
        "# arr1 = np.append(top5, pro_id)\n",
        "\n",
        "# finalresult = np.array(finalresult)\n",
        "# diff = np.setdiff1d(finalresult, top5)\n",
        "# arr2 = np.append(diff,pro_id)"
      ],
      "metadata": {
        "id": "V7mHBGpki7eG"
      },
      "id": "V7mHBGpki7eG",
      "execution_count": null,
      "outputs": []
    },
    {
      "cell_type": "code",
      "source": [
        "# H = G.subgraph(arr1)\n",
        "# L = G.subgraph(arr2)"
      ],
      "metadata": {
        "id": "H6KuC641hrq5"
      },
      "id": "H6KuC641hrq5",
      "execution_count": null,
      "outputs": []
    },
    {
      "cell_type": "code",
      "source": [
        "# fig = plt.figure(1, figsize=(20, 10), dpi= 200)\n",
        "# nx.draw_networkx(H, with_labels = True, edge_color = 'r')\n",
        "# nx.draw_networkx(L, with_labels = True)"
      ],
      "metadata": {
        "id": "5L52vg7ChpZ7"
      },
      "id": "5L52vg7ChpZ7",
      "execution_count": null,
      "outputs": []
    },
    {
      "cell_type": "code",
      "source": [
        "# print(pro_id)"
      ],
      "metadata": {
        "id": "lB5oou3Vh25E"
      },
      "id": "lB5oou3Vh25E",
      "execution_count": null,
      "outputs": []
    },
    {
      "cell_type": "code",
      "source": [
        "# print(finalresult)"
      ],
      "metadata": {
        "id": "Bce38FF1jWVK"
      },
      "id": "Bce38FF1jWVK",
      "execution_count": null,
      "outputs": []
    },
    {
      "cell_type": "code",
      "source": [
        "# print(top5)"
      ],
      "metadata": {
        "id": "ohvwyZ4ijbOj"
      },
      "id": "ohvwyZ4ijbOj",
      "execution_count": null,
      "outputs": []
    },
    {
      "cell_type": "code",
      "source": [
        "# type(top5)"
      ],
      "metadata": {
        "id": "nnvvHllfo13D"
      },
      "id": "nnvvHllfo13D",
      "execution_count": null,
      "outputs": []
    },
    {
      "cell_type": "code",
      "source": [
        "#Saving the graph locally to implement efficiently in API\n",
        "nx.write_gpickle(G,'drive/MyDrive/BAJAJ/GNN_datasets/G.gpickle')"
      ],
      "metadata": {
        "id": "SyT8j9swo7Dx",
        "colab": {
          "base_uri": "https://localhost:8080/",
          "height": 329
        },
        "outputId": "de4d28be-5295-4208-f7ec-e24373150cf6"
      },
      "id": "SyT8j9swo7Dx",
      "execution_count": null,
      "outputs": [
        {
          "output_type": "error",
          "ename": "KeyboardInterrupt",
          "evalue": "ignored",
          "traceback": [
            "\u001b[0;31m---------------------------------------------------------------------------\u001b[0m",
            "\u001b[0;31mKeyboardInterrupt\u001b[0m                         Traceback (most recent call last)",
            "\u001b[0;32m<ipython-input-47-17d40a903cf7>\u001b[0m in \u001b[0;36m<module>\u001b[0;34m()\u001b[0m\n\u001b[1;32m      1\u001b[0m \u001b[0;31m#Saving the graph locally to implement efficiently in API\u001b[0m\u001b[0;34m\u001b[0m\u001b[0;34m\u001b[0m\u001b[0;34m\u001b[0m\u001b[0m\n\u001b[0;32m----> 2\u001b[0;31m \u001b[0mnx\u001b[0m\u001b[0;34m.\u001b[0m\u001b[0mwrite_gpickle\u001b[0m\u001b[0;34m(\u001b[0m\u001b[0mG\u001b[0m\u001b[0;34m,\u001b[0m\u001b[0;34m'drive/MyDrive/BAJAJ/GNN_datasets/G.gpickle'\u001b[0m\u001b[0;34m)\u001b[0m\u001b[0;34m\u001b[0m\u001b[0;34m\u001b[0m\u001b[0m\n\u001b[0m",
            "\u001b[0;32m/usr/local/lib/python3.7/dist-packages/networkx/utils/decorators.py\u001b[0m in \u001b[0;36mfunc\u001b[0;34m(_argmap__wrapper, *args, **kwargs)\u001b[0m\n\u001b[1;32m    793\u001b[0m \u001b[0;34m\u001b[0m\u001b[0m\n\u001b[1;32m    794\u001b[0m             \u001b[0;32mdef\u001b[0m \u001b[0mfunc\u001b[0m\u001b[0;34m(\u001b[0m\u001b[0;34m*\u001b[0m\u001b[0margs\u001b[0m\u001b[0;34m,\u001b[0m \u001b[0m__wrapper\u001b[0m\u001b[0;34m=\u001b[0m\u001b[0;32mNone\u001b[0m\u001b[0;34m,\u001b[0m \u001b[0;34m**\u001b[0m\u001b[0mkwargs\u001b[0m\u001b[0;34m)\u001b[0m\u001b[0;34m:\u001b[0m\u001b[0;34m\u001b[0m\u001b[0;34m\u001b[0m\u001b[0m\n\u001b[0;32m--> 795\u001b[0;31m                 \u001b[0;32mreturn\u001b[0m \u001b[0margmap\u001b[0m\u001b[0;34m.\u001b[0m\u001b[0m_lazy_compile\u001b[0m\u001b[0;34m(\u001b[0m\u001b[0m__wrapper\u001b[0m\u001b[0;34m)\u001b[0m\u001b[0;34m(\u001b[0m\u001b[0;34m*\u001b[0m\u001b[0margs\u001b[0m\u001b[0;34m,\u001b[0m \u001b[0;34m**\u001b[0m\u001b[0mkwargs\u001b[0m\u001b[0;34m)\u001b[0m\u001b[0;34m\u001b[0m\u001b[0;34m\u001b[0m\u001b[0m\n\u001b[0m\u001b[1;32m    796\u001b[0m \u001b[0;34m\u001b[0m\u001b[0m\n\u001b[1;32m    797\u001b[0m         \u001b[0;31m# standard function-wrapping stuff\u001b[0m\u001b[0;34m\u001b[0m\u001b[0;34m\u001b[0m\u001b[0;34m\u001b[0m\u001b[0m\n",
            "\u001b[0;32m/usr/local/lib/python3.7/dist-packages/networkx/utils/decorators.py\u001b[0m in \u001b[0;36margmap_write_gpickle_10\u001b[0;34m(G, path, protocol)\u001b[0m\n\u001b[1;32m      3\u001b[0m \u001b[0;32mfrom\u001b[0m \u001b[0mcontextlib\u001b[0m \u001b[0;32mimport\u001b[0m \u001b[0mcontextmanager\u001b[0m\u001b[0;34m\u001b[0m\u001b[0;34m\u001b[0m\u001b[0m\n\u001b[1;32m      4\u001b[0m \u001b[0;32mfrom\u001b[0m \u001b[0mpathlib\u001b[0m \u001b[0;32mimport\u001b[0m \u001b[0mPath\u001b[0m\u001b[0;34m\u001b[0m\u001b[0;34m\u001b[0m\u001b[0m\n\u001b[0;32m----> 5\u001b[0;31m \u001b[0;32mimport\u001b[0m \u001b[0mwarnings\u001b[0m\u001b[0;34m\u001b[0m\u001b[0;34m\u001b[0m\u001b[0m\n\u001b[0m\u001b[1;32m      6\u001b[0m \u001b[0;34m\u001b[0m\u001b[0m\n\u001b[1;32m      7\u001b[0m \u001b[0;32mimport\u001b[0m \u001b[0mnetworkx\u001b[0m \u001b[0;32mas\u001b[0m \u001b[0mnx\u001b[0m\u001b[0;34m\u001b[0m\u001b[0;34m\u001b[0m\u001b[0m\n",
            "\u001b[0;32m/usr/local/lib/python3.7/dist-packages/networkx/readwrite/gpickle.py\u001b[0m in \u001b[0;36mwrite_gpickle\u001b[0;34m(G, path, protocol)\u001b[0m\n\u001b[1;32m     65\u001b[0m     )\n\u001b[1;32m     66\u001b[0m     \u001b[0mwarnings\u001b[0m\u001b[0;34m.\u001b[0m\u001b[0mwarn\u001b[0m\u001b[0;34m(\u001b[0m\u001b[0mmsg\u001b[0m\u001b[0;34m,\u001b[0m \u001b[0mDeprecationWarning\u001b[0m\u001b[0;34m,\u001b[0m \u001b[0mstacklevel\u001b[0m\u001b[0;34m=\u001b[0m\u001b[0;36m2\u001b[0m\u001b[0;34m)\u001b[0m\u001b[0;34m\u001b[0m\u001b[0;34m\u001b[0m\u001b[0m\n\u001b[0;32m---> 67\u001b[0;31m     \u001b[0mpickle\u001b[0m\u001b[0;34m.\u001b[0m\u001b[0mdump\u001b[0m\u001b[0;34m(\u001b[0m\u001b[0mG\u001b[0m\u001b[0;34m,\u001b[0m \u001b[0mpath\u001b[0m\u001b[0;34m,\u001b[0m \u001b[0mprotocol\u001b[0m\u001b[0;34m)\u001b[0m\u001b[0;34m\u001b[0m\u001b[0;34m\u001b[0m\u001b[0m\n\u001b[0m\u001b[1;32m     68\u001b[0m \u001b[0;34m\u001b[0m\u001b[0m\n\u001b[1;32m     69\u001b[0m \u001b[0;34m\u001b[0m\u001b[0m\n",
            "\u001b[0;31mKeyboardInterrupt\u001b[0m: "
          ]
        }
      ]
    },
    {
      "cell_type": "code",
      "source": [
        "def jaccard_similarity(list1, list2):\n",
        "    intersection = len(list(set(list1).intersection(list2)))\n",
        "    union = (len(set(list1)) + len(set(list2))) - intersection\n",
        "    return float(intersection) / union"
      ],
      "metadata": {
        "id": "layuxGcvgXB-"
      },
      "id": "layuxGcvgXB-",
      "execution_count": null,
      "outputs": []
    },
    {
      "cell_type": "code",
      "source": [
        "#function to calculate jaccard index values\n",
        "def gethighestjaccard(pro_id, finalresult):\n",
        "  jaccdict = {}    \n",
        "  for i in range(0,len(finalresult)):     \n",
        "    if(pro_id != i):      \n",
        "      tempneighbours = []\n",
        "      resarray = getclean(finalresult[i])        \n",
        "      jaccdict[finalresult[i]] = jaccard_similarity(finalresult, resarray)\n",
        "  return jaccdict    \n",
        "        \n",
        "          "
      ],
      "metadata": {
        "id": "JVMpM_hPTJBV"
      },
      "id": "JVMpM_hPTJBV",
      "execution_count": null,
      "outputs": []
    },
    {
      "cell_type": "code",
      "source": [
        "finaldictjaccard = gethighestjaccard(pro_id, finalresult)"
      ],
      "metadata": {
        "id": "95iJD9ptRUEP"
      },
      "id": "95iJD9ptRUEP",
      "execution_count": null,
      "outputs": []
    },
    {
      "cell_type": "code",
      "source": [
        "#sorting the dictionary based on jaccard indexes\n",
        "finaldictjaccard = dict(sorted(finaldictjaccard.items(), key=lambda item: item[1], reverse = True))"
      ],
      "metadata": {
        "id": "WoQADN3AiITJ"
      },
      "id": "WoQADN3AiITJ",
      "execution_count": null,
      "outputs": []
    },
    {
      "cell_type": "code",
      "source": [
        "finaldictjaccard"
      ],
      "metadata": {
        "colab": {
          "base_uri": "https://localhost:8080/"
        },
        "id": "kaLoG1NWgeYr",
        "outputId": "2a490b9e-516b-42ce-a20a-4d70b08e4529"
      },
      "id": "kaLoG1NWgeYr",
      "execution_count": null,
      "outputs": [
        {
          "output_type": "execute_result",
          "data": {
            "text/plain": [
              "{6: 0.14285714285714285,\n",
              " 9: 0.2,\n",
              " 46: 0.125,\n",
              " 58: 0.125,\n",
              " 108: 0.0625,\n",
              " 454: 0.0,\n",
              " 1521: 0.2857142857142857}"
            ]
          },
          "metadata": {},
          "execution_count": 52
        }
      ]
    },
    {
      "cell_type": "code",
      "source": [
        "top5jac = np.array(list(finaldictjaccard.keys()))[:5]"
      ],
      "metadata": {
        "id": "iknxdPjNTSyM"
      },
      "id": "iknxdPjNTSyM",
      "execution_count": null,
      "outputs": []
    },
    {
      "cell_type": "code",
      "source": [
        "top5jac"
      ],
      "metadata": {
        "colab": {
          "base_uri": "https://localhost:8080/"
        },
        "id": "GsPgzPnZiTj_",
        "outputId": "6e643322-452d-495e-b4e8-cf38dce0c82d"
      },
      "id": "GsPgzPnZiTj_",
      "execution_count": null,
      "outputs": [
        {
          "output_type": "execute_result",
          "data": {
            "text/plain": [
              "array([1521,    9,    6,   46,   58])"
            ]
          },
          "metadata": {},
          "execution_count": 54
        }
      ]
    },
    {
      "cell_type": "code",
      "source": [
        "# top5"
      ],
      "metadata": {
        "id": "xI6gQTfmj68H"
      },
      "id": "xI6gQTfmj68H",
      "execution_count": null,
      "outputs": []
    },
    {
      "cell_type": "code",
      "source": [
        "showtitles(top5jac)"
      ],
      "metadata": {
        "colab": {
          "base_uri": "https://localhost:8080/"
        },
        "id": "zL0A_WtxiXW2",
        "outputId": "1e9224eb-1090-4f91-fb2b-4a618434f478"
      },
      "id": "zL0A_WtxiXW2",
      "execution_count": null,
      "outputs": [
        {
          "output_type": "execute_result",
          "data": {
            "text/plain": [
              "['Masters of the Italian Art Song',\n",
              " 'Making Bread',\n",
              " 'How the Other Half Lives',\n",
              " \"Alternative Worlds in Fantasy Fiction (Contemporary Classics of Children's Literature)\",\n",
              " 'Raptors of the Rockies']"
            ]
          },
          "metadata": {},
          "execution_count": 56
        }
      ]
    },
    {
      "cell_type": "code",
      "source": [
        "#Assigning red edges for recommended products, and blue edges for non-recommended products\n",
        "K = nx.DiGraph()\n",
        "for i in top5jac:\n",
        "  K.add_edge(pro_id,i,color='r')\n",
        "difjac = np.setdiff1d(finalresult, top5jac)\n",
        "for i in difjac:\n",
        "  K.add_edge(pro_id,i,color='b')\n"
      ],
      "metadata": {
        "id": "LlUkBoCO1dNj"
      },
      "id": "LlUkBoCO1dNj",
      "execution_count": null,
      "outputs": []
    },
    {
      "cell_type": "code",
      "source": [
        "fig = plt.figure(1, figsize=(5, 3), dpi= 200)\n",
        "colors = nx.get_edge_attributes(K,'color').values()\n",
        "nx.draw_networkx(K,with_labels = True, edge_color=colors)"
      ],
      "metadata": {
        "colab": {
          "base_uri": "https://localhost:8080/",
          "height": 510
        },
        "id": "4H6sVUhr2L4Y",
        "outputId": "31d789c9-fc5c-49c2-9902-0c3b9ae2768c"
      },
      "id": "4H6sVUhr2L4Y",
      "execution_count": null,
      "outputs": [
        {
          "output_type": "display_data",
          "data": {
            "text/plain": [
              "<Figure size 1000x600 with 1 Axes>"
            ],
            "image/png": "[encoded data removed]"
          },
          "metadata": {}
        }
      ]
    },
    {
      "cell_type": "code",
      "source": [
        ""
      ],
      "metadata": {
        "id": "Hw5cU9axO_Lh"
      },
      "id": "Hw5cU9axO_Lh",
      "execution_count": null,
      "outputs": []
    }
  ],
  "metadata": {
    "kernelspec": {
      "display_name": "Python 3 (ipykernel)",
      "language": "python",
      "name": "python3"
    },
    "language_info": {
      "codemirror_mode": {
        "name": "ipython",
        "version": 3
      },
      "file_extension": ".py",
      "mimetype": "text/x-python",
      "name": "python",
      "nbconvert_exporter": "python",
      "pygments_lexer": "ipython3",
      "version": "3.8.6"
    },
    "colab": {
      "name": "ShowRecommendedMovies.ipynb",
      "provenance": [],
      "collapsed_sections": []
    }
  },
  "nbformat": 4,
  "nbformat_minor": 5
}