{
  "cells": [
    {
      "cell_type": "markdown",
      "source": [
        "# Product Clustering for Recommendation based on Customer Insights, Profiling and Customer Satisfaction"
      ],
      "metadata": {
        "id": "DvSYysl22t5q"
      }
    },
    {
      "cell_type": "markdown",
      "source": [
        "##Data Preprocessing and feature extraction for Clustering products"
      ],
      "metadata": {
        "id": "z1Jz6sfS2xrr"
      }
    },
    {
      "cell_type": "code",
      "execution_count": 1,
      "metadata": {
        "colab": {
          "base_uri": "https://localhost:8080/"
        },
        "id": "2lUbES9pNxgu",
        "outputId": "cc5928b8-de73-4046-ba62-6d41472691d0"
      },
      "outputs": [
        {
          "output_type": "stream",
          "name": "stdout",
          "text": [
            "Looking in indexes: https://pypi.org/simple, https://us-python.pkg.dev/colab-wheels/public/simple/\n",
            "Collecting stemming\n",
            "  Downloading stemming-1.0.1.zip (13 kB)\n",
            "Building wheels for collected packages: stemming\n",
            "  Building wheel for stemming (setup.py): started\n",
            "  Building wheel for stemming (setup.py): finished with status 'done'\n",
            "  Created wheel for stemming: filename=stemming-1.0.1-py3-none-any.whl size=11138 sha256=729f66f61304c4edeb6e72b4c132d06a424a2b7f1362c79abce5bf8779e932c3\n",
            "  Stored in directory: /root/.cache/pip/wheels/6b/e5/e2/c52ebc0a5b53fd82b00cc385e57bb1c90bd50e5f54ddbc06d1\n",
            "Successfully built stemming\n",
            "Installing collected packages: stemming\n",
            "Successfully installed stemming-1.0.1\n"
          ]
        }
      ],
      "source": [
        "%%bash\n",
        "pip install stemming"
      ]
    },
    {
      "cell_type": "code",
      "execution_count": 2,
      "metadata": {
        "colab": {
          "base_uri": "https://localhost:8080/"
        },
        "id": "9amWKQiCNQIK",
        "outputId": "25fdf5e5-770b-4298-8deb-7dba049060b4"
      },
      "outputs": [
        {
          "output_type": "stream",
          "name": "stderr",
          "text": [
            "[nltk_data] Downloading package stopwords to /root/nltk_data...\n",
            "[nltk_data]   Unzipping corpora/stopwords.zip.\n"
          ]
        },
        {
          "output_type": "execute_result",
          "data": {
            "text/plain": [
              "True"
            ]
          },
          "metadata": {},
          "execution_count": 2
        }
      ],
      "source": [
        "import string\n",
        "import pandas as pd\n",
        "import re\n",
        "import nltk\n",
        "from nltk.corpus import stopwords\n",
        "from stemming.porter2 import stem\n",
        "import numpy as np\n",
        "import networkx as nx\n",
        "import seaborn as sns\n",
        "import matplotlib.pyplot as plt\n",
        "import nltk\n",
        "nltk.download('stopwords')"
      ]
    },
    {
      "cell_type": "code",
      "source": [
        "\"\"\"from google.colab import drive\n",
        "drive.mount('/content/drive')\"\"\""
      ],
      "metadata": {
        "colab": {
          "base_uri": "https://localhost:8080/",
          "height": 36
        },
        "id": "SE-ffkkQ-e25",
        "outputId": "e599a83f-7303-4000-ca2b-72c3847fd57d"
      },
      "execution_count": 3,
      "outputs": [
        {
          "output_type": "execute_result",
          "data": {
            "text/plain": [
              "\"from google.colab import drive\\ndrive.mount('/content/drive')\""
            ],
            "application/vnd.google.colaboratory.intrinsic+json": {
              "type": "string"
            }
          },
          "metadata": {},
          "execution_count": 3
        }
      ]
    },
    {
      "cell_type": "code",
      "source": [
        "!gdown --id 1-MyYRp_5NnmU1JWvl1jV6Dhe3o2HAjdc"
      ],
      "metadata": {
        "id": "Rarrz2Ran67F",
        "colab": {
          "base_uri": "https://localhost:8080/"
        },
        "outputId": "cdb6826d-2b9c-47f8-84b6-67d459c911d9"
      },
      "execution_count": 4,
      "outputs": [
        {
          "output_type": "stream",
          "name": "stdout",
          "text": [
            "/usr/local/lib/python3.7/dist-packages/gdown/cli.py:131: FutureWarning: Option `--id` was deprecated in version 4.3.1 and will be removed in 5.0. You don't need to pass it anymore to use a file ID.\n",
            "  category=FutureWarning,\n",
            "Downloading...\n",
            "From: https://drive.google.com/uc?id=1-MyYRp_5NnmU1JWvl1jV6Dhe3o2HAjdc\n",
            "To: /content/amazon-meta.txt\n",
            "100% 978M/978M [00:04<00:00, 235MB/s]\n"
          ]
        }
      ]
    },
    {
      "cell_type": "markdown",
      "source": [
        "### Open the file to read Amazon Product Metadata"
      ],
      "metadata": {
        "id": "IVB0H2Ea3x78"
      }
    },
    {
      "cell_type": "code",
      "execution_count": 5,
      "metadata": {
        "id": "AkkOxfRtNQIM"
      },
      "outputs": [],
      "source": [
        "df = open ('/content/amazon-meta.txt', 'r', encoding='utf-8', errors= 'ignore')"
      ]
    },
    {
      "cell_type": "markdown",
      "source": [
        "### Initialize a nested product dictionary that will hold cleaned up amazon product data. "
      ],
      "metadata": {
        "id": "dsRAd2se30BU"
      }
    },
    {
      "cell_type": "code",
      "execution_count": 6,
      "metadata": {
        "id": "XF4sZ-yPNQIN"
      },
      "outputs": [],
      "source": [
        "amazonProducts= {}"
      ]
    },
    {
      "cell_type": "markdown",
      "source": [
        "### Read the data from the Amazon meta information file and fill the AmazonProducts nested dictionary with features of products and extracted features of users reviews"
      ],
      "metadata": {
        "id": "Ab3yrLbu35lV"
      }
    },
    {
      "cell_type": "code",
      "source": [
        "(Id, ASIN, Title, Categories, Group, Copurchased, SalesRank, TotalReviews, AvgRating, DegreeCentrality, ClusteringCoeff,helpf,votes) = (\"\", \"\", \"\", \"\", \"\", \"\", 0, 0, 0.0, 0, 0.0,0,0)\n",
        "for line in df:\n",
        "    line = line.strip()\n",
        "    if(line.startswith(\"Id\")):\n",
        "        Id = line[3:].strip()\n",
        "        counter = 0\n",
        "    elif(line.startswith(\"ASIN\")):\n",
        "        ASIN = line[5:].strip()\n",
        "    elif(line.startswith(\"group\")):\n",
        "        Group = line[6:].strip()\n",
        "    elif(line.startswith(\"title\")):\n",
        "        Title = line[6:].strip()\n",
        "        Title = ' '.join(Title.split())\n",
        "    elif(line.startswith(\"salesrank\")):\n",
        "        SalesRank = line[10:].strip()\n",
        "    elif(line.startswith(\"reviews\")):\n",
        "        ls = line.split()\n",
        "        TotalReviews = ls[2].strip()\n",
        "        AvgRating = ls[7].strip()\n",
        "    elif(line.startswith(\"19\")):\n",
        "        ls = line.split()\n",
        "        votes=votes+int(ls[6].strip()) #aggreating votes number\n",
        "        helpf=helpf+int(ls[8].strip()) #aggregating helpful votes number\n",
        "    elif(line.startswith(\"20\")):\n",
        "        ls = line.split()\n",
        "        votes=votes+int(ls[6].strip()) #aggreating votes number\n",
        "        helpf=helpf+int(ls[8].strip()) #aggregating helpful votes number\n",
        "    elif(line.startswith(\"categories\")):\n",
        "        ls = line.split() #aggregating categories to a list\n",
        "        Categories = ' '.join((df.readline()).lower() for i in range(int(ls[1].strip())))\n",
        "        Categories = re.compile('[%s]' % re.escape(string.digits+string.punctuation)).sub(' ',Categories)\n",
        "        Categories = ' '.join(set(Categories.split())-set(stopwords.words(\"english\")))\n",
        "        Categories = ' '.join(stem(word) for word in Categories.split())\n",
        "    elif (line==\"\"): # write out fields to amazonProducts dictionary\n",
        "        try:\n",
        "            MetaData = {}\n",
        "            if (ASIN != \"\"):\n",
        "                amazonProducts[ASIN] = MetaData\n",
        "            MetaData['Id'] = Id\n",
        "            MetaData['Title'] = Title\n",
        "            MetaData['Categories'] = ' '.join(set(Categories.split()))\n",
        "            MetaData['Group'] = Group\n",
        "            MetaData['SalesRank'] = int(SalesRank)\n",
        "            MetaData['TotalReviews'] = int(TotalReviews)\n",
        "            MetaData['AvgRating'] = float(AvgRating)\n",
        "            MetaData['Helpful'] = int(helpf)\n",
        "            MetaData['Votes'] = int(votes)\n",
        "        except NameError:\n",
        "            continue\n",
        "        (Id, ASIN, Title, Categories, Group, Copurchased, SalesRank, TotalReviews, AvgRating, DegreeCentrality, ClusteringCoeff,helpf,votes) = (\"\", \"\", \"\", \"\", \"\", \"\", 0, 0, 0.0, 0, 0.0,0,0)\n",
        "df.close"
      ],
      "metadata": {
        "id": "qc1RVZop2jFZ",
        "colab": {
          "base_uri": "https://localhost:8080/"
        },
        "outputId": "deea73c2-6c0c-43e0-ad1f-65e8943fc6f9"
      },
      "execution_count": 7,
      "outputs": [
        {
          "output_type": "execute_result",
          "data": {
            "text/plain": [
              "<function TextIOWrapper.close>"
            ]
          },
          "metadata": {},
          "execution_count": 7
        }
      ]
    },
    {
      "cell_type": "markdown",
      "source": [
        "###Converting Dictionary to Dataframe"
      ],
      "metadata": {
        "id": "4_zlOodW4GVB"
      }
    },
    {
      "cell_type": "code",
      "source": [
        "df = pd.DataFrame.from_dict(amazonProducts)\n",
        "df = df.T"
      ],
      "metadata": {
        "id": "g4mKGtoXaNFk"
      },
      "execution_count": 8,
      "outputs": []
    },
    {
      "cell_type": "markdown",
      "source": [
        "####Unique Groups of Products Available"
      ],
      "metadata": {
        "id": "uBjL1Db_4NdQ"
      }
    },
    {
      "cell_type": "code",
      "source": [
        "df.Group.unique()"
      ],
      "metadata": {
        "id": "MDCt9e3is2Y5",
        "colab": {
          "base_uri": "https://localhost:8080/"
        },
        "outputId": "0c217627-56ef-41a6-bbe1-10b1bd38bc9d"
      },
      "execution_count": 9,
      "outputs": [
        {
          "output_type": "execute_result",
          "data": {
            "text/plain": [
              "array(['', 'Book', 'Music', 'DVD', 'Video', 'Toy', 'Video Games',\n",
              "       'Software', 'Baby Product', 'CE', 'Sports'], dtype=object)"
            ]
          },
          "metadata": {},
          "execution_count": 9
        }
      ]
    },
    {
      "cell_type": "markdown",
      "source": [
        "####Checking for null data items"
      ],
      "metadata": {
        "id": "a9tcJMOC4TQY"
      }
    },
    {
      "cell_type": "code",
      "source": [
        "df.isnull().sum()"
      ],
      "metadata": {
        "id": "Qt9_--SMwlyA",
        "colab": {
          "base_uri": "https://localhost:8080/"
        },
        "outputId": "0e81abe7-13f8-46dd-a696-92e534d1a8b3"
      },
      "execution_count": 10,
      "outputs": [
        {
          "output_type": "execute_result",
          "data": {
            "text/plain": [
              "Id              0\n",
              "Title           0\n",
              "Categories      0\n",
              "Group           0\n",
              "SalesRank       0\n",
              "TotalReviews    0\n",
              "AvgRating       0\n",
              "Helpful         0\n",
              "Votes           0\n",
              "dtype: int64"
            ]
          },
          "metadata": {},
          "execution_count": 10
        }
      ]
    },
    {
      "cell_type": "markdown",
      "source": [
        "####Checking Distribution of Various Groups of Products"
      ],
      "metadata": {
        "id": "_AttfOC34WYh"
      }
    },
    {
      "cell_type": "code",
      "source": [
        "df['Group'].value_counts()"
      ],
      "metadata": {
        "id": "hvfEMkgqwolQ",
        "colab": {
          "base_uri": "https://localhost:8080/"
        },
        "outputId": "e142ab91-f58f-4ccf-8841-fed55dd46004"
      },
      "execution_count": 11,
      "outputs": [
        {
          "output_type": "execute_result",
          "data": {
            "text/plain": [
              "Book            393561\n",
              "Music           103144\n",
              "Video            26131\n",
              "DVD              19828\n",
              "                  5868\n",
              "Toy                  8\n",
              "Software             5\n",
              "CE                   4\n",
              "Video Games          1\n",
              "Baby Product         1\n",
              "Sports               1\n",
              "Name: Group, dtype: int64"
            ]
          },
          "metadata": {},
          "execution_count": 11
        }
      ]
    },
    {
      "cell_type": "markdown",
      "source": [
        "#### **We can conclude from above that product groups apart from Book,Music,Video and DVD other categories are very insignificant in number and we ignore them**"
      ],
      "metadata": {
        "id": "y5g1kpZV4cej"
      }
    },
    {
      "cell_type": "code",
      "source": [
        "df = df[(df['Group'] == 'Book') | (df['Group'] == 'Music') | (df['Group'] == 'Video') | (df['Group'] == 'DVD')]"
      ],
      "metadata": {
        "id": "tB-CJrSfw4M7"
      },
      "execution_count": 12,
      "outputs": []
    },
    {
      "cell_type": "markdown",
      "source": [
        "#### **Finding Number of Non-Helpful Votes**"
      ],
      "metadata": {
        "id": "IIwNhRUM4iG7"
      }
    },
    {
      "cell_type": "code",
      "source": [
        "df['NonHelpfulVotes']=df['Votes']-df['Helpful']"
      ],
      "metadata": {
        "id": "HH1d8P_zuPGH",
        "colab": {
          "base_uri": "https://localhost:8080/"
        },
        "outputId": "8ab8c218-aecb-471f-b42e-1f48f5563bd3"
      },
      "execution_count": 13,
      "outputs": [
        {
          "output_type": "stream",
          "name": "stderr",
          "text": [
            "/usr/local/lib/python3.7/dist-packages/ipykernel_launcher.py:1: SettingWithCopyWarning: \n",
            "A value is trying to be set on a copy of a slice from a DataFrame.\n",
            "Try using .loc[row_indexer,col_indexer] = value instead\n",
            "\n",
            "See the caveats in the documentation: https://pandas.pydata.org/pandas-docs/stable/user_guide/indexing.html#returning-a-view-versus-a-copy\n",
            "  \"\"\"Entry point for launching an IPython kernel.\n"
          ]
        }
      ]
    },
    {
      "cell_type": "code",
      "source": [
        "df['ASIN'] = df.index\n",
        "df1 = df.set_index('Id')\n",
        "df1['Helpful'] = df1['Helpful'].astype(int)"
      ],
      "metadata": {
        "id": "bxV1s62Kxz5E",
        "colab": {
          "base_uri": "https://localhost:8080/"
        },
        "outputId": "e951e1df-fa83-48e1-accb-575f124eb938"
      },
      "execution_count": 14,
      "outputs": [
        {
          "output_type": "stream",
          "name": "stderr",
          "text": [
            "/usr/local/lib/python3.7/dist-packages/ipykernel_launcher.py:1: SettingWithCopyWarning: \n",
            "A value is trying to be set on a copy of a slice from a DataFrame.\n",
            "Try using .loc[row_indexer,col_indexer] = value instead\n",
            "\n",
            "See the caveats in the documentation: https://pandas.pydata.org/pandas-docs/stable/user_guide/indexing.html#returning-a-view-versus-a-copy\n",
            "  \"\"\"Entry point for launching an IPython kernel.\n"
          ]
        }
      ]
    },
    {
      "cell_type": "markdown",
      "source": [
        "####Checking Distribution of Helpful Votes of Products to evaluate number of bins we can group them into"
      ],
      "metadata": {
        "id": "j-CmKKuy4mos"
      }
    },
    {
      "cell_type": "code",
      "source": [
        "df1['Helpful'].describe()"
      ],
      "metadata": {
        "id": "tNG8Cb8Y3ob5",
        "colab": {
          "base_uri": "https://localhost:8080/"
        },
        "outputId": "64b70520-5d5c-4383-adf8-1070155d1234"
      },
      "execution_count": 15,
      "outputs": [
        {
          "output_type": "execute_result",
          "data": {
            "text/plain": [
              "count    542664.000000\n",
              "mean         53.096802\n",
              "std         266.525417\n",
              "min           0.000000\n",
              "25%           0.000000\n",
              "50%           8.000000\n",
              "75%          35.000000\n",
              "max       27354.000000\n",
              "Name: Helpful, dtype: float64"
            ]
          },
          "metadata": {},
          "execution_count": 15
        }
      ]
    },
    {
      "cell_type": "code",
      "source": [
        "df1=df1.reset_index()"
      ],
      "metadata": {
        "id": "GzJbxOM7zDSb"
      },
      "execution_count": 16,
      "outputs": []
    },
    {
      "cell_type": "markdown",
      "source": [
        "#### Visualization of Helpful ratings over samples of 100000 datapoints to visualize the distribution in samples"
      ],
      "metadata": {
        "id": "7w0RIA0jNu-s"
      }
    },
    {
      "cell_type": "code",
      "source": [
        "df2 = df1[0:100000]\n",
        "print(df2['Helpful'].describe())\n",
        "df2 = df1[100000:200000]\n",
        "print(df2['Helpful'].describe())\n",
        "df2 = df1[200000:300000]\n",
        "print(df2['Helpful'].describe())\n",
        "df2 = df1[300000:400000]\n",
        "print(df2['Helpful'].describe())\n",
        "df2 = df1[400000:]\n",
        "print(df2['Helpful'].describe())\n",
        "df2 = df1[400000:]\n",
        "df2['AvgRating']=df2['AvgRating'].astype(float)\n",
        "print(df2.groupby('AvgRating').count())\n",
        "#print(df2.groupby('label_code').count())"
      ],
      "metadata": {
        "id": "8Js343cNNwnd",
        "colab": {
          "base_uri": "https://localhost:8080/"
        },
        "outputId": "76b96f4d-0311-4967-8723-8bf202890ccc"
      },
      "execution_count": 17,
      "outputs": [
        {
          "output_type": "stream",
          "name": "stdout",
          "text": [
            "count    100000.000000\n",
            "mean         53.414440\n",
            "std         274.804652\n",
            "min           0.000000\n",
            "25%           0.000000\n",
            "50%           8.000000\n",
            "75%          35.000000\n",
            "max       27354.000000\n",
            "Name: Helpful, dtype: float64\n",
            "count    100000.000000\n",
            "mean         53.023110\n",
            "std         268.220622\n",
            "min           0.000000\n",
            "25%           0.000000\n",
            "50%           8.000000\n",
            "75%          34.000000\n",
            "max       24783.000000\n",
            "Name: Helpful, dtype: float64\n",
            "count    100000.000000\n",
            "mean         51.904310\n",
            "std         248.348625\n",
            "min           0.000000\n",
            "25%           0.000000\n",
            "50%           8.000000\n",
            "75%          34.000000\n",
            "max       25287.000000\n",
            "Name: Helpful, dtype: float64\n",
            "count    100000.000000\n",
            "mean         48.587200\n",
            "std         276.150735\n",
            "min           0.000000\n",
            "25%           0.000000\n",
            "50%           7.000000\n",
            "75%          30.000000\n",
            "max       27297.000000\n",
            "Name: Helpful, dtype: float64\n",
            "count    142664.000000\n",
            "mean         56.922678\n",
            "std         264.819862\n",
            "min           0.000000\n",
            "25%           0.000000\n",
            "50%          10.000000\n",
            "75%          38.000000\n",
            "max       25408.000000\n",
            "Name: Helpful, dtype: float64\n"
          ]
        },
        {
          "output_type": "stream",
          "name": "stderr",
          "text": [
            "/usr/local/lib/python3.7/dist-packages/ipykernel_launcher.py:12: SettingWithCopyWarning: \n",
            "A value is trying to be set on a copy of a slice from a DataFrame.\n",
            "Try using .loc[row_indexer,col_indexer] = value instead\n",
            "\n",
            "See the caveats in the documentation: https://pandas.pydata.org/pandas-docs/stable/user_guide/indexing.html#returning-a-view-versus-a-copy\n",
            "  if sys.path[0] == '':\n"
          ]
        },
        {
          "output_type": "stream",
          "name": "stdout",
          "text": [
            "              Id  Title  Categories  Group  SalesRank  TotalReviews  Helpful  \\\n",
            "AvgRating                                                                      \n",
            "0.0        30920  30920       30920  30920      30920         30920    30920   \n",
            "1.0          803    803         803    803        803           803      803   \n",
            "1.5          250    250         250    250        250           250      250   \n",
            "2.0         1166   1166        1166   1166       1166          1166     1166   \n",
            "2.5         1985   1985        1985   1985       1985          1985     1985   \n",
            "3.0         5995   5995        5995   5995       5995          5995     5995   \n",
            "3.5         9711   9711        9711   9711       9711          9711     9711   \n",
            "4.0        23135  23135       23135  23135      23135         23135    23135   \n",
            "4.5        28547  28547       28547  28547      28547         28547    28547   \n",
            "5.0        40152  40152       40152  40152      40152         40152    40152   \n",
            "\n",
            "           Votes  NonHelpfulVotes   ASIN  \n",
            "AvgRating                                 \n",
            "0.0        30920            30920  30920  \n",
            "1.0          803              803    803  \n",
            "1.5          250              250    250  \n",
            "2.0         1166             1166   1166  \n",
            "2.5         1985             1985   1985  \n",
            "3.0         5995             5995   5995  \n",
            "3.5         9711             9711   9711  \n",
            "4.0        23135            23135  23135  \n",
            "4.5        28547            28547  28547  \n",
            "5.0        40152            40152  40152  \n"
          ]
        }
      ]
    },
    {
      "cell_type": "markdown",
      "source": [
        "#### **Categorizing Products into 3 clusters based on customer insights based on the distribution of helpful rating**"
      ],
      "metadata": {
        "id": "pUV1Hu4f45NX"
      }
    },
    {
      "cell_type": "code",
      "source": [
        "df1['label_code'] = pd.cut(x=df1['Helpful'], bins=[-1, 8, 35, 27355], labels=['0', '1', '2'])"
      ],
      "metadata": {
        "id": "OiqCXnLR5cww"
      },
      "execution_count": 18,
      "outputs": []
    },
    {
      "cell_type": "markdown",
      "source": [
        "####One Hot Encoding the Groups of Products"
      ],
      "metadata": {
        "id": "bGqoCWgiOGII"
      }
    },
    {
      "cell_type": "code",
      "source": [
        "from sklearn.preprocessing import OneHotEncoder\n",
        "encoder = OneHotEncoder(handle_unknown='ignore')\n",
        "encoder_df = pd.DataFrame(encoder.fit_transform(df1[['Group']]).toarray())\n",
        "df1 = df1.join(encoder_df)"
      ],
      "metadata": {
        "id": "dSwLAk9luO5c"
      },
      "execution_count": 19,
      "outputs": []
    },
    {
      "cell_type": "code",
      "source": [
        "df1=df1.drop('Group',axis=1)"
      ],
      "metadata": {
        "id": "MayOKp_dyg3-"
      },
      "execution_count": 20,
      "outputs": []
    },
    {
      "cell_type": "code",
      "source": [
        "df1['label_code']=df1['label_code'].astype(int)"
      ],
      "metadata": {
        "id": "YWw-vcmdRPI9"
      },
      "execution_count": 21,
      "outputs": []
    },
    {
      "cell_type": "markdown",
      "source": [
        "### Saving the dataframe for Future Use "
      ],
      "metadata": {
        "id": "suJL5FLGOhWu"
      }
    },
    {
      "cell_type": "code",
      "source": [
        "df1.to_csv(\"/content/customer_insights_recommendations.csv\")"
      ],
      "metadata": {
        "id": "fMoXDSFFOgq9"
      },
      "execution_count": 22,
      "outputs": []
    },
    {
      "cell_type": "markdown",
      "source": [
        "## Recommendation based on Customer Insights Cluster and Category Similarity"
      ],
      "metadata": {
        "id": "bwowseUPOned"
      }
    },
    {
      "cell_type": "markdown",
      "source": [
        "### In order to compare similarity between 2 products we compute similarity between category to which they belongs by finding jaccard similarity metric between 2 categories"
      ],
      "metadata": {
        "id": "HQTQ-RIJOKwp"
      }
    },
    {
      "cell_type": "code",
      "source": [
        "df1.head()"
      ],
      "metadata": {
        "colab": {
          "base_uri": "https://localhost:8080/",
          "height": 206
        },
        "id": "row_FvSF0t_M",
        "outputId": "f359ff1c-f913-45b3-e8e4-2e824d03fe5f"
      },
      "execution_count": 23,
      "outputs": [
        {
          "output_type": "execute_result",
          "data": {
            "text/plain": [
              "  Id                                              Title  \\\n",
              "0  1            Patterns of Preaching: A Sermon Sampler   \n",
              "1  2                         Candlemas: Feast of Flames   \n",
              "2  3   World War II Allied Fighter Planes Trading Cards   \n",
              "3  4  Life Application Bible Commentary: 1 and 2 Tim...   \n",
              "4  5    Prayers That Avail Much for Business: Executive   \n",
              "\n",
              "                                          Categories SalesRank TotalReviews  \\\n",
              "0  clergi sermon preach religion spiritu book sub...    396585            2   \n",
              "1  base earth religion spiritu witchcraft book su...    168596           12   \n",
              "2       general garden home craft hobbi book subject   1270652            1   \n",
              "3  general translat new guid histori christian li...    631289            1   \n",
              "4  devot worship prayerbook busi religion spiritu...    455160            0   \n",
              "\n",
              "  AvgRating  Helpful Votes NonHelpfulVotes        ASIN  label_code    0    1  \\\n",
              "0       5.0       14    16               2  0827229534           1  1.0  0.0   \n",
              "1       4.5       76    84               8  0738700797           2  1.0  0.0   \n",
              "2       5.0        2     2               0  0486287785           0  1.0  0.0   \n",
              "3       4.0        1     1               0  0842328327           0  1.0  0.0   \n",
              "4       0.0        0     0               0  1577943082           0  1.0  0.0   \n",
              "\n",
              "     2    3  \n",
              "0  0.0  0.0  \n",
              "1  0.0  0.0  \n",
              "2  0.0  0.0  \n",
              "3  0.0  0.0  \n",
              "4  0.0  0.0  "
            ],
            "text/html": [
              "\n",
              "  <div id=\"df-49390530-ba27-47a0-a050-73d7bcf98329\">\n",
              "    <div class=\"colab-df-container\">\n",
              "      <div>\n",
              "<style scoped>\n",
              "    .dataframe tbody tr th:only-of-type {\n",
              "        vertical-align: middle;\n",
              "    }\n",
              "\n",
              "    .dataframe tbody tr th {\n",
              "        vertical-align: top;\n",
              "    }\n",
              "\n",
              "    .dataframe thead th {\n",
              "        text-align: right;\n",
              "    }\n",
              "</style>\n",
              "<table border=\"1\" class=\"dataframe\">\n",
              "  <thead>\n",
              "    <tr style=\"text-align: right;\">\n",
              "      <th></th>\n",
              "      <th>Id</th>\n",
              "      <th>Title</th>\n",
              "      <th>Categories</th>\n",
              "      <th>SalesRank</th>\n",
              "      <th>TotalReviews</th>\n",
              "      <th>AvgRating</th>\n",
              "      <th>Helpful</th>\n",
              "      <th>Votes</th>\n",
              "      <th>NonHelpfulVotes</th>\n",
              "      <th>ASIN</th>\n",
              "      <th>label_code</th>\n",
              "      <th>0</th>\n",
              "      <th>1</th>\n",
              "      <th>2</th>\n",
              "      <th>3</th>\n",
              "    </tr>\n",
              "  </thead>\n",
              "  <tbody>\n",
              "    <tr>\n",
              "      <th>0</th>\n",
              "      <td>1</td>\n",
              "      <td>Patterns of Preaching: A Sermon Sampler</td>\n",
              "      <td>clergi sermon preach religion spiritu book sub...</td>\n",
              "      <td>396585</td>\n",
              "      <td>2</td>\n",
              "      <td>5.0</td>\n",
              "      <td>14</td>\n",
              "      <td>16</td>\n",
              "      <td>2</td>\n",
              "      <td>0827229534</td>\n",
              "      <td>1</td>\n",
              "      <td>1.0</td>\n",
              "      <td>0.0</td>\n",
              "      <td>0.0</td>\n",
              "      <td>0.0</td>\n",
              "    </tr>\n",
              "    <tr>\n",
              "      <th>1</th>\n",
              "      <td>2</td>\n",
              "      <td>Candlemas: Feast of Flames</td>\n",
              "      <td>base earth religion spiritu witchcraft book su...</td>\n",
              "      <td>168596</td>\n",
              "      <td>12</td>\n",
              "      <td>4.5</td>\n",
              "      <td>76</td>\n",
              "      <td>84</td>\n",
              "      <td>8</td>\n",
              "      <td>0738700797</td>\n",
              "      <td>2</td>\n",
              "      <td>1.0</td>\n",
              "      <td>0.0</td>\n",
              "      <td>0.0</td>\n",
              "      <td>0.0</td>\n",
              "    </tr>\n",
              "    <tr>\n",
              "      <th>2</th>\n",
              "      <td>3</td>\n",
              "      <td>World War II Allied Fighter Planes Trading Cards</td>\n",
              "      <td>general garden home craft hobbi book subject</td>\n",
              "      <td>1270652</td>\n",
              "      <td>1</td>\n",
              "      <td>5.0</td>\n",
              "      <td>2</td>\n",
              "      <td>2</td>\n",
              "      <td>0</td>\n",
              "      <td>0486287785</td>\n",
              "      <td>0</td>\n",
              "      <td>1.0</td>\n",
              "      <td>0.0</td>\n",
              "      <td>0.0</td>\n",
              "      <td>0.0</td>\n",
              "    </tr>\n",
              "    <tr>\n",
              "      <th>3</th>\n",
              "      <td>4</td>\n",
              "      <td>Life Application Bible Commentary: 1 and 2 Tim...</td>\n",
              "      <td>general translat new guid histori christian li...</td>\n",
              "      <td>631289</td>\n",
              "      <td>1</td>\n",
              "      <td>4.0</td>\n",
              "      <td>1</td>\n",
              "      <td>1</td>\n",
              "      <td>0</td>\n",
              "      <td>0842328327</td>\n",
              "      <td>0</td>\n",
              "      <td>1.0</td>\n",
              "      <td>0.0</td>\n",
              "      <td>0.0</td>\n",
              "      <td>0.0</td>\n",
              "    </tr>\n",
              "    <tr>\n",
              "      <th>4</th>\n",
              "      <td>5</td>\n",
              "      <td>Prayers That Avail Much for Business: Executive</td>\n",
              "      <td>devot worship prayerbook busi religion spiritu...</td>\n",
              "      <td>455160</td>\n",
              "      <td>0</td>\n",
              "      <td>0.0</td>\n",
              "      <td>0</td>\n",
              "      <td>0</td>\n",
              "      <td>0</td>\n",
              "      <td>1577943082</td>\n",
              "      <td>0</td>\n",
              "      <td>1.0</td>\n",
              "      <td>0.0</td>\n",
              "      <td>0.0</td>\n",
              "      <td>0.0</td>\n",
              "    </tr>\n",
              "  </tbody>\n",
              "</table>\n",
              "</div>\n",
              "      <button class=\"colab-df-convert\" onclick=\"convertToInteractive('df-49390530-ba27-47a0-a050-73d7bcf98329')\"\n",
              "              title=\"Convert this dataframe to an interactive table.\"\n",
              "              style=\"display:none;\">\n",
              "        \n",
              "  <svg xmlns=\"http://www.w3.org/2000/svg\" height=\"24px\"viewBox=\"0 0 24 24\"\n",
              "       width=\"24px\">\n",
              "    <path d=\"M0 0h24v24H0V0z\" fill=\"none\"/>\n",
              "    <path d=\"M18.56 5.44l.94 2.06.94-2.06 2.06-.94-2.06-.94-.94-2.06-.94 2.06-2.06.94zm-11 1L8.5 8.5l.94-2.06 2.06-.94-2.06-.94L8.5 2.5l-.94 2.06-2.06.94zm10 10l.94 2.06.94-2.06 2.06-.94-2.06-.94-.94-2.06-.94 2.06-2.06.94z\"/><path d=\"M17.41 7.96l-1.37-1.37c-.4-.4-.92-.59-1.43-.59-.52 0-1.04.2-1.43.59L10.3 9.45l-7.72 7.72c-.78.78-.78 2.05 0 2.83L4 21.41c.39.39.9.59 1.41.59.51 0 1.02-.2 1.41-.59l7.78-7.78 2.81-2.81c.8-.78.8-2.07 0-2.86zM5.41 20L4 18.59l7.72-7.72 1.47 1.35L5.41 20z\"/>\n",
              "  </svg>\n",
              "      </button>\n",
              "      \n",
              "  <style>\n",
              "    .colab-df-container {\n",
              "      display:flex;\n",
              "      flex-wrap:wrap;\n",
              "      gap: 12px;\n",
              "    }\n",
              "\n",
              "    .colab-df-convert {\n",
              "      background-color: #E8F0FE;\n",
              "      border: none;\n",
              "      border-radius: 50%;\n",
              "      cursor: pointer;\n",
              "      display: none;\n",
              "      fill: #1967D2;\n",
              "      height: 32px;\n",
              "      padding: 0 0 0 0;\n",
              "      width: 32px;\n",
              "    }\n",
              "\n",
              "    .colab-df-convert:hover {\n",
              "      background-color: #E2EBFA;\n",
              "      box-shadow: 0px 1px 2px rgba(60, 64, 67, 0.3), 0px 1px 3px 1px rgba(60, 64, 67, 0.15);\n",
              "      fill: #174EA6;\n",
              "    }\n",
              "\n",
              "    [theme=dark] .colab-df-convert {\n",
              "      background-color: #3B4455;\n",
              "      fill: #D2E3FC;\n",
              "    }\n",
              "\n",
              "    [theme=dark] .colab-df-convert:hover {\n",
              "      background-color: #434B5C;\n",
              "      box-shadow: 0px 1px 3px 1px rgba(0, 0, 0, 0.15);\n",
              "      filter: drop-shadow(0px 1px 2px rgba(0, 0, 0, 0.3));\n",
              "      fill: #FFFFFF;\n",
              "    }\n",
              "  </style>\n",
              "\n",
              "      <script>\n",
              "        const buttonEl =\n",
              "          document.querySelector('#df-49390530-ba27-47a0-a050-73d7bcf98329 button.colab-df-convert');\n",
              "        buttonEl.style.display =\n",
              "          google.colab.kernel.accessAllowed ? 'block' : 'none';\n",
              "\n",
              "        async function convertToInteractive(key) {\n",
              "          const element = document.querySelector('#df-49390530-ba27-47a0-a050-73d7bcf98329');\n",
              "          const dataTable =\n",
              "            await google.colab.kernel.invokeFunction('convertToInteractive',\n",
              "                                                     [key], {});\n",
              "          if (!dataTable) return;\n",
              "\n",
              "          const docLinkHtml = 'Like what you see? Visit the ' +\n",
              "            '<a target=\"_blank\" href=https://colab.research.google.com/notebooks/data_table.ipynb>data table notebook</a>'\n",
              "            + ' to learn more about interactive tables.';\n",
              "          element.innerHTML = '';\n",
              "          dataTable['output_type'] = 'display_data';\n",
              "          await google.colab.output.renderOutput(dataTable, element);\n",
              "          const docLink = document.createElement('div');\n",
              "          docLink.innerHTML = docLinkHtml;\n",
              "          element.appendChild(docLink);\n",
              "        }\n",
              "      </script>\n",
              "    </div>\n",
              "  </div>\n",
              "  "
            ]
          },
          "metadata": {},
          "execution_count": 23
        }
      ]
    },
    {
      "cell_type": "markdown",
      "source": [
        "\n",
        "###The Jaccard Index\n",
        "also known as the Jaccard similarity coefficient, is a statistic used in understanding the similarities between sample sets. The measurement emphasizes similarity between finite sample sets, and is formally defined as the size of the intersection divided by the size of the union of the sample sets. The mathematical representation of the index is written as:\n",
        "\n",
        "![image.png](data:image/png;base64,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)"
      ],
      "metadata": {
        "id": "ejQUkZV0JbRw"
      }
    },
    {
      "cell_type": "code",
      "source": [
        "def jaccard(a, b):\n",
        "    a = set((str(a)).split())\n",
        "    c = a.intersection(b)\n",
        "    return float(len(c)) / (len(a) + len(b) - len(c))"
      ],
      "metadata": {
        "id": "KhkbVGAtyjKg"
      },
      "execution_count": 24,
      "outputs": []
    },
    {
      "cell_type": "code",
      "source": [
        "def prod_label_recommj(x_counter):\n",
        "  # get label of asin\n",
        "  df_counter = df1.loc[df1['ASIN'] == x_counter]\n",
        "  x = int(df_counter['label_code'])\n",
        "  y = set((str(df_counter['Categories'])).split())\n",
        "  df_counter = df1.loc[df1['label_code'] == x]\n",
        "  df_counter = df_counter.loc[df_counter['AvgRating']>=4.5]\n",
        "  df_counter['score_cat_inter']= df_counter['Categories'].apply(lambda x: jaccard(x,y))\n",
        "  sorted_df = df_counter.sort_values([\"score_cat_inter\"], ascending=False)\n",
        "  return sorted_df[1:6]['ASIN'].tolist()\n"
      ],
      "metadata": {
        "id": "RE1Y5l7uylYv"
      },
      "execution_count": 25,
      "outputs": []
    },
    {
      "cell_type": "markdown",
      "source": [
        "#### Testing the recommendations for giving Product Id"
      ],
      "metadata": {
        "id": "sDaKiME6O4Fv"
      }
    },
    {
      "cell_type": "code",
      "source": [
        "X = prod_label_recommj('B00008DDST')\n",
        "print(X)"
      ],
      "metadata": {
        "id": "fguxOsl9yJLY",
        "colab": {
          "base_uri": "https://localhost:8080/"
        },
        "outputId": "5bcbdeba-53e2-4370-b2e9-f540d986efad"
      },
      "execution_count": 26,
      "outputs": [
        {
          "output_type": "stream",
          "name": "stdout",
          "text": [
            "['B00005IB9M', 'B00008975P', '6305944571', '6305475997', 'B0000694VT']\n"
          ]
        }
      ]
    },
    {
      "cell_type": "markdown",
      "source": [
        "###The Sørensen-Dice index \n",
        "is very similar to Jaccard index in that it measures the similarity and diversity of sample sets. Although they are calculated similarly the Sørensen-Dice index is a bit more intuitive because it can be seen as the percentage of overlap between two sets, which is a value between 0 and 1:\n",
        "\n",
        "![image.png](data:image/png;base64,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)"
      ],
      "metadata": {
        "id": "sVXVZ2_1KPdP"
      }
    },
    {
      "cell_type": "code",
      "source": [
        "def sordice(a, b):\n",
        "    a = set((str(a)).split())\n",
        "    c = a.intersection(b)\n",
        "    d = float(1-(2*len(c)/((2*len(c))+len(a.difference(b))+len(b.difference(a)))))\n",
        "    return d"
      ],
      "metadata": {
        "id": "A-wPzsby05xM"
      },
      "execution_count": 27,
      "outputs": []
    },
    {
      "cell_type": "code",
      "source": [
        "def prod_label_recomms(x_counter):\n",
        "  # get label of asin\n",
        "  df_counter = df1.loc[df1['ASIN'] == x_counter]\n",
        "  x = int(df_counter['label_code'])\n",
        "  y = set((str(df_counter['Categories'])).split())\n",
        "  df_counter = df1.loc[df1['label_code'] == x]\n",
        "  df_counter = df_counter.loc[df_counter['AvgRating']>=4.5]\n",
        "  df_counter['score_cat_inter']= df_counter['Categories'].apply(lambda x: sordice(x,y))\n",
        "  sorted_df = df_counter.sort_values([\"score_cat_inter\"])\n",
        "  return sorted_df[1:6]['ASIN'].tolist()\n"
      ],
      "metadata": {
        "id": "y1zZu_AC7lg4"
      },
      "execution_count": 28,
      "outputs": []
    },
    {
      "cell_type": "markdown",
      "source": [
        "#### Testing the recommendations for giving Product Id"
      ],
      "metadata": {
        "id": "YHk4NlPmKz10"
      }
    },
    {
      "cell_type": "code",
      "source": [
        "X = prod_label_recomms('B00008DDST')\n",
        "print(X)"
      ],
      "metadata": {
        "id": "CXR9rr-58Fvs",
        "colab": {
          "base_uri": "https://localhost:8080/"
        },
        "outputId": "2712cce3-99bd-404a-a109-0335e55faf18"
      },
      "execution_count": 29,
      "outputs": [
        {
          "output_type": "stream",
          "name": "stdout",
          "text": [
            "['B00005IB9M', '6305944571', 'B00008975P', '6305475997', 'B0000694VT']\n"
          ]
        }
      ]
    },
    {
      "cell_type": "markdown",
      "source": [
        "### Recommending Products based on Customer Insights based on similarities of categories of products using Jaccard and Sørensen-Dice index "
      ],
      "metadata": {
        "id": "B25eM2oNK2gc"
      }
    },
    {
      "cell_type": "code",
      "source": [
        "def Union(lst1, lst2):\n",
        "    final_list = list(set(lst1) | set(lst2))\n",
        "    return final_list"
      ],
      "metadata": {
        "id": "xWzCnAHAHti2"
      },
      "execution_count": 30,
      "outputs": []
    },
    {
      "cell_type": "code",
      "source": [
        "def prod_label_recomm_u(x_counter):\n",
        "  x = prod_label_recommj(x_counter)\n",
        "  y = prod_label_recomms(x_counter)\n",
        "  z = Union(x,y)\n",
        "  return z\n"
      ],
      "metadata": {
        "id": "d59aK96GHIhG"
      },
      "execution_count": 31,
      "outputs": []
    },
    {
      "cell_type": "markdown",
      "source": [
        "#### Testing the recommendations for giving Product Id"
      ],
      "metadata": {
        "id": "-pIo11FuLgZk"
      }
    },
    {
      "cell_type": "code",
      "source": [
        "X = prod_label_recomm_u('B00008DDST')\n",
        "print(X)"
      ],
      "metadata": {
        "id": "YC2DR91xH0E9",
        "colab": {
          "base_uri": "https://localhost:8080/"
        },
        "outputId": "a3f01ff5-2ee9-4d7a-a2c9-dec9ea16dfab"
      },
      "execution_count": 32,
      "outputs": [
        {
          "output_type": "stream",
          "name": "stdout",
          "text": [
            "['B00005IB9M', 'B0000694VT', 'B00008975P', '6305944571', '6305475997']\n"
          ]
        }
      ]
    },
    {
      "cell_type": "markdown",
      "source": [
        "###Extracting Top-10 products in each graph cluster based on Avg Rating,Helpful and NonHelpfulVotes"
      ],
      "metadata": {
        "id": "fBLRJnRDLhnD"
      }
    },
    {
      "cell_type": "code",
      "source": [
        "df_counter = df1.copy()"
      ],
      "metadata": {
        "id": "0nhKOFr6C6ND"
      },
      "execution_count": 33,
      "outputs": []
    },
    {
      "cell_type": "code",
      "source": [
        "df_counter['Helpful-Votes']=df_counter['Helpful']-df_counter['Votes']\n",
        "df_counter = df_counter.sort_values([\"AvgRating\",\"Helpful\",\"NonHelpfulVotes\"], ascending=False)"
      ],
      "metadata": {
        "id": "JO68e3ulEdPV"
      },
      "execution_count": 34,
      "outputs": []
    },
    {
      "cell_type": "code",
      "source": [
        "df_counter0 = df_counter.loc[df_counter['label_code'] == 0]\n",
        "df_counter0[:10]"
      ],
      "metadata": {
        "colab": {
          "base_uri": "https://localhost:8080/",
          "height": 598
        },
        "id": "dTRQ96fvGtFi",
        "outputId": "1bf90f68-9575-4ded-9f93-64217a3abafa"
      },
      "execution_count": 35,
      "outputs": [
        {
          "output_type": "execute_result",
          "data": {
            "text/plain": [
              "            Id                                              Title  \\\n",
              "315646  319314  Change Your Child's Behavior by Changing Yours...   \n",
              "37201    37632  Practical Aspects of Interview and Interrogati...   \n",
              "213137  215571  Practical Aspects of Interview and Interrogati...   \n",
              "473759  479187  Results-Oriented Job Descriptions: More Than 2...   \n",
              "505771  511587  Decorative Letters CD-ROM and Book (Dover Elec...   \n",
              "48115    48645       Log Cabins (Architecture and Design Library)   \n",
              "218064  220551                     Berlioz: Symphonie fantastique   \n",
              "237457  240151  Smith & Hawken: Hands On Gardener: Composting ...   \n",
              "292791  296125  Beauty in Exile: The Artists, Models, and Nobi...   \n",
              "11607    11718  Grammar Wars: 179 Games and Improvs for Learni...   \n",
              "\n",
              "                                               Categories SalesRank  \\\n",
              "315646       general parent disciplin book subject famili    392117   \n",
              "37201                          general subject book refer    731029   \n",
              "213137  general procedur nonfict profession technic cr...    165545   \n",
              "473759  general amazon resourc industri career personn...    472319   \n",
              "505771  general graphic design art photographi ornamen...    130537   \n",
              "48115   general garden photographi architectur essay p...    489670   \n",
              "218064  general symphoni music amazon hector b bargain...      9463   \n",
              "237457  general garden home horticultur techniqu book ...    271609   \n",
              "292791  general garden fashion design art photographi ...    315890   \n",
              "11607   general word grammar book subject languag comm...    457522   \n",
              "\n",
              "       TotalReviews AvgRating  Helpful Votes NonHelpfulVotes        ASIN  \\\n",
              "315646            1       5.0        8    81              73  0517884631   \n",
              "37201             5       5.0        8    51              43  0849395208   \n",
              "213137            5       5.0        8    51              43  0849301017   \n",
              "473759            3       5.0        8    49              41  0814478069   \n",
              "505771            4       5.0        8    45              37  0486999424   \n",
              "48115             1       5.0        8    43              35  1567997236   \n",
              "218064            4       5.0        8    42              34  B000003FI2   \n",
              "237457            3       5.0        8    40              32  0761107320   \n",
              "292791            2       5.0        8    39              31  0810957019   \n",
              "11607             4       5.0        8    38              30  1566080630   \n",
              "\n",
              "        label_code    0    1    2    3 Helpful-Votes  \n",
              "315646           0  1.0  0.0  0.0  0.0           -73  \n",
              "37201            0  1.0  0.0  0.0  0.0           -43  \n",
              "213137           0  1.0  0.0  0.0  0.0           -43  \n",
              "473759           0  1.0  0.0  0.0  0.0           -41  \n",
              "505771           0  1.0  0.0  0.0  0.0           -37  \n",
              "48115            0  1.0  0.0  0.0  0.0           -35  \n",
              "218064           0  0.0  0.0  1.0  0.0           -34  \n",
              "237457           0  1.0  0.0  0.0  0.0           -32  \n",
              "292791           0  1.0  0.0  0.0  0.0           -31  \n",
              "11607            0  1.0  0.0  0.0  0.0           -30  "
            ],
            "text/html": [
              "\n",
              "  <div id=\"df-e2668fba-ec25-4841-b95a-75ccf3d5e2bb\">\n",
              "    <div class=\"colab-df-container\">\n",
              "      <div>\n",
              "<style scoped>\n",
              "    .dataframe tbody tr th:only-of-type {\n",
              "        vertical-align: middle;\n",
              "    }\n",
              "\n",
              "    .dataframe tbody tr th {\n",
              "        vertical-align: top;\n",
              "    }\n",
              "\n",
              "    .dataframe thead th {\n",
              "        text-align: right;\n",
              "    }\n",
              "</style>\n",
              "<table border=\"1\" class=\"dataframe\">\n",
              "  <thead>\n",
              "    <tr style=\"text-align: right;\">\n",
              "      <th></th>\n",
              "      <th>Id</th>\n",
              "      <th>Title</th>\n",
              "      <th>Categories</th>\n",
              "      <th>SalesRank</th>\n",
              "      <th>TotalReviews</th>\n",
              "      <th>AvgRating</th>\n",
              "      <th>Helpful</th>\n",
              "      <th>Votes</th>\n",
              "      <th>NonHelpfulVotes</th>\n",
              "      <th>ASIN</th>\n",
              "      <th>label_code</th>\n",
              "      <th>0</th>\n",
              "      <th>1</th>\n",
              "      <th>2</th>\n",
              "      <th>3</th>\n",
              "      <th>Helpful-Votes</th>\n",
              "    </tr>\n",
              "  </thead>\n",
              "  <tbody>\n",
              "    <tr>\n",
              "      <th>315646</th>\n",
              "      <td>319314</td>\n",
              "      <td>Change Your Child's Behavior by Changing Yours...</td>\n",
              "      <td>general parent disciplin book subject famili</td>\n",
              "      <td>392117</td>\n",
              "      <td>1</td>\n",
              "      <td>5.0</td>\n",
              "      <td>8</td>\n",
              "      <td>81</td>\n",
              "      <td>73</td>\n",
              "      <td>0517884631</td>\n",
              "      <td>0</td>\n",
              "      <td>1.0</td>\n",
              "      <td>0.0</td>\n",
              "      <td>0.0</td>\n",
              "      <td>0.0</td>\n",
              "      <td>-73</td>\n",
              "    </tr>\n",
              "    <tr>\n",
              "      <th>37201</th>\n",
              "      <td>37632</td>\n",
              "      <td>Practical Aspects of Interview and Interrogati...</td>\n",
              "      <td>general subject book refer</td>\n",
              "      <td>731029</td>\n",
              "      <td>5</td>\n",
              "      <td>5.0</td>\n",
              "      <td>8</td>\n",
              "      <td>51</td>\n",
              "      <td>43</td>\n",
              "      <td>0849395208</td>\n",
              "      <td>0</td>\n",
              "      <td>1.0</td>\n",
              "      <td>0.0</td>\n",
              "      <td>0.0</td>\n",
              "      <td>0.0</td>\n",
              "      <td>-43</td>\n",
              "    </tr>\n",
              "    <tr>\n",
              "      <th>213137</th>\n",
              "      <td>215571</td>\n",
              "      <td>Practical Aspects of Interview and Interrogati...</td>\n",
              "      <td>general procedur nonfict profession technic cr...</td>\n",
              "      <td>165545</td>\n",
              "      <td>5</td>\n",
              "      <td>5.0</td>\n",
              "      <td>8</td>\n",
              "      <td>51</td>\n",
              "      <td>43</td>\n",
              "      <td>0849301017</td>\n",
              "      <td>0</td>\n",
              "      <td>1.0</td>\n",
              "      <td>0.0</td>\n",
              "      <td>0.0</td>\n",
              "      <td>0.0</td>\n",
              "      <td>-43</td>\n",
              "    </tr>\n",
              "    <tr>\n",
              "      <th>473759</th>\n",
              "      <td>479187</td>\n",
              "      <td>Results-Oriented Job Descriptions: More Than 2...</td>\n",
              "      <td>general amazon resourc industri career personn...</td>\n",
              "      <td>472319</td>\n",
              "      <td>3</td>\n",
              "      <td>5.0</td>\n",
              "      <td>8</td>\n",
              "      <td>49</td>\n",
              "      <td>41</td>\n",
              "      <td>0814478069</td>\n",
              "      <td>0</td>\n",
              "      <td>1.0</td>\n",
              "      <td>0.0</td>\n",
              "      <td>0.0</td>\n",
              "      <td>0.0</td>\n",
              "      <td>-41</td>\n",
              "    </tr>\n",
              "    <tr>\n",
              "      <th>505771</th>\n",
              "      <td>511587</td>\n",
              "      <td>Decorative Letters CD-ROM and Book (Dover Elec...</td>\n",
              "      <td>general graphic design art photographi ornamen...</td>\n",
              "      <td>130537</td>\n",
              "      <td>4</td>\n",
              "      <td>5.0</td>\n",
              "      <td>8</td>\n",
              "      <td>45</td>\n",
              "      <td>37</td>\n",
              "      <td>0486999424</td>\n",
              "      <td>0</td>\n",
              "      <td>1.0</td>\n",
              "      <td>0.0</td>\n",
              "      <td>0.0</td>\n",
              "      <td>0.0</td>\n",
              "      <td>-37</td>\n",
              "    </tr>\n",
              "    <tr>\n",
              "      <th>48115</th>\n",
              "      <td>48645</td>\n",
              "      <td>Log Cabins (Architecture and Design Library)</td>\n",
              "      <td>general garden photographi architectur essay p...</td>\n",
              "      <td>489670</td>\n",
              "      <td>1</td>\n",
              "      <td>5.0</td>\n",
              "      <td>8</td>\n",
              "      <td>43</td>\n",
              "      <td>35</td>\n",
              "      <td>1567997236</td>\n",
              "      <td>0</td>\n",
              "      <td>1.0</td>\n",
              "      <td>0.0</td>\n",
              "      <td>0.0</td>\n",
              "      <td>0.0</td>\n",
              "      <td>-35</td>\n",
              "    </tr>\n",
              "    <tr>\n",
              "      <th>218064</th>\n",
              "      <td>220551</td>\n",
              "      <td>Berlioz: Symphonie fantastique</td>\n",
              "      <td>general symphoni music amazon hector b bargain...</td>\n",
              "      <td>9463</td>\n",
              "      <td>4</td>\n",
              "      <td>5.0</td>\n",
              "      <td>8</td>\n",
              "      <td>42</td>\n",
              "      <td>34</td>\n",
              "      <td>B000003FI2</td>\n",
              "      <td>0</td>\n",
              "      <td>0.0</td>\n",
              "      <td>0.0</td>\n",
              "      <td>1.0</td>\n",
              "      <td>0.0</td>\n",
              "      <td>-34</td>\n",
              "    </tr>\n",
              "    <tr>\n",
              "      <th>237457</th>\n",
              "      <td>240151</td>\n",
              "      <td>Smith &amp; Hawken: Hands On Gardener: Composting ...</td>\n",
              "      <td>general garden home horticultur techniqu book ...</td>\n",
              "      <td>271609</td>\n",
              "      <td>3</td>\n",
              "      <td>5.0</td>\n",
              "      <td>8</td>\n",
              "      <td>40</td>\n",
              "      <td>32</td>\n",
              "      <td>0761107320</td>\n",
              "      <td>0</td>\n",
              "      <td>1.0</td>\n",
              "      <td>0.0</td>\n",
              "      <td>0.0</td>\n",
              "      <td>0.0</td>\n",
              "      <td>-32</td>\n",
              "    </tr>\n",
              "    <tr>\n",
              "      <th>292791</th>\n",
              "      <td>296125</td>\n",
              "      <td>Beauty in Exile: The Artists, Models, and Nobi...</td>\n",
              "      <td>general garden fashion design art photographi ...</td>\n",
              "      <td>315890</td>\n",
              "      <td>2</td>\n",
              "      <td>5.0</td>\n",
              "      <td>8</td>\n",
              "      <td>39</td>\n",
              "      <td>31</td>\n",
              "      <td>0810957019</td>\n",
              "      <td>0</td>\n",
              "      <td>1.0</td>\n",
              "      <td>0.0</td>\n",
              "      <td>0.0</td>\n",
              "      <td>0.0</td>\n",
              "      <td>-31</td>\n",
              "    </tr>\n",
              "    <tr>\n",
              "      <th>11607</th>\n",
              "      <td>11718</td>\n",
              "      <td>Grammar Wars: 179 Games and Improvs for Learni...</td>\n",
              "      <td>general word grammar book subject languag comm...</td>\n",
              "      <td>457522</td>\n",
              "      <td>4</td>\n",
              "      <td>5.0</td>\n",
              "      <td>8</td>\n",
              "      <td>38</td>\n",
              "      <td>30</td>\n",
              "      <td>1566080630</td>\n",
              "      <td>0</td>\n",
              "      <td>1.0</td>\n",
              "      <td>0.0</td>\n",
              "      <td>0.0</td>\n",
              "      <td>0.0</td>\n",
              "      <td>-30</td>\n",
              "    </tr>\n",
              "  </tbody>\n",
              "</table>\n",
              "</div>\n",
              "      <button class=\"colab-df-convert\" onclick=\"convertToInteractive('df-e2668fba-ec25-4841-b95a-75ccf3d5e2bb')\"\n",
              "              title=\"Convert this dataframe to an interactive table.\"\n",
              "              style=\"display:none;\">\n",
              "        \n",
              "  <svg xmlns=\"http://www.w3.org/2000/svg\" height=\"24px\"viewBox=\"0 0 24 24\"\n",
              "       width=\"24px\">\n",
              "    <path d=\"M0 0h24v24H0V0z\" fill=\"none\"/>\n",
              "    <path d=\"M18.56 5.44l.94 2.06.94-2.06 2.06-.94-2.06-.94-.94-2.06-.94 2.06-2.06.94zm-11 1L8.5 8.5l.94-2.06 2.06-.94-2.06-.94L8.5 2.5l-.94 2.06-2.06.94zm10 10l.94 2.06.94-2.06 2.06-.94-2.06-.94-.94-2.06-.94 2.06-2.06.94z\"/><path d=\"M17.41 7.96l-1.37-1.37c-.4-.4-.92-.59-1.43-.59-.52 0-1.04.2-1.43.59L10.3 9.45l-7.72 7.72c-.78.78-.78 2.05 0 2.83L4 21.41c.39.39.9.59 1.41.59.51 0 1.02-.2 1.41-.59l7.78-7.78 2.81-2.81c.8-.78.8-2.07 0-2.86zM5.41 20L4 18.59l7.72-7.72 1.47 1.35L5.41 20z\"/>\n",
              "  </svg>\n",
              "      </button>\n",
              "      \n",
              "  <style>\n",
              "    .colab-df-container {\n",
              "      display:flex;\n",
              "      flex-wrap:wrap;\n",
              "      gap: 12px;\n",
              "    }\n",
              "\n",
              "    .colab-df-convert {\n",
              "      background-color: #E8F0FE;\n",
              "      border: none;\n",
              "      border-radius: 50%;\n",
              "      cursor: pointer;\n",
              "      display: none;\n",
              "      fill: #1967D2;\n",
              "      height: 32px;\n",
              "      padding: 0 0 0 0;\n",
              "      width: 32px;\n",
              "    }\n",
              "\n",
              "    .colab-df-convert:hover {\n",
              "      background-color: #E2EBFA;\n",
              "      box-shadow: 0px 1px 2px rgba(60, 64, 67, 0.3), 0px 1px 3px 1px rgba(60, 64, 67, 0.15);\n",
              "      fill: #174EA6;\n",
              "    }\n",
              "\n",
              "    [theme=dark] .colab-df-convert {\n",
              "      background-color: #3B4455;\n",
              "      fill: #D2E3FC;\n",
              "    }\n",
              "\n",
              "    [theme=dark] .colab-df-convert:hover {\n",
              "      background-color: #434B5C;\n",
              "      box-shadow: 0px 1px 3px 1px rgba(0, 0, 0, 0.15);\n",
              "      filter: drop-shadow(0px 1px 2px rgba(0, 0, 0, 0.3));\n",
              "      fill: #FFFFFF;\n",
              "    }\n",
              "  </style>\n",
              "\n",
              "      <script>\n",
              "        const buttonEl =\n",
              "          document.querySelector('#df-e2668fba-ec25-4841-b95a-75ccf3d5e2bb button.colab-df-convert');\n",
              "        buttonEl.style.display =\n",
              "          google.colab.kernel.accessAllowed ? 'block' : 'none';\n",
              "\n",
              "        async function convertToInteractive(key) {\n",
              "          const element = document.querySelector('#df-e2668fba-ec25-4841-b95a-75ccf3d5e2bb');\n",
              "          const dataTable =\n",
              "            await google.colab.kernel.invokeFunction('convertToInteractive',\n",
              "                                                     [key], {});\n",
              "          if (!dataTable) return;\n",
              "\n",
              "          const docLinkHtml = 'Like what you see? Visit the ' +\n",
              "            '<a target=\"_blank\" href=https://colab.research.google.com/notebooks/data_table.ipynb>data table notebook</a>'\n",
              "            + ' to learn more about interactive tables.';\n",
              "          element.innerHTML = '';\n",
              "          dataTable['output_type'] = 'display_data';\n",
              "          await google.colab.output.renderOutput(dataTable, element);\n",
              "          const docLink = document.createElement('div');\n",
              "          docLink.innerHTML = docLinkHtml;\n",
              "          element.appendChild(docLink);\n",
              "        }\n",
              "      </script>\n",
              "    </div>\n",
              "  </div>\n",
              "  "
            ]
          },
          "metadata": {},
          "execution_count": 35
        }
      ]
    },
    {
      "cell_type": "code",
      "source": [
        "df_counter1 = df_counter.loc[df_counter['label_code'] == 1]\n",
        "df_counter1[:10]"
      ],
      "metadata": {
        "colab": {
          "base_uri": "https://localhost:8080/",
          "height": 580
        },
        "id": "xwfbRwAgE9sc",
        "outputId": "afaf0efd-da11-4659-852c-a4a3c71fec63"
      },
      "execution_count": 36,
      "outputs": [
        {
          "output_type": "execute_result",
          "data": {
            "text/plain": [
              "            Id                                              Title  \\\n",
              "75281    76090                                   Visualizing Data   \n",
              "75823    76634                                 Remembering Farley   \n",
              "369171  373415                       Northrop Frye on Shakespeare   \n",
              "252929  255813                                      Zappa in N.Y.   \n",
              "230823  233445  Where the Birds Are: The 100 Best Birdwatching...   \n",
              "103406  104550                                  The Wasp Cookbook   \n",
              "257239  260175                  The Supreme Court's Greatest Hits   \n",
              "378536  382890     I Know Why the Caged Bird Sings (Cliffs Notes)   \n",
              "182540  184516               Color, Environment, & Human Response   \n",
              "49338    49881                                        Miles to Go   \n",
              "\n",
              "                                               Categories SalesRank  \\\n",
              "75281                          general subject book refer    230851   \n",
              "75823   general humor graphic entertain book comic sub...    458983   \n",
              "369171  general world fiction z author f shakespear cr...     64522   \n",
              "252929  progress indi album specialti music style live...     13162   \n",
              "230823  general field bird guid natur book subject out...    555781   \n",
              "103406  general humor intern food entertain cook u reg...     68170   \n",
              "257239  general cd technic profession system constitut...    615037   \n",
              "378536                       educ note book subject refer    197842   \n",
              "182540  general garden textbook new architectur enviro...    313182   \n",
              "49338   general indi specialti music style pop store a...    193752   \n",
              "\n",
              "       TotalReviews AvgRating  Helpful Votes NonHelpfulVotes        ASIN  \\\n",
              "75281             4       5.0       35   101              66  0963488406   \n",
              "75823             7       5.0       35    91              56  0836213092   \n",
              "369171            5       5.0       35    87              52  0300042086   \n",
              "252929           14       5.0       35    81              46  B0000009SS   \n",
              "230823            3       5.0       35    73              38  0789471698   \n",
              "103406           10       5.0       35    72              37  0446912107   \n",
              "257239           11       5.0       35    70              35  0810116642   \n",
              "378536            8       5.0       35    70              35  0822006413   \n",
              "182540            2       5.0       35    68              33  0471286672   \n",
              "49338            12       5.0       35    67              32  B00006OAO2   \n",
              "\n",
              "        label_code    0    1    2    3 Helpful-Votes  \n",
              "75281            1  1.0  0.0  0.0  0.0           -66  \n",
              "75823            1  1.0  0.0  0.0  0.0           -56  \n",
              "369171           1  1.0  0.0  0.0  0.0           -52  \n",
              "252929           1  0.0  0.0  1.0  0.0           -46  \n",
              "230823           1  1.0  0.0  0.0  0.0           -38  \n",
              "103406           1  1.0  0.0  0.0  0.0           -37  \n",
              "257239           1  1.0  0.0  0.0  0.0           -35  \n",
              "378536           1  1.0  0.0  0.0  0.0           -35  \n",
              "182540           1  1.0  0.0  0.0  0.0           -33  \n",
              "49338            1  0.0  0.0  1.0  0.0           -32  "
            ],
            "text/html": [
              "\n",
              "  <div id=\"df-a7848cf3-ca8e-4922-97e7-f093430ba12a\">\n",
              "    <div class=\"colab-df-container\">\n",
              "      <div>\n",
              "<style scoped>\n",
              "    .dataframe tbody tr th:only-of-type {\n",
              "        vertical-align: middle;\n",
              "    }\n",
              "\n",
              "    .dataframe tbody tr th {\n",
              "        vertical-align: top;\n",
              "    }\n",
              "\n",
              "    .dataframe thead th {\n",
              "        text-align: right;\n",
              "    }\n",
              "</style>\n",
              "<table border=\"1\" class=\"dataframe\">\n",
              "  <thead>\n",
              "    <tr style=\"text-align: right;\">\n",
              "      <th></th>\n",
              "      <th>Id</th>\n",
              "      <th>Title</th>\n",
              "      <th>Categories</th>\n",
              "      <th>SalesRank</th>\n",
              "      <th>TotalReviews</th>\n",
              "      <th>AvgRating</th>\n",
              "      <th>Helpful</th>\n",
              "      <th>Votes</th>\n",
              "      <th>NonHelpfulVotes</th>\n",
              "      <th>ASIN</th>\n",
              "      <th>label_code</th>\n",
              "      <th>0</th>\n",
              "      <th>1</th>\n",
              "      <th>2</th>\n",
              "      <th>3</th>\n",
              "      <th>Helpful-Votes</th>\n",
              "    </tr>\n",
              "  </thead>\n",
              "  <tbody>\n",
              "    <tr>\n",
              "      <th>75281</th>\n",
              "      <td>76090</td>\n",
              "      <td>Visualizing Data</td>\n",
              "      <td>general subject book refer</td>\n",
              "      <td>230851</td>\n",
              "      <td>4</td>\n",
              "      <td>5.0</td>\n",
              "      <td>35</td>\n",
              "      <td>101</td>\n",
              "      <td>66</td>\n",
              "      <td>0963488406</td>\n",
              "      <td>1</td>\n",
              "      <td>1.0</td>\n",
              "      <td>0.0</td>\n",
              "      <td>0.0</td>\n",
              "      <td>0.0</td>\n",
              "      <td>-66</td>\n",
              "    </tr>\n",
              "    <tr>\n",
              "      <th>75823</th>\n",
              "      <td>76634</td>\n",
              "      <td>Remembering Farley</td>\n",
              "      <td>general humor graphic entertain book comic sub...</td>\n",
              "      <td>458983</td>\n",
              "      <td>7</td>\n",
              "      <td>5.0</td>\n",
              "      <td>35</td>\n",
              "      <td>91</td>\n",
              "      <td>56</td>\n",
              "      <td>0836213092</td>\n",
              "      <td>1</td>\n",
              "      <td>1.0</td>\n",
              "      <td>0.0</td>\n",
              "      <td>0.0</td>\n",
              "      <td>0.0</td>\n",
              "      <td>-56</td>\n",
              "    </tr>\n",
              "    <tr>\n",
              "      <th>369171</th>\n",
              "      <td>373415</td>\n",
              "      <td>Northrop Frye on Shakespeare</td>\n",
              "      <td>general world fiction z author f shakespear cr...</td>\n",
              "      <td>64522</td>\n",
              "      <td>5</td>\n",
              "      <td>5.0</td>\n",
              "      <td>35</td>\n",
              "      <td>87</td>\n",
              "      <td>52</td>\n",
              "      <td>0300042086</td>\n",
              "      <td>1</td>\n",
              "      <td>1.0</td>\n",
              "      <td>0.0</td>\n",
              "      <td>0.0</td>\n",
              "      <td>0.0</td>\n",
              "      <td>-52</td>\n",
              "    </tr>\n",
              "    <tr>\n",
              "      <th>252929</th>\n",
              "      <td>255813</td>\n",
              "      <td>Zappa in N.Y.</td>\n",
              "      <td>progress indi album specialti music style live...</td>\n",
              "      <td>13162</td>\n",
              "      <td>14</td>\n",
              "      <td>5.0</td>\n",
              "      <td>35</td>\n",
              "      <td>81</td>\n",
              "      <td>46</td>\n",
              "      <td>B0000009SS</td>\n",
              "      <td>1</td>\n",
              "      <td>0.0</td>\n",
              "      <td>0.0</td>\n",
              "      <td>1.0</td>\n",
              "      <td>0.0</td>\n",
              "      <td>-46</td>\n",
              "    </tr>\n",
              "    <tr>\n",
              "      <th>230823</th>\n",
              "      <td>233445</td>\n",
              "      <td>Where the Birds Are: The 100 Best Birdwatching...</td>\n",
              "      <td>general field bird guid natur book subject out...</td>\n",
              "      <td>555781</td>\n",
              "      <td>3</td>\n",
              "      <td>5.0</td>\n",
              "      <td>35</td>\n",
              "      <td>73</td>\n",
              "      <td>38</td>\n",
              "      <td>0789471698</td>\n",
              "      <td>1</td>\n",
              "      <td>1.0</td>\n",
              "      <td>0.0</td>\n",
              "      <td>0.0</td>\n",
              "      <td>0.0</td>\n",
              "      <td>-38</td>\n",
              "    </tr>\n",
              "    <tr>\n",
              "      <th>103406</th>\n",
              "      <td>104550</td>\n",
              "      <td>The Wasp Cookbook</td>\n",
              "      <td>general humor intern food entertain cook u reg...</td>\n",
              "      <td>68170</td>\n",
              "      <td>10</td>\n",
              "      <td>5.0</td>\n",
              "      <td>35</td>\n",
              "      <td>72</td>\n",
              "      <td>37</td>\n",
              "      <td>0446912107</td>\n",
              "      <td>1</td>\n",
              "      <td>1.0</td>\n",
              "      <td>0.0</td>\n",
              "      <td>0.0</td>\n",
              "      <td>0.0</td>\n",
              "      <td>-37</td>\n",
              "    </tr>\n",
              "    <tr>\n",
              "      <th>257239</th>\n",
              "      <td>260175</td>\n",
              "      <td>The Supreme Court's Greatest Hits</td>\n",
              "      <td>general cd technic profession system constitut...</td>\n",
              "      <td>615037</td>\n",
              "      <td>11</td>\n",
              "      <td>5.0</td>\n",
              "      <td>35</td>\n",
              "      <td>70</td>\n",
              "      <td>35</td>\n",
              "      <td>0810116642</td>\n",
              "      <td>1</td>\n",
              "      <td>1.0</td>\n",
              "      <td>0.0</td>\n",
              "      <td>0.0</td>\n",
              "      <td>0.0</td>\n",
              "      <td>-35</td>\n",
              "    </tr>\n",
              "    <tr>\n",
              "      <th>378536</th>\n",
              "      <td>382890</td>\n",
              "      <td>I Know Why the Caged Bird Sings (Cliffs Notes)</td>\n",
              "      <td>educ note book subject refer</td>\n",
              "      <td>197842</td>\n",
              "      <td>8</td>\n",
              "      <td>5.0</td>\n",
              "      <td>35</td>\n",
              "      <td>70</td>\n",
              "      <td>35</td>\n",
              "      <td>0822006413</td>\n",
              "      <td>1</td>\n",
              "      <td>1.0</td>\n",
              "      <td>0.0</td>\n",
              "      <td>0.0</td>\n",
              "      <td>0.0</td>\n",
              "      <td>-35</td>\n",
              "    </tr>\n",
              "    <tr>\n",
              "      <th>182540</th>\n",
              "      <td>184516</td>\n",
              "      <td>Color, Environment, &amp; Human Response</td>\n",
              "      <td>general garden textbook new architectur enviro...</td>\n",
              "      <td>313182</td>\n",
              "      <td>2</td>\n",
              "      <td>5.0</td>\n",
              "      <td>35</td>\n",
              "      <td>68</td>\n",
              "      <td>33</td>\n",
              "      <td>0471286672</td>\n",
              "      <td>1</td>\n",
              "      <td>1.0</td>\n",
              "      <td>0.0</td>\n",
              "      <td>0.0</td>\n",
              "      <td>0.0</td>\n",
              "      <td>-33</td>\n",
              "    </tr>\n",
              "    <tr>\n",
              "      <th>49338</th>\n",
              "      <td>49881</td>\n",
              "      <td>Miles to Go</td>\n",
              "      <td>general indi specialti music style pop store a...</td>\n",
              "      <td>193752</td>\n",
              "      <td>12</td>\n",
              "      <td>5.0</td>\n",
              "      <td>35</td>\n",
              "      <td>67</td>\n",
              "      <td>32</td>\n",
              "      <td>B00006OAO2</td>\n",
              "      <td>1</td>\n",
              "      <td>0.0</td>\n",
              "      <td>0.0</td>\n",
              "      <td>1.0</td>\n",
              "      <td>0.0</td>\n",
              "      <td>-32</td>\n",
              "    </tr>\n",
              "  </tbody>\n",
              "</table>\n",
              "</div>\n",
              "      <button class=\"colab-df-convert\" onclick=\"convertToInteractive('df-a7848cf3-ca8e-4922-97e7-f093430ba12a')\"\n",
              "              title=\"Convert this dataframe to an interactive table.\"\n",
              "              style=\"display:none;\">\n",
              "        \n",
              "  <svg xmlns=\"http://www.w3.org/2000/svg\" height=\"24px\"viewBox=\"0 0 24 24\"\n",
              "       width=\"24px\">\n",
              "    <path d=\"M0 0h24v24H0V0z\" fill=\"none\"/>\n",
              "    <path d=\"M18.56 5.44l.94 2.06.94-2.06 2.06-.94-2.06-.94-.94-2.06-.94 2.06-2.06.94zm-11 1L8.5 8.5l.94-2.06 2.06-.94-2.06-.94L8.5 2.5l-.94 2.06-2.06.94zm10 10l.94 2.06.94-2.06 2.06-.94-2.06-.94-.94-2.06-.94 2.06-2.06.94z\"/><path d=\"M17.41 7.96l-1.37-1.37c-.4-.4-.92-.59-1.43-.59-.52 0-1.04.2-1.43.59L10.3 9.45l-7.72 7.72c-.78.78-.78 2.05 0 2.83L4 21.41c.39.39.9.59 1.41.59.51 0 1.02-.2 1.41-.59l7.78-7.78 2.81-2.81c.8-.78.8-2.07 0-2.86zM5.41 20L4 18.59l7.72-7.72 1.47 1.35L5.41 20z\"/>\n",
              "  </svg>\n",
              "      </button>\n",
              "      \n",
              "  <style>\n",
              "    .colab-df-container {\n",
              "      display:flex;\n",
              "      flex-wrap:wrap;\n",
              "      gap: 12px;\n",
              "    }\n",
              "\n",
              "    .colab-df-convert {\n",
              "      background-color: #E8F0FE;\n",
              "      border: none;\n",
              "      border-radius: 50%;\n",
              "      cursor: pointer;\n",
              "      display: none;\n",
              "      fill: #1967D2;\n",
              "      height: 32px;\n",
              "      padding: 0 0 0 0;\n",
              "      width: 32px;\n",
              "    }\n",
              "\n",
              "    .colab-df-convert:hover {\n",
              "      background-color: #E2EBFA;\n",
              "      box-shadow: 0px 1px 2px rgba(60, 64, 67, 0.3), 0px 1px 3px 1px rgba(60, 64, 67, 0.15);\n",
              "      fill: #174EA6;\n",
              "    }\n",
              "\n",
              "    [theme=dark] .colab-df-convert {\n",
              "      background-color: #3B4455;\n",
              "      fill: #D2E3FC;\n",
              "    }\n",
              "\n",
              "    [theme=dark] .colab-df-convert:hover {\n",
              "      background-color: #434B5C;\n",
              "      box-shadow: 0px 1px 3px 1px rgba(0, 0, 0, 0.15);\n",
              "      filter: drop-shadow(0px 1px 2px rgba(0, 0, 0, 0.3));\n",
              "      fill: #FFFFFF;\n",
              "    }\n",
              "  </style>\n",
              "\n",
              "      <script>\n",
              "        const buttonEl =\n",
              "          document.querySelector('#df-a7848cf3-ca8e-4922-97e7-f093430ba12a button.colab-df-convert');\n",
              "        buttonEl.style.display =\n",
              "          google.colab.kernel.accessAllowed ? 'block' : 'none';\n",
              "\n",
              "        async function convertToInteractive(key) {\n",
              "          const element = document.querySelector('#df-a7848cf3-ca8e-4922-97e7-f093430ba12a');\n",
              "          const dataTable =\n",
              "            await google.colab.kernel.invokeFunction('convertToInteractive',\n",
              "                                                     [key], {});\n",
              "          if (!dataTable) return;\n",
              "\n",
              "          const docLinkHtml = 'Like what you see? Visit the ' +\n",
              "            '<a target=\"_blank\" href=https://colab.research.google.com/notebooks/data_table.ipynb>data table notebook</a>'\n",
              "            + ' to learn more about interactive tables.';\n",
              "          element.innerHTML = '';\n",
              "          dataTable['output_type'] = 'display_data';\n",
              "          await google.colab.output.renderOutput(dataTable, element);\n",
              "          const docLink = document.createElement('div');\n",
              "          docLink.innerHTML = docLinkHtml;\n",
              "          element.appendChild(docLink);\n",
              "        }\n",
              "      </script>\n",
              "    </div>\n",
              "  </div>\n",
              "  "
            ]
          },
          "metadata": {},
          "execution_count": 36
        }
      ]
    },
    {
      "cell_type": "code",
      "source": [
        "df_counter2 = df_counter.loc[df_counter['label_code'] == 2]\n",
        "df_counter2[:10]"
      ],
      "metadata": {
        "colab": {
          "base_uri": "https://localhost:8080/",
          "height": 580
        },
        "id": "DS9SYfxjGgqL",
        "outputId": "851be8fb-95b1-4bcf-fcd8-c9f07bf30957"
      },
      "execution_count": 37,
      "outputs": [
        {
          "output_type": "execute_result",
          "data": {
            "text/plain": [
              "            Id                                              Title  \\\n",
              "224194  226761                                    Thief of Hearts   \n",
              "83949    84842  Harry Potter and the Goblet of Fire (Book 4 Au...   \n",
              "538454  544342  Harry Potter and the Goblet of Fire (Book 4, A...   \n",
              "521437  527309       Harry Potter and the Goblet of Fire (Book 4)   \n",
              "424249  429123       Harry Potter and the Goblet of Fire (Book 4)   \n",
              "307787  311376       Harry Potter and the Goblet of Fire (Book 4)   \n",
              "4692      4739       Harry Potter and the Goblet of Fire (Book 4)   \n",
              "526432  532306               Looking For-Best of David Hasselhoff   \n",
              "248073  250879  Harry Potter and the Sorcerer's Stone (Book 1 ...   \n",
              "209087  211463  Harry Potter and the Sorcerer's Stone (Book 1 ...   \n",
              "\n",
              "                                               Categories SalesRank  \\\n",
              "224194  general sleuth women mysteri book subject thri...    168904   \n",
              "83949   general humor potter author tape audio j seri ...       661   \n",
              "538454  general humor potter author tape audio j seri ...      5031   \n",
              "521437  general potter author j seri illustr z book su...       404   \n",
              "424249  general humor potter author j seri illustr har...       327   \n",
              "307787  general humor potter author j print seri illus...    285760   \n",
              "4692    general potter author j seri illustr z book su...    868892   \n",
              "526432              general music style broadway vocalist    176907   \n",
              "248073  general humor potter author tape audio j seri ...    990191   \n",
              "209087  general humor potter author tape audio j seri ...      1533   \n",
              "\n",
              "       TotalReviews AvgRating  Helpful  Votes NonHelpfulVotes        ASIN  \\\n",
              "224194          276       5.0     7959   8702             743  1588515591   \n",
              "83949          4924       5.0     6871  13975            7104  0807282596   \n",
              "538454         4924       5.0     6801  13659            6858  0807282588   \n",
              "521437         4924       5.0     6796  13646            6850  0439139600   \n",
              "424249         4924       5.0     6795  13691            6896  0439139597   \n",
              "307787         4924       5.0     6795  13617            6822  0786229276   \n",
              "4692           4921       5.0     6696  13572            6876  0939173379   \n",
              "526432         1084       5.0     6500   7363             863  B0000070S1   \n",
              "248073         5039       5.0     5815   9924            4109  0807286001   \n",
              "209087         5039       5.0     5813  10037            4224  0807281956   \n",
              "\n",
              "        label_code    0    1    2    3 Helpful-Votes  \n",
              "224194           2  1.0  0.0  0.0  0.0          -743  \n",
              "83949            2  1.0  0.0  0.0  0.0         -7104  \n",
              "538454           2  1.0  0.0  0.0  0.0         -6858  \n",
              "521437           2  1.0  0.0  0.0  0.0         -6850  \n",
              "424249           2  1.0  0.0  0.0  0.0         -6896  \n",
              "307787           2  1.0  0.0  0.0  0.0         -6822  \n",
              "4692             2  1.0  0.0  0.0  0.0         -6876  \n",
              "526432           2  0.0  0.0  1.0  0.0          -863  \n",
              "248073           2  1.0  0.0  0.0  0.0         -4109  \n",
              "209087           2  1.0  0.0  0.0  0.0         -4224  "
            ],
            "text/html": [
              "\n",
              "  <div id=\"df-8530dc2c-bd49-496b-ba64-5a7a2c67c60a\">\n",
              "    <div class=\"colab-df-container\">\n",
              "      <div>\n",
              "<style scoped>\n",
              "    .dataframe tbody tr th:only-of-type {\n",
              "        vertical-align: middle;\n",
              "    }\n",
              "\n",
              "    .dataframe tbody tr th {\n",
              "        vertical-align: top;\n",
              "    }\n",
              "\n",
              "    .dataframe thead th {\n",
              "        text-align: right;\n",
              "    }\n",
              "</style>\n",
              "<table border=\"1\" class=\"dataframe\">\n",
              "  <thead>\n",
              "    <tr style=\"text-align: right;\">\n",
              "      <th></th>\n",
              "      <th>Id</th>\n",
              "      <th>Title</th>\n",
              "      <th>Categories</th>\n",
              "      <th>SalesRank</th>\n",
              "      <th>TotalReviews</th>\n",
              "      <th>AvgRating</th>\n",
              "      <th>Helpful</th>\n",
              "      <th>Votes</th>\n",
              "      <th>NonHelpfulVotes</th>\n",
              "      <th>ASIN</th>\n",
              "      <th>label_code</th>\n",
              "      <th>0</th>\n",
              "      <th>1</th>\n",
              "      <th>2</th>\n",
              "      <th>3</th>\n",
              "      <th>Helpful-Votes</th>\n",
              "    </tr>\n",
              "  </thead>\n",
              "  <tbody>\n",
              "    <tr>\n",
              "      <th>224194</th>\n",
              "      <td>226761</td>\n",
              "      <td>Thief of Hearts</td>\n",
              "      <td>general sleuth women mysteri book subject thri...</td>\n",
              "      <td>168904</td>\n",
              "      <td>276</td>\n",
              "      <td>5.0</td>\n",
              "      <td>7959</td>\n",
              "      <td>8702</td>\n",
              "      <td>743</td>\n",
              "      <td>1588515591</td>\n",
              "      <td>2</td>\n",
              "      <td>1.0</td>\n",
              "      <td>0.0</td>\n",
              "      <td>0.0</td>\n",
              "      <td>0.0</td>\n",
              "      <td>-743</td>\n",
              "    </tr>\n",
              "    <tr>\n",
              "      <th>83949</th>\n",
              "      <td>84842</td>\n",
              "      <td>Harry Potter and the Goblet of Fire (Book 4 Au...</td>\n",
              "      <td>general humor potter author tape audio j seri ...</td>\n",
              "      <td>661</td>\n",
              "      <td>4924</td>\n",
              "      <td>5.0</td>\n",
              "      <td>6871</td>\n",
              "      <td>13975</td>\n",
              "      <td>7104</td>\n",
              "      <td>0807282596</td>\n",
              "      <td>2</td>\n",
              "      <td>1.0</td>\n",
              "      <td>0.0</td>\n",
              "      <td>0.0</td>\n",
              "      <td>0.0</td>\n",
              "      <td>-7104</td>\n",
              "    </tr>\n",
              "    <tr>\n",
              "      <th>538454</th>\n",
              "      <td>544342</td>\n",
              "      <td>Harry Potter and the Goblet of Fire (Book 4, A...</td>\n",
              "      <td>general humor potter author tape audio j seri ...</td>\n",
              "      <td>5031</td>\n",
              "      <td>4924</td>\n",
              "      <td>5.0</td>\n",
              "      <td>6801</td>\n",
              "      <td>13659</td>\n",
              "      <td>6858</td>\n",
              "      <td>0807282588</td>\n",
              "      <td>2</td>\n",
              "      <td>1.0</td>\n",
              "      <td>0.0</td>\n",
              "      <td>0.0</td>\n",
              "      <td>0.0</td>\n",
              "      <td>-6858</td>\n",
              "    </tr>\n",
              "    <tr>\n",
              "      <th>521437</th>\n",
              "      <td>527309</td>\n",
              "      <td>Harry Potter and the Goblet of Fire (Book 4)</td>\n",
              "      <td>general potter author j seri illustr z book su...</td>\n",
              "      <td>404</td>\n",
              "      <td>4924</td>\n",
              "      <td>5.0</td>\n",
              "      <td>6796</td>\n",
              "      <td>13646</td>\n",
              "      <td>6850</td>\n",
              "      <td>0439139600</td>\n",
              "      <td>2</td>\n",
              "      <td>1.0</td>\n",
              "      <td>0.0</td>\n",
              "      <td>0.0</td>\n",
              "      <td>0.0</td>\n",
              "      <td>-6850</td>\n",
              "    </tr>\n",
              "    <tr>\n",
              "      <th>424249</th>\n",
              "      <td>429123</td>\n",
              "      <td>Harry Potter and the Goblet of Fire (Book 4)</td>\n",
              "      <td>general humor potter author j seri illustr har...</td>\n",
              "      <td>327</td>\n",
              "      <td>4924</td>\n",
              "      <td>5.0</td>\n",
              "      <td>6795</td>\n",
              "      <td>13691</td>\n",
              "      <td>6896</td>\n",
              "      <td>0439139597</td>\n",
              "      <td>2</td>\n",
              "      <td>1.0</td>\n",
              "      <td>0.0</td>\n",
              "      <td>0.0</td>\n",
              "      <td>0.0</td>\n",
              "      <td>-6896</td>\n",
              "    </tr>\n",
              "    <tr>\n",
              "      <th>307787</th>\n",
              "      <td>311376</td>\n",
              "      <td>Harry Potter and the Goblet of Fire (Book 4)</td>\n",
              "      <td>general humor potter author j print seri illus...</td>\n",
              "      <td>285760</td>\n",
              "      <td>4924</td>\n",
              "      <td>5.0</td>\n",
              "      <td>6795</td>\n",
              "      <td>13617</td>\n",
              "      <td>6822</td>\n",
              "      <td>0786229276</td>\n",
              "      <td>2</td>\n",
              "      <td>1.0</td>\n",
              "      <td>0.0</td>\n",
              "      <td>0.0</td>\n",
              "      <td>0.0</td>\n",
              "      <td>-6822</td>\n",
              "    </tr>\n",
              "    <tr>\n",
              "      <th>4692</th>\n",
              "      <td>4739</td>\n",
              "      <td>Harry Potter and the Goblet of Fire (Book 4)</td>\n",
              "      <td>general potter author j seri illustr z book su...</td>\n",
              "      <td>868892</td>\n",
              "      <td>4921</td>\n",
              "      <td>5.0</td>\n",
              "      <td>6696</td>\n",
              "      <td>13572</td>\n",
              "      <td>6876</td>\n",
              "      <td>0939173379</td>\n",
              "      <td>2</td>\n",
              "      <td>1.0</td>\n",
              "      <td>0.0</td>\n",
              "      <td>0.0</td>\n",
              "      <td>0.0</td>\n",
              "      <td>-6876</td>\n",
              "    </tr>\n",
              "    <tr>\n",
              "      <th>526432</th>\n",
              "      <td>532306</td>\n",
              "      <td>Looking For-Best of David Hasselhoff</td>\n",
              "      <td>general music style broadway vocalist</td>\n",
              "      <td>176907</td>\n",
              "      <td>1084</td>\n",
              "      <td>5.0</td>\n",
              "      <td>6500</td>\n",
              "      <td>7363</td>\n",
              "      <td>863</td>\n",
              "      <td>B0000070S1</td>\n",
              "      <td>2</td>\n",
              "      <td>0.0</td>\n",
              "      <td>0.0</td>\n",
              "      <td>1.0</td>\n",
              "      <td>0.0</td>\n",
              "      <td>-863</td>\n",
              "    </tr>\n",
              "    <tr>\n",
              "      <th>248073</th>\n",
              "      <td>250879</td>\n",
              "      <td>Harry Potter and the Sorcerer's Stone (Book 1 ...</td>\n",
              "      <td>general humor potter author tape audio j seri ...</td>\n",
              "      <td>990191</td>\n",
              "      <td>5039</td>\n",
              "      <td>5.0</td>\n",
              "      <td>5815</td>\n",
              "      <td>9924</td>\n",
              "      <td>4109</td>\n",
              "      <td>0807286001</td>\n",
              "      <td>2</td>\n",
              "      <td>1.0</td>\n",
              "      <td>0.0</td>\n",
              "      <td>0.0</td>\n",
              "      <td>0.0</td>\n",
              "      <td>-4109</td>\n",
              "    </tr>\n",
              "    <tr>\n",
              "      <th>209087</th>\n",
              "      <td>211463</td>\n",
              "      <td>Harry Potter and the Sorcerer's Stone (Book 1 ...</td>\n",
              "      <td>general humor potter author tape audio j seri ...</td>\n",
              "      <td>1533</td>\n",
              "      <td>5039</td>\n",
              "      <td>5.0</td>\n",
              "      <td>5813</td>\n",
              "      <td>10037</td>\n",
              "      <td>4224</td>\n",
              "      <td>0807281956</td>\n",
              "      <td>2</td>\n",
              "      <td>1.0</td>\n",
              "      <td>0.0</td>\n",
              "      <td>0.0</td>\n",
              "      <td>0.0</td>\n",
              "      <td>-4224</td>\n",
              "    </tr>\n",
              "  </tbody>\n",
              "</table>\n",
              "</div>\n",
              "      <button class=\"colab-df-convert\" onclick=\"convertToInteractive('df-8530dc2c-bd49-496b-ba64-5a7a2c67c60a')\"\n",
              "              title=\"Convert this dataframe to an interactive table.\"\n",
              "              style=\"display:none;\">\n",
              "        \n",
              "  <svg xmlns=\"http://www.w3.org/2000/svg\" height=\"24px\"viewBox=\"0 0 24 24\"\n",
              "       width=\"24px\">\n",
              "    <path d=\"M0 0h24v24H0V0z\" fill=\"none\"/>\n",
              "    <path d=\"M18.56 5.44l.94 2.06.94-2.06 2.06-.94-2.06-.94-.94-2.06-.94 2.06-2.06.94zm-11 1L8.5 8.5l.94-2.06 2.06-.94-2.06-.94L8.5 2.5l-.94 2.06-2.06.94zm10 10l.94 2.06.94-2.06 2.06-.94-2.06-.94-.94-2.06-.94 2.06-2.06.94z\"/><path d=\"M17.41 7.96l-1.37-1.37c-.4-.4-.92-.59-1.43-.59-.52 0-1.04.2-1.43.59L10.3 9.45l-7.72 7.72c-.78.78-.78 2.05 0 2.83L4 21.41c.39.39.9.59 1.41.59.51 0 1.02-.2 1.41-.59l7.78-7.78 2.81-2.81c.8-.78.8-2.07 0-2.86zM5.41 20L4 18.59l7.72-7.72 1.47 1.35L5.41 20z\"/>\n",
              "  </svg>\n",
              "      </button>\n",
              "      \n",
              "  <style>\n",
              "    .colab-df-container {\n",
              "      display:flex;\n",
              "      flex-wrap:wrap;\n",
              "      gap: 12px;\n",
              "    }\n",
              "\n",
              "    .colab-df-convert {\n",
              "      background-color: #E8F0FE;\n",
              "      border: none;\n",
              "      border-radius: 50%;\n",
              "      cursor: pointer;\n",
              "      display: none;\n",
              "      fill: #1967D2;\n",
              "      height: 32px;\n",
              "      padding: 0 0 0 0;\n",
              "      width: 32px;\n",
              "    }\n",
              "\n",
              "    .colab-df-convert:hover {\n",
              "      background-color: #E2EBFA;\n",
              "      box-shadow: 0px 1px 2px rgba(60, 64, 67, 0.3), 0px 1px 3px 1px rgba(60, 64, 67, 0.15);\n",
              "      fill: #174EA6;\n",
              "    }\n",
              "\n",
              "    [theme=dark] .colab-df-convert {\n",
              "      background-color: #3B4455;\n",
              "      fill: #D2E3FC;\n",
              "    }\n",
              "\n",
              "    [theme=dark] .colab-df-convert:hover {\n",
              "      background-color: #434B5C;\n",
              "      box-shadow: 0px 1px 3px 1px rgba(0, 0, 0, 0.15);\n",
              "      filter: drop-shadow(0px 1px 2px rgba(0, 0, 0, 0.3));\n",
              "      fill: #FFFFFF;\n",
              "    }\n",
              "  </style>\n",
              "\n",
              "      <script>\n",
              "        const buttonEl =\n",
              "          document.querySelector('#df-8530dc2c-bd49-496b-ba64-5a7a2c67c60a button.colab-df-convert');\n",
              "        buttonEl.style.display =\n",
              "          google.colab.kernel.accessAllowed ? 'block' : 'none';\n",
              "\n",
              "        async function convertToInteractive(key) {\n",
              "          const element = document.querySelector('#df-8530dc2c-bd49-496b-ba64-5a7a2c67c60a');\n",
              "          const dataTable =\n",
              "            await google.colab.kernel.invokeFunction('convertToInteractive',\n",
              "                                                     [key], {});\n",
              "          if (!dataTable) return;\n",
              "\n",
              "          const docLinkHtml = 'Like what you see? Visit the ' +\n",
              "            '<a target=\"_blank\" href=https://colab.research.google.com/notebooks/data_table.ipynb>data table notebook</a>'\n",
              "            + ' to learn more about interactive tables.';\n",
              "          element.innerHTML = '';\n",
              "          dataTable['output_type'] = 'display_data';\n",
              "          await google.colab.output.renderOutput(dataTable, element);\n",
              "          const docLink = document.createElement('div');\n",
              "          docLink.innerHTML = docLinkHtml;\n",
              "          element.appendChild(docLink);\n",
              "        }\n",
              "      </script>\n",
              "    </div>\n",
              "  </div>\n",
              "  "
            ]
          },
          "metadata": {},
          "execution_count": 37
        }
      ]
    },
    {
      "cell_type": "code",
      "source": [
        ""
      ],
      "metadata": {
        "id": "19Hky8NvGjed"
      },
      "execution_count": 37,
      "outputs": []
    }
  ],
  "metadata": {
    "colab": {
      "name": "HackRx30_Hackathon_June22_P3.ipynb",
      "provenance": [],
      "collapsed_sections": [],
      "toc_visible": true
    },
    "kernelspec": {
      "display_name": "Python 3",
      "language": "python",
      "name": "python3"
    },
    "language_info": {
      "codemirror_mode": {
        "name": "ipython",
        "version": 3
      },
      "file_extension": ".py",
      "mimetype": "text/x-python",
      "name": "python",
      "nbconvert_exporter": "python",
      "pygments_lexer": "ipython3",
      "version": "3.8.5"
    }
  },
  "nbformat": 4,
  "nbformat_minor": 0
}