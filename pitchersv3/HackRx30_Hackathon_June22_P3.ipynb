{
  "nbformat": 4,
  "nbformat_minor": 0,
  "metadata": {
    "colab": {
      "name": "HackRx30_Hackathon_June22_P3.ipynb",
      "provenance": [],
      "collapsed_sections": [],
      "toc_visible": true
    },
    "kernelspec": {
      "name": "python3",
      "display_name": "Python 3"
    },
    "language_info": {
      "name": "python"
    }
  },
  "cells": [
    {
      "cell_type": "code",
      "source": [
        "from google.colab import drive\n",
        "drive.mount('/content/drive')"
      ],
      "metadata": {
        "colab": {
          "base_uri": "https://localhost:8080/"
        },
        "id": "ZZ3Mcq5wLxkh",
        "outputId": "0262a9fb-f960-4dc4-df7a-f6b5db362699"
      },
      "execution_count": null,
      "outputs": [
        {
          "output_type": "stream",
          "name": "stdout",
          "text": [
            "Drive already mounted at /content/drive; to attempt to forcibly remount, call drive.mount(\"/content/drive\", force_remount=True).\n"
          ]
        }
      ]
    },
    {
      "cell_type": "code",
      "source": [
        "drive.flush_and_unmount()"
      ],
      "metadata": {
        "id": "oatPl9YPL75C"
      },
      "execution_count": null,
      "outputs": []
    },
    {
      "cell_type": "code",
      "source": [
        "import networkx as nx\n",
        "import pandas as pd\n",
        "import numpy as np\n",
        "from matplotlib import pyplot as plt\n",
        "from sklearn.preprocessing import OneHotEncoder\n",
        "from sklearn.metrics.pairwise import cosine_similarity"
      ],
      "metadata": {
        "id": "Z_zGel2Asq8w"
      },
      "execution_count": null,
      "outputs": []
    },
    {
      "cell_type": "code",
      "source": [
        "Graphtype = nx.DiGraph()\n",
        "#reading transaction data\n",
        "filepath = 'drive/MyDrive/BAJAJ/GNN_datasets/amazon0601.txt' \n",
        "G = nx.read_edgelist(\n",
        "    filepath,\n",
        "    comments='#',\n",
        "     \n",
        "    create_using=Graphtype,\n",
        "    nodetype=int\n",
        ")"
      ],
      "metadata": {
        "id": "v2UXNw1QsvXI"
      },
      "execution_count": null,
      "outputs": []
    },
    {
      "cell_type": "code",
      "source": [
        "#reading metadata\n",
        "df = pd.read_csv('drive/MyDrive/BAJAJ/GNN_datasets/pdssimilar.csv') "
      ],
      "metadata": {
        "id": "vhZxDp-bsy93"
      },
      "execution_count": null,
      "outputs": []
    },
    {
      "cell_type": "code",
      "source": [
        "df.head()"
      ],
      "metadata": {
        "colab": {
          "base_uri": "https://localhost:8080/",
          "height": 320
        },
        "id": "QbqdXCmls6qR",
        "outputId": "cf394516-5eb7-4613-e363-87fc98d7621c"
      },
      "execution_count": null,
      "outputs": [
        {
          "output_type": "execute_result",
          "data": {
            "text/plain": [
              "   Id                                              Title  \\\n",
              "0   0                                                NaN   \n",
              "1   1            Patterns of Preaching: A Sermon Sampler   \n",
              "2   2                         Candlemas: Feast of Flames   \n",
              "3   3   World War II Allied Fighter Planes Trading Cards   \n",
              "4   4  Life Application Bible Commentary: 1 and 2 Tim...   \n",
              "\n",
              "                                          Categories Group  \\\n",
              "0                                                NaN   NaN   \n",
              "1  christian spiritu religion clergi preach book ...  Book   \n",
              "2  spiritu religion earth witchcraft book wicca b...  Book   \n",
              "3       hobbi garden craft general home book subject  Book   \n",
              "4  spiritu sacr applic book refer religion guid d...  Book   \n",
              "\n",
              "                                         Copurchased  SalesRank  TotalReviews  \\\n",
              "0                                                NaN          0             0   \n",
              "1  0804215715 156101074X 0687023955 0687074231 08...     396585             2   \n",
              "2  0738700827 1567184960 1567182836 0738700525 07...     168596            12   \n",
              "3                                                NaN    1270652             1   \n",
              "4        0842328130 0842330313 0842328610 0842328572     631289             1   \n",
              "\n",
              "   AvgRating  NoSim        ASIN  \n",
              "0        0.0      5  0771044445  \n",
              "1        5.0      5  0827229534  \n",
              "2        4.5      5  0738700797  \n",
              "3        5.0      0  0486287785  \n",
              "4        4.0      5  0842328327  "
            ],
            "text/html": [
              "\n",
              "  <div id=\"df-0bee96cc-b750-4250-a42d-bba518744652\">\n",
              "    <div class=\"colab-df-container\">\n",
              "      <div>\n",
              "<style scoped>\n",
              "    .dataframe tbody tr th:only-of-type {\n",
              "        vertical-align: middle;\n",
              "    }\n",
              "\n",
              "    .dataframe tbody tr th {\n",
              "        vertical-align: top;\n",
              "    }\n",
              "\n",
              "    .dataframe thead th {\n",
              "        text-align: right;\n",
              "    }\n",
              "</style>\n",
              "<table border=\"1\" class=\"dataframe\">\n",
              "  <thead>\n",
              "    <tr style=\"text-align: right;\">\n",
              "      <th></th>\n",
              "      <th>Id</th>\n",
              "      <th>Title</th>\n",
              "      <th>Categories</th>\n",
              "      <th>Group</th>\n",
              "      <th>Copurchased</th>\n",
              "      <th>SalesRank</th>\n",
              "      <th>TotalReviews</th>\n",
              "      <th>AvgRating</th>\n",
              "      <th>NoSim</th>\n",
              "      <th>ASIN</th>\n",
              "    </tr>\n",
              "  </thead>\n",
              "  <tbody>\n",
              "    <tr>\n",
              "      <th>0</th>\n",
              "      <td>0</td>\n",
              "      <td>NaN</td>\n",
              "      <td>NaN</td>\n",
              "      <td>NaN</td>\n",
              "      <td>NaN</td>\n",
              "      <td>0</td>\n",
              "      <td>0</td>\n",
              "      <td>0.0</td>\n",
              "      <td>5</td>\n",
              "      <td>0771044445</td>\n",
              "    </tr>\n",
              "    <tr>\n",
              "      <th>1</th>\n",
              "      <td>1</td>\n",
              "      <td>Patterns of Preaching: A Sermon Sampler</td>\n",
              "      <td>christian spiritu religion clergi preach book ...</td>\n",
              "      <td>Book</td>\n",
              "      <td>0804215715 156101074X 0687023955 0687074231 08...</td>\n",
              "      <td>396585</td>\n",
              "      <td>2</td>\n",
              "      <td>5.0</td>\n",
              "      <td>5</td>\n",
              "      <td>0827229534</td>\n",
              "    </tr>\n",
              "    <tr>\n",
              "      <th>2</th>\n",
              "      <td>2</td>\n",
              "      <td>Candlemas: Feast of Flames</td>\n",
              "      <td>spiritu religion earth witchcraft book wicca b...</td>\n",
              "      <td>Book</td>\n",
              "      <td>0738700827 1567184960 1567182836 0738700525 07...</td>\n",
              "      <td>168596</td>\n",
              "      <td>12</td>\n",
              "      <td>4.5</td>\n",
              "      <td>5</td>\n",
              "      <td>0738700797</td>\n",
              "    </tr>\n",
              "    <tr>\n",
              "      <th>3</th>\n",
              "      <td>3</td>\n",
              "      <td>World War II Allied Fighter Planes Trading Cards</td>\n",
              "      <td>hobbi garden craft general home book subject</td>\n",
              "      <td>Book</td>\n",
              "      <td>NaN</td>\n",
              "      <td>1270652</td>\n",
              "      <td>1</td>\n",
              "      <td>5.0</td>\n",
              "      <td>0</td>\n",
              "      <td>0486287785</td>\n",
              "    </tr>\n",
              "    <tr>\n",
              "      <th>4</th>\n",
              "      <td>4</td>\n",
              "      <td>Life Application Bible Commentary: 1 and 2 Tim...</td>\n",
              "      <td>spiritu sacr applic book refer religion guid d...</td>\n",
              "      <td>Book</td>\n",
              "      <td>0842328130 0842330313 0842328610 0842328572</td>\n",
              "      <td>631289</td>\n",
              "      <td>1</td>\n",
              "      <td>4.0</td>\n",
              "      <td>5</td>\n",
              "      <td>0842328327</td>\n",
              "    </tr>\n",
              "  </tbody>\n",
              "</table>\n",
              "</div>\n",
              "      <button class=\"colab-df-convert\" onclick=\"convertToInteractive('df-0bee96cc-b750-4250-a42d-bba518744652')\"\n",
              "              title=\"Convert this dataframe to an interactive table.\"\n",
              "              style=\"display:none;\">\n",
              "        \n",
              "  <svg xmlns=\"http://www.w3.org/2000/svg\" height=\"24px\"viewBox=\"0 0 24 24\"\n",
              "       width=\"24px\">\n",
              "    <path d=\"M0 0h24v24H0V0z\" fill=\"none\"/>\n",
              "    <path d=\"M18.56 5.44l.94 2.06.94-2.06 2.06-.94-2.06-.94-.94-2.06-.94 2.06-2.06.94zm-11 1L8.5 8.5l.94-2.06 2.06-.94-2.06-.94L8.5 2.5l-.94 2.06-2.06.94zm10 10l.94 2.06.94-2.06 2.06-.94-2.06-.94-.94-2.06-.94 2.06-2.06.94z\"/><path d=\"M17.41 7.96l-1.37-1.37c-.4-.4-.92-.59-1.43-.59-.52 0-1.04.2-1.43.59L10.3 9.45l-7.72 7.72c-.78.78-.78 2.05 0 2.83L4 21.41c.39.39.9.59 1.41.59.51 0 1.02-.2 1.41-.59l7.78-7.78 2.81-2.81c.8-.78.8-2.07 0-2.86zM5.41 20L4 18.59l7.72-7.72 1.47 1.35L5.41 20z\"/>\n",
              "  </svg>\n",
              "      </button>\n",
              "      \n",
              "  <style>\n",
              "    .colab-df-container {\n",
              "      display:flex;\n",
              "      flex-wrap:wrap;\n",
              "      gap: 12px;\n",
              "    }\n",
              "\n",
              "    .colab-df-convert {\n",
              "      background-color: #E8F0FE;\n",
              "      border: none;\n",
              "      border-radius: 50%;\n",
              "      cursor: pointer;\n",
              "      display: none;\n",
              "      fill: #1967D2;\n",
              "      height: 32px;\n",
              "      padding: 0 0 0 0;\n",
              "      width: 32px;\n",
              "    }\n",
              "\n",
              "    .colab-df-convert:hover {\n",
              "      background-color: #E2EBFA;\n",
              "      box-shadow: 0px 1px 2px rgba(60, 64, 67, 0.3), 0px 1px 3px 1px rgba(60, 64, 67, 0.15);\n",
              "      fill: #174EA6;\n",
              "    }\n",
              "\n",
              "    [theme=dark] .colab-df-convert {\n",
              "      background-color: #3B4455;\n",
              "      fill: #D2E3FC;\n",
              "    }\n",
              "\n",
              "    [theme=dark] .colab-df-convert:hover {\n",
              "      background-color: #434B5C;\n",
              "      box-shadow: 0px 1px 3px 1px rgba(0, 0, 0, 0.15);\n",
              "      filter: drop-shadow(0px 1px 2px rgba(0, 0, 0, 0.3));\n",
              "      fill: #FFFFFF;\n",
              "    }\n",
              "  </style>\n",
              "\n",
              "      <script>\n",
              "        const buttonEl =\n",
              "          document.querySelector('#df-0bee96cc-b750-4250-a42d-bba518744652 button.colab-df-convert');\n",
              "        buttonEl.style.display =\n",
              "          google.colab.kernel.accessAllowed ? 'block' : 'none';\n",
              "\n",
              "        async function convertToInteractive(key) {\n",
              "          const element = document.querySelector('#df-0bee96cc-b750-4250-a42d-bba518744652');\n",
              "          const dataTable =\n",
              "            await google.colab.kernel.invokeFunction('convertToInteractive',\n",
              "                                                     [key], {});\n",
              "          if (!dataTable) return;\n",
              "\n",
              "          const docLinkHtml = 'Like what you see? Visit the ' +\n",
              "            '<a target=\"_blank\" href=https://colab.research.google.com/notebooks/data_table.ipynb>data table notebook</a>'\n",
              "            + ' to learn more about interactive tables.';\n",
              "          element.innerHTML = '';\n",
              "          dataTable['output_type'] = 'display_data';\n",
              "          await google.colab.output.renderOutput(dataTable, element);\n",
              "          const docLink = document.createElement('div');\n",
              "          docLink.innerHTML = docLinkHtml;\n",
              "          element.appendChild(docLink);\n",
              "        }\n",
              "      </script>\n",
              "    </div>\n",
              "  </div>\n",
              "  "
            ]
          },
          "metadata": {},
          "execution_count": 51
        }
      ]
    },
    {
      "cell_type": "code",
      "source": [
        "df.isnull().sum()"
      ],
      "metadata": {
        "colab": {
          "base_uri": "https://localhost:8080/"
        },
        "id": "NAcmyjAytEWj",
        "outputId": "7353f633-096f-4a4a-94fe-b8a2d381a615"
      },
      "execution_count": null,
      "outputs": [
        {
          "output_type": "execute_result",
          "data": {
            "text/plain": [
              "Id                   0\n",
              "Title             5868\n",
              "Categories       28771\n",
              "Group             5868\n",
              "Copurchased     186985\n",
              "SalesRank            0\n",
              "TotalReviews         0\n",
              "AvgRating            0\n",
              "NoSim                0\n",
              "ASIN                 0\n",
              "dtype: int64"
            ]
          },
          "metadata": {},
          "execution_count": 52
        }
      ]
    },
    {
      "cell_type": "code",
      "source": [
        "df.shape"
      ],
      "metadata": {
        "colab": {
          "base_uri": "https://localhost:8080/"
        },
        "id": "O9e-kr43tJcG",
        "outputId": "ef7a31fd-20e3-4ae9-c976-fa247a1d6686"
      },
      "execution_count": null,
      "outputs": [
        {
          "output_type": "execute_result",
          "data": {
            "text/plain": [
              "(548552, 10)"
            ]
          },
          "metadata": {},
          "execution_count": 53
        }
      ]
    },
    {
      "cell_type": "code",
      "source": [
        "df = df.dropna()"
      ],
      "metadata": {
        "id": "ccF5UCKAtOcx"
      },
      "execution_count": null,
      "outputs": []
    },
    {
      "cell_type": "code",
      "source": [
        "df.isnull().sum()"
      ],
      "metadata": {
        "colab": {
          "base_uri": "https://localhost:8080/"
        },
        "id": "CfRHufuSteDQ",
        "outputId": "b1178cfb-f913-4366-ab2f-f115d9266557"
      },
      "execution_count": null,
      "outputs": [
        {
          "output_type": "execute_result",
          "data": {
            "text/plain": [
              "Id              0\n",
              "Title           0\n",
              "Categories      0\n",
              "Group           0\n",
              "Copurchased     0\n",
              "SalesRank       0\n",
              "TotalReviews    0\n",
              "AvgRating       0\n",
              "NoSim           0\n",
              "ASIN            0\n",
              "dtype: int64"
            ]
          },
          "metadata": {},
          "execution_count": 55
        }
      ]
    },
    {
      "cell_type": "code",
      "source": [
        "df['NoSim'].value_counts()"
      ],
      "metadata": {
        "colab": {
          "base_uri": "https://localhost:8080/"
        },
        "id": "HwCjmI3FtfKT",
        "outputId": "d0f8c6b3-8abf-4fe5-9c68-d9db4f4f524f"
      },
      "execution_count": null,
      "outputs": [
        {
          "output_type": "execute_result",
          "data": {
            "text/plain": [
              "5    323409\n",
              "3      8811\n",
              "4      8523\n",
              "2      8262\n",
              "1      6165\n",
              "Name: NoSim, dtype: int64"
            ]
          },
          "metadata": {},
          "execution_count": 56
        }
      ]
    },
    {
      "cell_type": "code",
      "source": [
        "df.head()"
      ],
      "metadata": {
        "colab": {
          "base_uri": "https://localhost:8080/",
          "height": 337
        },
        "id": "gQcGBiQw00mv",
        "outputId": "b093ff25-abc1-4fc2-88a7-33f56b7dee49"
      },
      "execution_count": null,
      "outputs": [
        {
          "output_type": "execute_result",
          "data": {
            "text/plain": [
              "   Id                                              Title  \\\n",
              "1   1            Patterns of Preaching: A Sermon Sampler   \n",
              "2   2                         Candlemas: Feast of Flames   \n",
              "4   4  Life Application Bible Commentary: 1 and 2 Tim...   \n",
              "5   5    Prayers That Avail Much for Business: Executive   \n",
              "6   6  How the Other Half Lives: Studies Among the Te...   \n",
              "\n",
              "                                          Categories Group  \\\n",
              "1  christian spiritu religion clergi preach book ...  Book   \n",
              "2  spiritu religion earth witchcraft book wicca b...  Book   \n",
              "4  spiritu sacr applic book refer religion guid d...  Book   \n",
              "5  christian spiritu worship religion devot live ...  Book   \n",
              "6  unit categori photo photographi nonfict scienc...  Book   \n",
              "\n",
              "                                         Copurchased  SalesRank  TotalReviews  \\\n",
              "1  0804215715 156101074X 0687023955 0687074231 08...     396585             2   \n",
              "2  0738700827 1567184960 1567182836 0738700525 07...     168596            12   \n",
              "4        0842328130 0842330313 0842328610 0842328572     631289             1   \n",
              "5        157794349X 0892749504 1577941829 0892749563     455160             0   \n",
              "6        0486401960 0452283612 0486229076 0714840343     188784            17   \n",
              "\n",
              "   AvgRating  NoSim        ASIN  \n",
              "1        5.0      5  0827229534  \n",
              "2        4.5      5  0738700797  \n",
              "4        4.0      5  0842328327  \n",
              "5        0.0      5  1577943082  \n",
              "6        4.0      5  0486220125  "
            ],
            "text/html": [
              "\n",
              "  <div id=\"df-b983a42a-cdfa-401b-95d6-d6c3891c29e5\">\n",
              "    <div class=\"colab-df-container\">\n",
              "      <div>\n",
              "<style scoped>\n",
              "    .dataframe tbody tr th:only-of-type {\n",
              "        vertical-align: middle;\n",
              "    }\n",
              "\n",
              "    .dataframe tbody tr th {\n",
              "        vertical-align: top;\n",
              "    }\n",
              "\n",
              "    .dataframe thead th {\n",
              "        text-align: right;\n",
              "    }\n",
              "</style>\n",
              "<table border=\"1\" class=\"dataframe\">\n",
              "  <thead>\n",
              "    <tr style=\"text-align: right;\">\n",
              "      <th></th>\n",
              "      <th>Id</th>\n",
              "      <th>Title</th>\n",
              "      <th>Categories</th>\n",
              "      <th>Group</th>\n",
              "      <th>Copurchased</th>\n",
              "      <th>SalesRank</th>\n",
              "      <th>TotalReviews</th>\n",
              "      <th>AvgRating</th>\n",
              "      <th>NoSim</th>\n",
              "      <th>ASIN</th>\n",
              "    </tr>\n",
              "  </thead>\n",
              "  <tbody>\n",
              "    <tr>\n",
              "      <th>1</th>\n",
              "      <td>1</td>\n",
              "      <td>Patterns of Preaching: A Sermon Sampler</td>\n",
              "      <td>christian spiritu religion clergi preach book ...</td>\n",
              "      <td>Book</td>\n",
              "      <td>0804215715 156101074X 0687023955 0687074231 08...</td>\n",
              "      <td>396585</td>\n",
              "      <td>2</td>\n",
              "      <td>5.0</td>\n",
              "      <td>5</td>\n",
              "      <td>0827229534</td>\n",
              "    </tr>\n",
              "    <tr>\n",
              "      <th>2</th>\n",
              "      <td>2</td>\n",
              "      <td>Candlemas: Feast of Flames</td>\n",
              "      <td>spiritu religion earth witchcraft book wicca b...</td>\n",
              "      <td>Book</td>\n",
              "      <td>0738700827 1567184960 1567182836 0738700525 07...</td>\n",
              "      <td>168596</td>\n",
              "      <td>12</td>\n",
              "      <td>4.5</td>\n",
              "      <td>5</td>\n",
              "      <td>0738700797</td>\n",
              "    </tr>\n",
              "    <tr>\n",
              "      <th>4</th>\n",
              "      <td>4</td>\n",
              "      <td>Life Application Bible Commentary: 1 and 2 Tim...</td>\n",
              "      <td>spiritu sacr applic book refer religion guid d...</td>\n",
              "      <td>Book</td>\n",
              "      <td>0842328130 0842330313 0842328610 0842328572</td>\n",
              "      <td>631289</td>\n",
              "      <td>1</td>\n",
              "      <td>4.0</td>\n",
              "      <td>5</td>\n",
              "      <td>0842328327</td>\n",
              "    </tr>\n",
              "    <tr>\n",
              "      <th>5</th>\n",
              "      <td>5</td>\n",
              "      <td>Prayers That Avail Much for Business: Executive</td>\n",
              "      <td>christian spiritu worship religion devot live ...</td>\n",
              "      <td>Book</td>\n",
              "      <td>157794349X 0892749504 1577941829 0892749563</td>\n",
              "      <td>455160</td>\n",
              "      <td>0</td>\n",
              "      <td>0.0</td>\n",
              "      <td>5</td>\n",
              "      <td>1577943082</td>\n",
              "    </tr>\n",
              "    <tr>\n",
              "      <th>6</th>\n",
              "      <td>6</td>\n",
              "      <td>How the Other Half Lives: Studies Among the Te...</td>\n",
              "      <td>unit categori photo photographi nonfict scienc...</td>\n",
              "      <td>Book</td>\n",
              "      <td>0486401960 0452283612 0486229076 0714840343</td>\n",
              "      <td>188784</td>\n",
              "      <td>17</td>\n",
              "      <td>4.0</td>\n",
              "      <td>5</td>\n",
              "      <td>0486220125</td>\n",
              "    </tr>\n",
              "  </tbody>\n",
              "</table>\n",
              "</div>\n",
              "      <button class=\"colab-df-convert\" onclick=\"convertToInteractive('df-b983a42a-cdfa-401b-95d6-d6c3891c29e5')\"\n",
              "              title=\"Convert this dataframe to an interactive table.\"\n",
              "              style=\"display:none;\">\n",
              "        \n",
              "  <svg xmlns=\"http://www.w3.org/2000/svg\" height=\"24px\"viewBox=\"0 0 24 24\"\n",
              "       width=\"24px\">\n",
              "    <path d=\"M0 0h24v24H0V0z\" fill=\"none\"/>\n",
              "    <path d=\"M18.56 5.44l.94 2.06.94-2.06 2.06-.94-2.06-.94-.94-2.06-.94 2.06-2.06.94zm-11 1L8.5 8.5l.94-2.06 2.06-.94-2.06-.94L8.5 2.5l-.94 2.06-2.06.94zm10 10l.94 2.06.94-2.06 2.06-.94-2.06-.94-.94-2.06-.94 2.06-2.06.94z\"/><path d=\"M17.41 7.96l-1.37-1.37c-.4-.4-.92-.59-1.43-.59-.52 0-1.04.2-1.43.59L10.3 9.45l-7.72 7.72c-.78.78-.78 2.05 0 2.83L4 21.41c.39.39.9.59 1.41.59.51 0 1.02-.2 1.41-.59l7.78-7.78 2.81-2.81c.8-.78.8-2.07 0-2.86zM5.41 20L4 18.59l7.72-7.72 1.47 1.35L5.41 20z\"/>\n",
              "  </svg>\n",
              "      </button>\n",
              "      \n",
              "  <style>\n",
              "    .colab-df-container {\n",
              "      display:flex;\n",
              "      flex-wrap:wrap;\n",
              "      gap: 12px;\n",
              "    }\n",
              "\n",
              "    .colab-df-convert {\n",
              "      background-color: #E8F0FE;\n",
              "      border: none;\n",
              "      border-radius: 50%;\n",
              "      cursor: pointer;\n",
              "      display: none;\n",
              "      fill: #1967D2;\n",
              "      height: 32px;\n",
              "      padding: 0 0 0 0;\n",
              "      width: 32px;\n",
              "    }\n",
              "\n",
              "    .colab-df-convert:hover {\n",
              "      background-color: #E2EBFA;\n",
              "      box-shadow: 0px 1px 2px rgba(60, 64, 67, 0.3), 0px 1px 3px 1px rgba(60, 64, 67, 0.15);\n",
              "      fill: #174EA6;\n",
              "    }\n",
              "\n",
              "    [theme=dark] .colab-df-convert {\n",
              "      background-color: #3B4455;\n",
              "      fill: #D2E3FC;\n",
              "    }\n",
              "\n",
              "    [theme=dark] .colab-df-convert:hover {\n",
              "      background-color: #434B5C;\n",
              "      box-shadow: 0px 1px 3px 1px rgba(0, 0, 0, 0.15);\n",
              "      filter: drop-shadow(0px 1px 2px rgba(0, 0, 0, 0.3));\n",
              "      fill: #FFFFFF;\n",
              "    }\n",
              "  </style>\n",
              "\n",
              "      <script>\n",
              "        const buttonEl =\n",
              "          document.querySelector('#df-b983a42a-cdfa-401b-95d6-d6c3891c29e5 button.colab-df-convert');\n",
              "        buttonEl.style.display =\n",
              "          google.colab.kernel.accessAllowed ? 'block' : 'none';\n",
              "\n",
              "        async function convertToInteractive(key) {\n",
              "          const element = document.querySelector('#df-b983a42a-cdfa-401b-95d6-d6c3891c29e5');\n",
              "          const dataTable =\n",
              "            await google.colab.kernel.invokeFunction('convertToInteractive',\n",
              "                                                     [key], {});\n",
              "          if (!dataTable) return;\n",
              "\n",
              "          const docLinkHtml = 'Like what you see? Visit the ' +\n",
              "            '<a target=\"_blank\" href=https://colab.research.google.com/notebooks/data_table.ipynb>data table notebook</a>'\n",
              "            + ' to learn more about interactive tables.';\n",
              "          element.innerHTML = '';\n",
              "          dataTable['output_type'] = 'display_data';\n",
              "          await google.colab.output.renderOutput(dataTable, element);\n",
              "          const docLink = document.createElement('div');\n",
              "          docLink.innerHTML = docLinkHtml;\n",
              "          element.appendChild(docLink);\n",
              "        }\n",
              "      </script>\n",
              "    </div>\n",
              "  </div>\n",
              "  "
            ]
          },
          "metadata": {},
          "execution_count": 57
        }
      ]
    },
    {
      "cell_type": "code",
      "source": [
        "df.columns"
      ],
      "metadata": {
        "colab": {
          "base_uri": "https://localhost:8080/"
        },
        "id": "GFUqBfO8uF8X",
        "outputId": "a00644d0-6ec0-46cc-9107-5e674f2c74aa"
      },
      "execution_count": null,
      "outputs": [
        {
          "output_type": "execute_result",
          "data": {
            "text/plain": [
              "Index(['Id', 'Title', 'Categories', 'Group', 'Copurchased', 'SalesRank',\n",
              "       'TotalReviews', 'AvgRating', 'NoSim', 'ASIN'],\n",
              "      dtype='object')"
            ]
          },
          "metadata": {},
          "execution_count": 58
        }
      ]
    },
    {
      "cell_type": "code",
      "source": [
        "#df.to_csv(index=False)"
      ],
      "metadata": {
        "id": "H0EWZcMoAqJv"
      },
      "execution_count": null,
      "outputs": []
    },
    {
      "cell_type": "code",
      "source": [
        "nodeattrdf = df[['Title','ASIN' ,'Categories', 'Group', 'Copurchased', 'SalesRank','TotalReviews', 'AvgRating', 'NoSim']].copy()"
      ],
      "metadata": {
        "id": "pNtJNL7ct8Ms"
      },
      "execution_count": null,
      "outputs": []
    },
    {
      "cell_type": "code",
      "source": [
        "nx.set_node_attributes(G, nodeattrdf.to_dict('index'))"
      ],
      "metadata": {
        "id": "uOQDgxTsub7Q"
      },
      "execution_count": null,
      "outputs": []
    },
    {
      "cell_type": "code",
      "source": [
        "G.nodes[2]"
      ],
      "metadata": {
        "colab": {
          "base_uri": "https://localhost:8080/"
        },
        "id": "1Q27N7KTudxr",
        "outputId": "9c1d23a6-33f9-47a6-94ef-e6c2f919a82c"
      },
      "execution_count": null,
      "outputs": [
        {
          "output_type": "execute_result",
          "data": {
            "text/plain": [
              "{'ASIN': '0738700797',\n",
              " 'AvgRating': 4.5,\n",
              " 'Categories': 'spiritu religion earth witchcraft book wicca base subject',\n",
              " 'Copurchased': '0738700827 1567184960 1567182836 0738700525 0738700940',\n",
              " 'Group': 'Book',\n",
              " 'NoSim': 5,\n",
              " 'SalesRank': 168596,\n",
              " 'Title': 'Candlemas: Feast of Flames',\n",
              " 'TotalReviews': 12}"
            ]
          },
          "metadata": {},
          "execution_count": 63
        }
      ]
    },
    {
      "cell_type": "code",
      "source": [
        "#removing nodes with no links\n",
        "remove = [nodes for nodes in dict(G.nodes()) if len(G.nodes[nodes]) == 0] "
      ],
      "metadata": {
        "id": "yMKk_szcufbW"
      },
      "execution_count": null,
      "outputs": []
    },
    {
      "cell_type": "code",
      "source": [
        "G.remove_nodes_from(remove)"
      ],
      "metadata": {
        "id": "75K4QS-7vMbw"
      },
      "execution_count": null,
      "outputs": []
    },
    {
      "cell_type": "code",
      "source": [
        "remove[:10]"
      ],
      "metadata": {
        "colab": {
          "base_uri": "https://localhost:8080/"
        },
        "id": "ljRZFTlZ4mba",
        "outputId": "cf17e349-34cb-4961-b058-1aca672c6eb6"
      },
      "execution_count": null,
      "outputs": [
        {
          "output_type": "execute_result",
          "data": {
            "text/plain": [
              "[0, 3, 9, 234, 47, 355, 44, 4954, 36, 58]"
            ]
          },
          "metadata": {},
          "execution_count": 66
        }
      ]
    },
    {
      "cell_type": "code",
      "source": [
        "G.number_of_nodes()"
      ],
      "metadata": {
        "colab": {
          "base_uri": "https://localhost:8080/"
        },
        "id": "otCVqC8T4GXt",
        "outputId": "76641e95-ccd0-459b-c0f6-fec51ac25002"
      },
      "execution_count": null,
      "outputs": [
        {
          "output_type": "execute_result",
          "data": {
            "text/plain": [
              "258127"
            ]
          },
          "metadata": {},
          "execution_count": 67
        }
      ]
    },
    {
      "cell_type": "code",
      "source": [
        "#array of permissible nodes\n",
        "n = list(G.nodes) \n",
        "n =  np.array(n)\n",
        "n = np.unique(n)"
      ],
      "metadata": {
        "id": "lhjuqo-JvQYg"
      },
      "execution_count": null,
      "outputs": []
    },
    {
      "cell_type": "code",
      "source": [
        "#taking input that is allowed\n",
        "tempinput = int(input())\n",
        "if(tempinput in n):\n",
        "  pro_id = tempinput\n",
        "  print(\"Selected product is\", pro_id)\n",
        "else:\n",
        "  print(\"Empty node has been removed from the graph!\")"
      ],
      "metadata": {
        "colab": {
          "base_uri": "https://localhost:8080/"
        },
        "id": "m8IC278bvVm3",
        "outputId": "7dfbb15a-e6d6-4fc4-8179-ca95d809308d"
      },
      "execution_count": null,
      "outputs": [
        {
          "output_type": "stream",
          "name": "stdout",
          "text": [
            "5\n",
            "Selected product is 5\n"
          ]
        }
      ]
    },
    {
      "cell_type": "code",
      "source": [
        "pro_dict = G.nodes[pro_id]"
      ],
      "metadata": {
        "id": "1DiYZqjivWQy"
      },
      "execution_count": null,
      "outputs": []
    },
    {
      "cell_type": "code",
      "source": [
        "pro_dict #details of the product selected by the user"
      ],
      "metadata": {
        "colab": {
          "base_uri": "https://localhost:8080/"
        },
        "id": "M6ycMnUKvkTl",
        "outputId": "c0fd0508-3aa3-4e52-ca5e-a28f16ea8415"
      },
      "execution_count": null,
      "outputs": [
        {
          "output_type": "execute_result",
          "data": {
            "text/plain": [
              "{'ASIN': '1577943082',\n",
              " 'AvgRating': 0.0,\n",
              " 'Categories': 'christian spiritu worship religion devot live busi prayerbook book subject',\n",
              " 'Copurchased': '157794349X 0892749504 1577941829 0892749563',\n",
              " 'Group': 'Book',\n",
              " 'NoSim': 5,\n",
              " 'SalesRank': 455160,\n",
              " 'Title': 'Prayers That Avail Much for Business: Executive',\n",
              " 'TotalReviews': 0}"
            ]
          },
          "metadata": {},
          "execution_count": 71
        }
      ]
    },
    {
      "cell_type": "code",
      "source": [
        "arr = pro_dict['Copurchased']"
      ],
      "metadata": {
        "id": "8jZh5UV2vrbq"
      },
      "execution_count": null,
      "outputs": []
    },
    {
      "cell_type": "code",
      "source": [
        "arr = arr.split(' ')"
      ],
      "metadata": {
        "id": "qp_cv3QVvw_M"
      },
      "execution_count": null,
      "outputs": []
    },
    {
      "cell_type": "code",
      "source": [
        "len(arr)"
      ],
      "metadata": {
        "colab": {
          "base_uri": "https://localhost:8080/"
        },
        "id": "_d7iyPtswHo0",
        "outputId": "5ce1d012-ae84-4fbe-ac4e-6a96a4f3977b"
      },
      "execution_count": null,
      "outputs": [
        {
          "output_type": "execute_result",
          "data": {
            "text/plain": [
              "4"
            ]
          },
          "metadata": {},
          "execution_count": 74
        }
      ]
    },
    {
      "cell_type": "code",
      "source": [
        "arr = np.array(arr)"
      ],
      "metadata": {
        "id": "rfAGxvlhv3J3"
      },
      "execution_count": null,
      "outputs": []
    },
    {
      "cell_type": "code",
      "source": [
        "#list of the ASINs of the products that are similar to the product selected\n",
        "arr"
      ],
      "metadata": {
        "colab": {
          "base_uri": "https://localhost:8080/"
        },
        "id": "tDk2UkEhv9_6",
        "outputId": "17b4c12d-a155-4931-e736-3d6f62a9a72d"
      },
      "execution_count": null,
      "outputs": [
        {
          "output_type": "execute_result",
          "data": {
            "text/plain": [
              "array(['157794349X', '0892749504', '1577941829', '0892749563'],\n",
              "      dtype='<U10')"
            ]
          },
          "metadata": {},
          "execution_count": 76
        }
      ]
    },
    {
      "cell_type": "code",
      "source": [
        "def getsimilar(arr):\n",
        "  indarr = []\n",
        "  counter = 0\n",
        "  for i in arr:\n",
        "    indx = df.index[df['ASIN'] == i][0]\n",
        "    if(indx in n):\n",
        "      print(G.nodes[indx])\n",
        "      indarr.append(indx)\n",
        "    else:\n",
        "      counter = counter+1\n",
        "  return counter, indarr"
      ],
      "metadata": {
        "id": "wgLtpVeewENp"
      },
      "execution_count": null,
      "outputs": []
    },
    {
      "cell_type": "code",
      "source": [
        "counter, indarr = getsimilar(arr)"
      ],
      "metadata": {
        "colab": {
          "base_uri": "https://localhost:8080/"
        },
        "id": "-qNuJ8vbwqV8",
        "outputId": "f25df82f-6940-4fd1-8eda-61bd0522ca52"
      },
      "execution_count": null,
      "outputs": [
        {
          "output_type": "stream",
          "name": "stdout",
          "text": [
            "{'Title': 'Prayers That Avail Much for the Workplace: The Business Handbook of Scriptural Prayer', 'ASIN': '157794349X', 'Categories': 'prayer christian life spiritu worship invest religion devot workplac com amazon home offic busi prayerbook book store subject', 'Group': 'Book', 'Copurchased': '0892749504 1577941829 1577943082 0892749563', 'SalesRank': 221617, 'TotalReviews': 0, 'AvgRating': 0.0, 'NoSim': 5}\n",
            "{'Title': 'Prayers That Avail Much: Three Bestselling Works Complete In One Volume, 25th Anniversary Commemorative', 'ASIN': '0892749504', 'Categories': 'christian spiritu worship religion devot prayerbook book inspir subject', 'Group': 'Book', 'Copurchased': '1577941829 0892749563 157794349X', 'SalesRank': 16962, 'TotalReviews': 16, 'AvgRating': 4.5, 'NoSim': 5}\n"
          ]
        }
      ]
    },
    {
      "cell_type": "code",
      "source": [
        "indarr"
      ],
      "metadata": {
        "colab": {
          "base_uri": "https://localhost:8080/"
        },
        "id": "YaE96G-fAz6j",
        "outputId": "67fa1a52-0edb-4cd6-bf9c-2b56b8ccab09"
      },
      "execution_count": null,
      "outputs": [
        {
          "output_type": "execute_result",
          "data": {
            "text/plain": [
              "[305321, 173362]"
            ]
          },
          "metadata": {},
          "execution_count": 79
        }
      ]
    },
    {
      "cell_type": "code",
      "source": [
        "print(counter,\"nodes have been removed from the graph\")"
      ],
      "metadata": {
        "colab": {
          "base_uri": "https://localhost:8080/"
        },
        "id": "yBu9ve0N-_e_",
        "outputId": "dfca91f8-910d-47ad-a5d6-26bebad8afae"
      },
      "execution_count": null,
      "outputs": [
        {
          "output_type": "stream",
          "name": "stdout",
          "text": [
            "2 nodes have been removed from the graph\n"
          ]
        }
      ]
    },
    {
      "cell_type": "code",
      "source": [
        "disparr = np.append(indarr, pro_id)"
      ],
      "metadata": {
        "id": "MdRsJ_P692pM"
      },
      "execution_count": null,
      "outputs": []
    },
    {
      "cell_type": "code",
      "source": [
        "H = G.subgraph(disparr)"
      ],
      "metadata": {
        "id": "sQmDviLa2Lpz"
      },
      "execution_count": null,
      "outputs": []
    },
    {
      "cell_type": "code",
      "source": [
        "nx.draw_networkx(H, with_labels = True,edge_color = 'r')"
      ],
      "metadata": {
        "colab": {
          "base_uri": "https://localhost:8080/",
          "height": 248
        },
        "id": "g3g8h3q39cwM",
        "outputId": "8f0d17ca-28bc-4da5-9ee7-b3e2b243f128"
      },
      "execution_count": null,
      "outputs": [
        {
          "output_type": "display_data",
          "data": {
            "text/plain": [
              "<Figure size 432x288 with 1 Axes>"
            ],
            "image/png": "[encoded data removed]"
          },
          "metadata": {}
        }
      ]
    },
    {
      "cell_type": "code",
      "source": [
        "#nx.write_gpickle(G, '/content/drive/MyDrive/GNN_datasets/G.gpickle')"
      ],
      "metadata": {
        "id": "Y1_f_kMZ9pD5"
      },
      "execution_count": null,
      "outputs": []
    },
    {
      "cell_type": "code",
      "source": [
        ""
      ],
      "metadata": {
        "id": "GfOxIx7fqMyg"
      },
      "execution_count": null,
      "outputs": []
    }
  ]
}