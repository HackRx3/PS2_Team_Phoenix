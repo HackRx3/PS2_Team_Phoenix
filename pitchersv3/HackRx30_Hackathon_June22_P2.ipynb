{
  "cells": [
    {
      "cell_type": "markdown",
      "source": [
        "#Recommendation of Products based on Similar Products"
      ],
      "metadata": {
        "id": "TSDdPv0SpXjA"
      }
    },
    {
      "cell_type": "markdown",
      "source": [
        "##1.Data Preprocessing and feature extraction for Recommendation of Products based on Similar Products"
      ],
      "metadata": {
        "id": "nstMlHr_UbWi"
      }
    },
    {
      "cell_type": "code",
      "execution_count": 11,
      "metadata": {
        "colab": {
          "base_uri": "https://localhost:8080/"
        },
        "id": "2lUbES9pNxgu",
        "outputId": "1acdc7a2-0f67-4236-83f8-9b8b07a40dd4"
      },
      "outputs": [
        {
          "output_type": "stream",
          "name": "stdout",
          "text": [
            "Looking in indexes: https://pypi.org/simple, https://us-python.pkg.dev/colab-wheels/public/simple/\n",
            "Requirement already satisfied: stemming in /usr/local/lib/python3.7/dist-packages (1.0.1)\n"
          ]
        }
      ],
      "source": [
        "%%bash\n",
        "pip install stemming"
      ]
    },
    {
      "cell_type": "code",
      "execution_count": 12,
      "metadata": {
        "colab": {
          "base_uri": "https://localhost:8080/"
        },
        "id": "9amWKQiCNQIK",
        "outputId": "70d96638-1dca-44a7-d602-f79ba6f7c6fd"
      },
      "outputs": [
        {
          "output_type": "stream",
          "name": "stderr",
          "text": [
            "[nltk_data] Downloading package stopwords to /root/nltk_data...\n",
            "[nltk_data]   Package stopwords is already up-to-date!\n"
          ]
        },
        {
          "output_type": "execute_result",
          "data": {
            "text/plain": [
              "True"
            ]
          },
          "metadata": {},
          "execution_count": 12
        }
      ],
      "source": [
        "import string\n",
        "import pandas as pd\n",
        "import re\n",
        "import nltk\n",
        "from nltk.corpus import stopwords\n",
        "from stemming.porter2 import stem\n",
        "import networkx \n",
        "import numpy as np\n",
        "import networkx as nx\n",
        "import seaborn as sns\n",
        "import matplotlib.pyplot as plt\n",
        "import plotly.express as px\n",
        "import matplotlib.pylab as plt\n",
        "from IPython.display import Image\n",
        "from community import community_louvain\n",
        "from collections import Counter\n",
        "from itertools import chain\n",
        "from sklearn.preprocessing import OneHotEncoder\n",
        "from sklearn.metrics.pairwise import cosine_similarity\n",
        "import plotly.io as pio\n",
        "pio.renderers.default = 'browser'\n",
        "import nltk\n",
        "nltk.download('stopwords')"
      ]
    },
    {
      "cell_type": "code",
      "source": [
        "from google.colab import drive\n",
        "drive.mount('/content/drive')"
      ],
      "metadata": {
        "colab": {
          "base_uri": "https://localhost:8080/"
        },
        "id": "SE-ffkkQ-e25",
        "outputId": "c84404b8-f4da-41a5-aaba-9b3fd87bdbe5"
      },
      "execution_count": 13,
      "outputs": [
        {
          "output_type": "stream",
          "name": "stdout",
          "text": [
            "Drive already mounted at /content/drive; to attempt to forcibly remount, call drive.mount(\"/content/drive\", force_remount=True).\n"
          ]
        }
      ]
    },
    {
      "cell_type": "markdown",
      "source": [
        "#### Open the file to read Amazon Product Metadata"
      ],
      "metadata": {
        "id": "UBNcLp6nUfwx"
      }
    },
    {
      "cell_type": "code",
      "execution_count": 14,
      "metadata": {
        "id": "AkkOxfRtNQIM"
      },
      "outputs": [],
      "source": [
        "df = open ('/content/drive/MyDrive/BAJAJ/GNN_datasets/amazon-meta.txt', 'r', encoding='utf-8', errors= 'ignore')"
      ]
    },
    {
      "cell_type": "markdown",
      "source": [
        "#### Initialize a nested product dictionary that will hold cleaned up amazon product data. "
      ],
      "metadata": {
        "id": "aytKJ_PnUirj"
      }
    },
    {
      "cell_type": "code",
      "execution_count": 15,
      "metadata": {
        "id": "XF4sZ-yPNQIN"
      },
      "outputs": [],
      "source": [
        "amazonProducts= {}"
      ]
    },
    {
      "cell_type": "markdown",
      "source": [
        "### Read the data from the Amazon meta information file and fill the AmazonProducts nested dictionary with features of products and extracted features of users reviews"
      ],
      "metadata": {
        "id": "X_p9kmqTUmWa"
      }
    },
    {
      "cell_type": "code",
      "execution_count": 16,
      "metadata": {
        "colab": {
          "base_uri": "https://localhost:8080/"
        },
        "id": "bgIvuxUNNQIO",
        "outputId": "e1d5d498-bd71-4873-ebf5-f09208283d54"
      },
      "outputs": [
        {
          "output_type": "execute_result",
          "data": {
            "text/plain": [
              "<function TextIOWrapper.close>"
            ]
          },
          "metadata": {},
          "execution_count": 16
        }
      ],
      "source": [
        "(Id, ASIN, Title, Categories, Group, Copurchased, SalesRank, TotalReviews, AvgRating, DegreeCentrality, ClusteringCoeff) = (\"\", \"\", \"\", \"\", \"\", \"\", 0, 0, 0.0, 0, 0.0)\n",
        "\n",
        "for line in df:\n",
        "    line = line.strip()\n",
        "    if(line.startswith(\"Id\")): # a product block started\n",
        "        Id = line[3:].strip()\n",
        "    elif(line.startswith(\"ASIN\")):\n",
        "        ASIN = line[5:].strip()\n",
        "    elif(line.startswith(\"title\")):\n",
        "        Title = line[6:].strip()\n",
        "        Title = ' '.join(Title.split())\n",
        "        continue\n",
        "    elif(line.startswith(\"group\")):\n",
        "        Group = line[6:].strip()\n",
        "    elif(line.startswith(\"salesrank\")):\n",
        "        SalesRank = line[10:].strip()\n",
        "    elif(line.startswith(\"similar\")):\n",
        "        ls = line.split()\n",
        "        no_sim = ls[1:2]\n",
        "        Copurchased = ' '.join([c for c in ls[2:]])\n",
        "    elif(line.startswith(\"categories\")):\n",
        "        ls = line.split()\n",
        "        Categories = ' '.join((df.readline()).lower() for i in range(int(ls[1].strip())))\n",
        "        Categories = re.compile('[%s]' % re.escape(string.digits+string.punctuation)).sub(' ',Categories)\n",
        "        Categories = ' '.join(set(Categories.split())-set(stopwords.words(\"english\")))\n",
        "        Categories = ' '.join(stem(word) for word in Categories.split())\n",
        "    elif(line.startswith(\"reviews\")):\n",
        "        ls = line.split()\n",
        "        TotalReviews = ls[2].strip()\n",
        "        AvgRating = ls[7].strip() # a product block ended\n",
        "    elif (line==\"\"): # write out fields to amazonProducts dictionary\n",
        "        try:\n",
        "            MetaData = {}\n",
        "            if (ASIN != \"\"):\n",
        "                amazonProducts[ASIN] = MetaData\n",
        "            MetaData['Id'] = Id\n",
        "            MetaData['Title'] = Title\n",
        "            MetaData['Categories'] = ' '.join(set(Categories.split()))\n",
        "            MetaData['Group'] = Group\n",
        "            MetaData['Copurchased'] = Copurchased\n",
        "            MetaData['SalesRank'] = int(SalesRank)\n",
        "            MetaData['TotalReviews'] = int(TotalReviews)\n",
        "            MetaData['AvgRating'] = float(AvgRating)\n",
        "            MetaData['NoSim'] = no_sim\n",
        "        except NameError:\n",
        "            continue\n",
        "        (Id, ASIN, Title, Categories, Group, Copurchased, SalesRank, TotalReviews, AvgRating, DegreeCentrality, ClusteringCoeff) = (\"\", \"\", \"\", \"\", \"\", \"\", 0, 0, 0.0, 0, 0.0)\n",
        "df.close"
      ]
    },
    {
      "cell_type": "code",
      "source": [
        "for asin, metadata in amazonProducts.items():\n",
        "    amazonProducts[asin]['Copurchased']= ' '.join([cp for cp in metadata['Copurchased'].split() if cp in amazonProducts.keys()])"
      ],
      "metadata": {
        "id": "vaBBzePljktk"
      },
      "execution_count": 17,
      "outputs": []
    },
    {
      "cell_type": "markdown",
      "source": [
        "##### Converting dictionary to dataframe"
      ],
      "metadata": {
        "id": "2_TN6RyAUtKj"
      }
    },
    {
      "cell_type": "code",
      "source": [
        "df = pd.DataFrame.from_dict(amazonProducts)\n",
        "df = df.T"
      ],
      "metadata": {
        "id": "g4mKGtoXaNFk"
      },
      "execution_count": 18,
      "outputs": []
    },
    {
      "cell_type": "markdown",
      "source": [
        "##### Helper Functions"
      ],
      "metadata": {
        "id": "BXNLFWziUyVE"
      }
    },
    {
      "cell_type": "code",
      "source": [
        "def getclean(l):\n",
        "    p = int(l[0]) \n",
        "    return p  "
      ],
      "metadata": {
        "id": "GLFuusr9mJuK"
      },
      "execution_count": 19,
      "outputs": []
    },
    {
      "cell_type": "code",
      "source": [
        "df['NoSim'] = df['NoSim'].apply(lambda x: getclean(x))\n",
        "df['ASIN'] = df.index\n",
        "df = df.set_index('Id')"
      ],
      "metadata": {
        "id": "83EriizHnYYP"
      },
      "execution_count": 20,
      "outputs": []
    },
    {
      "cell_type": "code",
      "source": [
        "df.to_csv('/content/drive/MyDrive/BAJAJ/GNN_datasets/Similar_Products.csv')"
      ],
      "metadata": {
        "id": "KCZIld7L0SJl"
      },
      "execution_count": 21,
      "outputs": []
    },
    {
      "cell_type": "markdown",
      "source": [
        "##2. Recommendation System of Similar Products using extracted previously"
      ],
      "metadata": {
        "id": "1WR7Xe50qaV4"
      }
    },
    {
      "cell_type": "markdown",
      "source": [
        "### Reading transaction data from co-purchases edgelist dataset"
      ],
      "metadata": {
        "id": "R25CG0vUVoDg"
      }
    },
    {
      "cell_type": "code",
      "source": [
        "from google.colab import drive\n",
        "drive.mount('/content/drive')"
      ],
      "metadata": {
        "id": "hffVoPnDg4mk",
        "outputId": "e37a6cf8-2021-4920-933a-9df38559cedc",
        "colab": {
          "base_uri": "https://localhost:8080/"
        }
      },
      "execution_count": 22,
      "outputs": [
        {
          "output_type": "stream",
          "name": "stdout",
          "text": [
            "Drive already mounted at /content/drive; to attempt to forcibly remount, call drive.mount(\"/content/drive\", force_remount=True).\n"
          ]
        }
      ]
    },
    {
      "cell_type": "code",
      "source": [
        "Graphtype = nx.DiGraph()\n",
        "filepath = 'drive/MyDrive/BAJAJ/GNN_datasets/amazon0601.txt' \n",
        "G = nx.read_edgelist(\n",
        "    filepath,\n",
        "    comments='#',\n",
        "    create_using=Graphtype,\n",
        "    nodetype=int\n",
        ")"
      ],
      "metadata": {
        "id": "v2UXNw1QsvXI"
      },
      "execution_count": 23,
      "outputs": []
    },
    {
      "cell_type": "code",
      "source": [
        "df = pd.read_csv('/content/drive/MyDrive/BAJAJ/GNN_datasets/Similar_Products.csv') "
      ],
      "metadata": {
        "id": "vhZxDp-bsy93"
      },
      "execution_count": 24,
      "outputs": []
    },
    {
      "cell_type": "code",
      "source": [
        "df.head()"
      ],
      "metadata": {
        "colab": {
          "base_uri": "https://localhost:8080/",
          "height": 206
        },
        "id": "QbqdXCmls6qR",
        "outputId": "ebcfb1e8-fb37-432a-bc91-f517564206e5"
      },
      "execution_count": 25,
      "outputs": [
        {
          "output_type": "execute_result",
          "data": {
            "text/plain": [
              "   Id                                              Title  \\\n",
              "0   0                                                NaN   \n",
              "1   1            Patterns of Preaching: A Sermon Sampler   \n",
              "2   2                         Candlemas: Feast of Flames   \n",
              "3   3   World War II Allied Fighter Planes Trading Cards   \n",
              "4   4  Life Application Bible Commentary: 1 and 2 Tim...   \n",
              "\n",
              "                                          Categories Group  \\\n",
              "0                                                NaN   NaN   \n",
              "1  subject spiritu book sermon preach christian r...  Book   \n",
              "2  subject book witchcraft wicca earth base spiri...  Book   \n",
              "3       subject general book hobbi craft home garden  Book   \n",
              "4  new histori guid discipleship subject testamen...  Book   \n",
              "\n",
              "                                         Copurchased  SalesRank  TotalReviews  \\\n",
              "0                                                NaN          0             0   \n",
              "1  0804215715 156101074X 0687023955 0687074231 08...     396585             2   \n",
              "2  0738700827 1567184960 1567182836 0738700525 07...     168596            12   \n",
              "3                                                NaN    1270652             1   \n",
              "4        0842328130 0842330313 0842328610 0842328572     631289             1   \n",
              "\n",
              "   AvgRating  NoSim        ASIN  \n",
              "0        0.0      5  0771044445  \n",
              "1        5.0      5  0827229534  \n",
              "2        4.5      5  0738700797  \n",
              "3        5.0      0  0486287785  \n",
              "4        4.0      5  0842328327  "
            ],
            "text/html": [
              "\n",
              "  <div id=\"df-16673b01-b0ba-4c4a-92c9-203fb40bf455\">\n",
              "    <div class=\"colab-df-container\">\n",
              "      <div>\n",
              "<style scoped>\n",
              "    .dataframe tbody tr th:only-of-type {\n",
              "        vertical-align: middle;\n",
              "    }\n",
              "\n",
              "    .dataframe tbody tr th {\n",
              "        vertical-align: top;\n",
              "    }\n",
              "\n",
              "    .dataframe thead th {\n",
              "        text-align: right;\n",
              "    }\n",
              "</style>\n",
              "<table border=\"1\" class=\"dataframe\">\n",
              "  <thead>\n",
              "    <tr style=\"text-align: right;\">\n",
              "      <th></th>\n",
              "      <th>Id</th>\n",
              "      <th>Title</th>\n",
              "      <th>Categories</th>\n",
              "      <th>Group</th>\n",
              "      <th>Copurchased</th>\n",
              "      <th>SalesRank</th>\n",
              "      <th>TotalReviews</th>\n",
              "      <th>AvgRating</th>\n",
              "      <th>NoSim</th>\n",
              "      <th>ASIN</th>\n",
              "    </tr>\n",
              "  </thead>\n",
              "  <tbody>\n",
              "    <tr>\n",
              "      <th>0</th>\n",
              "      <td>0</td>\n",
              "      <td>NaN</td>\n",
              "      <td>NaN</td>\n",
              "      <td>NaN</td>\n",
              "      <td>NaN</td>\n",
              "      <td>0</td>\n",
              "      <td>0</td>\n",
              "      <td>0.0</td>\n",
              "      <td>5</td>\n",
              "      <td>0771044445</td>\n",
              "    </tr>\n",
              "    <tr>\n",
              "      <th>1</th>\n",
              "      <td>1</td>\n",
              "      <td>Patterns of Preaching: A Sermon Sampler</td>\n",
              "      <td>subject spiritu book sermon preach christian r...</td>\n",
              "      <td>Book</td>\n",
              "      <td>0804215715 156101074X 0687023955 0687074231 08...</td>\n",
              "      <td>396585</td>\n",
              "      <td>2</td>\n",
              "      <td>5.0</td>\n",
              "      <td>5</td>\n",
              "      <td>0827229534</td>\n",
              "    </tr>\n",
              "    <tr>\n",
              "      <th>2</th>\n",
              "      <td>2</td>\n",
              "      <td>Candlemas: Feast of Flames</td>\n",
              "      <td>subject book witchcraft wicca earth base spiri...</td>\n",
              "      <td>Book</td>\n",
              "      <td>0738700827 1567184960 1567182836 0738700525 07...</td>\n",
              "      <td>168596</td>\n",
              "      <td>12</td>\n",
              "      <td>4.5</td>\n",
              "      <td>5</td>\n",
              "      <td>0738700797</td>\n",
              "    </tr>\n",
              "    <tr>\n",
              "      <th>3</th>\n",
              "      <td>3</td>\n",
              "      <td>World War II Allied Fighter Planes Trading Cards</td>\n",
              "      <td>subject general book hobbi craft home garden</td>\n",
              "      <td>Book</td>\n",
              "      <td>NaN</td>\n",
              "      <td>1270652</td>\n",
              "      <td>1</td>\n",
              "      <td>5.0</td>\n",
              "      <td>0</td>\n",
              "      <td>0486287785</td>\n",
              "    </tr>\n",
              "    <tr>\n",
              "      <th>4</th>\n",
              "      <td>4</td>\n",
              "      <td>Life Application Bible Commentary: 1 and 2 Tim...</td>\n",
              "      <td>new histori guid discipleship subject testamen...</td>\n",
              "      <td>Book</td>\n",
              "      <td>0842328130 0842330313 0842328610 0842328572</td>\n",
              "      <td>631289</td>\n",
              "      <td>1</td>\n",
              "      <td>4.0</td>\n",
              "      <td>5</td>\n",
              "      <td>0842328327</td>\n",
              "    </tr>\n",
              "  </tbody>\n",
              "</table>\n",
              "</div>\n",
              "      <button class=\"colab-df-convert\" onclick=\"convertToInteractive('df-16673b01-b0ba-4c4a-92c9-203fb40bf455')\"\n",
              "              title=\"Convert this dataframe to an interactive table.\"\n",
              "              style=\"display:none;\">\n",
              "        \n",
              "  <svg xmlns=\"http://www.w3.org/2000/svg\" height=\"24px\"viewBox=\"0 0 24 24\"\n",
              "       width=\"24px\">\n",
              "    <path d=\"M0 0h24v24H0V0z\" fill=\"none\"/>\n",
              "    <path d=\"M18.56 5.44l.94 2.06.94-2.06 2.06-.94-2.06-.94-.94-2.06-.94 2.06-2.06.94zm-11 1L8.5 8.5l.94-2.06 2.06-.94-2.06-.94L8.5 2.5l-.94 2.06-2.06.94zm10 10l.94 2.06.94-2.06 2.06-.94-2.06-.94-.94-2.06-.94 2.06-2.06.94z\"/><path d=\"M17.41 7.96l-1.37-1.37c-.4-.4-.92-.59-1.43-.59-.52 0-1.04.2-1.43.59L10.3 9.45l-7.72 7.72c-.78.78-.78 2.05 0 2.83L4 21.41c.39.39.9.59 1.41.59.51 0 1.02-.2 1.41-.59l7.78-7.78 2.81-2.81c.8-.78.8-2.07 0-2.86zM5.41 20L4 18.59l7.72-7.72 1.47 1.35L5.41 20z\"/>\n",
              "  </svg>\n",
              "      </button>\n",
              "      \n",
              "  <style>\n",
              "    .colab-df-container {\n",
              "      display:flex;\n",
              "      flex-wrap:wrap;\n",
              "      gap: 12px;\n",
              "    }\n",
              "\n",
              "    .colab-df-convert {\n",
              "      background-color: #E8F0FE;\n",
              "      border: none;\n",
              "      border-radius: 50%;\n",
              "      cursor: pointer;\n",
              "      display: none;\n",
              "      fill: #1967D2;\n",
              "      height: 32px;\n",
              "      padding: 0 0 0 0;\n",
              "      width: 32px;\n",
              "    }\n",
              "\n",
              "    .colab-df-convert:hover {\n",
              "      background-color: #E2EBFA;\n",
              "      box-shadow: 0px 1px 2px rgba(60, 64, 67, 0.3), 0px 1px 3px 1px rgba(60, 64, 67, 0.15);\n",
              "      fill: #174EA6;\n",
              "    }\n",
              "\n",
              "    [theme=dark] .colab-df-convert {\n",
              "      background-color: #3B4455;\n",
              "      fill: #D2E3FC;\n",
              "    }\n",
              "\n",
              "    [theme=dark] .colab-df-convert:hover {\n",
              "      background-color: #434B5C;\n",
              "      box-shadow: 0px 1px 3px 1px rgba(0, 0, 0, 0.15);\n",
              "      filter: drop-shadow(0px 1px 2px rgba(0, 0, 0, 0.3));\n",
              "      fill: #FFFFFF;\n",
              "    }\n",
              "  </style>\n",
              "\n",
              "      <script>\n",
              "        const buttonEl =\n",
              "          document.querySelector('#df-16673b01-b0ba-4c4a-92c9-203fb40bf455 button.colab-df-convert');\n",
              "        buttonEl.style.display =\n",
              "          google.colab.kernel.accessAllowed ? 'block' : 'none';\n",
              "\n",
              "        async function convertToInteractive(key) {\n",
              "          const element = document.querySelector('#df-16673b01-b0ba-4c4a-92c9-203fb40bf455');\n",
              "          const dataTable =\n",
              "            await google.colab.kernel.invokeFunction('convertToInteractive',\n",
              "                                                     [key], {});\n",
              "          if (!dataTable) return;\n",
              "\n",
              "          const docLinkHtml = 'Like what you see? Visit the ' +\n",
              "            '<a target=\"_blank\" href=https://colab.research.google.com/notebooks/data_table.ipynb>data table notebook</a>'\n",
              "            + ' to learn more about interactive tables.';\n",
              "          element.innerHTML = '';\n",
              "          dataTable['output_type'] = 'display_data';\n",
              "          await google.colab.output.renderOutput(dataTable, element);\n",
              "          const docLink = document.createElement('div');\n",
              "          docLink.innerHTML = docLinkHtml;\n",
              "          element.appendChild(docLink);\n",
              "        }\n",
              "      </script>\n",
              "    </div>\n",
              "  </div>\n",
              "  "
            ]
          },
          "metadata": {},
          "execution_count": 25
        }
      ]
    },
    {
      "cell_type": "code",
      "source": [
        "df.isnull().sum()"
      ],
      "metadata": {
        "id": "NAcmyjAytEWj",
        "colab": {
          "base_uri": "https://localhost:8080/"
        },
        "outputId": "9fb74e91-ffbc-47ab-b503-b5446e079565"
      },
      "execution_count": 26,
      "outputs": [
        {
          "output_type": "execute_result",
          "data": {
            "text/plain": [
              "Id                   0\n",
              "Title             5868\n",
              "Categories       28771\n",
              "Group             5868\n",
              "Copurchased     186985\n",
              "SalesRank            0\n",
              "TotalReviews         0\n",
              "AvgRating            0\n",
              "NoSim                0\n",
              "ASIN                 0\n",
              "dtype: int64"
            ]
          },
          "metadata": {},
          "execution_count": 26
        }
      ]
    },
    {
      "cell_type": "code",
      "source": [
        "df['NoSim'].value_counts()"
      ],
      "metadata": {
        "id": "HwCjmI3FtfKT",
        "colab": {
          "base_uri": "https://localhost:8080/"
        },
        "outputId": "60465f1c-a421-4692-826b-83b4ee15b93c"
      },
      "execution_count": 27,
      "outputs": [
        {
          "output_type": "execute_result",
          "data": {
            "text/plain": [
              "5    341088\n",
              "0    165383\n",
              "1     11186\n",
              "2     10926\n",
              "3     10390\n",
              "4      9579\n",
              "Name: NoSim, dtype: int64"
            ]
          },
          "metadata": {},
          "execution_count": 27
        }
      ]
    },
    {
      "cell_type": "code",
      "source": [
        "nodeattrdf = df[['Title','ASIN' ,'Categories', 'Group', 'Copurchased', 'SalesRank','TotalReviews', 'AvgRating', 'NoSim']].copy()"
      ],
      "metadata": {
        "id": "pNtJNL7ct8Ms"
      },
      "execution_count": 28,
      "outputs": []
    },
    {
      "cell_type": "code",
      "source": [
        "nx.set_node_attributes(G, nodeattrdf.to_dict('index'))"
      ],
      "metadata": {
        "id": "uOQDgxTsub7Q"
      },
      "execution_count": 29,
      "outputs": []
    },
    {
      "cell_type": "code",
      "source": [
        "G.nodes[2]"
      ],
      "metadata": {
        "id": "1Q27N7KTudxr",
        "colab": {
          "base_uri": "https://localhost:8080/"
        },
        "outputId": "2a983e3f-f28a-4350-b403-4f0294759745"
      },
      "execution_count": 30,
      "outputs": [
        {
          "output_type": "execute_result",
          "data": {
            "text/plain": [
              "{'ASIN': '0738700797',\n",
              " 'AvgRating': 4.5,\n",
              " 'Categories': 'subject book witchcraft wicca earth base spiritu religion',\n",
              " 'Copurchased': '0738700827 1567184960 1567182836 0738700525 0738700940',\n",
              " 'Group': 'Book',\n",
              " 'NoSim': 5,\n",
              " 'SalesRank': 168596,\n",
              " 'Title': 'Candlemas: Feast of Flames',\n",
              " 'TotalReviews': 12}"
            ]
          },
          "metadata": {},
          "execution_count": 30
        }
      ]
    },
    {
      "cell_type": "markdown",
      "source": [
        "####Removing nodes with no links"
      ],
      "metadata": {
        "id": "KrRSEq9gpsRZ"
      }
    },
    {
      "cell_type": "code",
      "source": [
        "remove = [nodes for nodes in dict(G.nodes()) if len(G.nodes[nodes]) == 0] "
      ],
      "metadata": {
        "id": "yMKk_szcufbW"
      },
      "execution_count": 31,
      "outputs": []
    },
    {
      "cell_type": "code",
      "source": [
        "G.remove_nodes_from(remove)"
      ],
      "metadata": {
        "id": "75K4QS-7vMbw"
      },
      "execution_count": 32,
      "outputs": []
    },
    {
      "cell_type": "code",
      "source": [
        "remove[:10]"
      ],
      "metadata": {
        "id": "ljRZFTlZ4mba",
        "colab": {
          "base_uri": "https://localhost:8080/"
        },
        "outputId": "38c1fbc8-c06c-4211-ab8b-8d253570a9f9"
      },
      "execution_count": 33,
      "outputs": [
        {
          "output_type": "execute_result",
          "data": {
            "text/plain": [
              "[]"
            ]
          },
          "metadata": {},
          "execution_count": 33
        }
      ]
    },
    {
      "cell_type": "code",
      "source": [
        "G.number_of_nodes()"
      ],
      "metadata": {
        "id": "otCVqC8T4GXt",
        "colab": {
          "base_uri": "https://localhost:8080/"
        },
        "outputId": "78305ca3-dbea-41e2-b3d2-19125262f416"
      },
      "execution_count": 34,
      "outputs": [
        {
          "output_type": "execute_result",
          "data": {
            "text/plain": [
              "403394"
            ]
          },
          "metadata": {},
          "execution_count": 34
        }
      ]
    },
    {
      "cell_type": "markdown",
      "source": [
        "####Creating an array of permissible nodes"
      ],
      "metadata": {
        "id": "cOfN6KclpxN6"
      }
    },
    {
      "cell_type": "code",
      "source": [
        "n = list(G.nodes) \n",
        "n =  np.array(n)\n",
        "n = np.unique(n)"
      ],
      "metadata": {
        "id": "lhjuqo-JvQYg"
      },
      "execution_count": 35,
      "outputs": []
    },
    {
      "cell_type": "code",
      "source": [
        "#taking input that is allowed\n",
        "tempinput = int(input())\n",
        "if(tempinput in n):\n",
        "  pro_id = tempinput\n",
        "  print(\"Selected product is\", pro_id)\n",
        "else:\n",
        "  print(\"Empty node has been removed from the graph!\")"
      ],
      "metadata": {
        "id": "m8IC278bvVm3",
        "colab": {
          "base_uri": "https://localhost:8080/"
        },
        "outputId": "6c06eed0-2a5c-48cf-f77f-7da8f208bc86"
      },
      "execution_count": 36,
      "outputs": [
        {
          "output_type": "stream",
          "name": "stdout",
          "text": [
            "5\n",
            "Selected product is 5\n"
          ]
        }
      ]
    },
    {
      "cell_type": "code",
      "source": [
        "pro_dict = G.nodes[pro_id]"
      ],
      "metadata": {
        "id": "1DiYZqjivWQy"
      },
      "execution_count": 37,
      "outputs": []
    },
    {
      "cell_type": "code",
      "source": [
        "pro_dict #details of the product selected by the user"
      ],
      "metadata": {
        "id": "M6ycMnUKvkTl",
        "outputId": "481cb1fb-951e-48a1-9771-5716674d48af",
        "colab": {
          "base_uri": "https://localhost:8080/"
        }
      },
      "execution_count": 38,
      "outputs": [
        {
          "output_type": "execute_result",
          "data": {
            "text/plain": [
              "{'ASIN': '1577943082',\n",
              " 'AvgRating': 0.0,\n",
              " 'Categories': 'subject spiritu book prayerbook live devot worship busi christian religion',\n",
              " 'Copurchased': '157794349X 0892749504 1577941829 0892749563',\n",
              " 'Group': 'Book',\n",
              " 'NoSim': 5,\n",
              " 'SalesRank': 455160,\n",
              " 'Title': 'Prayers That Avail Much for Business: Executive',\n",
              " 'TotalReviews': 0}"
            ]
          },
          "metadata": {},
          "execution_count": 38
        }
      ]
    },
    {
      "cell_type": "markdown",
      "source": [
        "####Creating a list of the ASINs of the products that are similar to the product selected"
      ],
      "metadata": {
        "id": "-A6_4lVNp9d3"
      }
    },
    {
      "cell_type": "code",
      "source": [
        "arr = pro_dict['Copurchased']\n",
        "arr = arr.split(' ')\n",
        "print(len(arr))\n",
        "arr = np.array(arr)\n",
        "arr"
      ],
      "metadata": {
        "id": "8jZh5UV2vrbq",
        "colab": {
          "base_uri": "https://localhost:8080/"
        },
        "outputId": "890135dd-a00a-4359-81b3-e9795de28ebe"
      },
      "execution_count": 39,
      "outputs": [
        {
          "output_type": "stream",
          "name": "stdout",
          "text": [
            "4\n"
          ]
        },
        {
          "output_type": "execute_result",
          "data": {
            "text/plain": [
              "array(['157794349X', '0892749504', '1577941829', '0892749563'],\n",
              "      dtype='<U10')"
            ]
          },
          "metadata": {},
          "execution_count": 39
        }
      ]
    },
    {
      "cell_type": "markdown",
      "source": [
        "#####Helper Function to get similar product recommendations"
      ],
      "metadata": {
        "id": "PV8-TD4AqPRx"
      }
    },
    {
      "cell_type": "code",
      "source": [
        "def getsimilar(arr):\n",
        "  indarr = []\n",
        "  counter = 0\n",
        "  for i in arr:\n",
        "    indx = df.index[df['ASIN'] == i][0]\n",
        "    if(indx in n):\n",
        "      print(G.nodes[indx])\n",
        "      indarr.append(indx)\n",
        "    else:\n",
        "      counter = counter+1\n",
        "  return counter, indarr"
      ],
      "metadata": {
        "id": "wgLtpVeewENp"
      },
      "execution_count": 40,
      "outputs": []
    },
    {
      "cell_type": "code",
      "source": [
        "counter, indarr = getsimilar(arr)\n",
        "print(indarr)\n",
        "print(counter,\"nodes have been removed from the graph\")"
      ],
      "metadata": {
        "id": "-qNuJ8vbwqV8",
        "outputId": "b45652f6-ce0d-4496-d39b-8a34bdc950bb",
        "colab": {
          "base_uri": "https://localhost:8080/"
        }
      },
      "execution_count": 41,
      "outputs": [
        {
          "output_type": "stream",
          "name": "stdout",
          "text": [
            "{'Title': 'Prayers That Avail Much for the Workplace: The Business Handbook of Scriptural Prayer', 'ASIN': '157794349X', 'Categories': 'subject spiritu invest book offic prayerbook store devot workplac prayer com worship life busi christian home religion amazon', 'Group': 'Book', 'Copurchased': '0892749504 1577941829 1577943082 0892749563', 'SalesRank': 221617, 'TotalReviews': 0, 'AvgRating': 0.0, 'NoSim': 5}\n",
            "{'Title': 'Prayers That Avail Much: Three Bestselling Works Complete In One Volume, 25th Anniversary Commemorative', 'ASIN': '0892749504', 'Categories': 'subject book prayerbook inspir devot worship spiritu christian religion', 'Group': 'Book', 'Copurchased': '1577941829 0892749563 157794349X', 'SalesRank': 16962, 'TotalReviews': 16, 'AvgRating': 4.5, 'NoSim': 5}\n",
            "[305321, 173362]\n",
            "2 nodes have been removed from the graph\n"
          ]
        }
      ]
    },
    {
      "cell_type": "code",
      "source": [
        "disparr = np.append(indarr, pro_id)\n",
        "H = G.subgraph(disparr)\n",
        "nx.draw_networkx(H, with_labels = True,edge_color = 'r')"
      ],
      "metadata": {
        "id": "MdRsJ_P692pM",
        "colab": {
          "base_uri": "https://localhost:8080/",
          "height": 248
        },
        "outputId": "0fa1beb5-f547-4132-f221-cb1f4d06252e"
      },
      "execution_count": 42,
      "outputs": [
        {
          "output_type": "display_data",
          "data": {
            "text/plain": [
              "<Figure size 432x288 with 1 Axes>"
            ],
            "image/png": "[encoded data removed]"
          },
          "metadata": {}
        }
      ]
    },
    {
      "cell_type": "code",
      "source": [
        "#nx.write_gpickle(G, '/content/drive/MyDrive/GNN_datasets/G.gpickle')"
      ],
      "metadata": {
        "id": "Y1_f_kMZ9pD5"
      },
      "execution_count": 43,
      "outputs": []
    },
    {
      "cell_type": "code",
      "source": [
        ""
      ],
      "metadata": {
        "id": "Rhos2R10pRHv"
      },
      "execution_count": 43,
      "outputs": []
    }
  ],
  "metadata": {
    "colab": {
      "name": "HackRx30_Hackathon_June22_P2.ipynb",
      "provenance": [],
      "collapsed_sections": [],
      "toc_visible": true
    },
    "kernelspec": {
      "display_name": "Python 3",
      "language": "python",
      "name": "python3"
    },
    "language_info": {
      "codemirror_mode": {
        "name": "ipython",
        "version": 3
      },
      "file_extension": ".py",
      "mimetype": "text/x-python",
      "name": "python",
      "nbconvert_exporter": "python",
      "pygments_lexer": "ipython3",
      "version": "3.8.5"
    }
  },
  "nbformat": 4,
  "nbformat_minor": 0
}