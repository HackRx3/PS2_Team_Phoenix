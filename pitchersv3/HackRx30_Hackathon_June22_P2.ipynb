{
  "cells": [
    {
      "cell_type": "markdown",
      "source": [
        "#Recommendation of Products based on Similar Products"
      ],
      "metadata": {
        "id": "TSDdPv0SpXjA"
      }
    },
    {
      "cell_type": "markdown",
      "source": [
        "##1.Data Preprocessing and feature extraction for Recommendation of Products based on Similar Products"
      ],
      "metadata": {
        "id": "nstMlHr_UbWi"
      }
    },
    {
      "cell_type": "code",
      "execution_count": 52,
      "metadata": {
        "colab": {
          "base_uri": "https://localhost:8080/"
        },
        "id": "2lUbES9pNxgu",
        "outputId": "a63353d0-7388-4972-c053-b97a95b4774e"
      },
      "outputs": [
        {
          "output_type": "stream",
          "name": "stdout",
          "text": [
            "Looking in indexes: https://pypi.org/simple, https://us-python.pkg.dev/colab-wheels/public/simple/\n",
            "Requirement already satisfied: stemming in /usr/local/lib/python3.7/dist-packages (1.0.1)\n"
          ]
        }
      ],
      "source": [
        "%%bash\n",
        "pip install stemming"
      ]
    },
    {
      "cell_type": "code",
      "execution_count": 53,
      "metadata": {
        "colab": {
          "base_uri": "https://localhost:8080/"
        },
        "id": "9amWKQiCNQIK",
        "outputId": "efd10c21-c18a-40e0-8934-79d8b51e8040"
      },
      "outputs": [
        {
          "output_type": "stream",
          "name": "stderr",
          "text": [
            "[nltk_data] Downloading package stopwords to /root/nltk_data...\n",
            "[nltk_data]   Package stopwords is already up-to-date!\n"
          ]
        },
        {
          "output_type": "execute_result",
          "data": {
            "text/plain": [
              "True"
            ]
          },
          "metadata": {},
          "execution_count": 53
        }
      ],
      "source": [
        "import string\n",
        "import pandas as pd\n",
        "import re\n",
        "import nltk\n",
        "from nltk.corpus import stopwords\n",
        "from stemming.porter2 import stem\n",
        "import networkx \n",
        "import numpy as np\n",
        "import networkx as nx\n",
        "import seaborn as sns\n",
        "import matplotlib.pyplot as plt\n",
        "import plotly.express as px\n",
        "import matplotlib.pylab as plt\n",
        "from IPython.display import Image\n",
        "from community import community_louvain\n",
        "from collections import Counter\n",
        "from itertools import chain\n",
        "from sklearn.preprocessing import OneHotEncoder\n",
        "from sklearn.metrics.pairwise import cosine_similarity\n",
        "import plotly.io as pio\n",
        "pio.renderers.default = 'browser'\n",
        "import nltk\n",
        "nltk.download('stopwords')"
      ]
    },
    {
      "cell_type": "code",
      "source": [
        "\"\"\"from google.colab import drive\n",
        "drive.mount('/content/drive')\"\"\""
      ],
      "metadata": {
        "colab": {
          "base_uri": "https://localhost:8080/",
          "height": 36
        },
        "id": "SE-ffkkQ-e25",
        "outputId": "ed8dda4f-ce3f-4043-cbda-c857551d5962"
      },
      "execution_count": 54,
      "outputs": [
        {
          "output_type": "execute_result",
          "data": {
            "text/plain": [
              "\"from google.colab import drive\\ndrive.mount('/content/drive')\""
            ],
            "application/vnd.google.colaboratory.intrinsic+json": {
              "type": "string"
            }
          },
          "metadata": {},
          "execution_count": 54
        }
      ]
    },
    {
      "cell_type": "code",
      "source": [
        "!gdown --id 1-MyYRp_5NnmU1JWvl1jV6Dhe3o2HAjdc"
      ],
      "metadata": {
        "colab": {
          "base_uri": "https://localhost:8080/"
        },
        "id": "_Nw-tIDtljLO",
        "outputId": "bb972f4a-05b1-4ac9-8a6f-992799071f68"
      },
      "execution_count": 55,
      "outputs": [
        {
          "output_type": "stream",
          "name": "stdout",
          "text": [
            "/usr/local/lib/python3.7/dist-packages/gdown/cli.py:131: FutureWarning: Option `--id` was deprecated in version 4.3.1 and will be removed in 5.0. You don't need to pass it anymore to use a file ID.\n",
            "  category=FutureWarning,\n",
            "Downloading...\n",
            "From: https://drive.google.com/uc?id=1-MyYRp_5NnmU1JWvl1jV6Dhe3o2HAjdc\n",
            "To: /content/amazon-meta.txt\n",
            "100% 978M/978M [00:04<00:00, 224MB/s]\n"
          ]
        }
      ]
    },
    {
      "cell_type": "code",
      "source": [
        "!gdown --id 1XwBFgm_vdUTCe6LUkqSSNJanVOpx7OGP"
      ],
      "metadata": {
        "colab": {
          "base_uri": "https://localhost:8080/"
        },
        "id": "Na7leAihmOOW",
        "outputId": "0ea605f6-5859-4ba8-e6bd-d64b011c62e0"
      },
      "execution_count": 56,
      "outputs": [
        {
          "output_type": "stream",
          "name": "stdout",
          "text": [
            "/usr/local/lib/python3.7/dist-packages/gdown/cli.py:131: FutureWarning: Option `--id` was deprecated in version 4.3.1 and will be removed in 5.0. You don't need to pass it anymore to use a file ID.\n",
            "  category=FutureWarning,\n",
            "Downloading...\n",
            "From: https://drive.google.com/uc?id=1XwBFgm_vdUTCe6LUkqSSNJanVOpx7OGP\n",
            "To: /content/amazon0601.txt\n",
            "100% 47.9M/47.9M [00:00<00:00, 233MB/s]\n"
          ]
        }
      ]
    },
    {
      "cell_type": "markdown",
      "source": [
        "#### Open the file to read Amazon Product Metadata"
      ],
      "metadata": {
        "id": "UBNcLp6nUfwx"
      }
    },
    {
      "cell_type": "code",
      "execution_count": 57,
      "metadata": {
        "id": "AkkOxfRtNQIM"
      },
      "outputs": [],
      "source": [
        "df = open ('/content/amazon-meta.txt', 'r', encoding='utf-8', errors= 'ignore')"
      ]
    },
    {
      "cell_type": "markdown",
      "source": [
        "#### Initialize a nested product dictionary that will hold cleaned up amazon product data. "
      ],
      "metadata": {
        "id": "aytKJ_PnUirj"
      }
    },
    {
      "cell_type": "code",
      "execution_count": 58,
      "metadata": {
        "id": "XF4sZ-yPNQIN"
      },
      "outputs": [],
      "source": [
        "amazonProducts= {}"
      ]
    },
    {
      "cell_type": "markdown",
      "source": [
        "### Read the data from the Amazon meta information file and fill the AmazonProducts nested dictionary with features of products and extracted features of users reviews"
      ],
      "metadata": {
        "id": "X_p9kmqTUmWa"
      }
    },
    {
      "cell_type": "code",
      "execution_count": 59,
      "metadata": {
        "colab": {
          "base_uri": "https://localhost:8080/"
        },
        "id": "bgIvuxUNNQIO",
        "outputId": "3433d15b-f7fd-4e11-9f21-8f8eee02b727"
      },
      "outputs": [
        {
          "output_type": "execute_result",
          "data": {
            "text/plain": [
              "<function TextIOWrapper.close>"
            ]
          },
          "metadata": {},
          "execution_count": 59
        }
      ],
      "source": [
        "(Id, ASIN, Title, Categories, Group, Copurchased, SalesRank, TotalReviews, AvgRating, DegreeCentrality, ClusteringCoeff,no_sim) = (\"\", \"\", \"\", \"\", \"\", \"\", 0, 0, 0.0, 0, 0.0,0)\n",
        "\n",
        "for line in df:\n",
        "    line = line.strip()\n",
        "    if(line.startswith(\"Id\")): # a product block started\n",
        "        Id = line[3:].strip()\n",
        "    elif(line.startswith(\"ASIN\")):\n",
        "        ASIN = line[5:].strip()\n",
        "    elif(line.startswith(\"title\")):\n",
        "        Title = line[6:].strip()\n",
        "        Title = ' '.join(Title.split())\n",
        "        continue\n",
        "    elif(line.startswith(\"group\")):\n",
        "        Group = line[6:].strip()\n",
        "    elif(line.startswith(\"salesrank\")):\n",
        "        SalesRank = line[10:].strip()\n",
        "    elif(line.startswith(\"similar\")):\n",
        "        ls = line.split()\n",
        "        no_sim = ls[1:2]\n",
        "        Copurchased = ' '.join([c for c in ls[2:]])\n",
        "    elif(line.startswith(\"categories\")):\n",
        "        ls = line.split()\n",
        "        Categories = ' '.join((df.readline()).lower() for i in range(int(ls[1].strip())))\n",
        "        Categories = re.compile('[%s]' % re.escape(string.digits+string.punctuation)).sub(' ',Categories)\n",
        "        Categories = ' '.join(set(Categories.split())-set(stopwords.words(\"english\")))\n",
        "        Categories = ' '.join(stem(word) for word in Categories.split())\n",
        "    elif(line.startswith(\"reviews\")):\n",
        "        ls = line.split()\n",
        "        TotalReviews = ls[2].strip()\n",
        "        AvgRating = ls[7].strip() # a product block ended\n",
        "    elif (line==\"\"): # write out fields to amazonProducts dictionary\n",
        "        try:\n",
        "            MetaData = {}\n",
        "            if (ASIN != \"\"):\n",
        "                amazonProducts[ASIN] = MetaData\n",
        "            MetaData['Id'] = Id\n",
        "            MetaData['Title'] = Title\n",
        "            MetaData['Categories'] = ' '.join(set(Categories.split()))\n",
        "            MetaData['Group'] = Group\n",
        "            MetaData['Copurchased'] = Copurchased\n",
        "            MetaData['SalesRank'] = int(SalesRank)\n",
        "            MetaData['TotalReviews'] = int(TotalReviews)\n",
        "            MetaData['AvgRating'] = float(AvgRating)\n",
        "            MetaData['NoSim'] = no_sim\n",
        "        except NameError:\n",
        "            continue\n",
        "        (Id, ASIN, Title, Categories, Group, Copurchased, SalesRank, TotalReviews, AvgRating, DegreeCentrality, ClusteringCoeff,no_sim) = (\"\", \"\", \"\", \"\", \"\", \"\", 0, 0, 0.0, 0, 0.0,0)\n",
        "df.close"
      ]
    },
    {
      "cell_type": "code",
      "source": [
        "for asin, metadata in amazonProducts.items():\n",
        "    amazonProducts[asin]['Copurchased']= ' '.join([cp for cp in metadata['Copurchased'].split() if cp in amazonProducts.keys()])"
      ],
      "metadata": {
        "id": "vaBBzePljktk"
      },
      "execution_count": 60,
      "outputs": []
    },
    {
      "cell_type": "markdown",
      "source": [
        "##### Converting dictionary to dataframe"
      ],
      "metadata": {
        "id": "2_TN6RyAUtKj"
      }
    },
    {
      "cell_type": "code",
      "source": [
        "df = pd.DataFrame.from_dict(amazonProducts)\n",
        "df = df.T"
      ],
      "metadata": {
        "id": "g4mKGtoXaNFk"
      },
      "execution_count": 61,
      "outputs": []
    },
    {
      "cell_type": "markdown",
      "source": [
        "##### Helper Functions"
      ],
      "metadata": {
        "id": "BXNLFWziUyVE"
      }
    },
    {
      "cell_type": "code",
      "source": [
        "def getclean(l):\n",
        "    if(type(l)==int):\n",
        "      return l\n",
        "    else:\n",
        "      p = int(l[0]) \n",
        "    return p  "
      ],
      "metadata": {
        "id": "GLFuusr9mJuK"
      },
      "execution_count": 62,
      "outputs": []
    },
    {
      "cell_type": "code",
      "source": [
        "df"
      ],
      "metadata": {
        "colab": {
          "base_uri": "https://localhost:8080/",
          "height": 424
        },
        "id": "6H6hmlEsrdvy",
        "outputId": "719e6046-8829-463a-a20e-f512e914ce33"
      },
      "execution_count": 63,
      "outputs": [
        {
          "output_type": "execute_result",
          "data": {
            "text/plain": [
              "                Id                                              Title  \\\n",
              "0771044445       0                                                      \n",
              "0827229534       1            Patterns of Preaching: A Sermon Sampler   \n",
              "0738700797       2                         Candlemas: Feast of Flames   \n",
              "0486287785       3   World War II Allied Fighter Planes Trading Cards   \n",
              "0842328327       4  Life Application Bible Commentary: 1 and 2 Tim...   \n",
              "...            ...                                                ...   \n",
              "B000059TOC  548547                                        The Drifter   \n",
              "B00006JBIX  548548                              The House Of Morecock   \n",
              "0879736836  548549      Catholic Bioethics and the Gift of Human Life   \n",
              "B00008DDST  548550              1, 2, 3 Soleils: Taha, Khaled, Faudel   \n",
              "B00005MHUG  548551  That Travelin' Two-Beat/Sings the Great Countr...   \n",
              "\n",
              "                                                   Categories  Group  \\\n",
              "0771044445                                                             \n",
              "0827229534  subject book sermon religion christian clergi ...   Book   \n",
              "0738700797  wicca subject book earth religion base witchcr...   Book   \n",
              "0486287785       subject garden book craft home hobbi general   Book   \n",
              "0842328327  commentari new christian discipleship translat...   Book   \n",
              "...                                                       ...    ...   \n",
              "B000059TOC  timothi genr delaney featur b mysteri titl ama...    DVD   \n",
              "B00006JBIX  dvd specialti art genr titl anim independ inte...    DVD   \n",
              "0879736836  general scienc catholic histori subject book r...   Book   \n",
              "B00008DDST  dvd general music amazon today outlet genr dea...    DVD   \n",
              "B00005MHUG  music vocal vocalist broadway miscellan pop st...  Music   \n",
              "\n",
              "                                                  Copurchased SalesRank  \\\n",
              "0771044445                                                            0   \n",
              "0827229534  0804215715 156101074X 0687023955 0687074231 08...    396585   \n",
              "0738700797  0738700827 1567184960 1567182836 0738700525 07...    168596   \n",
              "0486287785                                                      1270652   \n",
              "0842328327        0842328130 0842330313 0842328610 0842328572    631289   \n",
              "...                                                       ...       ...   \n",
              "B000059TOC                                         630366704X         0   \n",
              "B00006JBIX                                         B00004WZQN         0   \n",
              "0879736836                              1580510469 0896229939         0   \n",
              "B00008DDST                                                            0   \n",
              "B00005MHUG                              B00005O6KL B0000634HG         0   \n",
              "\n",
              "           TotalReviews AvgRating NoSim  \n",
              "0771044445            0       0.0     0  \n",
              "0827229534            2       5.0   [5]  \n",
              "0738700797           12       4.5   [5]  \n",
              "0486287785            1       5.0   [0]  \n",
              "0842328327            1       4.0   [5]  \n",
              "...                 ...       ...   ...  \n",
              "B000059TOC            1       5.0   [5]  \n",
              "B00006JBIX            8       3.0   [5]  \n",
              "0879736836            1       4.0   [5]  \n",
              "B00008DDST            3       5.0   [5]  \n",
              "B00005MHUG            1       5.0   [5]  \n",
              "\n",
              "[548552 rows x 9 columns]"
            ],
            "text/html": [
              "\n",
              "  <div id=\"df-8064f9c9-1558-4aeb-a1cb-80ffe0718d7c\">\n",
              "    <div class=\"colab-df-container\">\n",
              "      <div>\n",
              "<style scoped>\n",
              "    .dataframe tbody tr th:only-of-type {\n",
              "        vertical-align: middle;\n",
              "    }\n",
              "\n",
              "    .dataframe tbody tr th {\n",
              "        vertical-align: top;\n",
              "    }\n",
              "\n",
              "    .dataframe thead th {\n",
              "        text-align: right;\n",
              "    }\n",
              "</style>\n",
              "<table border=\"1\" class=\"dataframe\">\n",
              "  <thead>\n",
              "    <tr style=\"text-align: right;\">\n",
              "      <th></th>\n",
              "      <th>Id</th>\n",
              "      <th>Title</th>\n",
              "      <th>Categories</th>\n",
              "      <th>Group</th>\n",
              "      <th>Copurchased</th>\n",
              "      <th>SalesRank</th>\n",
              "      <th>TotalReviews</th>\n",
              "      <th>AvgRating</th>\n",
              "      <th>NoSim</th>\n",
              "    </tr>\n",
              "  </thead>\n",
              "  <tbody>\n",
              "    <tr>\n",
              "      <th>0771044445</th>\n",
              "      <td>0</td>\n",
              "      <td></td>\n",
              "      <td></td>\n",
              "      <td></td>\n",
              "      <td></td>\n",
              "      <td>0</td>\n",
              "      <td>0</td>\n",
              "      <td>0.0</td>\n",
              "      <td>0</td>\n",
              "    </tr>\n",
              "    <tr>\n",
              "      <th>0827229534</th>\n",
              "      <td>1</td>\n",
              "      <td>Patterns of Preaching: A Sermon Sampler</td>\n",
              "      <td>subject book sermon religion christian clergi ...</td>\n",
              "      <td>Book</td>\n",
              "      <td>0804215715 156101074X 0687023955 0687074231 08...</td>\n",
              "      <td>396585</td>\n",
              "      <td>2</td>\n",
              "      <td>5.0</td>\n",
              "      <td>[5]</td>\n",
              "    </tr>\n",
              "    <tr>\n",
              "      <th>0738700797</th>\n",
              "      <td>2</td>\n",
              "      <td>Candlemas: Feast of Flames</td>\n",
              "      <td>wicca subject book earth religion base witchcr...</td>\n",
              "      <td>Book</td>\n",
              "      <td>0738700827 1567184960 1567182836 0738700525 07...</td>\n",
              "      <td>168596</td>\n",
              "      <td>12</td>\n",
              "      <td>4.5</td>\n",
              "      <td>[5]</td>\n",
              "    </tr>\n",
              "    <tr>\n",
              "      <th>0486287785</th>\n",
              "      <td>3</td>\n",
              "      <td>World War II Allied Fighter Planes Trading Cards</td>\n",
              "      <td>subject garden book craft home hobbi general</td>\n",
              "      <td>Book</td>\n",
              "      <td></td>\n",
              "      <td>1270652</td>\n",
              "      <td>1</td>\n",
              "      <td>5.0</td>\n",
              "      <td>[0]</td>\n",
              "    </tr>\n",
              "    <tr>\n",
              "      <th>0842328327</th>\n",
              "      <td>4</td>\n",
              "      <td>Life Application Bible Commentary: 1 and 2 Tim...</td>\n",
              "      <td>commentari new christian discipleship translat...</td>\n",
              "      <td>Book</td>\n",
              "      <td>0842328130 0842330313 0842328610 0842328572</td>\n",
              "      <td>631289</td>\n",
              "      <td>1</td>\n",
              "      <td>4.0</td>\n",
              "      <td>[5]</td>\n",
              "    </tr>\n",
              "    <tr>\n",
              "      <th>...</th>\n",
              "      <td>...</td>\n",
              "      <td>...</td>\n",
              "      <td>...</td>\n",
              "      <td>...</td>\n",
              "      <td>...</td>\n",
              "      <td>...</td>\n",
              "      <td>...</td>\n",
              "      <td>...</td>\n",
              "      <td>...</td>\n",
              "    </tr>\n",
              "    <tr>\n",
              "      <th>B000059TOC</th>\n",
              "      <td>548547</td>\n",
              "      <td>The Drifter</td>\n",
              "      <td>timothi genr delaney featur b mysteri titl ama...</td>\n",
              "      <td>DVD</td>\n",
              "      <td>630366704X</td>\n",
              "      <td>0</td>\n",
              "      <td>1</td>\n",
              "      <td>5.0</td>\n",
              "      <td>[5]</td>\n",
              "    </tr>\n",
              "    <tr>\n",
              "      <th>B00006JBIX</th>\n",
              "      <td>548548</td>\n",
              "      <td>The House Of Morecock</td>\n",
              "      <td>dvd specialti art genr titl anim independ inte...</td>\n",
              "      <td>DVD</td>\n",
              "      <td>B00004WZQN</td>\n",
              "      <td>0</td>\n",
              "      <td>8</td>\n",
              "      <td>3.0</td>\n",
              "      <td>[5]</td>\n",
              "    </tr>\n",
              "    <tr>\n",
              "      <th>0879736836</th>\n",
              "      <td>548549</td>\n",
              "      <td>Catholic Bioethics and the Gift of Human Life</td>\n",
              "      <td>general scienc catholic histori subject book r...</td>\n",
              "      <td>Book</td>\n",
              "      <td>1580510469 0896229939</td>\n",
              "      <td>0</td>\n",
              "      <td>1</td>\n",
              "      <td>4.0</td>\n",
              "      <td>[5]</td>\n",
              "    </tr>\n",
              "    <tr>\n",
              "      <th>B00008DDST</th>\n",
              "      <td>548550</td>\n",
              "      <td>1, 2, 3 Soleils: Taha, Khaled, Faudel</td>\n",
              "      <td>dvd general music amazon today outlet genr dea...</td>\n",
              "      <td>DVD</td>\n",
              "      <td></td>\n",
              "      <td>0</td>\n",
              "      <td>3</td>\n",
              "      <td>5.0</td>\n",
              "      <td>[5]</td>\n",
              "    </tr>\n",
              "    <tr>\n",
              "      <th>B00005MHUG</th>\n",
              "      <td>548551</td>\n",
              "      <td>That Travelin' Two-Beat/Sings the Great Countr...</td>\n",
              "      <td>music vocal vocalist broadway miscellan pop st...</td>\n",
              "      <td>Music</td>\n",
              "      <td>B00005O6KL B0000634HG</td>\n",
              "      <td>0</td>\n",
              "      <td>1</td>\n",
              "      <td>5.0</td>\n",
              "      <td>[5]</td>\n",
              "    </tr>\n",
              "  </tbody>\n",
              "</table>\n",
              "<p>548552 rows × 9 columns</p>\n",
              "</div>\n",
              "      <button class=\"colab-df-convert\" onclick=\"convertToInteractive('df-8064f9c9-1558-4aeb-a1cb-80ffe0718d7c')\"\n",
              "              title=\"Convert this dataframe to an interactive table.\"\n",
              "              style=\"display:none;\">\n",
              "        \n",
              "  <svg xmlns=\"http://www.w3.org/2000/svg\" height=\"24px\"viewBox=\"0 0 24 24\"\n",
              "       width=\"24px\">\n",
              "    <path d=\"M0 0h24v24H0V0z\" fill=\"none\"/>\n",
              "    <path d=\"M18.56 5.44l.94 2.06.94-2.06 2.06-.94-2.06-.94-.94-2.06-.94 2.06-2.06.94zm-11 1L8.5 8.5l.94-2.06 2.06-.94-2.06-.94L8.5 2.5l-.94 2.06-2.06.94zm10 10l.94 2.06.94-2.06 2.06-.94-2.06-.94-.94-2.06-.94 2.06-2.06.94z\"/><path d=\"M17.41 7.96l-1.37-1.37c-.4-.4-.92-.59-1.43-.59-.52 0-1.04.2-1.43.59L10.3 9.45l-7.72 7.72c-.78.78-.78 2.05 0 2.83L4 21.41c.39.39.9.59 1.41.59.51 0 1.02-.2 1.41-.59l7.78-7.78 2.81-2.81c.8-.78.8-2.07 0-2.86zM5.41 20L4 18.59l7.72-7.72 1.47 1.35L5.41 20z\"/>\n",
              "  </svg>\n",
              "      </button>\n",
              "      \n",
              "  <style>\n",
              "    .colab-df-container {\n",
              "      display:flex;\n",
              "      flex-wrap:wrap;\n",
              "      gap: 12px;\n",
              "    }\n",
              "\n",
              "    .colab-df-convert {\n",
              "      background-color: #E8F0FE;\n",
              "      border: none;\n",
              "      border-radius: 50%;\n",
              "      cursor: pointer;\n",
              "      display: none;\n",
              "      fill: #1967D2;\n",
              "      height: 32px;\n",
              "      padding: 0 0 0 0;\n",
              "      width: 32px;\n",
              "    }\n",
              "\n",
              "    .colab-df-convert:hover {\n",
              "      background-color: #E2EBFA;\n",
              "      box-shadow: 0px 1px 2px rgba(60, 64, 67, 0.3), 0px 1px 3px 1px rgba(60, 64, 67, 0.15);\n",
              "      fill: #174EA6;\n",
              "    }\n",
              "\n",
              "    [theme=dark] .colab-df-convert {\n",
              "      background-color: #3B4455;\n",
              "      fill: #D2E3FC;\n",
              "    }\n",
              "\n",
              "    [theme=dark] .colab-df-convert:hover {\n",
              "      background-color: #434B5C;\n",
              "      box-shadow: 0px 1px 3px 1px rgba(0, 0, 0, 0.15);\n",
              "      filter: drop-shadow(0px 1px 2px rgba(0, 0, 0, 0.3));\n",
              "      fill: #FFFFFF;\n",
              "    }\n",
              "  </style>\n",
              "\n",
              "      <script>\n",
              "        const buttonEl =\n",
              "          document.querySelector('#df-8064f9c9-1558-4aeb-a1cb-80ffe0718d7c button.colab-df-convert');\n",
              "        buttonEl.style.display =\n",
              "          google.colab.kernel.accessAllowed ? 'block' : 'none';\n",
              "\n",
              "        async function convertToInteractive(key) {\n",
              "          const element = document.querySelector('#df-8064f9c9-1558-4aeb-a1cb-80ffe0718d7c');\n",
              "          const dataTable =\n",
              "            await google.colab.kernel.invokeFunction('convertToInteractive',\n",
              "                                                     [key], {});\n",
              "          if (!dataTable) return;\n",
              "\n",
              "          const docLinkHtml = 'Like what you see? Visit the ' +\n",
              "            '<a target=\"_blank\" href=https://colab.research.google.com/notebooks/data_table.ipynb>data table notebook</a>'\n",
              "            + ' to learn more about interactive tables.';\n",
              "          element.innerHTML = '';\n",
              "          dataTable['output_type'] = 'display_data';\n",
              "          await google.colab.output.renderOutput(dataTable, element);\n",
              "          const docLink = document.createElement('div');\n",
              "          docLink.innerHTML = docLinkHtml;\n",
              "          element.appendChild(docLink);\n",
              "        }\n",
              "      </script>\n",
              "    </div>\n",
              "  </div>\n",
              "  "
            ]
          },
          "metadata": {},
          "execution_count": 63
        }
      ]
    },
    {
      "cell_type": "code",
      "source": [
        "df['NoSim'] = df['NoSim'].apply(lambda x: getclean(x))\n",
        "df['ASIN'] = df.index\n",
        "df = df.set_index('Id')"
      ],
      "metadata": {
        "id": "83EriizHnYYP"
      },
      "execution_count": 64,
      "outputs": []
    },
    {
      "cell_type": "code",
      "source": [
        "df.to_csv('/content/Similar_Products.csv')"
      ],
      "metadata": {
        "id": "KCZIld7L0SJl"
      },
      "execution_count": 65,
      "outputs": []
    },
    {
      "cell_type": "markdown",
      "source": [
        "##2. Recommendation System of Similar Products using extracted previously"
      ],
      "metadata": {
        "id": "1WR7Xe50qaV4"
      }
    },
    {
      "cell_type": "markdown",
      "source": [
        "### Reading transaction data from co-purchases edgelist dataset"
      ],
      "metadata": {
        "id": "R25CG0vUVoDg"
      }
    },
    {
      "cell_type": "code",
      "source": [
        "\"\"\"from google.colab import drive\n",
        "drive.mount('/content/drive')\"\"\""
      ],
      "metadata": {
        "id": "hffVoPnDg4mk",
        "outputId": "5b436de9-7dab-4b0b-8eee-e68e03203c35",
        "colab": {
          "base_uri": "https://localhost:8080/",
          "height": 36
        }
      },
      "execution_count": 66,
      "outputs": [
        {
          "output_type": "execute_result",
          "data": {
            "text/plain": [
              "\"from google.colab import drive\\ndrive.mount('/content/drive')\""
            ],
            "application/vnd.google.colaboratory.intrinsic+json": {
              "type": "string"
            }
          },
          "metadata": {},
          "execution_count": 66
        }
      ]
    },
    {
      "cell_type": "code",
      "source": [
        "Graphtype = nx.DiGraph()\n",
        "filepath = '/content/amazon0601.txt' \n",
        "G = nx.read_edgelist(\n",
        "    filepath,\n",
        "    comments='#',\n",
        "    create_using=Graphtype,\n",
        "    nodetype=int\n",
        ")"
      ],
      "metadata": {
        "id": "v2UXNw1QsvXI"
      },
      "execution_count": 67,
      "outputs": []
    },
    {
      "cell_type": "code",
      "source": [
        "df = pd.read_csv('/content/Similar_Products.csv') "
      ],
      "metadata": {
        "id": "vhZxDp-bsy93"
      },
      "execution_count": 68,
      "outputs": []
    },
    {
      "cell_type": "code",
      "source": [
        "df = df.dropna(axis=0, subset=['Title'])"
      ],
      "metadata": {
        "id": "nylcgQJPssMv"
      },
      "execution_count": 69,
      "outputs": []
    },
    {
      "cell_type": "code",
      "source": [
        "df.head()"
      ],
      "metadata": {
        "colab": {
          "base_uri": "https://localhost:8080/",
          "height": 206
        },
        "id": "QbqdXCmls6qR",
        "outputId": "02279507-9566-4c90-db84-438ad48a577b"
      },
      "execution_count": 70,
      "outputs": [
        {
          "output_type": "execute_result",
          "data": {
            "text/plain": [
              "   Id                                              Title  \\\n",
              "1   1            Patterns of Preaching: A Sermon Sampler   \n",
              "2   2                         Candlemas: Feast of Flames   \n",
              "3   3   World War II Allied Fighter Planes Trading Cards   \n",
              "4   4  Life Application Bible Commentary: 1 and 2 Tim...   \n",
              "5   5    Prayers That Avail Much for Business: Executive   \n",
              "\n",
              "                                          Categories Group  \\\n",
              "1  subject book sermon religion christian clergi ...  Book   \n",
              "2  wicca subject book earth religion base witchcr...  Book   \n",
              "3       subject garden book craft home hobbi general  Book   \n",
              "4  commentari new christian discipleship translat...  Book   \n",
              "5  live subject book christian religion devot bus...  Book   \n",
              "\n",
              "                                         Copurchased  SalesRank  TotalReviews  \\\n",
              "1  0804215715 156101074X 0687023955 0687074231 08...     396585             2   \n",
              "2  0738700827 1567184960 1567182836 0738700525 07...     168596            12   \n",
              "3                                                NaN    1270652             1   \n",
              "4        0842328130 0842330313 0842328610 0842328572     631289             1   \n",
              "5        157794349X 0892749504 1577941829 0892749563     455160             0   \n",
              "\n",
              "   AvgRating  NoSim        ASIN  \n",
              "1        5.0      5  0827229534  \n",
              "2        4.5      5  0738700797  \n",
              "3        5.0      0  0486287785  \n",
              "4        4.0      5  0842328327  \n",
              "5        0.0      5  1577943082  "
            ],
            "text/html": [
              "\n",
              "  <div id=\"df-433cb185-3226-41ff-a8bb-35ca657e0d1f\">\n",
              "    <div class=\"colab-df-container\">\n",
              "      <div>\n",
              "<style scoped>\n",
              "    .dataframe tbody tr th:only-of-type {\n",
              "        vertical-align: middle;\n",
              "    }\n",
              "\n",
              "    .dataframe tbody tr th {\n",
              "        vertical-align: top;\n",
              "    }\n",
              "\n",
              "    .dataframe thead th {\n",
              "        text-align: right;\n",
              "    }\n",
              "</style>\n",
              "<table border=\"1\" class=\"dataframe\">\n",
              "  <thead>\n",
              "    <tr style=\"text-align: right;\">\n",
              "      <th></th>\n",
              "      <th>Id</th>\n",
              "      <th>Title</th>\n",
              "      <th>Categories</th>\n",
              "      <th>Group</th>\n",
              "      <th>Copurchased</th>\n",
              "      <th>SalesRank</th>\n",
              "      <th>TotalReviews</th>\n",
              "      <th>AvgRating</th>\n",
              "      <th>NoSim</th>\n",
              "      <th>ASIN</th>\n",
              "    </tr>\n",
              "  </thead>\n",
              "  <tbody>\n",
              "    <tr>\n",
              "      <th>1</th>\n",
              "      <td>1</td>\n",
              "      <td>Patterns of Preaching: A Sermon Sampler</td>\n",
              "      <td>subject book sermon religion christian clergi ...</td>\n",
              "      <td>Book</td>\n",
              "      <td>0804215715 156101074X 0687023955 0687074231 08...</td>\n",
              "      <td>396585</td>\n",
              "      <td>2</td>\n",
              "      <td>5.0</td>\n",
              "      <td>5</td>\n",
              "      <td>0827229534</td>\n",
              "    </tr>\n",
              "    <tr>\n",
              "      <th>2</th>\n",
              "      <td>2</td>\n",
              "      <td>Candlemas: Feast of Flames</td>\n",
              "      <td>wicca subject book earth religion base witchcr...</td>\n",
              "      <td>Book</td>\n",
              "      <td>0738700827 1567184960 1567182836 0738700525 07...</td>\n",
              "      <td>168596</td>\n",
              "      <td>12</td>\n",
              "      <td>4.5</td>\n",
              "      <td>5</td>\n",
              "      <td>0738700797</td>\n",
              "    </tr>\n",
              "    <tr>\n",
              "      <th>3</th>\n",
              "      <td>3</td>\n",
              "      <td>World War II Allied Fighter Planes Trading Cards</td>\n",
              "      <td>subject garden book craft home hobbi general</td>\n",
              "      <td>Book</td>\n",
              "      <td>NaN</td>\n",
              "      <td>1270652</td>\n",
              "      <td>1</td>\n",
              "      <td>5.0</td>\n",
              "      <td>0</td>\n",
              "      <td>0486287785</td>\n",
              "    </tr>\n",
              "    <tr>\n",
              "      <th>4</th>\n",
              "      <td>4</td>\n",
              "      <td>Life Application Bible Commentary: 1 and 2 Tim...</td>\n",
              "      <td>commentari new christian discipleship translat...</td>\n",
              "      <td>Book</td>\n",
              "      <td>0842328130 0842330313 0842328610 0842328572</td>\n",
              "      <td>631289</td>\n",
              "      <td>1</td>\n",
              "      <td>4.0</td>\n",
              "      <td>5</td>\n",
              "      <td>0842328327</td>\n",
              "    </tr>\n",
              "    <tr>\n",
              "      <th>5</th>\n",
              "      <td>5</td>\n",
              "      <td>Prayers That Avail Much for Business: Executive</td>\n",
              "      <td>live subject book christian religion devot bus...</td>\n",
              "      <td>Book</td>\n",
              "      <td>157794349X 0892749504 1577941829 0892749563</td>\n",
              "      <td>455160</td>\n",
              "      <td>0</td>\n",
              "      <td>0.0</td>\n",
              "      <td>5</td>\n",
              "      <td>1577943082</td>\n",
              "    </tr>\n",
              "  </tbody>\n",
              "</table>\n",
              "</div>\n",
              "      <button class=\"colab-df-convert\" onclick=\"convertToInteractive('df-433cb185-3226-41ff-a8bb-35ca657e0d1f')\"\n",
              "              title=\"Convert this dataframe to an interactive table.\"\n",
              "              style=\"display:none;\">\n",
              "        \n",
              "  <svg xmlns=\"http://www.w3.org/2000/svg\" height=\"24px\"viewBox=\"0 0 24 24\"\n",
              "       width=\"24px\">\n",
              "    <path d=\"M0 0h24v24H0V0z\" fill=\"none\"/>\n",
              "    <path d=\"M18.56 5.44l.94 2.06.94-2.06 2.06-.94-2.06-.94-.94-2.06-.94 2.06-2.06.94zm-11 1L8.5 8.5l.94-2.06 2.06-.94-2.06-.94L8.5 2.5l-.94 2.06-2.06.94zm10 10l.94 2.06.94-2.06 2.06-.94-2.06-.94-.94-2.06-.94 2.06-2.06.94z\"/><path d=\"M17.41 7.96l-1.37-1.37c-.4-.4-.92-.59-1.43-.59-.52 0-1.04.2-1.43.59L10.3 9.45l-7.72 7.72c-.78.78-.78 2.05 0 2.83L4 21.41c.39.39.9.59 1.41.59.51 0 1.02-.2 1.41-.59l7.78-7.78 2.81-2.81c.8-.78.8-2.07 0-2.86zM5.41 20L4 18.59l7.72-7.72 1.47 1.35L5.41 20z\"/>\n",
              "  </svg>\n",
              "      </button>\n",
              "      \n",
              "  <style>\n",
              "    .colab-df-container {\n",
              "      display:flex;\n",
              "      flex-wrap:wrap;\n",
              "      gap: 12px;\n",
              "    }\n",
              "\n",
              "    .colab-df-convert {\n",
              "      background-color: #E8F0FE;\n",
              "      border: none;\n",
              "      border-radius: 50%;\n",
              "      cursor: pointer;\n",
              "      display: none;\n",
              "      fill: #1967D2;\n",
              "      height: 32px;\n",
              "      padding: 0 0 0 0;\n",
              "      width: 32px;\n",
              "    }\n",
              "\n",
              "    .colab-df-convert:hover {\n",
              "      background-color: #E2EBFA;\n",
              "      box-shadow: 0px 1px 2px rgba(60, 64, 67, 0.3), 0px 1px 3px 1px rgba(60, 64, 67, 0.15);\n",
              "      fill: #174EA6;\n",
              "    }\n",
              "\n",
              "    [theme=dark] .colab-df-convert {\n",
              "      background-color: #3B4455;\n",
              "      fill: #D2E3FC;\n",
              "    }\n",
              "\n",
              "    [theme=dark] .colab-df-convert:hover {\n",
              "      background-color: #434B5C;\n",
              "      box-shadow: 0px 1px 3px 1px rgba(0, 0, 0, 0.15);\n",
              "      filter: drop-shadow(0px 1px 2px rgba(0, 0, 0, 0.3));\n",
              "      fill: #FFFFFF;\n",
              "    }\n",
              "  </style>\n",
              "\n",
              "      <script>\n",
              "        const buttonEl =\n",
              "          document.querySelector('#df-433cb185-3226-41ff-a8bb-35ca657e0d1f button.colab-df-convert');\n",
              "        buttonEl.style.display =\n",
              "          google.colab.kernel.accessAllowed ? 'block' : 'none';\n",
              "\n",
              "        async function convertToInteractive(key) {\n",
              "          const element = document.querySelector('#df-433cb185-3226-41ff-a8bb-35ca657e0d1f');\n",
              "          const dataTable =\n",
              "            await google.colab.kernel.invokeFunction('convertToInteractive',\n",
              "                                                     [key], {});\n",
              "          if (!dataTable) return;\n",
              "\n",
              "          const docLinkHtml = 'Like what you see? Visit the ' +\n",
              "            '<a target=\"_blank\" href=https://colab.research.google.com/notebooks/data_table.ipynb>data table notebook</a>'\n",
              "            + ' to learn more about interactive tables.';\n",
              "          element.innerHTML = '';\n",
              "          dataTable['output_type'] = 'display_data';\n",
              "          await google.colab.output.renderOutput(dataTable, element);\n",
              "          const docLink = document.createElement('div');\n",
              "          docLink.innerHTML = docLinkHtml;\n",
              "          element.appendChild(docLink);\n",
              "        }\n",
              "      </script>\n",
              "    </div>\n",
              "  </div>\n",
              "  "
            ]
          },
          "metadata": {},
          "execution_count": 70
        }
      ]
    },
    {
      "cell_type": "code",
      "source": [
        "df.isnull().sum()"
      ],
      "metadata": {
        "id": "NAcmyjAytEWj",
        "colab": {
          "base_uri": "https://localhost:8080/"
        },
        "outputId": "94c3fcdc-0081-45de-8f1f-12750572fc91"
      },
      "execution_count": 71,
      "outputs": [
        {
          "output_type": "execute_result",
          "data": {
            "text/plain": [
              "Id                   0\n",
              "Title                0\n",
              "Categories       22903\n",
              "Group                0\n",
              "Copurchased     181117\n",
              "SalesRank            0\n",
              "TotalReviews         0\n",
              "AvgRating            0\n",
              "NoSim                0\n",
              "ASIN                 0\n",
              "dtype: int64"
            ]
          },
          "metadata": {},
          "execution_count": 71
        }
      ]
    },
    {
      "cell_type": "code",
      "source": [
        "df['NoSim'].value_counts()"
      ],
      "metadata": {
        "id": "HwCjmI3FtfKT",
        "colab": {
          "base_uri": "https://localhost:8080/"
        },
        "outputId": "45315579-521e-4751-9834-e94ce78a5a95"
      },
      "execution_count": 72,
      "outputs": [
        {
          "output_type": "execute_result",
          "data": {
            "text/plain": [
              "5    337457\n",
              "0    163591\n",
              "1     11071\n",
              "2     10808\n",
              "3     10275\n",
              "4      9482\n",
              "Name: NoSim, dtype: int64"
            ]
          },
          "metadata": {},
          "execution_count": 72
        }
      ]
    },
    {
      "cell_type": "code",
      "source": [
        "nodeattrdf = df[['Title','ASIN' ,'Categories', 'Group', 'Copurchased', 'SalesRank','TotalReviews', 'AvgRating', 'NoSim']].copy()"
      ],
      "metadata": {
        "id": "pNtJNL7ct8Ms"
      },
      "execution_count": 73,
      "outputs": []
    },
    {
      "cell_type": "code",
      "source": [
        "nx.set_node_attributes(G, nodeattrdf.to_dict('index'))"
      ],
      "metadata": {
        "id": "uOQDgxTsub7Q"
      },
      "execution_count": 74,
      "outputs": []
    },
    {
      "cell_type": "code",
      "source": [
        "G.nodes[2]"
      ],
      "metadata": {
        "id": "1Q27N7KTudxr",
        "colab": {
          "base_uri": "https://localhost:8080/"
        },
        "outputId": "b452b07f-2d07-4d84-ca9c-c75fe973323f"
      },
      "execution_count": 75,
      "outputs": [
        {
          "output_type": "execute_result",
          "data": {
            "text/plain": [
              "{'ASIN': '0738700797',\n",
              " 'AvgRating': 4.5,\n",
              " 'Categories': 'wicca subject book earth religion base witchcraft spiritu',\n",
              " 'Copurchased': '0738700827 1567184960 1567182836 0738700525 0738700940',\n",
              " 'Group': 'Book',\n",
              " 'NoSim': 5,\n",
              " 'SalesRank': 168596,\n",
              " 'Title': 'Candlemas: Feast of Flames',\n",
              " 'TotalReviews': 12}"
            ]
          },
          "metadata": {},
          "execution_count": 75
        }
      ]
    },
    {
      "cell_type": "markdown",
      "source": [
        "####Removing nodes with no links"
      ],
      "metadata": {
        "id": "KrRSEq9gpsRZ"
      }
    },
    {
      "cell_type": "code",
      "source": [
        "remove = [nodes for nodes in dict(G.nodes()) if len(G.nodes[nodes]) == 0] "
      ],
      "metadata": {
        "id": "yMKk_szcufbW"
      },
      "execution_count": 76,
      "outputs": []
    },
    {
      "cell_type": "code",
      "source": [
        "G.remove_nodes_from(remove)"
      ],
      "metadata": {
        "id": "75K4QS-7vMbw"
      },
      "execution_count": 77,
      "outputs": []
    },
    {
      "cell_type": "code",
      "source": [
        "remove[:10]"
      ],
      "metadata": {
        "id": "ljRZFTlZ4mba",
        "colab": {
          "base_uri": "https://localhost:8080/"
        },
        "outputId": "6b06a510-69e2-4079-f9cb-bb8da6cf845c"
      },
      "execution_count": 78,
      "outputs": [
        {
          "output_type": "execute_result",
          "data": {
            "text/plain": [
              "[0, 355, 1033, 3957, 1053, 1961, 298, 4962, 12465, 1152]"
            ]
          },
          "metadata": {},
          "execution_count": 78
        }
      ]
    },
    {
      "cell_type": "code",
      "source": [
        "G.number_of_nodes()"
      ],
      "metadata": {
        "id": "otCVqC8T4GXt",
        "colab": {
          "base_uri": "https://localhost:8080/"
        },
        "outputId": "37cad4e6-2900-47f1-e404-dcbcc2d284f5"
      },
      "execution_count": 79,
      "outputs": [
        {
          "output_type": "execute_result",
          "data": {
            "text/plain": [
              "398814"
            ]
          },
          "metadata": {},
          "execution_count": 79
        }
      ]
    },
    {
      "cell_type": "markdown",
      "source": [
        "####Creating an array of permissible nodes"
      ],
      "metadata": {
        "id": "cOfN6KclpxN6"
      }
    },
    {
      "cell_type": "code",
      "source": [
        "n = list(G.nodes) \n",
        "n =  np.array(n)\n",
        "n = np.unique(n)"
      ],
      "metadata": {
        "id": "lhjuqo-JvQYg"
      },
      "execution_count": 80,
      "outputs": []
    },
    {
      "cell_type": "code",
      "source": [
        "#taking input that is allowed\n",
        "tempinput = int(input())\n",
        "if(tempinput in n):\n",
        "  pro_id = tempinput\n",
        "  print(\"Selected product is\", pro_id)\n",
        "else:\n",
        "  print(\"Empty node has been removed from the graph!\")"
      ],
      "metadata": {
        "id": "m8IC278bvVm3",
        "colab": {
          "base_uri": "https://localhost:8080/"
        },
        "outputId": "f5d3ed3a-fcd6-40c3-c415-d80d8225c7fc"
      },
      "execution_count": 81,
      "outputs": [
        {
          "output_type": "stream",
          "name": "stdout",
          "text": [
            "5\n",
            "Selected product is 5\n"
          ]
        }
      ]
    },
    {
      "cell_type": "code",
      "source": [
        "pro_dict = G.nodes[pro_id]"
      ],
      "metadata": {
        "id": "1DiYZqjivWQy"
      },
      "execution_count": 82,
      "outputs": []
    },
    {
      "cell_type": "code",
      "source": [
        "pro_dict #details of the product selected by the user"
      ],
      "metadata": {
        "id": "M6ycMnUKvkTl",
        "outputId": "dcf83165-264b-4153-9d3e-98909e4a0a66",
        "colab": {
          "base_uri": "https://localhost:8080/"
        }
      },
      "execution_count": 83,
      "outputs": [
        {
          "output_type": "execute_result",
          "data": {
            "text/plain": [
              "{'ASIN': '1577943082',\n",
              " 'AvgRating': 0.0,\n",
              " 'Categories': 'live subject book christian religion devot busi prayerbook spiritu worship',\n",
              " 'Copurchased': '157794349X 0892749504 1577941829 0892749563',\n",
              " 'Group': 'Book',\n",
              " 'NoSim': 5,\n",
              " 'SalesRank': 455160,\n",
              " 'Title': 'Prayers That Avail Much for Business: Executive',\n",
              " 'TotalReviews': 0}"
            ]
          },
          "metadata": {},
          "execution_count": 83
        }
      ]
    },
    {
      "cell_type": "markdown",
      "source": [
        "####Creating a list of the ASINs of the products that are similar to the product selected"
      ],
      "metadata": {
        "id": "-A6_4lVNp9d3"
      }
    },
    {
      "cell_type": "code",
      "source": [
        "arr"
      ],
      "metadata": {
        "colab": {
          "base_uri": "https://localhost:8080/"
        },
        "id": "5TgxrDDvsQKr",
        "outputId": "e39de0a7-beef-4770-f85e-fd9ac282ab28"
      },
      "execution_count": 84,
      "outputs": [
        {
          "output_type": "execute_result",
          "data": {
            "text/plain": [
              "nan"
            ]
          },
          "metadata": {},
          "execution_count": 84
        }
      ]
    },
    {
      "cell_type": "code",
      "source": [
        "arr = pro_dict['Copurchased']\n",
        "arr = arr.split(' ')\n",
        "print(len(arr))\n",
        "arr = np.array(arr)\n",
        "arr"
      ],
      "metadata": {
        "id": "8jZh5UV2vrbq",
        "colab": {
          "base_uri": "https://localhost:8080/"
        },
        "outputId": "5a3e659f-37fd-4149-d65e-7546b99ecfc1"
      },
      "execution_count": 85,
      "outputs": [
        {
          "output_type": "stream",
          "name": "stdout",
          "text": [
            "4\n"
          ]
        },
        {
          "output_type": "execute_result",
          "data": {
            "text/plain": [
              "array(['157794349X', '0892749504', '1577941829', '0892749563'],\n",
              "      dtype='<U10')"
            ]
          },
          "metadata": {},
          "execution_count": 85
        }
      ]
    },
    {
      "cell_type": "markdown",
      "source": [
        "#####Helper Function to get similar product recommendations"
      ],
      "metadata": {
        "id": "PV8-TD4AqPRx"
      }
    },
    {
      "cell_type": "code",
      "source": [
        "def getsimilar(arr):\n",
        "  indarr = []\n",
        "  counter = 0\n",
        "  for i in arr:\n",
        "    indx = df.index[df['ASIN'] == i][0]\n",
        "    if(indx in n):\n",
        "      print(G.nodes[indx])\n",
        "      indarr.append(indx)\n",
        "    else:\n",
        "      counter = counter+1\n",
        "  return counter, indarr"
      ],
      "metadata": {
        "id": "wgLtpVeewENp"
      },
      "execution_count": 86,
      "outputs": []
    },
    {
      "cell_type": "code",
      "source": [
        "counter, indarr = getsimilar(arr)\n",
        "print(indarr)\n",
        "print(counter,\"nodes have been removed from the graph\")"
      ],
      "metadata": {
        "id": "-qNuJ8vbwqV8",
        "outputId": "882c3a73-3c5e-4c0e-c0b5-d2949893d337",
        "colab": {
          "base_uri": "https://localhost:8080/"
        }
      },
      "execution_count": 87,
      "outputs": [
        {
          "output_type": "stream",
          "name": "stdout",
          "text": [
            "{'Title': 'Prayers That Avail Much for the Workplace: The Business Handbook of Scriptural Prayer', 'ASIN': '157794349X', 'Categories': 'life subject prayer book home offic religion busi devot workplac com amazon store invest christian spiritu prayerbook worship', 'Group': 'Book', 'Copurchased': '0892749504 1577941829 1577943082 0892749563', 'SalesRank': 221617, 'TotalReviews': 0, 'AvgRating': 0.0, 'NoSim': 5}\n",
            "{'Title': 'Prayers That Avail Much: Three Bestselling Works Complete In One Volume, 25th Anniversary Commemorative', 'ASIN': '0892749504', 'Categories': 'subject book inspir religion christian devot worship prayerbook spiritu', 'Group': 'Book', 'Copurchased': '1577941829 0892749563 157794349X', 'SalesRank': 16962, 'TotalReviews': 16, 'AvgRating': 4.5, 'NoSim': 5}\n",
            "[305321, 173362]\n",
            "2 nodes have been removed from the graph\n"
          ]
        }
      ]
    },
    {
      "cell_type": "code",
      "source": [
        "disparr = np.append(indarr, pro_id)\n",
        "H = G.subgraph(disparr)\n",
        "nx.draw_networkx(H, with_labels = True,edge_color = 'r')"
      ],
      "metadata": {
        "id": "MdRsJ_P692pM",
        "colab": {
          "base_uri": "https://localhost:8080/",
          "height": 248
        },
        "outputId": "e76475b4-e9e2-498b-c592-b07f15685f79"
      },
      "execution_count": 88,
      "outputs": [
        {
          "output_type": "display_data",
          "data": {
            "text/plain": [
              "<Figure size 432x288 with 1 Axes>"
            ],
            "image/png": "[encoded data removed]"
          },
          "metadata": {}
        }
      ]
    },
    {
      "cell_type": "code",
      "source": [
        "#nx.write_gpickle(G, '/content/drive/MyDrive/GNN_datasets/G.gpickle')"
      ],
      "metadata": {
        "id": "Y1_f_kMZ9pD5"
      },
      "execution_count": 89,
      "outputs": []
    },
    {
      "cell_type": "code",
      "source": [
        ""
      ],
      "metadata": {
        "id": "Rhos2R10pRHv"
      },
      "execution_count": 89,
      "outputs": []
    }
  ],
  "metadata": {
    "colab": {
      "name": "HackRx30_Hackathon_June22_P2.ipynb",
      "provenance": [],
      "collapsed_sections": []
    },
    "kernelspec": {
      "display_name": "Python 3",
      "language": "python",
      "name": "python3"
    },
    "language_info": {
      "codemirror_mode": {
        "name": "ipython",
        "version": 3
      },
      "file_extension": ".py",
      "mimetype": "text/x-python",
      "name": "python",
      "nbconvert_exporter": "python",
      "pygments_lexer": "ipython3",
      "version": "3.8.5"
    }
  },
  "nbformat": 4,
  "nbformat_minor": 0
}