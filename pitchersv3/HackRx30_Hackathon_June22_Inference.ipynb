{
  "nbformat": 4,
  "nbformat_minor": 0,
  "metadata": {
    "colab": {
      "name": "Final_Inference.ipynb",
      "provenance": [],
      "collapsed_sections": [],
      "toc_visible": true
    },
    "kernelspec": {
      "name": "python3",
      "display_name": "Python 3"
    },
    "language_info": {
      "name": "python"
    }
  },
  "cells": [
    {
      "cell_type": "markdown",
      "source": [
        "#Inference Notebook for our Tasks in SNAP product co-purchasing networks\n",
        "\n",
        "##Proposed Problem Statements and Solutions-\n",
        "\n",
        "- Product Recommendation System basis of Feature Extracted from the product details and the co-purchases made.\n",
        "\n",
        "- Similar Products Recommendation System which might make customers explore other options\n",
        "\n",
        "- Recommendation of products based on their Consumer Confidence and category similarity using different metrics."
      ],
      "metadata": {
        "id": "t0CKgzfa80bc"
      }
    },
    {
      "cell_type": "code",
      "source": [
        "\"\"\"from google.colab import drive\n",
        "drive.mount('/content/drive')\"\"\""
      ],
      "metadata": {
        "colab": {
          "base_uri": "https://localhost:8080/",
          "height": 36
        },
        "id": "cZcP_smEoRn4",
        "outputId": "0a962834-dba6-4b3d-8670-1cb97ee0c525"
      },
      "execution_count": 24,
      "outputs": [
        {
          "output_type": "execute_result",
          "data": {
            "text/plain": [
              "\"from google.colab import drive\\ndrive.mount('/content/drive')\""
            ],
            "application/vnd.google.colaboratory.intrinsic+json": {
              "type": "string"
            }
          },
          "metadata": {},
          "execution_count": 24
        }
      ]
    },
    {
      "cell_type": "code",
      "source": [
        "pip install streamlit"
      ],
      "metadata": {
        "colab": {
          "base_uri": "https://localhost:8080/"
        },
        "id": "6QP4sJlFviNx",
        "outputId": "6532e15c-180f-489e-b6da-4c35e0f3bf3f"
      },
      "execution_count": 25,
      "outputs": [
        {
          "output_type": "stream",
          "name": "stdout",
          "text": [
            "Looking in indexes: https://pypi.org/simple, https://us-python.pkg.dev/colab-wheels/public/simple/\n",
            "Requirement already satisfied: streamlit in /usr/local/lib/python3.7/dist-packages (1.10.0)\n",
            "Requirement already satisfied: protobuf<4,>=3.12 in /usr/local/lib/python3.7/dist-packages (from streamlit) (3.17.3)\n",
            "Requirement already satisfied: cachetools>=4.0 in /usr/local/lib/python3.7/dist-packages (from streamlit) (4.2.4)\n",
            "Requirement already satisfied: importlib-metadata>=1.4 in /usr/local/lib/python3.7/dist-packages (from streamlit) (4.11.4)\n",
            "Requirement already satisfied: packaging in /usr/local/lib/python3.7/dist-packages (from streamlit) (21.3)\n",
            "Requirement already satisfied: requests in /usr/local/lib/python3.7/dist-packages (from streamlit) (2.23.0)\n",
            "Requirement already satisfied: gitpython!=3.1.19 in /usr/local/lib/python3.7/dist-packages (from streamlit) (3.1.27)\n",
            "Requirement already satisfied: python-dateutil in /usr/local/lib/python3.7/dist-packages (from streamlit) (2.8.2)\n",
            "Requirement already satisfied: pandas>=0.21.0 in /usr/local/lib/python3.7/dist-packages (from streamlit) (1.3.5)\n",
            "Requirement already satisfied: pillow>=6.2.0 in /usr/local/lib/python3.7/dist-packages (from streamlit) (7.1.2)\n",
            "Requirement already satisfied: attrs in /usr/local/lib/python3.7/dist-packages (from streamlit) (21.4.0)\n",
            "Requirement already satisfied: click>=7.0 in /usr/local/lib/python3.7/dist-packages (from streamlit) (7.1.2)\n",
            "Requirement already satisfied: altair>=3.2.0 in /usr/local/lib/python3.7/dist-packages (from streamlit) (4.2.0)\n",
            "Requirement already satisfied: blinker in /usr/local/lib/python3.7/dist-packages (from streamlit) (1.4)\n",
            "Requirement already satisfied: watchdog in /usr/local/lib/python3.7/dist-packages (from streamlit) (2.1.9)\n",
            "Requirement already satisfied: validators in /usr/local/lib/python3.7/dist-packages (from streamlit) (0.20.0)\n",
            "Requirement already satisfied: pydeck>=0.1.dev5 in /usr/local/lib/python3.7/dist-packages (from streamlit) (0.7.1)\n",
            "Requirement already satisfied: numpy in /usr/local/lib/python3.7/dist-packages (from streamlit) (1.21.6)\n",
            "Requirement already satisfied: typing-extensions in /usr/local/lib/python3.7/dist-packages (from streamlit) (4.1.1)\n",
            "Requirement already satisfied: pyarrow in /usr/local/lib/python3.7/dist-packages (from streamlit) (6.0.1)\n",
            "Requirement already satisfied: pympler>=0.9 in /usr/local/lib/python3.7/dist-packages (from streamlit) (1.0.1)\n",
            "Requirement already satisfied: toml in /usr/local/lib/python3.7/dist-packages (from streamlit) (0.10.2)\n",
            "Requirement already satisfied: tornado>=5.0 in /usr/local/lib/python3.7/dist-packages (from streamlit) (6.1)\n",
            "Requirement already satisfied: tzlocal in /usr/local/lib/python3.7/dist-packages (from streamlit) (1.5.1)\n",
            "Requirement already satisfied: semver in /usr/local/lib/python3.7/dist-packages (from streamlit) (2.13.0)\n",
            "Requirement already satisfied: rich in /usr/local/lib/python3.7/dist-packages (from streamlit) (12.4.4)\n",
            "Requirement already satisfied: jinja2 in /usr/local/lib/python3.7/dist-packages (from altair>=3.2.0->streamlit) (2.11.3)\n",
            "Requirement already satisfied: entrypoints in /usr/local/lib/python3.7/dist-packages (from altair>=3.2.0->streamlit) (0.4)\n",
            "Requirement already satisfied: toolz in /usr/local/lib/python3.7/dist-packages (from altair>=3.2.0->streamlit) (0.11.2)\n",
            "Requirement already satisfied: jsonschema>=3.0 in /usr/local/lib/python3.7/dist-packages (from altair>=3.2.0->streamlit) (4.3.3)\n",
            "Requirement already satisfied: gitdb<5,>=4.0.1 in /usr/local/lib/python3.7/dist-packages (from gitpython!=3.1.19->streamlit) (4.0.9)\n",
            "Requirement already satisfied: smmap<6,>=3.0.1 in /usr/local/lib/python3.7/dist-packages (from gitdb<5,>=4.0.1->gitpython!=3.1.19->streamlit) (5.0.0)\n",
            "Requirement already satisfied: zipp>=0.5 in /usr/local/lib/python3.7/dist-packages (from importlib-metadata>=1.4->streamlit) (3.8.0)\n",
            "Requirement already satisfied: pyrsistent!=0.17.0,!=0.17.1,!=0.17.2,>=0.14.0 in /usr/local/lib/python3.7/dist-packages (from jsonschema>=3.0->altair>=3.2.0->streamlit) (0.18.1)\n",
            "Requirement already satisfied: importlib-resources>=1.4.0 in /usr/local/lib/python3.7/dist-packages (from jsonschema>=3.0->altair>=3.2.0->streamlit) (5.7.1)\n",
            "Requirement already satisfied: pytz>=2017.3 in /usr/local/lib/python3.7/dist-packages (from pandas>=0.21.0->streamlit) (2022.1)\n",
            "Requirement already satisfied: six>=1.9 in /usr/local/lib/python3.7/dist-packages (from protobuf<4,>=3.12->streamlit) (1.15.0)\n",
            "Requirement already satisfied: traitlets>=4.3.2 in /usr/local/lib/python3.7/dist-packages (from pydeck>=0.1.dev5->streamlit) (5.1.1)\n",
            "Requirement already satisfied: ipykernel>=5.1.2 in /usr/local/lib/python3.7/dist-packages (from pydeck>=0.1.dev5->streamlit) (6.15.0)\n",
            "Requirement already satisfied: ipywidgets>=7.0.0 in /usr/local/lib/python3.7/dist-packages (from pydeck>=0.1.dev5->streamlit) (7.7.0)\n",
            "Requirement already satisfied: debugpy>=1.0 in /usr/local/lib/python3.7/dist-packages (from ipykernel>=5.1.2->pydeck>=0.1.dev5->streamlit) (1.0.0)\n",
            "Requirement already satisfied: ipython>=7.23.1 in /usr/local/lib/python3.7/dist-packages (from ipykernel>=5.1.2->pydeck>=0.1.dev5->streamlit) (7.34.0)\n",
            "Requirement already satisfied: pyzmq>=17 in /usr/local/lib/python3.7/dist-packages (from ipykernel>=5.1.2->pydeck>=0.1.dev5->streamlit) (23.1.0)\n",
            "Requirement already satisfied: jupyter-client>=6.1.12 in /usr/local/lib/python3.7/dist-packages (from ipykernel>=5.1.2->pydeck>=0.1.dev5->streamlit) (7.3.4)\n",
            "Requirement already satisfied: matplotlib-inline>=0.1 in /usr/local/lib/python3.7/dist-packages (from ipykernel>=5.1.2->pydeck>=0.1.dev5->streamlit) (0.1.3)\n",
            "Requirement already satisfied: psutil in /usr/local/lib/python3.7/dist-packages (from ipykernel>=5.1.2->pydeck>=0.1.dev5->streamlit) (5.4.8)\n",
            "Requirement already satisfied: nest-asyncio in /usr/local/lib/python3.7/dist-packages (from ipykernel>=5.1.2->pydeck>=0.1.dev5->streamlit) (1.5.5)\n",
            "Requirement already satisfied: backcall in /usr/local/lib/python3.7/dist-packages (from ipython>=7.23.1->ipykernel>=5.1.2->pydeck>=0.1.dev5->streamlit) (0.2.0)\n",
            "Requirement already satisfied: prompt-toolkit!=3.0.0,!=3.0.1,<3.1.0,>=2.0.0 in /usr/local/lib/python3.7/dist-packages (from ipython>=7.23.1->ipykernel>=5.1.2->pydeck>=0.1.dev5->streamlit) (3.0.29)\n",
            "Requirement already satisfied: jedi>=0.16 in /usr/local/lib/python3.7/dist-packages (from ipython>=7.23.1->ipykernel>=5.1.2->pydeck>=0.1.dev5->streamlit) (0.18.1)\n",
            "Requirement already satisfied: pickleshare in /usr/local/lib/python3.7/dist-packages (from ipython>=7.23.1->ipykernel>=5.1.2->pydeck>=0.1.dev5->streamlit) (0.7.5)\n",
            "Requirement already satisfied: pexpect>4.3 in /usr/local/lib/python3.7/dist-packages (from ipython>=7.23.1->ipykernel>=5.1.2->pydeck>=0.1.dev5->streamlit) (4.8.0)\n",
            "Requirement already satisfied: decorator in /usr/local/lib/python3.7/dist-packages (from ipython>=7.23.1->ipykernel>=5.1.2->pydeck>=0.1.dev5->streamlit) (4.4.2)\n",
            "Requirement already satisfied: pygments in /usr/local/lib/python3.7/dist-packages (from ipython>=7.23.1->ipykernel>=5.1.2->pydeck>=0.1.dev5->streamlit) (2.6.1)\n",
            "Requirement already satisfied: setuptools>=18.5 in /usr/local/lib/python3.7/dist-packages (from ipython>=7.23.1->ipykernel>=5.1.2->pydeck>=0.1.dev5->streamlit) (57.4.0)\n",
            "Requirement already satisfied: widgetsnbextension~=3.6.0 in /usr/local/lib/python3.7/dist-packages (from ipywidgets>=7.0.0->pydeck>=0.1.dev5->streamlit) (3.6.0)\n",
            "Requirement already satisfied: jupyterlab-widgets>=1.0.0 in /usr/local/lib/python3.7/dist-packages (from ipywidgets>=7.0.0->pydeck>=0.1.dev5->streamlit) (1.1.0)\n",
            "Requirement already satisfied: ipython-genutils~=0.2.0 in /usr/local/lib/python3.7/dist-packages (from ipywidgets>=7.0.0->pydeck>=0.1.dev5->streamlit) (0.2.0)\n",
            "Requirement already satisfied: nbformat>=4.2.0 in /usr/local/lib/python3.7/dist-packages (from ipywidgets>=7.0.0->pydeck>=0.1.dev5->streamlit) (5.4.0)\n",
            "Requirement already satisfied: parso<0.9.0,>=0.8.0 in /usr/local/lib/python3.7/dist-packages (from jedi>=0.16->ipython>=7.23.1->ipykernel>=5.1.2->pydeck>=0.1.dev5->streamlit) (0.8.3)\n",
            "Requirement already satisfied: MarkupSafe>=0.23 in /usr/local/lib/python3.7/dist-packages (from jinja2->altair>=3.2.0->streamlit) (2.0.1)\n",
            "Requirement already satisfied: jupyter-core>=4.9.2 in /usr/local/lib/python3.7/dist-packages (from jupyter-client>=6.1.12->ipykernel>=5.1.2->pydeck>=0.1.dev5->streamlit) (4.10.0)\n",
            "Requirement already satisfied: fastjsonschema in /usr/local/lib/python3.7/dist-packages (from nbformat>=4.2.0->ipywidgets>=7.0.0->pydeck>=0.1.dev5->streamlit) (2.15.3)\n",
            "Requirement already satisfied: ptyprocess>=0.5 in /usr/local/lib/python3.7/dist-packages (from pexpect>4.3->ipython>=7.23.1->ipykernel>=5.1.2->pydeck>=0.1.dev5->streamlit) (0.7.0)\n",
            "Requirement already satisfied: wcwidth in /usr/local/lib/python3.7/dist-packages (from prompt-toolkit!=3.0.0,!=3.0.1,<3.1.0,>=2.0.0->ipython>=7.23.1->ipykernel>=5.1.2->pydeck>=0.1.dev5->streamlit) (0.2.5)\n",
            "Requirement already satisfied: notebook>=4.4.1 in /usr/local/lib/python3.7/dist-packages (from widgetsnbextension~=3.6.0->ipywidgets>=7.0.0->pydeck>=0.1.dev5->streamlit) (5.3.1)\n",
            "Requirement already satisfied: Send2Trash in /usr/local/lib/python3.7/dist-packages (from notebook>=4.4.1->widgetsnbextension~=3.6.0->ipywidgets>=7.0.0->pydeck>=0.1.dev5->streamlit) (1.8.0)\n",
            "Requirement already satisfied: terminado>=0.8.1 in /usr/local/lib/python3.7/dist-packages (from notebook>=4.4.1->widgetsnbextension~=3.6.0->ipywidgets>=7.0.0->pydeck>=0.1.dev5->streamlit) (0.13.3)\n",
            "Requirement already satisfied: nbconvert in /usr/local/lib/python3.7/dist-packages (from notebook>=4.4.1->widgetsnbextension~=3.6.0->ipywidgets>=7.0.0->pydeck>=0.1.dev5->streamlit) (5.6.1)\n",
            "Requirement already satisfied: pandocfilters>=1.4.1 in /usr/local/lib/python3.7/dist-packages (from nbconvert->notebook>=4.4.1->widgetsnbextension~=3.6.0->ipywidgets>=7.0.0->pydeck>=0.1.dev5->streamlit) (1.5.0)\n",
            "Requirement already satisfied: defusedxml in /usr/local/lib/python3.7/dist-packages (from nbconvert->notebook>=4.4.1->widgetsnbextension~=3.6.0->ipywidgets>=7.0.0->pydeck>=0.1.dev5->streamlit) (0.7.1)\n",
            "Requirement already satisfied: mistune<2,>=0.8.1 in /usr/local/lib/python3.7/dist-packages (from nbconvert->notebook>=4.4.1->widgetsnbextension~=3.6.0->ipywidgets>=7.0.0->pydeck>=0.1.dev5->streamlit) (0.8.4)\n",
            "Requirement already satisfied: testpath in /usr/local/lib/python3.7/dist-packages (from nbconvert->notebook>=4.4.1->widgetsnbextension~=3.6.0->ipywidgets>=7.0.0->pydeck>=0.1.dev5->streamlit) (0.6.0)\n",
            "Requirement already satisfied: bleach in /usr/local/lib/python3.7/dist-packages (from nbconvert->notebook>=4.4.1->widgetsnbextension~=3.6.0->ipywidgets>=7.0.0->pydeck>=0.1.dev5->streamlit) (5.0.0)\n",
            "Requirement already satisfied: webencodings in /usr/local/lib/python3.7/dist-packages (from bleach->nbconvert->notebook>=4.4.1->widgetsnbextension~=3.6.0->ipywidgets>=7.0.0->pydeck>=0.1.dev5->streamlit) (0.5.1)\n",
            "Requirement already satisfied: pyparsing!=3.0.5,>=2.0.2 in /usr/local/lib/python3.7/dist-packages (from packaging->streamlit) (3.0.9)\n",
            "Requirement already satisfied: certifi>=2017.4.17 in /usr/local/lib/python3.7/dist-packages (from requests->streamlit) (2022.6.15)\n",
            "Requirement already satisfied: urllib3!=1.25.0,!=1.25.1,<1.26,>=1.21.1 in /usr/local/lib/python3.7/dist-packages (from requests->streamlit) (1.24.3)\n",
            "Requirement already satisfied: chardet<4,>=3.0.2 in /usr/local/lib/python3.7/dist-packages (from requests->streamlit) (3.0.4)\n",
            "Requirement already satisfied: idna<3,>=2.5 in /usr/local/lib/python3.7/dist-packages (from requests->streamlit) (2.10)\n",
            "Requirement already satisfied: commonmark<0.10.0,>=0.9.0 in /usr/local/lib/python3.7/dist-packages (from rich->streamlit) (0.9.1)\n"
          ]
        }
      ]
    },
    {
      "cell_type": "code",
      "execution_count": 26,
      "metadata": {
        "id": "eORMx3YinbVL"
      },
      "outputs": [],
      "source": [
        "import numpy as np\n",
        "import pandas as pd\n",
        "import networkx as nx\n",
        "import streamlit as st"
      ]
    },
    {
      "cell_type": "markdown",
      "source": [
        "##Downloading Extracted Datasets for our models and for solutions of our problem statements"
      ],
      "metadata": {
        "id": "Wl7CSF-g9ler"
      }
    },
    {
      "cell_type": "code",
      "source": [
        "!gdown --id 1mUjr_vFJa7ny5WDDX4OmYs8nw_y3ft-6"
      ],
      "metadata": {
        "colab": {
          "base_uri": "https://localhost:8080/"
        },
        "id": "G3fKGuXOuReu",
        "outputId": "7b5afd43-ce77-486d-af16-e70b6e0f0c43"
      },
      "execution_count": 27,
      "outputs": [
        {
          "output_type": "stream",
          "name": "stdout",
          "text": [
            "/usr/local/lib/python3.7/dist-packages/gdown/cli.py:131: FutureWarning: Option `--id` was deprecated in version 4.3.1 and will be removed in 5.0. You don't need to pass it anymore to use a file ID.\n",
            "  category=FutureWarning,\n",
            "Downloading...\n",
            "From: https://drive.google.com/uc?id=1mUjr_vFJa7ny5WDDX4OmYs8nw_y3ft-6\n",
            "To: /content/pdssimilar (2).csv\n",
            "100% 111M/111M [00:00<00:00, 199MB/s] \n"
          ]
        }
      ]
    },
    {
      "cell_type": "code",
      "source": [
        "!gdown --id 1w2bK4j4Puff_2WhRSgjy82RaRVVKObS8"
      ],
      "metadata": {
        "colab": {
          "base_uri": "https://localhost:8080/"
        },
        "id": "MwgQDsKuugX4",
        "outputId": "e9eb5b05-44da-4823-a07f-afb19cb63aba"
      },
      "execution_count": 28,
      "outputs": [
        {
          "output_type": "stream",
          "name": "stdout",
          "text": [
            "/usr/local/lib/python3.7/dist-packages/gdown/cli.py:131: FutureWarning: Option `--id` was deprecated in version 4.3.1 and will be removed in 5.0. You don't need to pass it anymore to use a file ID.\n",
            "  category=FutureWarning,\n",
            "Downloading...\n",
            "From: https://drive.google.com/uc?id=1w2bK4j4Puff_2WhRSgjy82RaRVVKObS8\n",
            "To: /content/finalpreprocesseddata.csv\n",
            "100% 37.5M/37.5M [00:00<00:00, 178MB/s]\n"
          ]
        }
      ]
    },
    {
      "cell_type": "code",
      "source": [
        "!gdown --id 12mqlYM38ISyPAjRXopjGbP3PLvngqHK7"
      ],
      "metadata": {
        "colab": {
          "base_uri": "https://localhost:8080/"
        },
        "id": "XHQ7ZZ0TuoFp",
        "outputId": "41c3024c-b945-4b68-f8d4-f6e1901a5d81"
      },
      "execution_count": 29,
      "outputs": [
        {
          "output_type": "stream",
          "name": "stdout",
          "text": [
            "/usr/local/lib/python3.7/dist-packages/gdown/cli.py:131: FutureWarning: Option `--id` was deprecated in version 4.3.1 and will be removed in 5.0. You don't need to pass it anymore to use a file ID.\n",
            "  category=FutureWarning,\n",
            "Downloading...\n",
            "From: https://drive.google.com/uc?id=12mqlYM38ISyPAjRXopjGbP3PLvngqHK7\n",
            "To: /content/customer_insights_recommendations2.csv\n",
            "100% 111M/111M [00:00<00:00, 221MB/s]\n"
          ]
        }
      ]
    },
    {
      "cell_type": "code",
      "source": [
        "!gdown --id 1flQHM7M_tNRAxYmUyZn1F3VV0qy1Xr3-"
      ],
      "metadata": {
        "colab": {
          "base_uri": "https://localhost:8080/"
        },
        "id": "L_ZBdb89uvxL",
        "outputId": "17d486ef-a65a-4ef1-f084-14da15aef7c3"
      },
      "execution_count": 30,
      "outputs": [
        {
          "output_type": "stream",
          "name": "stdout",
          "text": [
            "/usr/local/lib/python3.7/dist-packages/gdown/cli.py:131: FutureWarning: Option `--id` was deprecated in version 4.3.1 and will be removed in 5.0. You don't need to pass it anymore to use a file ID.\n",
            "  category=FutureWarning,\n",
            "Downloading...\n",
            "From: https://drive.google.com/uc?id=1flQHM7M_tNRAxYmUyZn1F3VV0qy1Xr3-\n",
            "To: /content/G.gpickle\n",
            "100% 87.7M/87.7M [00:00<00:00, 140MB/s]\n"
          ]
        }
      ]
    },
    {
      "cell_type": "code",
      "source": [
        "!gdown --id 1s7J0B4P60IWER56J6LnJ_k4pFqW3x3qZ"
      ],
      "metadata": {
        "colab": {
          "base_uri": "https://localhost:8080/"
        },
        "id": "lHa_RFceu9OX",
        "outputId": "c2555661-7dc1-4105-9366-f29ab6c28173"
      },
      "execution_count": 31,
      "outputs": [
        {
          "output_type": "stream",
          "name": "stdout",
          "text": [
            "/usr/local/lib/python3.7/dist-packages/gdown/cli.py:131: FutureWarning: Option `--id` was deprecated in version 4.3.1 and will be removed in 5.0. You don't need to pass it anymore to use a file ID.\n",
            "  category=FutureWarning,\n",
            "Downloading...\n",
            "From: https://drive.google.com/uc?id=1s7J0B4P60IWER56J6LnJ_k4pFqW3x3qZ\n",
            "To: /content/G_Rec.gpickle\n",
            "100% 96.3M/96.3M [00:00<00:00, 122MB/s]\n"
          ]
        }
      ]
    },
    {
      "cell_type": "markdown",
      "source": [
        "### Loading Various Datasets for various tasks"
      ],
      "metadata": {
        "id": "pxJxq42k9x11"
      }
    },
    {
      "cell_type": "code",
      "source": [
        "# Datasets of Similarities and Recommendations\n",
        "df = pd.read_csv('/content/pdssimilar (2).csv')\n",
        "df_rec = pd.read_csv('/content/finalpreprocesseddata.csv')\n",
        "df1 = pd.read_csv(\"/content/customer_insights_recommendations2.csv\")\n",
        "\n",
        "# Graphs of Similarities and Recommendations based on Above Datasets\n",
        "G_Sim = nx.read_gpickle(\"/content/G.gpickle\")\n",
        "G_Rec = nx.read_gpickle(\"/content/G_Rec.gpickle\")\n",
        "\n",
        "# Unique Nodes of Similarity Graph\n",
        "n_sim = list(G_Sim.nodes) \n",
        "n_sim =  np.array(n_sim)\n",
        "n_sim = np.unique(n_sim)\n",
        "\n",
        "# Unique Nodes of Recommendation Graph\n",
        "n_rec = list(G_Rec.nodes)\n",
        "n_rec = np.array(n_rec)\n",
        "n_rec = np.unique(n_rec)"
      ],
      "metadata": {
        "id": "TkGCLdVlnuCl"
      },
      "execution_count": 32,
      "outputs": []
    },
    {
      "cell_type": "markdown",
      "source": [
        "### Storing the common top products as a fallback for cold start problem \n",
        "Incase we encounter any new or unknown items we recommend user popular top products"
      ],
      "metadata": {
        "id": "-bTT_euX918Y"
      }
    },
    {
      "cell_type": "code",
      "source": [
        "title_cluster0 = [\"Change Your Child's Behavior by Changing Yours...\",\n",
        "                  \"Practical Aspects of Interview and Interrogati...\",\n",
        "                  \"Practical Aspects of Interview and Interrogati...\",\n",
        "                  \"Results-Oriented Job Descriptions: More Than 2...\",\n",
        "                  \"Decorative Letters CD-ROM and Book (Dover Elec...\",\n",
        "                  \"Log Cabins (Architecture and Design Library)\"     ,\n",
        "                  \"Berlioz: Symphonie fantastique\",\n",
        "                  \"Smith & Hawken: Hands On Gardener: Composting ...\",\n",
        "                  \"Beauty in Exile: The Artists, Models, and Nobi...\",\n",
        "                  \"Grammar Wars: 179 Games and Improvs for Learni...\"\n",
        "                ]\n",
        "\n",
        "title_cluster1 = [\"Visualizing Data\t\",\n",
        "                  \"Remembering Farley\",\n",
        "                  \"Northrop Frye on Shakespeare\",\n",
        "                  \"Zappa in N.Y.\t\",\n",
        "                  \"Where the Birds Are: The 100 Best Birdwatching...\t\",\n",
        "                  \"The Wasp Cookbook\t\",\n",
        "                  \"The Supreme Court's Greatest Hits\",\n",
        "                  \"I Know Why the Caged Bird Sings (Cliffs Notes)\",\n",
        "                  \"Color, Environment, & Human Response\",\n",
        "                  \"Miles to Go\",\n",
        "                ]\n",
        "\n",
        "title_cluster2 = [\"Thief of Hearts\",\n",
        "                  \"Harry Potter and the Goblet of Fire (Book 4 Au...\",\n",
        "                  \"Harry Potter and the Goblet of Fire (Book 4, A...\t\",\n",
        "                  \"Harry Potter and the Goblet of Fire (Book 4)\",\n",
        "                  \"Harry Potter and the Goblet of Fire (Book 4)\",\n",
        "                  \"Harry Potter and the Goblet of Fire (Book 4)\",\n",
        "                  \"Looking For-Best of David Hasselhoff\",\n",
        "                  \"Harry Potter and the Sorcerer's Stone (Book 1 ...\",\n",
        "                  \"Harry Potter and the Sorcerer's Stone (Book 1 ...\",\n",
        "]\n",
        "\n",
        "top5_rec = [\"Harry Potter and the Goblet of Fire (Book 4)\",\n",
        "            \"Looking For-Best of David Hasselhoff\t\",\n",
        "            \"Harry Potter and the Sorcerer's Stone (Book 1 ...\",\n",
        "            \"Remembering Farley\",\n",
        "            \"The Supreme Court's Greatest Hits\"\n",
        "]"
      ],
      "metadata": {
        "id": "G61REEuWnx7b"
      },
      "execution_count": 33,
      "outputs": []
    },
    {
      "cell_type": "markdown",
      "source": [
        "#### Helper Functions for Tasks"
      ],
      "metadata": {
        "id": "Y3K4BKTg-VkN"
      }
    },
    {
      "cell_type": "code",
      "source": [
        "# Function to Get Similar Nodes\n",
        "def getsimilar(arr):\n",
        "    indarr = []\n",
        "    counter = 0\n",
        "    print(\"  \")\n",
        "    print(\"Similar Products are:\")\n",
        "    for i in arr:\n",
        "        indx = df.index[df['ASIN'] == i][0]\n",
        "        if(indx in n_sim):\n",
        "            print(G_Sim.nodes[indx]['Title'])\n",
        "            indarr.append(indx)\n",
        "        else:\n",
        "            counter = counter+1\n",
        "    print(\"   \")\n",
        "    print(\"   \")\n",
        "    return counter, indarr"
      ],
      "metadata": {
        "id": "b2zri3dgpGsp"
      },
      "execution_count": 34,
      "outputs": []
    },
    {
      "cell_type": "code",
      "source": [
        "# Cleaning the Product ID Output\n",
        "def getclean(pro_id):    \n",
        "    l = str(list(G_Sim.edges(pro_id)))\n",
        "    l = l.replace('[','')\n",
        "    l = l.replace(']','')\n",
        "    l = l.replace(',','')\n",
        "    l = l.replace('(','')\n",
        "    l = l.replace(')','')\n",
        "    l = l.replace(str(pro_id), '')\n",
        "    b = l.split()\n",
        "    b = np.array(b)\n",
        "    b = b.astype(int)\n",
        "    return b"
      ],
      "metadata": {
        "id": "xZELnlsqpKbf"
      },
      "execution_count": 35,
      "outputs": []
    },
    {
      "cell_type": "code",
      "source": [
        "# Searching for Index With Respect to Title\n",
        "def search(s):\n",
        "  s = s.lower()\n",
        "  indx = df.index[(df['Title'].str.contains(s, case = False))==True]   \n",
        "  indx = np.array(indx)\n",
        "  indx = indx.astype(int)\n",
        "  return indx"
      ],
      "metadata": {
        "id": "MM59Mz3vpM_z"
      },
      "execution_count": 36,
      "outputs": []
    },
    {
      "cell_type": "code",
      "source": [
        "# Main Function for Similar Nodes\n",
        "flag = 0\n",
        "def check_sim(val):\n",
        "    \n",
        "    val = val[0]\n",
        "    if val == None:\n",
        "        print(\"Hello\")\n",
        "    else:\n",
        "        temp = int(val)\n",
        "        if(temp in n_sim):\n",
        "            pro_id = temp\n",
        "            pro_dict = G_Sim.nodes[pro_id]\n",
        "            arr = pro_dict['Copurchased']\n",
        "            arr = arr.split(' ')\n",
        "            arr = np.array(arr)\n",
        "            if len(arr) == 0:\n",
        "                print(\"Product Not Found\")\n",
        "                print(\"**You Might Like These Products**\")\n",
        "                for t in top5_rec:\n",
        "                    print(t)\n",
        "                return\n",
        "            else:\n",
        "                html_temp = \"\"\"\n",
        "                <div style=\"background-color:#0072bc;padding:10px\">\n",
        "                <h2 style=\"color:white;text-align:center;\">Similar Products</h2>\n",
        "                </div>\n",
        "                \"\"\"\n",
        "                st.markdown(html_temp,unsafe_allow_html=True)\n",
        "                counter, indarr = getsimilar(arr)\n",
        "                #print(counter,\"nodes have been removed from the graph\")\n",
        "                print(pro_dict)\n",
        "        else:\n",
        "            flag = 1\n",
        "            print(\"Empty node has been removed from the graph!\")"
      ],
      "metadata": {
        "id": "z96mATEtpPrY"
      },
      "execution_count": 37,
      "outputs": []
    },
    {
      "cell_type": "code",
      "source": [
        "# Function to Show Titles\n",
        "def showtitles(array):\n",
        "    titles = []\n",
        "    for i in range(len(array)):\n",
        "        titles.append(G_Rec.nodes[array[i]]['title'])\n",
        "    return titles"
      ],
      "metadata": {
        "id": "sN9J7keQpfkC"
      },
      "execution_count": 38,
      "outputs": []
    },
    {
      "cell_type": "code",
      "source": [
        "# Function to Show ASIN\n",
        "def showasin(array):\n",
        "    asins = []\n",
        "    for i in range(len(array)):\n",
        "        asins.append(G_Rec.nodes[array[i]]['ASIN'])\n",
        "    asins = np.array(asins)\n",
        "    #asins = asins.astype(int)\n",
        "    return asins"
      ],
      "metadata": {
        "id": "8vPxFATdpjUP"
      },
      "execution_count": 39,
      "outputs": []
    },
    {
      "cell_type": "code",
      "source": [
        "# Function to Find Jaccard Similarity Between 2 Lists\n",
        "def jaccard_similarity(list1, list2):\n",
        "    intersection = len(list(set(list1).intersection(list2)))\n",
        "    union = (len(set(list1)) + len(set(list2))) - intersection\n",
        "    return float(intersection) / union"
      ],
      "metadata": {
        "id": "vMZXpd70pwhy"
      },
      "execution_count": 40,
      "outputs": []
    },
    {
      "cell_type": "code",
      "source": [
        "# Getting Highest Jaccard Similarity using jaccard function\n",
        "def gethighestjaccard(pro_id, finalresult):\n",
        "  jaccdict = {}    \n",
        "  for i in range(0,len(finalresult)):     \n",
        "    if(pro_id != i):      \n",
        "      tempneighbours = []\n",
        "      resarray = getclean(finalresult[i])        \n",
        "      jaccdict[finalresult[i]] = jaccard_similarity(finalresult, resarray)\n",
        "  return jaccdict"
      ],
      "metadata": {
        "id": "VO3REyz9p0Iv"
      },
      "execution_count": 41,
      "outputs": []
    },
    {
      "cell_type": "code",
      "source": [
        "# Main Function for Recommended Nodes\n",
        "def check_rec(val):\n",
        "    if flag == 1:\n",
        "        print(\"Empty Node has been removed from the graph\")\n",
        "        return\n",
        "    val = val[0]\n",
        "    if val == None:\n",
        "        print(\"Hello\")\n",
        "    else:\n",
        "        temp = int(val)\n",
        "        if(temp in n_rec):\n",
        "            pro_id = temp\n",
        "            finalresult = []\n",
        "            resultarray = np.unique(getclean(pro_id))\n",
        "            for i in range(1, len(resultarray)):\n",
        "                if(resultarray[i] in n_rec):\n",
        "                    finalresult.append(resultarray[i])\n",
        "                else:\n",
        "                    print(\"Empty node has been removed from the graph!\")\n",
        "    t = showtitles(finalresult)\n",
        "    finaldictjaccard = gethighestjaccard(pro_id, finalresult)\n",
        "    finaldictjaccard = dict(sorted(finaldictjaccard.items(), key=lambda item: item[1], reverse = True))\n",
        "    top5jac = np.array(list(finaldictjaccard.keys()))[:5]\n",
        "    print(\"   \")\n",
        "    print(\"Recommended Products Are:\")\n",
        "    values = showtitles(top5jac)\n",
        "    for top5 in values:\n",
        "        print(top5)"
      ],
      "metadata": {
        "id": "hP2htvYcpmw-"
      },
      "execution_count": 42,
      "outputs": []
    },
    {
      "cell_type": "code",
      "source": [
        "# Jaccard Function\n",
        "def jaccard(a, b):\n",
        "    a = set((str(a)).split())\n",
        "    c = a.intersection(b)\n",
        "    return float(len(c)) / (len(a) + len(b) - len(c))"
      ],
      "metadata": {
        "id": "xBH4oolJqNUJ"
      },
      "execution_count": 43,
      "outputs": []
    },
    {
      "cell_type": "code",
      "source": [
        "def prod_label_recomm(x_counter):\n",
        "    if flag == 1:\n",
        "        st.write(\"Empty Node has been removed from the graph\")\n",
        "        return\n",
        "    else:\n",
        "        if x_counter == None:\n",
        "             print(\"Hello\")\n",
        "        else:\n",
        "            # get label of asin\n",
        "            df_counter = df1.loc[df1['ASIN'] == x_counter]\n",
        "            x = int(df_counter['label_code'])\n",
        "            y = set((str(df_counter['Categories'])).split())\n",
        "            df_counter = df1.loc[df1['label_code'] == x]\n",
        "            df_counter = df_counter.loc[df_counter['AvgRating']>=4.5]\n",
        "            df_counter['score_cat_inter']= df_counter['Categories'].apply(lambda x: jaccard(x,y))\n",
        "            sorted_df = df_counter.sort_values([\"score_cat_inter\"], ascending=False)\n",
        "            return sorted_df[1:6]['ASIN'].tolist()\n"
      ],
      "metadata": {
        "id": "FftvKKw-p5Q0"
      },
      "execution_count": 44,
      "outputs": []
    },
    {
      "cell_type": "code",
      "source": [
        "def show(values):\n",
        "    t = []\n",
        "    for i in range(len(values)):\n",
        "        t.append(df1['Title'][i])\n",
        "    return t"
      ],
      "metadata": {
        "id": "vQ7vcAwOqOfd"
      },
      "execution_count": 45,
      "outputs": []
    },
    {
      "cell_type": "markdown",
      "source": [
        "###Main Function to show solutions to tasks"
      ],
      "metadata": {
        "id": "2OtLI7q3-cCV"
      }
    },
    {
      "cell_type": "code",
      "source": [
        "# Main Function to Wrap all Things\n",
        "def main():\n",
        "    \n",
        "    # Similar Products\n",
        "    val = str(input(\"Enter Product Name\"))\n",
        "    iarray = search(val)\n",
        "    iarray_names = []\n",
        "    if len(iarray) == 0:\n",
        "        print(\"Product Does Not Exist\")\n",
        "        print(\"Product Not Found\")\n",
        "        print(\"You Might Like These Products\")\n",
        "        for t in top5_rec:\n",
        "            print(t)\n",
        "        return\n",
        "    else:\n",
        "        for i in range(0, len(iarray)):\n",
        "            if(iarray[i] in n_sim):\n",
        "                pro_id = int(iarray[i])\n",
        "                iarray_names.append(G_Sim.nodes[iarray[i]]['Title'])\n",
        "        name = st.selectbox(\"Select Product\", iarray_names)\n",
        "        print(\"    \")\n",
        "        prod_id = search(name)\n",
        "        if len(prod_id) == 0:\n",
        "            print(\"Product Not Found\")\n",
        "            print(\"You Might Like These Products\")\n",
        "            for t in top5_rec:\n",
        "                print(t)\n",
        "            return\n",
        "        check_sim(prod_id)\n",
        "\n",
        "    # Recommended Products\n",
        "    if len(iarray) == 0:\n",
        "        print(\"Product Does Not Exist\")\n",
        "        print(\"Product Not Found\")\n",
        "        print(\"You Might Like These Products\")\n",
        "        for t in top5_rec:\n",
        "            print(t)\n",
        "        return\n",
        "    else:\n",
        "        for i in range(0, len(iarray)):\n",
        "            if(iarray[i] in n_sim):\n",
        "                pro_id = int(iarray[i])\n",
        "                iarray_names.append(G_Rec.nodes[iarray[i]]['title'])\n",
        "        prod_id = search(name)\n",
        "        if len(prod_id) == 0:\n",
        "            print(\"Product Not Found\")\n",
        "            print(\"You Might Like These Products\")\n",
        "            for t in top5_rec:\n",
        "                print(t)\n",
        "            return\n",
        "        check_rec(prod_id)\n",
        "\n",
        "    # Clustering Products\n",
        "    asin_val = (showasin(prod_id))\n",
        "    print(\"  \")\n",
        "    print(\"Customer Might Also Like\")\n",
        "    for val in asin_val:\n",
        "        values = (prod_label_recomm(val))\n",
        "    val = show(values)\n",
        "    if len(val) == 0:\n",
        "        print(\"Product Not Found\")\n",
        "        print(\"You Might Like These Products\")\n",
        "        for t in top5_rec:\n",
        "            print(t)\n",
        "        return\n",
        "    for v in val:\n",
        "        print(v)\n",
        "\n",
        "    print(\" \")\n",
        "    print(\" \")\n",
        "    print(\"Top Products of Cluster 1\")\n",
        "    for title in title_cluster0:\n",
        "        print(title)\n",
        "    \n",
        "    print(\" \")\n",
        "    print(\" \")\n",
        "    print(\"Top Products of Cluster 2\")\n",
        "    for title in title_cluster1:\n",
        "        print(title)\n",
        "\n",
        "    print(\" \")\n",
        "    print(\" \")\n",
        "    print(\"Top Products of Cluster 3\")\n",
        "    for title in title_cluster2:\n",
        "        print(title)\n",
        "\n",
        "if __name__=='__main__':\n",
        "    main()"
      ],
      "metadata": {
        "colab": {
          "base_uri": "https://localhost:8080/"
        },
        "id": "57agL2QtqRjX",
        "outputId": "3a1994f3-e3b6-421b-d3c4-4bb1f8b9caf0"
      },
      "execution_count": 46,
      "outputs": [
        {
          "output_type": "stream",
          "name": "stdout",
          "text": [
            "Enter Product Namepython cookbook\n",
            "    \n",
            "  \n",
            "Similar Products are:\n",
            "Python in a Nutshell\n",
            "Programming Python, Second Edition with CD\n",
            "Python Essential Reference (2nd Edition)\n",
            "   \n",
            "   \n",
            "{'Title': 'Python Cookbook', 'ASIN': '0596001673', 'Categories': 'python script tool comput internet book store publish develop reilli subject design orient object general softwar languag program specialti', 'Group': 'Book', 'Copurchased': '0596001886 0596000855 0735710910', 'SalesRank': 173364, 'TotalReviews': 13, 'AvgRating': 5.0, 'NoSim': 5}\n",
            "   \n",
            "Recommended Products Are:\n",
            "I Got No Kick Against Modern Jazz\n",
            "How to Beat Your Dad at Chess\n",
            "The Berry Big Storm (All Aboard Reading. Station Stop 1)\n",
            "Classical Zoo\n",
            "Violin Concerto Op.14\n",
            "  \n",
            "Customer Might Also Like\n",
            "Patterns of Preaching: A Sermon Sampler\n",
            "Candlemas: Feast of Flames\n",
            "World War II Allied Fighter Planes Trading Cards\n",
            "Life Application Bible Commentary: 1 and 2 Timothy and Titus\n",
            "Prayers That Avail Much for Business: Executive\n",
            " \n",
            " \n",
            "Top Products of Cluster 1\n",
            "Change Your Child's Behavior by Changing Yours...\n",
            "Practical Aspects of Interview and Interrogati...\n",
            "Practical Aspects of Interview and Interrogati...\n",
            "Results-Oriented Job Descriptions: More Than 2...\n",
            "Decorative Letters CD-ROM and Book (Dover Elec...\n",
            "Log Cabins (Architecture and Design Library)\n",
            "Berlioz: Symphonie fantastique\n",
            "Smith & Hawken: Hands On Gardener: Composting ...\n",
            "Beauty in Exile: The Artists, Models, and Nobi...\n",
            "Grammar Wars: 179 Games and Improvs for Learni...\n",
            " \n",
            " \n",
            "Top Products of Cluster 2\n",
            "Visualizing Data\t\n",
            "Remembering Farley\n",
            "Northrop Frye on Shakespeare\n",
            "Zappa in N.Y.\t\n",
            "Where the Birds Are: The 100 Best Birdwatching...\t\n",
            "The Wasp Cookbook\t\n",
            "The Supreme Court's Greatest Hits\n",
            "I Know Why the Caged Bird Sings (Cliffs Notes)\n",
            "Color, Environment, & Human Response\n",
            "Miles to Go\n",
            " \n",
            " \n",
            "Top Products of Cluster 3\n",
            "Thief of Hearts\n",
            "Harry Potter and the Goblet of Fire (Book 4 Au...\n",
            "Harry Potter and the Goblet of Fire (Book 4, A...\t\n",
            "Harry Potter and the Goblet of Fire (Book 4)\n",
            "Harry Potter and the Goblet of Fire (Book 4)\n",
            "Harry Potter and the Goblet of Fire (Book 4)\n",
            "Looking For-Best of David Hasselhoff\n",
            "Harry Potter and the Sorcerer's Stone (Book 1 ...\n",
            "Harry Potter and the Sorcerer's Stone (Book 1 ...\n"
          ]
        }
      ]
    },
    {
      "cell_type": "code",
      "source": [
        ""
      ],
      "metadata": {
        "id": "5LYuSowYrPwa"
      },
      "execution_count": 46,
      "outputs": []
    }
  ]
}