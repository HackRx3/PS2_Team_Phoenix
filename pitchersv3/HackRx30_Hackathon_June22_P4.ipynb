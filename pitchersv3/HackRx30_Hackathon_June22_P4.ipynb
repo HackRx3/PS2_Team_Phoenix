{
  "cells": [
    {
      "cell_type": "markdown",
      "source": [
        "# Product Clustering for Recommendation based on Customer Insights, Profiling and Customer Satisfaction"
      ],
      "metadata": {
        "id": "DvSYysl22t5q"
      }
    },
    {
      "cell_type": "markdown",
      "source": [
        "Data Preprocessing and feature extraction for clustering"
      ],
      "metadata": {
        "id": "z1Jz6sfS2xrr"
      }
    },
    {
      "cell_type": "code",
      "execution_count": 1,
      "metadata": {
        "colab": {
          "base_uri": "https://localhost:8080/"
        },
        "id": "2lUbES9pNxgu",
        "outputId": "109ae511-29c2-4afe-d1d2-38a9842db87c"
      },
      "outputs": [
        {
          "output_type": "stream",
          "name": "stdout",
          "text": [
            "Looking in indexes: https://pypi.org/simple, https://us-python.pkg.dev/colab-wheels/public/simple/\n",
            "Collecting stemming\n",
            "  Downloading stemming-1.0.1.zip (13 kB)\n",
            "Building wheels for collected packages: stemming\n",
            "  Building wheel for stemming (setup.py): started\n",
            "  Building wheel for stemming (setup.py): finished with status 'done'\n",
            "  Created wheel for stemming: filename=stemming-1.0.1-py3-none-any.whl size=11138 sha256=b4caa2b0d89903d88e7af17de8fa597c9d3e1bf0c65ae50e425e92b246d6428b\n",
            "  Stored in directory: /root/.cache/pip/wheels/6b/e5/e2/c52ebc0a5b53fd82b00cc385e57bb1c90bd50e5f54ddbc06d1\n",
            "Successfully built stemming\n",
            "Installing collected packages: stemming\n",
            "Successfully installed stemming-1.0.1\n"
          ]
        }
      ],
      "source": [
        "%%bash\n",
        "pip install stemming"
      ]
    },
    {
      "cell_type": "code",
      "execution_count": 2,
      "metadata": {
        "colab": {
          "base_uri": "https://localhost:8080/"
        },
        "id": "9amWKQiCNQIK",
        "outputId": "993fd027-e565-417c-aca4-33f1380a0612"
      },
      "outputs": [
        {
          "output_type": "stream",
          "name": "stderr",
          "text": [
            "[nltk_data] Downloading package stopwords to /root/nltk_data...\n",
            "[nltk_data]   Unzipping corpora/stopwords.zip.\n"
          ]
        },
        {
          "output_type": "execute_result",
          "data": {
            "text/plain": [
              "True"
            ]
          },
          "metadata": {},
          "execution_count": 2
        }
      ],
      "source": [
        "import string\n",
        "import pandas as pd\n",
        "import re\n",
        "import nltk\n",
        "from nltk.corpus import stopwords\n",
        "from stemming.porter2 import stem\n",
        "import numpy as np\n",
        "import networkx as nx\n",
        "import seaborn as sns\n",
        "import matplotlib.pyplot as plt\n",
        "import nltk\n",
        "nltk.download('stopwords')"
      ]
    },
    {
      "cell_type": "code",
      "source": [
        "from google.colab import drive\n",
        "drive.mount('/content/drive')"
      ],
      "metadata": {
        "colab": {
          "base_uri": "https://localhost:8080/"
        },
        "id": "SE-ffkkQ-e25",
        "outputId": "4bfc4fb1-52d9-4a2a-82d9-ecc738442842"
      },
      "execution_count": 3,
      "outputs": [
        {
          "output_type": "stream",
          "name": "stdout",
          "text": [
            "Mounted at /content/drive\n"
          ]
        }
      ]
    },
    {
      "cell_type": "markdown",
      "source": [
        "# Open the file to read Amazon Product Metadata"
      ],
      "metadata": {
        "id": "IVB0H2Ea3x78"
      }
    },
    {
      "cell_type": "code",
      "execution_count": 4,
      "metadata": {
        "id": "AkkOxfRtNQIM"
      },
      "outputs": [],
      "source": [
        "df = open ('/content/drive/MyDrive/BAJAJ/GNN_datasets/amazon-meta.txt', 'r', encoding='utf-8', errors= 'ignore')"
      ]
    },
    {
      "cell_type": "markdown",
      "source": [
        "# Initialize a nested product dictionary that will hold cleaned up amazon product data. "
      ],
      "metadata": {
        "id": "dsRAd2se30BU"
      }
    },
    {
      "cell_type": "code",
      "execution_count": 5,
      "metadata": {
        "id": "XF4sZ-yPNQIN"
      },
      "outputs": [],
      "source": [
        "amazonProducts= {}"
      ]
    },
    {
      "cell_type": "markdown",
      "source": [
        "# Read the data from the Amazon file and fill the amazonProducts nested dictionary"
      ],
      "metadata": {
        "id": "Ab3yrLbu35lV"
      }
    },
    {
      "cell_type": "code",
      "source": [
        "(Id, ASIN, Title, Categories, Group, Copurchased, SalesRank, TotalReviews, AvgRating, DegreeCentrality, ClusteringCoeff,helpf,votes) = (\"\", \"\", \"\", \"\", \"\", \"\", 0, 0, 0.0, 0, 0.0,0,0)\n",
        "for line in df:\n",
        "    line = line.strip()\n",
        "    if(line.startswith(\"Id\")):\n",
        "        Id = line[3:].strip()\n",
        "        counter = 0\n",
        "    elif(line.startswith(\"ASIN\")):\n",
        "        ASIN = line[5:].strip()\n",
        "    elif(line.startswith(\"group\")):\n",
        "        Group = line[6:].strip()\n",
        "    elif(line.startswith(\"title\")):\n",
        "        Title = line[6:].strip()\n",
        "        Title = ' '.join(Title.split())\n",
        "    elif(line.startswith(\"salesrank\")):\n",
        "        SalesRank = line[10:].strip()\n",
        "    elif(line.startswith(\"reviews\")):\n",
        "        ls = line.split()\n",
        "        TotalReviews = ls[2].strip()\n",
        "        AvgRating = ls[7].strip()\n",
        "    elif(line.startswith(\"19\")):\n",
        "        ls = line.split()\n",
        "        votes=votes+int(ls[6].strip())\n",
        "        helpf=helpf+int(ls[8].strip())\n",
        "    elif(line.startswith(\"20\")):\n",
        "        ls = line.split()\n",
        "        ls = line.split()\n",
        "        votes=votes+int(ls[6].strip())\n",
        "        helpf=helpf+int(ls[8].strip())\n",
        "    elif(line.startswith(\"categories\")):\n",
        "        ls = line.split()\n",
        "        Categories = ' '.join((df.readline()).lower() for i in range(int(ls[1].strip())))\n",
        "        Categories = re.compile('[%s]' % re.escape(string.digits+string.punctuation)).sub(' ',Categories)\n",
        "        Categories = ' '.join(set(Categories.split())-set(stopwords.words(\"english\")))\n",
        "        Categories = ' '.join(stem(word) for word in Categories.split())\n",
        "    elif (line==\"\"): # write out fields to amazonProducts dictionary\n",
        "        try:\n",
        "            MetaData = {}\n",
        "            if (ASIN != \"\"):\n",
        "                amazonProducts[ASIN] = MetaData\n",
        "            MetaData['Id'] = Id\n",
        "            MetaData['Categories'] = ' '.join(set(Categories.split()))\n",
        "            MetaData['Group'] = Group\n",
        "            MetaData['SalesRank'] = int(SalesRank)\n",
        "            MetaData['TotalReviews'] = int(TotalReviews)\n",
        "            MetaData['AvgRating'] = float(AvgRating)\n",
        "            MetaData['Helpful'] = int(helpf)\n",
        "            MetaData['Votes'] = int(votes)\n",
        "        except NameError:\n",
        "            continue\n",
        "        (Id, ASIN, Title, Categories, Group, Copurchased, SalesRank, TotalReviews, AvgRating, DegreeCentrality, ClusteringCoeff,helpf,votes) = (\"\", \"\", \"\", \"\", \"\", \"\", 0, 0, 0.0, 0, 0.0,0,0)\n",
        "df.close"
      ],
      "metadata": {
        "colab": {
          "base_uri": "https://localhost:8080/"
        },
        "id": "qc1RVZop2jFZ",
        "outputId": "e549412f-6ca9-4d00-a614-918fbfa9b422"
      },
      "execution_count": 6,
      "outputs": [
        {
          "output_type": "execute_result",
          "data": {
            "text/plain": [
              "<function TextIOWrapper.close>"
            ]
          },
          "metadata": {},
          "execution_count": 6
        }
      ]
    },
    {
      "cell_type": "markdown",
      "source": [
        "Converting Dictionary to df"
      ],
      "metadata": {
        "id": "4_zlOodW4GVB"
      }
    },
    {
      "cell_type": "code",
      "source": [
        "df = pd.DataFrame.from_dict(amazonProducts)\n",
        "df = df.T"
      ],
      "metadata": {
        "id": "g4mKGtoXaNFk"
      },
      "execution_count": 7,
      "outputs": []
    },
    {
      "cell_type": "markdown",
      "source": [
        "Unique Groups of Products Available"
      ],
      "metadata": {
        "id": "uBjL1Db_4NdQ"
      }
    },
    {
      "cell_type": "code",
      "source": [
        "df.Group.unique()"
      ],
      "metadata": {
        "colab": {
          "base_uri": "https://localhost:8080/"
        },
        "id": "MDCt9e3is2Y5",
        "outputId": "29d99612-a17e-4d40-c5f0-a3b64ee5515c"
      },
      "execution_count": 8,
      "outputs": [
        {
          "output_type": "execute_result",
          "data": {
            "text/plain": [
              "array(['', 'Book', 'Music', 'DVD', 'Video', 'Toy', 'Video Games',\n",
              "       'Software', 'Baby Product', 'CE', 'Sports'], dtype=object)"
            ]
          },
          "metadata": {},
          "execution_count": 8
        }
      ]
    },
    {
      "cell_type": "markdown",
      "source": [
        "Checking for null data items"
      ],
      "metadata": {
        "id": "a9tcJMOC4TQY"
      }
    },
    {
      "cell_type": "code",
      "source": [
        "df.isnull().sum()"
      ],
      "metadata": {
        "colab": {
          "base_uri": "https://localhost:8080/"
        },
        "id": "Qt9_--SMwlyA",
        "outputId": "bcd44256-c8ad-47c5-aecf-6f1eef9836fe"
      },
      "execution_count": 9,
      "outputs": [
        {
          "output_type": "execute_result",
          "data": {
            "text/plain": [
              "Id              0\n",
              "Categories      0\n",
              "Group           0\n",
              "SalesRank       0\n",
              "TotalReviews    0\n",
              "AvgRating       0\n",
              "Helpful         0\n",
              "Votes           0\n",
              "dtype: int64"
            ]
          },
          "metadata": {},
          "execution_count": 9
        }
      ]
    },
    {
      "cell_type": "markdown",
      "source": [
        "Checking Distribution of Various Groups of Products"
      ],
      "metadata": {
        "id": "_AttfOC34WYh"
      }
    },
    {
      "cell_type": "code",
      "source": [
        "df['Group'].value_counts()"
      ],
      "metadata": {
        "colab": {
          "base_uri": "https://localhost:8080/"
        },
        "id": "hvfEMkgqwolQ",
        "outputId": "74aadb9f-351d-42cf-e110-27ea89bd3d56"
      },
      "execution_count": 10,
      "outputs": [
        {
          "output_type": "execute_result",
          "data": {
            "text/plain": [
              "Book            393561\n",
              "Music           103144\n",
              "Video            26131\n",
              "DVD              19828\n",
              "                  5868\n",
              "Toy                  8\n",
              "Software             5\n",
              "CE                   4\n",
              "Video Games          1\n",
              "Baby Product         1\n",
              "Sports               1\n",
              "Name: Group, dtype: int64"
            ]
          },
          "metadata": {},
          "execution_count": 10
        }
      ]
    },
    {
      "cell_type": "markdown",
      "source": [
        "#**Explaination left.............................**"
      ],
      "metadata": {
        "id": "y5g1kpZV4cej"
      }
    },
    {
      "cell_type": "code",
      "source": [
        "df = df[(df['Group'] == 'Book') | (df['Group'] == 'Music') | (df['Group'] == 'Video') | (df['Group'] == 'DVD')]"
      ],
      "metadata": {
        "id": "tB-CJrSfw4M7"
      },
      "execution_count": 11,
      "outputs": []
    },
    {
      "cell_type": "markdown",
      "source": [
        "Finding Non-Helpful Votes"
      ],
      "metadata": {
        "id": "IIwNhRUM4iG7"
      }
    },
    {
      "cell_type": "code",
      "source": [
        "df['NonHelpfulVotes']=df['Votes']-df['Helpful']"
      ],
      "metadata": {
        "id": "HH1d8P_zuPGH",
        "colab": {
          "base_uri": "https://localhost:8080/"
        },
        "outputId": "94701f0e-8d1e-4eb3-e50e-702af3869afd"
      },
      "execution_count": 12,
      "outputs": [
        {
          "output_type": "stream",
          "name": "stderr",
          "text": [
            "/usr/local/lib/python3.7/dist-packages/ipykernel_launcher.py:1: SettingWithCopyWarning: \n",
            "A value is trying to be set on a copy of a slice from a DataFrame.\n",
            "Try using .loc[row_indexer,col_indexer] = value instead\n",
            "\n",
            "See the caveats in the documentation: https://pandas.pydata.org/pandas-docs/stable/user_guide/indexing.html#returning-a-view-versus-a-copy\n",
            "  \"\"\"Entry point for launching an IPython kernel.\n"
          ]
        }
      ]
    },
    {
      "cell_type": "code",
      "source": [
        "df['ASIN'] = df.index\n",
        "df1 = df.set_index('Id')\n",
        "df1['Helpful'] = df1['Helpful'].astype(int)"
      ],
      "metadata": {
        "id": "bxV1s62Kxz5E",
        "colab": {
          "base_uri": "https://localhost:8080/"
        },
        "outputId": "3c4384c3-0a96-4991-fa90-7ae179282a48"
      },
      "execution_count": 13,
      "outputs": [
        {
          "output_type": "stream",
          "name": "stderr",
          "text": [
            "/usr/local/lib/python3.7/dist-packages/ipykernel_launcher.py:1: SettingWithCopyWarning: \n",
            "A value is trying to be set on a copy of a slice from a DataFrame.\n",
            "Try using .loc[row_indexer,col_indexer] = value instead\n",
            "\n",
            "See the caveats in the documentation: https://pandas.pydata.org/pandas-docs/stable/user_guide/indexing.html#returning-a-view-versus-a-copy\n",
            "  \"\"\"Entry point for launching an IPython kernel.\n"
          ]
        }
      ]
    },
    {
      "cell_type": "markdown",
      "source": [
        "Finding and Visualizing Distribution of Helpful Votes"
      ],
      "metadata": {
        "id": "j-CmKKuy4mos"
      }
    },
    {
      "cell_type": "code",
      "source": [
        "df1['Helpful'].describe()"
      ],
      "metadata": {
        "colab": {
          "base_uri": "https://localhost:8080/"
        },
        "id": "tNG8Cb8Y3ob5",
        "outputId": "c78f3150-b67d-4d80-9d7d-cf2bf5361e99"
      },
      "execution_count": 14,
      "outputs": [
        {
          "output_type": "execute_result",
          "data": {
            "text/plain": [
              "count    542664.000000\n",
              "mean         53.096802\n",
              "std         266.525417\n",
              "min           0.000000\n",
              "25%           0.000000\n",
              "50%           8.000000\n",
              "75%          35.000000\n",
              "max       27354.000000\n",
              "Name: Helpful, dtype: float64"
            ]
          },
          "metadata": {},
          "execution_count": 14
        }
      ]
    },
    {
      "cell_type": "code",
      "source": [
        "df1.hist(bins=4)"
      ],
      "metadata": {
        "colab": {
          "base_uri": "https://localhost:8080/",
          "height": 316
        },
        "id": "3iPT6WDn45Dw",
        "outputId": "636e5362-5f14-4e9b-bdb8-d3be604dec82"
      },
      "execution_count": 15,
      "outputs": [
        {
          "output_type": "execute_result",
          "data": {
            "text/plain": [
              "array([[<matplotlib.axes._subplots.AxesSubplot object at 0x7fe1efe74150>]],\n",
              "      dtype=object)"
            ]
          },
          "metadata": {},
          "execution_count": 15
        },
        {
          "output_type": "display_data",
          "data": {
            "text/plain": [
              "<Figure size 432x288 with 1 Axes>"
            ],
            "image/png": "[encoded data removed]"
          },
          "metadata": {
            "needs_background": "light"
          }
        }
      ]
    },
    {
      "cell_type": "code",
      "source": [
        "df1=df1.reset_index()"
      ],
      "metadata": {
        "id": "GzJbxOM7zDSb"
      },
      "execution_count": 16,
      "outputs": []
    },
    {
      "cell_type": "markdown",
      "source": [
        "Binning / Categorizing Products into 4 buckets based on customer insights"
      ],
      "metadata": {
        "id": "pUV1Hu4f45NX"
      }
    },
    {
      "cell_type": "code",
      "source": [
        "df1['label_code'] = pd.cut(x=df1['Helpful'], bins=[-1, 8, 35, 27355], labels=['0', '1', '2'])"
      ],
      "metadata": {
        "id": "OiqCXnLR5cww"
      },
      "execution_count": 17,
      "outputs": []
    },
    {
      "cell_type": "markdown",
      "source": [
        "Visualization of Helpful"
      ],
      "metadata": {
        "id": "IL9rvN2y5GUZ"
      }
    },
    {
      "cell_type": "code",
      "source": [
        "df2 = df1[0:100000]\n",
        "df2['Helpful'].describe()\n",
        "df2 = df1[100000:200000]\n",
        "df2['Helpful'].describe()\n",
        "df2 = df1[200000:300000]\n",
        "df2['Helpful'].describe()\n",
        "df2 = df1[300000:400000]\n",
        "df2['Helpful'].describe()\n",
        "df2 = df1[400000:]\n",
        "df2['Helpful'].describe()\n",
        "df2 = df1[400000:]\n",
        "df2['AvgRating']=df2['AvgRating'].astype(float)\n",
        "df2.groupby('AvgRating').count()"
      ],
      "metadata": {
        "colab": {
          "base_uri": "https://localhost:8080/",
          "height": 498
        },
        "id": "sDDgNmuj9rwQ",
        "outputId": "ee2cdd7e-d1b4-450e-9ed7-99a96c07d4d5"
      },
      "execution_count": 18,
      "outputs": [
        {
          "output_type": "stream",
          "name": "stderr",
          "text": [
            "/usr/local/lib/python3.7/dist-packages/ipykernel_launcher.py:12: SettingWithCopyWarning: \n",
            "A value is trying to be set on a copy of a slice from a DataFrame.\n",
            "Try using .loc[row_indexer,col_indexer] = value instead\n",
            "\n",
            "See the caveats in the documentation: https://pandas.pydata.org/pandas-docs/stable/user_guide/indexing.html#returning-a-view-versus-a-copy\n",
            "  if sys.path[0] == '':\n"
          ]
        },
        {
          "output_type": "execute_result",
          "data": {
            "text/plain": [
              "              Id  Categories  Group  SalesRank  TotalReviews  Helpful  Votes  \\\n",
              "AvgRating                                                                      \n",
              "0.0        30920       30920  30920      30920         30920    30920  30920   \n",
              "1.0          803         803    803        803           803      803    803   \n",
              "1.5          250         250    250        250           250      250    250   \n",
              "2.0         1166        1166   1166       1166          1166     1166   1166   \n",
              "2.5         1985        1985   1985       1985          1985     1985   1985   \n",
              "3.0         5995        5995   5995       5995          5995     5995   5995   \n",
              "3.5         9711        9711   9711       9711          9711     9711   9711   \n",
              "4.0        23135       23135  23135      23135         23135    23135  23135   \n",
              "4.5        28547       28547  28547      28547         28547    28547  28547   \n",
              "5.0        40152       40152  40152      40152         40152    40152  40152   \n",
              "\n",
              "           NonHelpfulVotes   ASIN  label_code  \n",
              "AvgRating                                      \n",
              "0.0                  30920  30920       30920  \n",
              "1.0                    803    803         803  \n",
              "1.5                    250    250         250  \n",
              "2.0                   1166   1166        1166  \n",
              "2.5                   1985   1985        1985  \n",
              "3.0                   5995   5995        5995  \n",
              "3.5                   9711   9711        9711  \n",
              "4.0                  23135  23135       23135  \n",
              "4.5                  28547  28547       28547  \n",
              "5.0                  40152  40152       40152  "
            ],
            "text/html": [
              "\n",
              "  <div id=\"df-a2c1395d-d020-4fb2-874a-178a9adc630a\">\n",
              "    <div class=\"colab-df-container\">\n",
              "      <div>\n",
              "<style scoped>\n",
              "    .dataframe tbody tr th:only-of-type {\n",
              "        vertical-align: middle;\n",
              "    }\n",
              "\n",
              "    .dataframe tbody tr th {\n",
              "        vertical-align: top;\n",
              "    }\n",
              "\n",
              "    .dataframe thead th {\n",
              "        text-align: right;\n",
              "    }\n",
              "</style>\n",
              "<table border=\"1\" class=\"dataframe\">\n",
              "  <thead>\n",
              "    <tr style=\"text-align: right;\">\n",
              "      <th></th>\n",
              "      <th>Id</th>\n",
              "      <th>Categories</th>\n",
              "      <th>Group</th>\n",
              "      <th>SalesRank</th>\n",
              "      <th>TotalReviews</th>\n",
              "      <th>Helpful</th>\n",
              "      <th>Votes</th>\n",
              "      <th>NonHelpfulVotes</th>\n",
              "      <th>ASIN</th>\n",
              "      <th>label_code</th>\n",
              "    </tr>\n",
              "    <tr>\n",
              "      <th>AvgRating</th>\n",
              "      <th></th>\n",
              "      <th></th>\n",
              "      <th></th>\n",
              "      <th></th>\n",
              "      <th></th>\n",
              "      <th></th>\n",
              "      <th></th>\n",
              "      <th></th>\n",
              "      <th></th>\n",
              "      <th></th>\n",
              "    </tr>\n",
              "  </thead>\n",
              "  <tbody>\n",
              "    <tr>\n",
              "      <th>0.0</th>\n",
              "      <td>30920</td>\n",
              "      <td>30920</td>\n",
              "      <td>30920</td>\n",
              "      <td>30920</td>\n",
              "      <td>30920</td>\n",
              "      <td>30920</td>\n",
              "      <td>30920</td>\n",
              "      <td>30920</td>\n",
              "      <td>30920</td>\n",
              "      <td>30920</td>\n",
              "    </tr>\n",
              "    <tr>\n",
              "      <th>1.0</th>\n",
              "      <td>803</td>\n",
              "      <td>803</td>\n",
              "      <td>803</td>\n",
              "      <td>803</td>\n",
              "      <td>803</td>\n",
              "      <td>803</td>\n",
              "      <td>803</td>\n",
              "      <td>803</td>\n",
              "      <td>803</td>\n",
              "      <td>803</td>\n",
              "    </tr>\n",
              "    <tr>\n",
              "      <th>1.5</th>\n",
              "      <td>250</td>\n",
              "      <td>250</td>\n",
              "      <td>250</td>\n",
              "      <td>250</td>\n",
              "      <td>250</td>\n",
              "      <td>250</td>\n",
              "      <td>250</td>\n",
              "      <td>250</td>\n",
              "      <td>250</td>\n",
              "      <td>250</td>\n",
              "    </tr>\n",
              "    <tr>\n",
              "      <th>2.0</th>\n",
              "      <td>1166</td>\n",
              "      <td>1166</td>\n",
              "      <td>1166</td>\n",
              "      <td>1166</td>\n",
              "      <td>1166</td>\n",
              "      <td>1166</td>\n",
              "      <td>1166</td>\n",
              "      <td>1166</td>\n",
              "      <td>1166</td>\n",
              "      <td>1166</td>\n",
              "    </tr>\n",
              "    <tr>\n",
              "      <th>2.5</th>\n",
              "      <td>1985</td>\n",
              "      <td>1985</td>\n",
              "      <td>1985</td>\n",
              "      <td>1985</td>\n",
              "      <td>1985</td>\n",
              "      <td>1985</td>\n",
              "      <td>1985</td>\n",
              "      <td>1985</td>\n",
              "      <td>1985</td>\n",
              "      <td>1985</td>\n",
              "    </tr>\n",
              "    <tr>\n",
              "      <th>3.0</th>\n",
              "      <td>5995</td>\n",
              "      <td>5995</td>\n",
              "      <td>5995</td>\n",
              "      <td>5995</td>\n",
              "      <td>5995</td>\n",
              "      <td>5995</td>\n",
              "      <td>5995</td>\n",
              "      <td>5995</td>\n",
              "      <td>5995</td>\n",
              "      <td>5995</td>\n",
              "    </tr>\n",
              "    <tr>\n",
              "      <th>3.5</th>\n",
              "      <td>9711</td>\n",
              "      <td>9711</td>\n",
              "      <td>9711</td>\n",
              "      <td>9711</td>\n",
              "      <td>9711</td>\n",
              "      <td>9711</td>\n",
              "      <td>9711</td>\n",
              "      <td>9711</td>\n",
              "      <td>9711</td>\n",
              "      <td>9711</td>\n",
              "    </tr>\n",
              "    <tr>\n",
              "      <th>4.0</th>\n",
              "      <td>23135</td>\n",
              "      <td>23135</td>\n",
              "      <td>23135</td>\n",
              "      <td>23135</td>\n",
              "      <td>23135</td>\n",
              "      <td>23135</td>\n",
              "      <td>23135</td>\n",
              "      <td>23135</td>\n",
              "      <td>23135</td>\n",
              "      <td>23135</td>\n",
              "    </tr>\n",
              "    <tr>\n",
              "      <th>4.5</th>\n",
              "      <td>28547</td>\n",
              "      <td>28547</td>\n",
              "      <td>28547</td>\n",
              "      <td>28547</td>\n",
              "      <td>28547</td>\n",
              "      <td>28547</td>\n",
              "      <td>28547</td>\n",
              "      <td>28547</td>\n",
              "      <td>28547</td>\n",
              "      <td>28547</td>\n",
              "    </tr>\n",
              "    <tr>\n",
              "      <th>5.0</th>\n",
              "      <td>40152</td>\n",
              "      <td>40152</td>\n",
              "      <td>40152</td>\n",
              "      <td>40152</td>\n",
              "      <td>40152</td>\n",
              "      <td>40152</td>\n",
              "      <td>40152</td>\n",
              "      <td>40152</td>\n",
              "      <td>40152</td>\n",
              "      <td>40152</td>\n",
              "    </tr>\n",
              "  </tbody>\n",
              "</table>\n",
              "</div>\n",
              "      <button class=\"colab-df-convert\" onclick=\"convertToInteractive('df-a2c1395d-d020-4fb2-874a-178a9adc630a')\"\n",
              "              title=\"Convert this dataframe to an interactive table.\"\n",
              "              style=\"display:none;\">\n",
              "        \n",
              "  <svg xmlns=\"http://www.w3.org/2000/svg\" height=\"24px\"viewBox=\"0 0 24 24\"\n",
              "       width=\"24px\">\n",
              "    <path d=\"M0 0h24v24H0V0z\" fill=\"none\"/>\n",
              "    <path d=\"M18.56 5.44l.94 2.06.94-2.06 2.06-.94-2.06-.94-.94-2.06-.94 2.06-2.06.94zm-11 1L8.5 8.5l.94-2.06 2.06-.94-2.06-.94L8.5 2.5l-.94 2.06-2.06.94zm10 10l.94 2.06.94-2.06 2.06-.94-2.06-.94-.94-2.06-.94 2.06-2.06.94z\"/><path d=\"M17.41 7.96l-1.37-1.37c-.4-.4-.92-.59-1.43-.59-.52 0-1.04.2-1.43.59L10.3 9.45l-7.72 7.72c-.78.78-.78 2.05 0 2.83L4 21.41c.39.39.9.59 1.41.59.51 0 1.02-.2 1.41-.59l7.78-7.78 2.81-2.81c.8-.78.8-2.07 0-2.86zM5.41 20L4 18.59l7.72-7.72 1.47 1.35L5.41 20z\"/>\n",
              "  </svg>\n",
              "      </button>\n",
              "      \n",
              "  <style>\n",
              "    .colab-df-container {\n",
              "      display:flex;\n",
              "      flex-wrap:wrap;\n",
              "      gap: 12px;\n",
              "    }\n",
              "\n",
              "    .colab-df-convert {\n",
              "      background-color: #E8F0FE;\n",
              "      border: none;\n",
              "      border-radius: 50%;\n",
              "      cursor: pointer;\n",
              "      display: none;\n",
              "      fill: #1967D2;\n",
              "      height: 32px;\n",
              "      padding: 0 0 0 0;\n",
              "      width: 32px;\n",
              "    }\n",
              "\n",
              "    .colab-df-convert:hover {\n",
              "      background-color: #E2EBFA;\n",
              "      box-shadow: 0px 1px 2px rgba(60, 64, 67, 0.3), 0px 1px 3px 1px rgba(60, 64, 67, 0.15);\n",
              "      fill: #174EA6;\n",
              "    }\n",
              "\n",
              "    [theme=dark] .colab-df-convert {\n",
              "      background-color: #3B4455;\n",
              "      fill: #D2E3FC;\n",
              "    }\n",
              "\n",
              "    [theme=dark] .colab-df-convert:hover {\n",
              "      background-color: #434B5C;\n",
              "      box-shadow: 0px 1px 3px 1px rgba(0, 0, 0, 0.15);\n",
              "      filter: drop-shadow(0px 1px 2px rgba(0, 0, 0, 0.3));\n",
              "      fill: #FFFFFF;\n",
              "    }\n",
              "  </style>\n",
              "\n",
              "      <script>\n",
              "        const buttonEl =\n",
              "          document.querySelector('#df-a2c1395d-d020-4fb2-874a-178a9adc630a button.colab-df-convert');\n",
              "        buttonEl.style.display =\n",
              "          google.colab.kernel.accessAllowed ? 'block' : 'none';\n",
              "\n",
              "        async function convertToInteractive(key) {\n",
              "          const element = document.querySelector('#df-a2c1395d-d020-4fb2-874a-178a9adc630a');\n",
              "          const dataTable =\n",
              "            await google.colab.kernel.invokeFunction('convertToInteractive',\n",
              "                                                     [key], {});\n",
              "          if (!dataTable) return;\n",
              "\n",
              "          const docLinkHtml = 'Like what you see? Visit the ' +\n",
              "            '<a target=\"_blank\" href=https://colab.research.google.com/notebooks/data_table.ipynb>data table notebook</a>'\n",
              "            + ' to learn more about interactive tables.';\n",
              "          element.innerHTML = '';\n",
              "          dataTable['output_type'] = 'display_data';\n",
              "          await google.colab.output.renderOutput(dataTable, element);\n",
              "          const docLink = document.createElement('div');\n",
              "          docLink.innerHTML = docLinkHtml;\n",
              "          element.appendChild(docLink);\n",
              "        }\n",
              "      </script>\n",
              "    </div>\n",
              "  </div>\n",
              "  "
            ]
          },
          "metadata": {},
          "execution_count": 18
        }
      ]
    },
    {
      "cell_type": "code",
      "source": [
        "df2.groupby('label_code').count()"
      ],
      "metadata": {
        "colab": {
          "base_uri": "https://localhost:8080/",
          "height": 175
        },
        "id": "5oo-0gQu_NCB",
        "outputId": "4ae5acaf-f19d-459e-e719-d8678a350718"
      },
      "execution_count": 19,
      "outputs": [
        {
          "output_type": "execute_result",
          "data": {
            "text/plain": [
              "               Id  Categories  Group  SalesRank  TotalReviews  AvgRating  \\\n",
              "label_code                                                                 \n",
              "0           68103       68103  68103      68103         68103      68103   \n",
              "1           37031       37031  37031      37031         37031      37031   \n",
              "2           37530       37530  37530      37530         37530      37530   \n",
              "\n",
              "            Helpful  Votes  NonHelpfulVotes   ASIN  \n",
              "label_code                                          \n",
              "0             68103  68103            68103  68103  \n",
              "1             37031  37031            37031  37031  \n",
              "2             37530  37530            37530  37530  "
            ],
            "text/html": [
              "\n",
              "  <div id=\"df-34d47d6f-1c6e-4a21-b067-556f351deabb\">\n",
              "    <div class=\"colab-df-container\">\n",
              "      <div>\n",
              "<style scoped>\n",
              "    .dataframe tbody tr th:only-of-type {\n",
              "        vertical-align: middle;\n",
              "    }\n",
              "\n",
              "    .dataframe tbody tr th {\n",
              "        vertical-align: top;\n",
              "    }\n",
              "\n",
              "    .dataframe thead th {\n",
              "        text-align: right;\n",
              "    }\n",
              "</style>\n",
              "<table border=\"1\" class=\"dataframe\">\n",
              "  <thead>\n",
              "    <tr style=\"text-align: right;\">\n",
              "      <th></th>\n",
              "      <th>Id</th>\n",
              "      <th>Categories</th>\n",
              "      <th>Group</th>\n",
              "      <th>SalesRank</th>\n",
              "      <th>TotalReviews</th>\n",
              "      <th>AvgRating</th>\n",
              "      <th>Helpful</th>\n",
              "      <th>Votes</th>\n",
              "      <th>NonHelpfulVotes</th>\n",
              "      <th>ASIN</th>\n",
              "    </tr>\n",
              "    <tr>\n",
              "      <th>label_code</th>\n",
              "      <th></th>\n",
              "      <th></th>\n",
              "      <th></th>\n",
              "      <th></th>\n",
              "      <th></th>\n",
              "      <th></th>\n",
              "      <th></th>\n",
              "      <th></th>\n",
              "      <th></th>\n",
              "      <th></th>\n",
              "    </tr>\n",
              "  </thead>\n",
              "  <tbody>\n",
              "    <tr>\n",
              "      <th>0</th>\n",
              "      <td>68103</td>\n",
              "      <td>68103</td>\n",
              "      <td>68103</td>\n",
              "      <td>68103</td>\n",
              "      <td>68103</td>\n",
              "      <td>68103</td>\n",
              "      <td>68103</td>\n",
              "      <td>68103</td>\n",
              "      <td>68103</td>\n",
              "      <td>68103</td>\n",
              "    </tr>\n",
              "    <tr>\n",
              "      <th>1</th>\n",
              "      <td>37031</td>\n",
              "      <td>37031</td>\n",
              "      <td>37031</td>\n",
              "      <td>37031</td>\n",
              "      <td>37031</td>\n",
              "      <td>37031</td>\n",
              "      <td>37031</td>\n",
              "      <td>37031</td>\n",
              "      <td>37031</td>\n",
              "      <td>37031</td>\n",
              "    </tr>\n",
              "    <tr>\n",
              "      <th>2</th>\n",
              "      <td>37530</td>\n",
              "      <td>37530</td>\n",
              "      <td>37530</td>\n",
              "      <td>37530</td>\n",
              "      <td>37530</td>\n",
              "      <td>37530</td>\n",
              "      <td>37530</td>\n",
              "      <td>37530</td>\n",
              "      <td>37530</td>\n",
              "      <td>37530</td>\n",
              "    </tr>\n",
              "  </tbody>\n",
              "</table>\n",
              "</div>\n",
              "      <button class=\"colab-df-convert\" onclick=\"convertToInteractive('df-34d47d6f-1c6e-4a21-b067-556f351deabb')\"\n",
              "              title=\"Convert this dataframe to an interactive table.\"\n",
              "              style=\"display:none;\">\n",
              "        \n",
              "  <svg xmlns=\"http://www.w3.org/2000/svg\" height=\"24px\"viewBox=\"0 0 24 24\"\n",
              "       width=\"24px\">\n",
              "    <path d=\"M0 0h24v24H0V0z\" fill=\"none\"/>\n",
              "    <path d=\"M18.56 5.44l.94 2.06.94-2.06 2.06-.94-2.06-.94-.94-2.06-.94 2.06-2.06.94zm-11 1L8.5 8.5l.94-2.06 2.06-.94-2.06-.94L8.5 2.5l-.94 2.06-2.06.94zm10 10l.94 2.06.94-2.06 2.06-.94-2.06-.94-.94-2.06-.94 2.06-2.06.94z\"/><path d=\"M17.41 7.96l-1.37-1.37c-.4-.4-.92-.59-1.43-.59-.52 0-1.04.2-1.43.59L10.3 9.45l-7.72 7.72c-.78.78-.78 2.05 0 2.83L4 21.41c.39.39.9.59 1.41.59.51 0 1.02-.2 1.41-.59l7.78-7.78 2.81-2.81c.8-.78.8-2.07 0-2.86zM5.41 20L4 18.59l7.72-7.72 1.47 1.35L5.41 20z\"/>\n",
              "  </svg>\n",
              "      </button>\n",
              "      \n",
              "  <style>\n",
              "    .colab-df-container {\n",
              "      display:flex;\n",
              "      flex-wrap:wrap;\n",
              "      gap: 12px;\n",
              "    }\n",
              "\n",
              "    .colab-df-convert {\n",
              "      background-color: #E8F0FE;\n",
              "      border: none;\n",
              "      border-radius: 50%;\n",
              "      cursor: pointer;\n",
              "      display: none;\n",
              "      fill: #1967D2;\n",
              "      height: 32px;\n",
              "      padding: 0 0 0 0;\n",
              "      width: 32px;\n",
              "    }\n",
              "\n",
              "    .colab-df-convert:hover {\n",
              "      background-color: #E2EBFA;\n",
              "      box-shadow: 0px 1px 2px rgba(60, 64, 67, 0.3), 0px 1px 3px 1px rgba(60, 64, 67, 0.15);\n",
              "      fill: #174EA6;\n",
              "    }\n",
              "\n",
              "    [theme=dark] .colab-df-convert {\n",
              "      background-color: #3B4455;\n",
              "      fill: #D2E3FC;\n",
              "    }\n",
              "\n",
              "    [theme=dark] .colab-df-convert:hover {\n",
              "      background-color: #434B5C;\n",
              "      box-shadow: 0px 1px 3px 1px rgba(0, 0, 0, 0.15);\n",
              "      filter: drop-shadow(0px 1px 2px rgba(0, 0, 0, 0.3));\n",
              "      fill: #FFFFFF;\n",
              "    }\n",
              "  </style>\n",
              "\n",
              "      <script>\n",
              "        const buttonEl =\n",
              "          document.querySelector('#df-34d47d6f-1c6e-4a21-b067-556f351deabb button.colab-df-convert');\n",
              "        buttonEl.style.display =\n",
              "          google.colab.kernel.accessAllowed ? 'block' : 'none';\n",
              "\n",
              "        async function convertToInteractive(key) {\n",
              "          const element = document.querySelector('#df-34d47d6f-1c6e-4a21-b067-556f351deabb');\n",
              "          const dataTable =\n",
              "            await google.colab.kernel.invokeFunction('convertToInteractive',\n",
              "                                                     [key], {});\n",
              "          if (!dataTable) return;\n",
              "\n",
              "          const docLinkHtml = 'Like what you see? Visit the ' +\n",
              "            '<a target=\"_blank\" href=https://colab.research.google.com/notebooks/data_table.ipynb>data table notebook</a>'\n",
              "            + ' to learn more about interactive tables.';\n",
              "          element.innerHTML = '';\n",
              "          dataTable['output_type'] = 'display_data';\n",
              "          await google.colab.output.renderOutput(dataTable, element);\n",
              "          const docLink = document.createElement('div');\n",
              "          docLink.innerHTML = docLinkHtml;\n",
              "          element.appendChild(docLink);\n",
              "        }\n",
              "      </script>\n",
              "    </div>\n",
              "  </div>\n",
              "  "
            ]
          },
          "metadata": {},
          "execution_count": 19
        }
      ]
    },
    {
      "cell_type": "code",
      "source": [
        "from sklearn.preprocessing import OneHotEncoder\n",
        "encoder = OneHotEncoder(handle_unknown='ignore')\n",
        "encoder_df = pd.DataFrame(encoder.fit_transform(df1[['Group']]).toarray())\n",
        "df1 = df1.join(encoder_df)"
      ],
      "metadata": {
        "id": "dSwLAk9luO5c"
      },
      "execution_count": 20,
      "outputs": []
    },
    {
      "cell_type": "code",
      "source": [
        "df1=df1.drop('Group',axis=1)"
      ],
      "metadata": {
        "id": "MayOKp_dyg3-"
      },
      "execution_count": 21,
      "outputs": []
    },
    {
      "cell_type": "code",
      "source": [
        "df1['label_code']=df1['label_code'].astype(int)"
      ],
      "metadata": {
        "id": "YWw-vcmdRPI9"
      },
      "execution_count": 22,
      "outputs": []
    },
    {
      "cell_type": "code",
      "source": [
        "def jaccard(a, b):\n",
        "    a = set((str(a)).split())\n",
        "    c = a.intersection(b)\n",
        "    return float(len(c)) / (len(a) + len(b) - len(c))"
      ],
      "metadata": {
        "id": "KhkbVGAtyjKg"
      },
      "execution_count": 23,
      "outputs": []
    },
    {
      "cell_type": "code",
      "source": [
        "def prod_label_recomm(x_counter):\n",
        "  # get label of asin\n",
        "  df_counter = df1.loc[df1['ASIN'] == x_counter]\n",
        "  x = int(df_counter['label_code'])\n",
        "  y = set((str(df_counter['Categories'])).split())\n",
        "  df_counter = df1.loc[df1['label_code'] == x]\n",
        "  df_counter = df_counter.loc[df_counter['AvgRating']>=4.5]\n",
        "  df_counter['score_cat_inter']= df_counter['Categories'].apply(lambda x: jaccard(x,y))\n",
        "  sorted_df = df_counter.sort_values([\"score_cat_inter\"], ascending=False)\n",
        "  return sorted_df[1:6]['ASIN'].tolist()\n"
      ],
      "metadata": {
        "id": "RE1Y5l7uylYv"
      },
      "execution_count": 24,
      "outputs": []
    },
    {
      "cell_type": "code",
      "source": [
        "df1.to_csv(\"/content/drive/MyDrive/BAJAJ/GNN_datasets/customer_insights_recommendations.csv\")"
      ],
      "metadata": {
        "id": "XlGoupwL5Wzi"
      },
      "execution_count": 25,
      "outputs": []
    },
    {
      "cell_type": "code",
      "source": [
        "X = prod_label_recomm('B00000AU3R')"
      ],
      "metadata": {
        "id": "fguxOsl9yJLY"
      },
      "execution_count": 26,
      "outputs": []
    },
    {
      "cell_type": "code",
      "source": [
        ""
      ],
      "metadata": {
        "id": "Hb-1fp-N1i0k"
      },
      "execution_count": null,
      "outputs": []
    }
  ],
  "metadata": {
    "colab": {
      "name": "HackRx30_Hackathon_June22_P4.ipynb",
      "provenance": [],
      "collapsed_sections": []
    },
    "kernelspec": {
      "display_name": "Python 3",
      "language": "python",
      "name": "python3"
    },
    "language_info": {
      "codemirror_mode": {
        "name": "ipython",
        "version": 3
      },
      "file_extension": ".py",
      "mimetype": "text/x-python",
      "name": "python",
      "nbconvert_exporter": "python",
      "pygments_lexer": "ipython3",
      "version": "3.8.5"
    }
  },
  "nbformat": 4,
  "nbformat_minor": 0
}