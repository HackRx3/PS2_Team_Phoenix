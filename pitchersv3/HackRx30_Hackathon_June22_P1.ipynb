{
  "cells": [
    {
      "cell_type": "markdown",
      "source": [
        "#Recommendation of Product on the basis of Feature Extracted from the product details and the co-purchases made"
      ],
      "metadata": {
        "id": "-Cu06W1doRhF"
      }
    },
    {
      "cell_type": "markdown",
      "source": [
        "##1. Data Extraction from unstructured text dataset into structured dataframe"
      ],
      "metadata": {
        "id": "EkpKrO8pX7-F"
      }
    },
    {
      "cell_type": "code",
      "source": [
        "from google.colab import drive\n",
        "drive.mount('/content/drive')"
      ],
      "metadata": {
        "colab": {
          "base_uri": "https://localhost:8080/"
        },
        "id": "MEYkZFMvYVEs",
        "outputId": "52e50203-c47e-4b49-e234-ae4ab4a2fdb0"
      },
      "execution_count": 3,
      "outputs": [
        {
          "output_type": "stream",
          "name": "stdout",
          "text": [
            "Drive already mounted at /content/drive; to attempt to forcibly remount, call drive.mount(\"/content/drive\", force_remount=True).\n"
          ]
        }
      ]
    },
    {
      "cell_type": "code",
      "execution_count": 4,
      "metadata": {
        "id": "tAK3E0dkYTMM"
      },
      "outputs": [],
      "source": [
        "import pandas as pd\n",
        "import re\n",
        "from pprint import pprint\n",
        "import networkx as nx\n",
        "import pandas as pd\n",
        "import numpy as np\n",
        "from matplotlib import pyplot as plt\n",
        "from sklearn.preprocessing import OneHotEncoder\n",
        "from sklearn.metrics.pairwise import cosine_similarity"
      ]
    },
    {
      "cell_type": "markdown",
      "source": [
        "### 1.1 Creating dataframe from meta dataset of products by iterating through text-file"
      ],
      "metadata": {
        "id": "HfhvebILG2dU"
      }
    },
    {
      "cell_type": "code",
      "execution_count": 5,
      "metadata": {
        "id": "_ZjJyX1BYTMO"
      },
      "outputs": [],
      "source": [
        "filepath = '/content/drive/MyDrive/BAJAJ/GNN_datasets/amazon-meta.txt'\n",
        "text = open(filepath, 'r', encoding = 'utf-8')"
      ]
    },
    {
      "cell_type": "code",
      "execution_count": 6,
      "metadata": {
        "id": "ooCB46DOYTMO"
      },
      "outputs": [],
      "source": [
        "Ids = []\n",
        "ASINs = []\n",
        "titles =[]\n",
        "salesranks = []\n",
        "similars = []\n",
        "num_categories = []\n",
        "groups = []\n",
        "categories = []\n",
        "reviews = []\n",
        "reviewinfo = []\n",
        "lc = 0\n",
        "for line in text:\n",
        "    lastcat = False\n",
        "    lastrev = False\n",
        "    categoies =[]\n",
        "    lineelements = line.split(':')\n",
        "    lineelements = [x.strip() for x in lineelements]\n",
        "    if 'Id' == lineelements[0]:\n",
        "        Ids.append(lineelements[1])\n",
        "    elif 'ASIN' == lineelements[0]:\n",
        "        ASINs.append(lineelements[1])\n",
        "    elif 'discontinued product' in lineelements:\n",
        "        Ids.pop(-1)\n",
        "        ASINs.pop(-1)\n",
        "    elif 'title' == lineelements[0]:\n",
        "        titles.append(''.join(lineelements[1]))\n",
        "    elif 'group' == lineelements[0]:\n",
        "        groups.append(lineelements[1])\n",
        "    elif 'salesrank' == lineelements[0]:\n",
        "        salesranks.append(lineelements[1])\n",
        "    elif 'similar' == lineelements[0]:\n",
        "        lineelements.pop(0)\n",
        "        element = ' '.join(lineelements)\n",
        "        similars.append(element)\n",
        "        \n",
        "    elif 'categories' == lineelements[0]:\n",
        "        num_categories.append(lineelements[1])\n",
        "        lastcat = True\n",
        "        cats = []\n",
        "        cnt = 0\n",
        "        for i in range(int(lineelements[1])):\n",
        "            l = text.readline()\n",
        "            cats.append('|'.join(l.split('|')[2:]).strip())\n",
        "        categories.append(cats)\n",
        "    elif 'reviews' == lineelements[0]:\n",
        "        review = ':'.join(lineelements[1:]).strip()\n",
        "        reviews.append(review)\n",
        "        sub = review.split()\n",
        "        subsub = [x.split(':') for x in sub]\n",
        "        r = []\n",
        "        for i in range(int(subsub[1][1])):\n",
        "            l = text.readline()\n",
        "            r.append(l)\n",
        "        reviewinfo.append(r)"
      ]
    },
    {
      "cell_type": "code",
      "execution_count": 7,
      "metadata": {
        "id": "t7bXeXWZYTMQ"
      },
      "outputs": [],
      "source": [
        "data = {'ID':Ids, \n",
        "        'ASIN':ASINs, \n",
        "        'title':titles, \n",
        "        'group':groups, \n",
        "        'salesrank':salesranks, \n",
        "        'similar':similars, \n",
        "        'num_categories':num_categories, \n",
        "        'categories':categories,\n",
        "        'review':reviews, \n",
        "        'reviewinfo':reviewinfo}"
      ]
    },
    {
      "cell_type": "code",
      "execution_count": 8,
      "metadata": {
        "scrolled": true,
        "id": "M-rW8AuIYTMQ"
      },
      "outputs": [],
      "source": [
        "df = pd.DataFrame(data)"
      ]
    },
    {
      "cell_type": "code",
      "execution_count": 9,
      "metadata": {
        "colab": {
          "base_uri": "https://localhost:8080/",
          "height": 337
        },
        "id": "PfZuuQCRYTMR",
        "outputId": "b74473d7-9798-4b3c-ee59-3e8a4664bdf0"
      },
      "outputs": [
        {
          "output_type": "execute_result",
          "data": {
            "text/plain": [
              "  ID        ASIN                                             title group  \\\n",
              "0  1  0827229534                             Patterns of Preaching  Book   \n",
              "1  2  0738700797                                         Candlemas  Book   \n",
              "2  3  0486287785  World War II Allied Fighter Planes Trading Cards  Book   \n",
              "3  4  0842328327                 Life Application Bible Commentary  Book   \n",
              "4  5  1577943082              Prayers That Avail Much for Business  Book   \n",
              "\n",
              "  salesrank                                            similar num_categories  \\\n",
              "0    396585  5  0804215715  156101074X  0687023955  0687074...              2   \n",
              "1    168596  5  0738700827  1567184960  1567182836  0738700...              2   \n",
              "2   1270652                                                  0              1   \n",
              "3    631289  5  0842328130  0830818138  0842330313  0842328...              5   \n",
              "4    455160  5  157794349X  0892749504  1577941829  0892749...              2   \n",
              "\n",
              "                                          categories  \\\n",
              "0  [Subjects[1000]|Religion & Spirituality[22]|Ch...   \n",
              "1  [Subjects[1000]|Religion & Spirituality[22]|Ea...   \n",
              "2  [Subjects[1000]|Home & Garden[48]|Crafts & Hob...   \n",
              "3  [Subjects[1000]|Religion & Spirituality[22]|Ch...   \n",
              "4  [Subjects[1000]|Religion & Spirituality[22]|Ch...   \n",
              "\n",
              "                                    review  \\\n",
              "0      total:2  downloaded:2  avg rating:5   \n",
              "1  total:12  downloaded:12  avg rating:4.5   \n",
              "2      total:1  downloaded:1  avg rating:5   \n",
              "3      total:1  downloaded:1  avg rating:4   \n",
              "4      total:0  downloaded:0  avg rating:0   \n",
              "\n",
              "                                          reviewinfo  \n",
              "0  [    2000-7-28  cutomer: A2JW67OY8U6HHK  ratin...  \n",
              "1  [    2001-12-16  cutomer: A11NCO6YTE4BTJ  rati...  \n",
              "2  [    2003-7-10  cutomer: A3IDGASRQAW8B2  ratin...  \n",
              "3  [    2004-8-19  cutomer: A2591BUPXCS705  ratin...  \n",
              "4                                                 []  "
            ],
            "text/html": [
              "\n",
              "  <div id=\"df-82f8ca8a-69e1-4b1d-9315-7a9a4855e453\">\n",
              "    <div class=\"colab-df-container\">\n",
              "      <div>\n",
              "<style scoped>\n",
              "    .dataframe tbody tr th:only-of-type {\n",
              "        vertical-align: middle;\n",
              "    }\n",
              "\n",
              "    .dataframe tbody tr th {\n",
              "        vertical-align: top;\n",
              "    }\n",
              "\n",
              "    .dataframe thead th {\n",
              "        text-align: right;\n",
              "    }\n",
              "</style>\n",
              "<table border=\"1\" class=\"dataframe\">\n",
              "  <thead>\n",
              "    <tr style=\"text-align: right;\">\n",
              "      <th></th>\n",
              "      <th>ID</th>\n",
              "      <th>ASIN</th>\n",
              "      <th>title</th>\n",
              "      <th>group</th>\n",
              "      <th>salesrank</th>\n",
              "      <th>similar</th>\n",
              "      <th>num_categories</th>\n",
              "      <th>categories</th>\n",
              "      <th>review</th>\n",
              "      <th>reviewinfo</th>\n",
              "    </tr>\n",
              "  </thead>\n",
              "  <tbody>\n",
              "    <tr>\n",
              "      <th>0</th>\n",
              "      <td>1</td>\n",
              "      <td>0827229534</td>\n",
              "      <td>Patterns of Preaching</td>\n",
              "      <td>Book</td>\n",
              "      <td>396585</td>\n",
              "      <td>5  0804215715  156101074X  0687023955  0687074...</td>\n",
              "      <td>2</td>\n",
              "      <td>[Subjects[1000]|Religion &amp; Spirituality[22]|Ch...</td>\n",
              "      <td>total:2  downloaded:2  avg rating:5</td>\n",
              "      <td>[    2000-7-28  cutomer: A2JW67OY8U6HHK  ratin...</td>\n",
              "    </tr>\n",
              "    <tr>\n",
              "      <th>1</th>\n",
              "      <td>2</td>\n",
              "      <td>0738700797</td>\n",
              "      <td>Candlemas</td>\n",
              "      <td>Book</td>\n",
              "      <td>168596</td>\n",
              "      <td>5  0738700827  1567184960  1567182836  0738700...</td>\n",
              "      <td>2</td>\n",
              "      <td>[Subjects[1000]|Religion &amp; Spirituality[22]|Ea...</td>\n",
              "      <td>total:12  downloaded:12  avg rating:4.5</td>\n",
              "      <td>[    2001-12-16  cutomer: A11NCO6YTE4BTJ  rati...</td>\n",
              "    </tr>\n",
              "    <tr>\n",
              "      <th>2</th>\n",
              "      <td>3</td>\n",
              "      <td>0486287785</td>\n",
              "      <td>World War II Allied Fighter Planes Trading Cards</td>\n",
              "      <td>Book</td>\n",
              "      <td>1270652</td>\n",
              "      <td>0</td>\n",
              "      <td>1</td>\n",
              "      <td>[Subjects[1000]|Home &amp; Garden[48]|Crafts &amp; Hob...</td>\n",
              "      <td>total:1  downloaded:1  avg rating:5</td>\n",
              "      <td>[    2003-7-10  cutomer: A3IDGASRQAW8B2  ratin...</td>\n",
              "    </tr>\n",
              "    <tr>\n",
              "      <th>3</th>\n",
              "      <td>4</td>\n",
              "      <td>0842328327</td>\n",
              "      <td>Life Application Bible Commentary</td>\n",
              "      <td>Book</td>\n",
              "      <td>631289</td>\n",
              "      <td>5  0842328130  0830818138  0842330313  0842328...</td>\n",
              "      <td>5</td>\n",
              "      <td>[Subjects[1000]|Religion &amp; Spirituality[22]|Ch...</td>\n",
              "      <td>total:1  downloaded:1  avg rating:4</td>\n",
              "      <td>[    2004-8-19  cutomer: A2591BUPXCS705  ratin...</td>\n",
              "    </tr>\n",
              "    <tr>\n",
              "      <th>4</th>\n",
              "      <td>5</td>\n",
              "      <td>1577943082</td>\n",
              "      <td>Prayers That Avail Much for Business</td>\n",
              "      <td>Book</td>\n",
              "      <td>455160</td>\n",
              "      <td>5  157794349X  0892749504  1577941829  0892749...</td>\n",
              "      <td>2</td>\n",
              "      <td>[Subjects[1000]|Religion &amp; Spirituality[22]|Ch...</td>\n",
              "      <td>total:0  downloaded:0  avg rating:0</td>\n",
              "      <td>[]</td>\n",
              "    </tr>\n",
              "  </tbody>\n",
              "</table>\n",
              "</div>\n",
              "      <button class=\"colab-df-convert\" onclick=\"convertToInteractive('df-82f8ca8a-69e1-4b1d-9315-7a9a4855e453')\"\n",
              "              title=\"Convert this dataframe to an interactive table.\"\n",
              "              style=\"display:none;\">\n",
              "        \n",
              "  <svg xmlns=\"http://www.w3.org/2000/svg\" height=\"24px\"viewBox=\"0 0 24 24\"\n",
              "       width=\"24px\">\n",
              "    <path d=\"M0 0h24v24H0V0z\" fill=\"none\"/>\n",
              "    <path d=\"M18.56 5.44l.94 2.06.94-2.06 2.06-.94-2.06-.94-.94-2.06-.94 2.06-2.06.94zm-11 1L8.5 8.5l.94-2.06 2.06-.94-2.06-.94L8.5 2.5l-.94 2.06-2.06.94zm10 10l.94 2.06.94-2.06 2.06-.94-2.06-.94-.94-2.06-.94 2.06-2.06.94z\"/><path d=\"M17.41 7.96l-1.37-1.37c-.4-.4-.92-.59-1.43-.59-.52 0-1.04.2-1.43.59L10.3 9.45l-7.72 7.72c-.78.78-.78 2.05 0 2.83L4 21.41c.39.39.9.59 1.41.59.51 0 1.02-.2 1.41-.59l7.78-7.78 2.81-2.81c.8-.78.8-2.07 0-2.86zM5.41 20L4 18.59l7.72-7.72 1.47 1.35L5.41 20z\"/>\n",
              "  </svg>\n",
              "      </button>\n",
              "      \n",
              "  <style>\n",
              "    .colab-df-container {\n",
              "      display:flex;\n",
              "      flex-wrap:wrap;\n",
              "      gap: 12px;\n",
              "    }\n",
              "\n",
              "    .colab-df-convert {\n",
              "      background-color: #E8F0FE;\n",
              "      border: none;\n",
              "      border-radius: 50%;\n",
              "      cursor: pointer;\n",
              "      display: none;\n",
              "      fill: #1967D2;\n",
              "      height: 32px;\n",
              "      padding: 0 0 0 0;\n",
              "      width: 32px;\n",
              "    }\n",
              "\n",
              "    .colab-df-convert:hover {\n",
              "      background-color: #E2EBFA;\n",
              "      box-shadow: 0px 1px 2px rgba(60, 64, 67, 0.3), 0px 1px 3px 1px rgba(60, 64, 67, 0.15);\n",
              "      fill: #174EA6;\n",
              "    }\n",
              "\n",
              "    [theme=dark] .colab-df-convert {\n",
              "      background-color: #3B4455;\n",
              "      fill: #D2E3FC;\n",
              "    }\n",
              "\n",
              "    [theme=dark] .colab-df-convert:hover {\n",
              "      background-color: #434B5C;\n",
              "      box-shadow: 0px 1px 3px 1px rgba(0, 0, 0, 0.15);\n",
              "      filter: drop-shadow(0px 1px 2px rgba(0, 0, 0, 0.3));\n",
              "      fill: #FFFFFF;\n",
              "    }\n",
              "  </style>\n",
              "\n",
              "      <script>\n",
              "        const buttonEl =\n",
              "          document.querySelector('#df-82f8ca8a-69e1-4b1d-9315-7a9a4855e453 button.colab-df-convert');\n",
              "        buttonEl.style.display =\n",
              "          google.colab.kernel.accessAllowed ? 'block' : 'none';\n",
              "\n",
              "        async function convertToInteractive(key) {\n",
              "          const element = document.querySelector('#df-82f8ca8a-69e1-4b1d-9315-7a9a4855e453');\n",
              "          const dataTable =\n",
              "            await google.colab.kernel.invokeFunction('convertToInteractive',\n",
              "                                                     [key], {});\n",
              "          if (!dataTable) return;\n",
              "\n",
              "          const docLinkHtml = 'Like what you see? Visit the ' +\n",
              "            '<a target=\"_blank\" href=https://colab.research.google.com/notebooks/data_table.ipynb>data table notebook</a>'\n",
              "            + ' to learn more about interactive tables.';\n",
              "          element.innerHTML = '';\n",
              "          dataTable['output_type'] = 'display_data';\n",
              "          await google.colab.output.renderOutput(dataTable, element);\n",
              "          const docLink = document.createElement('div');\n",
              "          docLink.innerHTML = docLinkHtml;\n",
              "          element.appendChild(docLink);\n",
              "        }\n",
              "      </script>\n",
              "    </div>\n",
              "  </div>\n",
              "  "
            ]
          },
          "metadata": {},
          "execution_count": 9
        }
      ],
      "source": [
        "df.head()"
      ]
    },
    {
      "cell_type": "markdown",
      "source": [
        "####Saving features extracted from the dataset for future use-cases"
      ],
      "metadata": {
        "id": "k0Se2Ue7ZcH0"
      }
    },
    {
      "cell_type": "code",
      "source": [
        "df.to_csv('/content/drive/MyDrive/BAJAJ/GNN_datasets/extracteddata.csv')"
      ],
      "metadata": {
        "id": "3lvmJV1gHKMx"
      },
      "execution_count": 10,
      "outputs": []
    },
    {
      "cell_type": "markdown",
      "source": [
        "### 1.2. Feature Extraction and Dataset Creation "
      ],
      "metadata": {
        "id": "242fRNuoHnbJ"
      }
    },
    {
      "cell_type": "code",
      "source": [
        "%%bash\n",
        "!pip install fsspec\n",
        "pip install dask[dataframe]"
      ],
      "metadata": {
        "colab": {
          "base_uri": "https://localhost:8080/"
        },
        "id": "_G9IUP2R-k6l",
        "outputId": "8a142a04-c207-4a1b-c5bf-734f390b0184"
      },
      "execution_count": 11,
      "outputs": [
        {
          "output_type": "stream",
          "name": "stdout",
          "text": [
            "Looking in indexes: https://pypi.org/simple, https://us-python.pkg.dev/colab-wheels/public/simple/\n",
            "Requirement already satisfied: dask[dataframe] in /usr/local/lib/python3.7/dist-packages (2.12.0)\n",
            "Requirement already satisfied: pandas>=0.23.0 in /usr/local/lib/python3.7/dist-packages (from dask[dataframe]) (1.3.5)\n",
            "Collecting partd>=0.3.10\n",
            "  Downloading partd-1.2.0-py3-none-any.whl (19 kB)\n",
            "Requirement already satisfied: toolz>=0.7.3 in /usr/local/lib/python3.7/dist-packages (from dask[dataframe]) (0.11.2)\n",
            "Collecting fsspec>=0.6.0\n",
            "  Downloading fsspec-2022.5.0-py3-none-any.whl (140 kB)\n",
            "Requirement already satisfied: numpy>=1.13.0 in /usr/local/lib/python3.7/dist-packages (from dask[dataframe]) (1.21.6)\n",
            "Requirement already satisfied: python-dateutil>=2.7.3 in /usr/local/lib/python3.7/dist-packages (from pandas>=0.23.0->dask[dataframe]) (2.8.2)\n",
            "Requirement already satisfied: pytz>=2017.3 in /usr/local/lib/python3.7/dist-packages (from pandas>=0.23.0->dask[dataframe]) (2022.1)\n",
            "Collecting locket\n",
            "  Downloading locket-1.0.0-py2.py3-none-any.whl (4.4 kB)\n",
            "Requirement already satisfied: six>=1.5 in /usr/local/lib/python3.7/dist-packages (from python-dateutil>=2.7.3->pandas>=0.23.0->dask[dataframe]) (1.15.0)\n",
            "Installing collected packages: locket, partd, fsspec\n",
            "Successfully installed fsspec-2022.5.0 locket-1.0.0 partd-1.2.0\n"
          ]
        },
        {
          "output_type": "stream",
          "name": "stderr",
          "text": [
            "bash: line 1: !pip: command not found\n"
          ]
        }
      ]
    },
    {
      "cell_type": "code",
      "source": [
        "import dask.dataframe as dd"
      ],
      "metadata": {
        "id": "XaDfS7mx_p5N"
      },
      "execution_count": 12,
      "outputs": []
    },
    {
      "cell_type": "markdown",
      "source": [
        "##### Helper Functions"
      ],
      "metadata": {
        "id": "dds-4cIeYbQp"
      }
    },
    {
      "cell_type": "code",
      "source": [
        "def extractrating(x):\n",
        "    reviewsplit = x['review'].split()\n",
        "    y = float(reviewsplit[3].split(':')[1])\n",
        "    return y"
      ],
      "metadata": {
        "id": "gX2Lmf_UwKMr"
      },
      "execution_count": 13,
      "outputs": []
    },
    {
      "cell_type": "code",
      "source": [
        "def extractdownloads(x):\n",
        "    reviewsplit = x['review'].split()\n",
        "    num = int(reviewsplit[1].split(':')[1])\n",
        "    return num"
      ],
      "metadata": {
        "id": "N-MOvcS9DIBK"
      },
      "execution_count": 14,
      "outputs": []
    },
    {
      "cell_type": "code",
      "source": [
        "def extracttotal(x):\n",
        "    reviewsplit = x['review'].split()\n",
        "    num = int(reviewsplit[0].split(':')[1])\n",
        "    return num"
      ],
      "metadata": {
        "id": "sC45iLlBdPaf"
      },
      "execution_count": 15,
      "outputs": []
    },
    {
      "cell_type": "code",
      "source": [
        "df = dd.read_csv('/content/drive/MyDrive/BAJAJ/GNN_datasets/extracteddata.csv').set_index('Unnamed: 0')"
      ],
      "metadata": {
        "id": "BOLJw9eWHSVW"
      },
      "execution_count": 16,
      "outputs": []
    },
    {
      "cell_type": "markdown",
      "source": [
        "#### Using Dask for handling large scale data pre-processing using capabilities of parallel processing"
      ],
      "metadata": {
        "id": "Mx9OYIG0Ygx8"
      }
    },
    {
      "cell_type": "code",
      "source": [
        "df1 = df.copy()\n",
        "df1['totalreviews'] = df1.apply(extracttotal, axis =1, meta = ('totalreviews', 'i8'))\n",
        "df1['downloadedreviews'] = df1.apply(extractdownloads, axis = 1, meta = ('downloadedreviews', 'i8'))\n",
        "df1['avg_rating'] = df1.apply(extractrating, axis = 1, meta = ('avg_rating', 'i8'))\n",
        "df1 = df1.drop('review', axis = 1)\n",
        "df1 = df1.reset_index().drop('Unnamed: 0', axis = 1)\n",
        "df1.ID = df1.ID.astype('int64')\n",
        "df1.salesrank = df1.salesrank.astype('int64')\n",
        "df1.num_categories = df1.num_categories.astype('int64')\n",
        "df1.head()"
      ],
      "metadata": {
        "id": "z3SJlyz6XXT-",
        "colab": {
          "base_uri": "https://localhost:8080/",
          "height": 337
        },
        "outputId": "e4ff573b-71d3-446e-837d-53bbfb749c5d"
      },
      "execution_count": 17,
      "outputs": [
        {
          "output_type": "execute_result",
          "data": {
            "text/plain": [
              "   ID        ASIN                                             title group  \\\n",
              "0   1  0827229534                             Patterns of Preaching  Book   \n",
              "1   2  0738700797                                         Candlemas  Book   \n",
              "2   3  0486287785  World War II Allied Fighter Planes Trading Cards  Book   \n",
              "3   4  0842328327                 Life Application Bible Commentary  Book   \n",
              "4   5  1577943082              Prayers That Avail Much for Business  Book   \n",
              "\n",
              "   salesrank                                            similar  \\\n",
              "0     396585  5  0804215715  156101074X  0687023955  0687074...   \n",
              "1     168596  5  0738700827  1567184960  1567182836  0738700...   \n",
              "2    1270652                                                  0   \n",
              "3     631289  5  0842328130  0830818138  0842330313  0842328...   \n",
              "4     455160  5  157794349X  0892749504  1577941829  0892749...   \n",
              "\n",
              "   num_categories                                         categories  \\\n",
              "0               2  ['Subjects[1000]|Religion & Spirituality[22]|C...   \n",
              "1               2  ['Subjects[1000]|Religion & Spirituality[22]|E...   \n",
              "2               1  ['Subjects[1000]|Home & Garden[48]|Crafts & Ho...   \n",
              "3               5  ['Subjects[1000]|Religion & Spirituality[22]|C...   \n",
              "4               2  ['Subjects[1000]|Religion & Spirituality[22]|C...   \n",
              "\n",
              "                                          reviewinfo  totalreviews  \\\n",
              "0  ['    2000-7-28  cutomer: A2JW67OY8U6HHK  rati...             2   \n",
              "1  ['    2001-12-16  cutomer: A11NCO6YTE4BTJ  rat...            12   \n",
              "2  ['    2003-7-10  cutomer: A3IDGASRQAW8B2  rati...             1   \n",
              "3  ['    2004-8-19  cutomer: A2591BUPXCS705  rati...             1   \n",
              "4                                                 []             0   \n",
              "\n",
              "   downloadedreviews  avg_rating  \n",
              "0                  2         5.0  \n",
              "1                 12         4.5  \n",
              "2                  1         5.0  \n",
              "3                  1         4.0  \n",
              "4                  0         0.0  "
            ],
            "text/html": [
              "\n",
              "  <div id=\"df-4a3bc68a-f5d2-4669-9088-6dd9ddfb0140\">\n",
              "    <div class=\"colab-df-container\">\n",
              "      <div>\n",
              "<style scoped>\n",
              "    .dataframe tbody tr th:only-of-type {\n",
              "        vertical-align: middle;\n",
              "    }\n",
              "\n",
              "    .dataframe tbody tr th {\n",
              "        vertical-align: top;\n",
              "    }\n",
              "\n",
              "    .dataframe thead th {\n",
              "        text-align: right;\n",
              "    }\n",
              "</style>\n",
              "<table border=\"1\" class=\"dataframe\">\n",
              "  <thead>\n",
              "    <tr style=\"text-align: right;\">\n",
              "      <th></th>\n",
              "      <th>ID</th>\n",
              "      <th>ASIN</th>\n",
              "      <th>title</th>\n",
              "      <th>group</th>\n",
              "      <th>salesrank</th>\n",
              "      <th>similar</th>\n",
              "      <th>num_categories</th>\n",
              "      <th>categories</th>\n",
              "      <th>reviewinfo</th>\n",
              "      <th>totalreviews</th>\n",
              "      <th>downloadedreviews</th>\n",
              "      <th>avg_rating</th>\n",
              "    </tr>\n",
              "  </thead>\n",
              "  <tbody>\n",
              "    <tr>\n",
              "      <th>0</th>\n",
              "      <td>1</td>\n",
              "      <td>0827229534</td>\n",
              "      <td>Patterns of Preaching</td>\n",
              "      <td>Book</td>\n",
              "      <td>396585</td>\n",
              "      <td>5  0804215715  156101074X  0687023955  0687074...</td>\n",
              "      <td>2</td>\n",
              "      <td>['Subjects[1000]|Religion &amp; Spirituality[22]|C...</td>\n",
              "      <td>['    2000-7-28  cutomer: A2JW67OY8U6HHK  rati...</td>\n",
              "      <td>2</td>\n",
              "      <td>2</td>\n",
              "      <td>5.0</td>\n",
              "    </tr>\n",
              "    <tr>\n",
              "      <th>1</th>\n",
              "      <td>2</td>\n",
              "      <td>0738700797</td>\n",
              "      <td>Candlemas</td>\n",
              "      <td>Book</td>\n",
              "      <td>168596</td>\n",
              "      <td>5  0738700827  1567184960  1567182836  0738700...</td>\n",
              "      <td>2</td>\n",
              "      <td>['Subjects[1000]|Religion &amp; Spirituality[22]|E...</td>\n",
              "      <td>['    2001-12-16  cutomer: A11NCO6YTE4BTJ  rat...</td>\n",
              "      <td>12</td>\n",
              "      <td>12</td>\n",
              "      <td>4.5</td>\n",
              "    </tr>\n",
              "    <tr>\n",
              "      <th>2</th>\n",
              "      <td>3</td>\n",
              "      <td>0486287785</td>\n",
              "      <td>World War II Allied Fighter Planes Trading Cards</td>\n",
              "      <td>Book</td>\n",
              "      <td>1270652</td>\n",
              "      <td>0</td>\n",
              "      <td>1</td>\n",
              "      <td>['Subjects[1000]|Home &amp; Garden[48]|Crafts &amp; Ho...</td>\n",
              "      <td>['    2003-7-10  cutomer: A3IDGASRQAW8B2  rati...</td>\n",
              "      <td>1</td>\n",
              "      <td>1</td>\n",
              "      <td>5.0</td>\n",
              "    </tr>\n",
              "    <tr>\n",
              "      <th>3</th>\n",
              "      <td>4</td>\n",
              "      <td>0842328327</td>\n",
              "      <td>Life Application Bible Commentary</td>\n",
              "      <td>Book</td>\n",
              "      <td>631289</td>\n",
              "      <td>5  0842328130  0830818138  0842330313  0842328...</td>\n",
              "      <td>5</td>\n",
              "      <td>['Subjects[1000]|Religion &amp; Spirituality[22]|C...</td>\n",
              "      <td>['    2004-8-19  cutomer: A2591BUPXCS705  rati...</td>\n",
              "      <td>1</td>\n",
              "      <td>1</td>\n",
              "      <td>4.0</td>\n",
              "    </tr>\n",
              "    <tr>\n",
              "      <th>4</th>\n",
              "      <td>5</td>\n",
              "      <td>1577943082</td>\n",
              "      <td>Prayers That Avail Much for Business</td>\n",
              "      <td>Book</td>\n",
              "      <td>455160</td>\n",
              "      <td>5  157794349X  0892749504  1577941829  0892749...</td>\n",
              "      <td>2</td>\n",
              "      <td>['Subjects[1000]|Religion &amp; Spirituality[22]|C...</td>\n",
              "      <td>[]</td>\n",
              "      <td>0</td>\n",
              "      <td>0</td>\n",
              "      <td>0.0</td>\n",
              "    </tr>\n",
              "  </tbody>\n",
              "</table>\n",
              "</div>\n",
              "      <button class=\"colab-df-convert\" onclick=\"convertToInteractive('df-4a3bc68a-f5d2-4669-9088-6dd9ddfb0140')\"\n",
              "              title=\"Convert this dataframe to an interactive table.\"\n",
              "              style=\"display:none;\">\n",
              "        \n",
              "  <svg xmlns=\"http://www.w3.org/2000/svg\" height=\"24px\"viewBox=\"0 0 24 24\"\n",
              "       width=\"24px\">\n",
              "    <path d=\"M0 0h24v24H0V0z\" fill=\"none\"/>\n",
              "    <path d=\"M18.56 5.44l.94 2.06.94-2.06 2.06-.94-2.06-.94-.94-2.06-.94 2.06-2.06.94zm-11 1L8.5 8.5l.94-2.06 2.06-.94-2.06-.94L8.5 2.5l-.94 2.06-2.06.94zm10 10l.94 2.06.94-2.06 2.06-.94-2.06-.94-.94-2.06-.94 2.06-2.06.94z\"/><path d=\"M17.41 7.96l-1.37-1.37c-.4-.4-.92-.59-1.43-.59-.52 0-1.04.2-1.43.59L10.3 9.45l-7.72 7.72c-.78.78-.78 2.05 0 2.83L4 21.41c.39.39.9.59 1.41.59.51 0 1.02-.2 1.41-.59l7.78-7.78 2.81-2.81c.8-.78.8-2.07 0-2.86zM5.41 20L4 18.59l7.72-7.72 1.47 1.35L5.41 20z\"/>\n",
              "  </svg>\n",
              "      </button>\n",
              "      \n",
              "  <style>\n",
              "    .colab-df-container {\n",
              "      display:flex;\n",
              "      flex-wrap:wrap;\n",
              "      gap: 12px;\n",
              "    }\n",
              "\n",
              "    .colab-df-convert {\n",
              "      background-color: #E8F0FE;\n",
              "      border: none;\n",
              "      border-radius: 50%;\n",
              "      cursor: pointer;\n",
              "      display: none;\n",
              "      fill: #1967D2;\n",
              "      height: 32px;\n",
              "      padding: 0 0 0 0;\n",
              "      width: 32px;\n",
              "    }\n",
              "\n",
              "    .colab-df-convert:hover {\n",
              "      background-color: #E2EBFA;\n",
              "      box-shadow: 0px 1px 2px rgba(60, 64, 67, 0.3), 0px 1px 3px 1px rgba(60, 64, 67, 0.15);\n",
              "      fill: #174EA6;\n",
              "    }\n",
              "\n",
              "    [theme=dark] .colab-df-convert {\n",
              "      background-color: #3B4455;\n",
              "      fill: #D2E3FC;\n",
              "    }\n",
              "\n",
              "    [theme=dark] .colab-df-convert:hover {\n",
              "      background-color: #434B5C;\n",
              "      box-shadow: 0px 1px 3px 1px rgba(0, 0, 0, 0.15);\n",
              "      filter: drop-shadow(0px 1px 2px rgba(0, 0, 0, 0.3));\n",
              "      fill: #FFFFFF;\n",
              "    }\n",
              "  </style>\n",
              "\n",
              "      <script>\n",
              "        const buttonEl =\n",
              "          document.querySelector('#df-4a3bc68a-f5d2-4669-9088-6dd9ddfb0140 button.colab-df-convert');\n",
              "        buttonEl.style.display =\n",
              "          google.colab.kernel.accessAllowed ? 'block' : 'none';\n",
              "\n",
              "        async function convertToInteractive(key) {\n",
              "          const element = document.querySelector('#df-4a3bc68a-f5d2-4669-9088-6dd9ddfb0140');\n",
              "          const dataTable =\n",
              "            await google.colab.kernel.invokeFunction('convertToInteractive',\n",
              "                                                     [key], {});\n",
              "          if (!dataTable) return;\n",
              "\n",
              "          const docLinkHtml = 'Like what you see? Visit the ' +\n",
              "            '<a target=\"_blank\" href=https://colab.research.google.com/notebooks/data_table.ipynb>data table notebook</a>'\n",
              "            + ' to learn more about interactive tables.';\n",
              "          element.innerHTML = '';\n",
              "          dataTable['output_type'] = 'display_data';\n",
              "          await google.colab.output.renderOutput(dataTable, element);\n",
              "          const docLink = document.createElement('div');\n",
              "          docLink.innerHTML = docLinkHtml;\n",
              "          element.appendChild(docLink);\n",
              "        }\n",
              "      </script>\n",
              "    </div>\n",
              "  </div>\n",
              "  "
            ]
          },
          "metadata": {},
          "execution_count": 17
        }
      ]
    },
    {
      "cell_type": "markdown",
      "source": [
        "#### Extracting Review Information identified by product Id"
      ],
      "metadata": {
        "id": "OVhG7GUfYse0"
      }
    },
    {
      "cell_type": "code",
      "source": [
        "df2 = df1[['ID', 'reviewinfo']].copy()\n",
        "df2.reviewinfo = df2.reviewinfo.str.strip('][').str.replace(\"'\", '').str.split(',')\n",
        "df2 = df2.explode('reviewinfo').reset_index()\n",
        "df2 = df2.drop(['index'], axis = 1)\n",
        "df1 = df1.drop('reviewinfo', axis = 1)\n",
        "df2.head()"
      ],
      "metadata": {
        "id": "38oRlDxj16qc",
        "colab": {
          "base_uri": "https://localhost:8080/",
          "height": 206
        },
        "outputId": "36e65d35-fb69-4c6a-a90b-59c3c5be7499"
      },
      "execution_count": 18,
      "outputs": [
        {
          "output_type": "execute_result",
          "data": {
            "text/plain": [
              "   ID                                         reviewinfo\n",
              "0   1      2000-7-28  cutomer: A2JW67OY8U6HHK  rating...\n",
              "1   1       2003-12-14  cutomer: A2VE83MZF98ITY  rati...\n",
              "2   2      2001-12-16  cutomer: A11NCO6YTE4BTJ  ratin...\n",
              "3   2       2002-1-7  cutomer:  A9CQ3PLRNIR83  rating...\n",
              "4   2       2002-1-24  cutomer: A13SG9ACZ9O5IM  ratin..."
            ],
            "text/html": [
              "\n",
              "  <div id=\"df-6dbc7ab0-196b-4ee7-9f50-b23b6c1296c4\">\n",
              "    <div class=\"colab-df-container\">\n",
              "      <div>\n",
              "<style scoped>\n",
              "    .dataframe tbody tr th:only-of-type {\n",
              "        vertical-align: middle;\n",
              "    }\n",
              "\n",
              "    .dataframe tbody tr th {\n",
              "        vertical-align: top;\n",
              "    }\n",
              "\n",
              "    .dataframe thead th {\n",
              "        text-align: right;\n",
              "    }\n",
              "</style>\n",
              "<table border=\"1\" class=\"dataframe\">\n",
              "  <thead>\n",
              "    <tr style=\"text-align: right;\">\n",
              "      <th></th>\n",
              "      <th>ID</th>\n",
              "      <th>reviewinfo</th>\n",
              "    </tr>\n",
              "  </thead>\n",
              "  <tbody>\n",
              "    <tr>\n",
              "      <th>0</th>\n",
              "      <td>1</td>\n",
              "      <td>2000-7-28  cutomer: A2JW67OY8U6HHK  rating...</td>\n",
              "    </tr>\n",
              "    <tr>\n",
              "      <th>1</th>\n",
              "      <td>1</td>\n",
              "      <td>2003-12-14  cutomer: A2VE83MZF98ITY  rati...</td>\n",
              "    </tr>\n",
              "    <tr>\n",
              "      <th>2</th>\n",
              "      <td>2</td>\n",
              "      <td>2001-12-16  cutomer: A11NCO6YTE4BTJ  ratin...</td>\n",
              "    </tr>\n",
              "    <tr>\n",
              "      <th>3</th>\n",
              "      <td>2</td>\n",
              "      <td>2002-1-7  cutomer:  A9CQ3PLRNIR83  rating...</td>\n",
              "    </tr>\n",
              "    <tr>\n",
              "      <th>4</th>\n",
              "      <td>2</td>\n",
              "      <td>2002-1-24  cutomer: A13SG9ACZ9O5IM  ratin...</td>\n",
              "    </tr>\n",
              "  </tbody>\n",
              "</table>\n",
              "</div>\n",
              "      <button class=\"colab-df-convert\" onclick=\"convertToInteractive('df-6dbc7ab0-196b-4ee7-9f50-b23b6c1296c4')\"\n",
              "              title=\"Convert this dataframe to an interactive table.\"\n",
              "              style=\"display:none;\">\n",
              "        \n",
              "  <svg xmlns=\"http://www.w3.org/2000/svg\" height=\"24px\"viewBox=\"0 0 24 24\"\n",
              "       width=\"24px\">\n",
              "    <path d=\"M0 0h24v24H0V0z\" fill=\"none\"/>\n",
              "    <path d=\"M18.56 5.44l.94 2.06.94-2.06 2.06-.94-2.06-.94-.94-2.06-.94 2.06-2.06.94zm-11 1L8.5 8.5l.94-2.06 2.06-.94-2.06-.94L8.5 2.5l-.94 2.06-2.06.94zm10 10l.94 2.06.94-2.06 2.06-.94-2.06-.94-.94-2.06-.94 2.06-2.06.94z\"/><path d=\"M17.41 7.96l-1.37-1.37c-.4-.4-.92-.59-1.43-.59-.52 0-1.04.2-1.43.59L10.3 9.45l-7.72 7.72c-.78.78-.78 2.05 0 2.83L4 21.41c.39.39.9.59 1.41.59.51 0 1.02-.2 1.41-.59l7.78-7.78 2.81-2.81c.8-.78.8-2.07 0-2.86zM5.41 20L4 18.59l7.72-7.72 1.47 1.35L5.41 20z\"/>\n",
              "  </svg>\n",
              "      </button>\n",
              "      \n",
              "  <style>\n",
              "    .colab-df-container {\n",
              "      display:flex;\n",
              "      flex-wrap:wrap;\n",
              "      gap: 12px;\n",
              "    }\n",
              "\n",
              "    .colab-df-convert {\n",
              "      background-color: #E8F0FE;\n",
              "      border: none;\n",
              "      border-radius: 50%;\n",
              "      cursor: pointer;\n",
              "      display: none;\n",
              "      fill: #1967D2;\n",
              "      height: 32px;\n",
              "      padding: 0 0 0 0;\n",
              "      width: 32px;\n",
              "    }\n",
              "\n",
              "    .colab-df-convert:hover {\n",
              "      background-color: #E2EBFA;\n",
              "      box-shadow: 0px 1px 2px rgba(60, 64, 67, 0.3), 0px 1px 3px 1px rgba(60, 64, 67, 0.15);\n",
              "      fill: #174EA6;\n",
              "    }\n",
              "\n",
              "    [theme=dark] .colab-df-convert {\n",
              "      background-color: #3B4455;\n",
              "      fill: #D2E3FC;\n",
              "    }\n",
              "\n",
              "    [theme=dark] .colab-df-convert:hover {\n",
              "      background-color: #434B5C;\n",
              "      box-shadow: 0px 1px 3px 1px rgba(0, 0, 0, 0.15);\n",
              "      filter: drop-shadow(0px 1px 2px rgba(0, 0, 0, 0.3));\n",
              "      fill: #FFFFFF;\n",
              "    }\n",
              "  </style>\n",
              "\n",
              "      <script>\n",
              "        const buttonEl =\n",
              "          document.querySelector('#df-6dbc7ab0-196b-4ee7-9f50-b23b6c1296c4 button.colab-df-convert');\n",
              "        buttonEl.style.display =\n",
              "          google.colab.kernel.accessAllowed ? 'block' : 'none';\n",
              "\n",
              "        async function convertToInteractive(key) {\n",
              "          const element = document.querySelector('#df-6dbc7ab0-196b-4ee7-9f50-b23b6c1296c4');\n",
              "          const dataTable =\n",
              "            await google.colab.kernel.invokeFunction('convertToInteractive',\n",
              "                                                     [key], {});\n",
              "          if (!dataTable) return;\n",
              "\n",
              "          const docLinkHtml = 'Like what you see? Visit the ' +\n",
              "            '<a target=\"_blank\" href=https://colab.research.google.com/notebooks/data_table.ipynb>data table notebook</a>'\n",
              "            + ' to learn more about interactive tables.';\n",
              "          element.innerHTML = '';\n",
              "          dataTable['output_type'] = 'display_data';\n",
              "          await google.colab.output.renderOutput(dataTable, element);\n",
              "          const docLink = document.createElement('div');\n",
              "          docLink.innerHTML = docLinkHtml;\n",
              "          element.appendChild(docLink);\n",
              "        }\n",
              "      </script>\n",
              "    </div>\n",
              "  </div>\n",
              "  "
            ]
          },
          "metadata": {},
          "execution_count": 18
        }
      ]
    },
    {
      "cell_type": "markdown",
      "source": [
        "#### Extracting Categories Information identified by product Id"
      ],
      "metadata": {
        "id": "gi5XtPsAY1k1"
      }
    },
    {
      "cell_type": "code",
      "source": [
        "df3 = df1[['ID', 'categories']].copy()\n",
        "df3['categories'] = df3.categories.str.strip('][').str.replace(\"'\", '').str.split(',')\n",
        "df3 = df3.explode('categories').reset_index()\n",
        "df3 = df3.drop('index', axis = 1)\n",
        "df1 = df1.drop(['categories'], axis = 1)\n",
        "df3.head()"
      ],
      "metadata": {
        "id": "3VED9MBlAvze",
        "colab": {
          "base_uri": "https://localhost:8080/",
          "height": 206
        },
        "outputId": "17d84cd9-2471-449e-9ef0-653d40b44fae"
      },
      "execution_count": 19,
      "outputs": [
        {
          "output_type": "execute_result",
          "data": {
            "text/plain": [
              "   ID                                         categories\n",
              "0   1  Subjects[1000]|Religion & Spirituality[22]|Chr...\n",
              "1   1   Subjects[1000]|Religion & Spirituality[22]|Ch...\n",
              "2   2  Subjects[1000]|Religion & Spirituality[22]|Ear...\n",
              "3   2   Subjects[1000]|Religion & Spirituality[22]|Ea...\n",
              "4   3  Subjects[1000]|Home & Garden[48]|Crafts & Hobb..."
            ],
            "text/html": [
              "\n",
              "  <div id=\"df-683f76bb-a489-4408-bb1b-de851fe9e694\">\n",
              "    <div class=\"colab-df-container\">\n",
              "      <div>\n",
              "<style scoped>\n",
              "    .dataframe tbody tr th:only-of-type {\n",
              "        vertical-align: middle;\n",
              "    }\n",
              "\n",
              "    .dataframe tbody tr th {\n",
              "        vertical-align: top;\n",
              "    }\n",
              "\n",
              "    .dataframe thead th {\n",
              "        text-align: right;\n",
              "    }\n",
              "</style>\n",
              "<table border=\"1\" class=\"dataframe\">\n",
              "  <thead>\n",
              "    <tr style=\"text-align: right;\">\n",
              "      <th></th>\n",
              "      <th>ID</th>\n",
              "      <th>categories</th>\n",
              "    </tr>\n",
              "  </thead>\n",
              "  <tbody>\n",
              "    <tr>\n",
              "      <th>0</th>\n",
              "      <td>1</td>\n",
              "      <td>Subjects[1000]|Religion &amp; Spirituality[22]|Chr...</td>\n",
              "    </tr>\n",
              "    <tr>\n",
              "      <th>1</th>\n",
              "      <td>1</td>\n",
              "      <td>Subjects[1000]|Religion &amp; Spirituality[22]|Ch...</td>\n",
              "    </tr>\n",
              "    <tr>\n",
              "      <th>2</th>\n",
              "      <td>2</td>\n",
              "      <td>Subjects[1000]|Religion &amp; Spirituality[22]|Ear...</td>\n",
              "    </tr>\n",
              "    <tr>\n",
              "      <th>3</th>\n",
              "      <td>2</td>\n",
              "      <td>Subjects[1000]|Religion &amp; Spirituality[22]|Ea...</td>\n",
              "    </tr>\n",
              "    <tr>\n",
              "      <th>4</th>\n",
              "      <td>3</td>\n",
              "      <td>Subjects[1000]|Home &amp; Garden[48]|Crafts &amp; Hobb...</td>\n",
              "    </tr>\n",
              "  </tbody>\n",
              "</table>\n",
              "</div>\n",
              "      <button class=\"colab-df-convert\" onclick=\"convertToInteractive('df-683f76bb-a489-4408-bb1b-de851fe9e694')\"\n",
              "              title=\"Convert this dataframe to an interactive table.\"\n",
              "              style=\"display:none;\">\n",
              "        \n",
              "  <svg xmlns=\"http://www.w3.org/2000/svg\" height=\"24px\"viewBox=\"0 0 24 24\"\n",
              "       width=\"24px\">\n",
              "    <path d=\"M0 0h24v24H0V0z\" fill=\"none\"/>\n",
              "    <path d=\"M18.56 5.44l.94 2.06.94-2.06 2.06-.94-2.06-.94-.94-2.06-.94 2.06-2.06.94zm-11 1L8.5 8.5l.94-2.06 2.06-.94-2.06-.94L8.5 2.5l-.94 2.06-2.06.94zm10 10l.94 2.06.94-2.06 2.06-.94-2.06-.94-.94-2.06-.94 2.06-2.06.94z\"/><path d=\"M17.41 7.96l-1.37-1.37c-.4-.4-.92-.59-1.43-.59-.52 0-1.04.2-1.43.59L10.3 9.45l-7.72 7.72c-.78.78-.78 2.05 0 2.83L4 21.41c.39.39.9.59 1.41.59.51 0 1.02-.2 1.41-.59l7.78-7.78 2.81-2.81c.8-.78.8-2.07 0-2.86zM5.41 20L4 18.59l7.72-7.72 1.47 1.35L5.41 20z\"/>\n",
              "  </svg>\n",
              "      </button>\n",
              "      \n",
              "  <style>\n",
              "    .colab-df-container {\n",
              "      display:flex;\n",
              "      flex-wrap:wrap;\n",
              "      gap: 12px;\n",
              "    }\n",
              "\n",
              "    .colab-df-convert {\n",
              "      background-color: #E8F0FE;\n",
              "      border: none;\n",
              "      border-radius: 50%;\n",
              "      cursor: pointer;\n",
              "      display: none;\n",
              "      fill: #1967D2;\n",
              "      height: 32px;\n",
              "      padding: 0 0 0 0;\n",
              "      width: 32px;\n",
              "    }\n",
              "\n",
              "    .colab-df-convert:hover {\n",
              "      background-color: #E2EBFA;\n",
              "      box-shadow: 0px 1px 2px rgba(60, 64, 67, 0.3), 0px 1px 3px 1px rgba(60, 64, 67, 0.15);\n",
              "      fill: #174EA6;\n",
              "    }\n",
              "\n",
              "    [theme=dark] .colab-df-convert {\n",
              "      background-color: #3B4455;\n",
              "      fill: #D2E3FC;\n",
              "    }\n",
              "\n",
              "    [theme=dark] .colab-df-convert:hover {\n",
              "      background-color: #434B5C;\n",
              "      box-shadow: 0px 1px 3px 1px rgba(0, 0, 0, 0.15);\n",
              "      filter: drop-shadow(0px 1px 2px rgba(0, 0, 0, 0.3));\n",
              "      fill: #FFFFFF;\n",
              "    }\n",
              "  </style>\n",
              "\n",
              "      <script>\n",
              "        const buttonEl =\n",
              "          document.querySelector('#df-683f76bb-a489-4408-bb1b-de851fe9e694 button.colab-df-convert');\n",
              "        buttonEl.style.display =\n",
              "          google.colab.kernel.accessAllowed ? 'block' : 'none';\n",
              "\n",
              "        async function convertToInteractive(key) {\n",
              "          const element = document.querySelector('#df-683f76bb-a489-4408-bb1b-de851fe9e694');\n",
              "          const dataTable =\n",
              "            await google.colab.kernel.invokeFunction('convertToInteractive',\n",
              "                                                     [key], {});\n",
              "          if (!dataTable) return;\n",
              "\n",
              "          const docLinkHtml = 'Like what you see? Visit the ' +\n",
              "            '<a target=\"_blank\" href=https://colab.research.google.com/notebooks/data_table.ipynb>data table notebook</a>'\n",
              "            + ' to learn more about interactive tables.';\n",
              "          element.innerHTML = '';\n",
              "          dataTable['output_type'] = 'display_data';\n",
              "          await google.colab.output.renderOutput(dataTable, element);\n",
              "          const docLink = document.createElement('div');\n",
              "          docLink.innerHTML = docLinkHtml;\n",
              "          element.appendChild(docLink);\n",
              "        }\n",
              "      </script>\n",
              "    </div>\n",
              "  </div>\n",
              "  "
            ]
          },
          "metadata": {},
          "execution_count": 19
        }
      ]
    },
    {
      "cell_type": "markdown",
      "source": [
        "#### Extracting Similar Products Information identified by product Id"
      ],
      "metadata": {
        "id": "HepJkSEJY4S-"
      }
    },
    {
      "cell_type": "code",
      "source": [
        "df4 = df1[['ID', 'similar']].copy()\n",
        "df4.similar = df4.similar.str.split()\n",
        "df4 = df4.reset_index().drop('index', axis =1)\n",
        "df1 = df1.drop('similar', axis = 1)\n",
        "df4.head()"
      ],
      "metadata": {
        "id": "XVezRR1-C5_s",
        "colab": {
          "base_uri": "https://localhost:8080/",
          "height": 206
        },
        "outputId": "d7dc12c1-381d-4737-ffbb-283a8924d8a8"
      },
      "execution_count": 20,
      "outputs": [
        {
          "output_type": "execute_result",
          "data": {
            "text/plain": [
              "   ID                                            similar\n",
              "0   1  [5, 0804215715, 156101074X, 0687023955, 068707...\n",
              "1   2  [5, 0738700827, 1567184960, 1567182836, 073870...\n",
              "2   3                                                [0]\n",
              "3   4  [5, 0842328130, 0830818138, 0842330313, 084232...\n",
              "4   5  [5, 157794349X, 0892749504, 1577941829, 089274..."
            ],
            "text/html": [
              "\n",
              "  <div id=\"df-11313121-c5d1-4051-9ef1-dcb489d18676\">\n",
              "    <div class=\"colab-df-container\">\n",
              "      <div>\n",
              "<style scoped>\n",
              "    .dataframe tbody tr th:only-of-type {\n",
              "        vertical-align: middle;\n",
              "    }\n",
              "\n",
              "    .dataframe tbody tr th {\n",
              "        vertical-align: top;\n",
              "    }\n",
              "\n",
              "    .dataframe thead th {\n",
              "        text-align: right;\n",
              "    }\n",
              "</style>\n",
              "<table border=\"1\" class=\"dataframe\">\n",
              "  <thead>\n",
              "    <tr style=\"text-align: right;\">\n",
              "      <th></th>\n",
              "      <th>ID</th>\n",
              "      <th>similar</th>\n",
              "    </tr>\n",
              "  </thead>\n",
              "  <tbody>\n",
              "    <tr>\n",
              "      <th>0</th>\n",
              "      <td>1</td>\n",
              "      <td>[5, 0804215715, 156101074X, 0687023955, 068707...</td>\n",
              "    </tr>\n",
              "    <tr>\n",
              "      <th>1</th>\n",
              "      <td>2</td>\n",
              "      <td>[5, 0738700827, 1567184960, 1567182836, 073870...</td>\n",
              "    </tr>\n",
              "    <tr>\n",
              "      <th>2</th>\n",
              "      <td>3</td>\n",
              "      <td>[0]</td>\n",
              "    </tr>\n",
              "    <tr>\n",
              "      <th>3</th>\n",
              "      <td>4</td>\n",
              "      <td>[5, 0842328130, 0830818138, 0842330313, 084232...</td>\n",
              "    </tr>\n",
              "    <tr>\n",
              "      <th>4</th>\n",
              "      <td>5</td>\n",
              "      <td>[5, 157794349X, 0892749504, 1577941829, 089274...</td>\n",
              "    </tr>\n",
              "  </tbody>\n",
              "</table>\n",
              "</div>\n",
              "      <button class=\"colab-df-convert\" onclick=\"convertToInteractive('df-11313121-c5d1-4051-9ef1-dcb489d18676')\"\n",
              "              title=\"Convert this dataframe to an interactive table.\"\n",
              "              style=\"display:none;\">\n",
              "        \n",
              "  <svg xmlns=\"http://www.w3.org/2000/svg\" height=\"24px\"viewBox=\"0 0 24 24\"\n",
              "       width=\"24px\">\n",
              "    <path d=\"M0 0h24v24H0V0z\" fill=\"none\"/>\n",
              "    <path d=\"M18.56 5.44l.94 2.06.94-2.06 2.06-.94-2.06-.94-.94-2.06-.94 2.06-2.06.94zm-11 1L8.5 8.5l.94-2.06 2.06-.94-2.06-.94L8.5 2.5l-.94 2.06-2.06.94zm10 10l.94 2.06.94-2.06 2.06-.94-2.06-.94-.94-2.06-.94 2.06-2.06.94z\"/><path d=\"M17.41 7.96l-1.37-1.37c-.4-.4-.92-.59-1.43-.59-.52 0-1.04.2-1.43.59L10.3 9.45l-7.72 7.72c-.78.78-.78 2.05 0 2.83L4 21.41c.39.39.9.59 1.41.59.51 0 1.02-.2 1.41-.59l7.78-7.78 2.81-2.81c.8-.78.8-2.07 0-2.86zM5.41 20L4 18.59l7.72-7.72 1.47 1.35L5.41 20z\"/>\n",
              "  </svg>\n",
              "      </button>\n",
              "      \n",
              "  <style>\n",
              "    .colab-df-container {\n",
              "      display:flex;\n",
              "      flex-wrap:wrap;\n",
              "      gap: 12px;\n",
              "    }\n",
              "\n",
              "    .colab-df-convert {\n",
              "      background-color: #E8F0FE;\n",
              "      border: none;\n",
              "      border-radius: 50%;\n",
              "      cursor: pointer;\n",
              "      display: none;\n",
              "      fill: #1967D2;\n",
              "      height: 32px;\n",
              "      padding: 0 0 0 0;\n",
              "      width: 32px;\n",
              "    }\n",
              "\n",
              "    .colab-df-convert:hover {\n",
              "      background-color: #E2EBFA;\n",
              "      box-shadow: 0px 1px 2px rgba(60, 64, 67, 0.3), 0px 1px 3px 1px rgba(60, 64, 67, 0.15);\n",
              "      fill: #174EA6;\n",
              "    }\n",
              "\n",
              "    [theme=dark] .colab-df-convert {\n",
              "      background-color: #3B4455;\n",
              "      fill: #D2E3FC;\n",
              "    }\n",
              "\n",
              "    [theme=dark] .colab-df-convert:hover {\n",
              "      background-color: #434B5C;\n",
              "      box-shadow: 0px 1px 3px 1px rgba(0, 0, 0, 0.15);\n",
              "      filter: drop-shadow(0px 1px 2px rgba(0, 0, 0, 0.3));\n",
              "      fill: #FFFFFF;\n",
              "    }\n",
              "  </style>\n",
              "\n",
              "      <script>\n",
              "        const buttonEl =\n",
              "          document.querySelector('#df-11313121-c5d1-4051-9ef1-dcb489d18676 button.colab-df-convert');\n",
              "        buttonEl.style.display =\n",
              "          google.colab.kernel.accessAllowed ? 'block' : 'none';\n",
              "\n",
              "        async function convertToInteractive(key) {\n",
              "          const element = document.querySelector('#df-11313121-c5d1-4051-9ef1-dcb489d18676');\n",
              "          const dataTable =\n",
              "            await google.colab.kernel.invokeFunction('convertToInteractive',\n",
              "                                                     [key], {});\n",
              "          if (!dataTable) return;\n",
              "\n",
              "          const docLinkHtml = 'Like what you see? Visit the ' +\n",
              "            '<a target=\"_blank\" href=https://colab.research.google.com/notebooks/data_table.ipynb>data table notebook</a>'\n",
              "            + ' to learn more about interactive tables.';\n",
              "          element.innerHTML = '';\n",
              "          dataTable['output_type'] = 'display_data';\n",
              "          await google.colab.output.renderOutput(dataTable, element);\n",
              "          const docLink = document.createElement('div');\n",
              "          docLink.innerHTML = docLinkHtml;\n",
              "          element.appendChild(docLink);\n",
              "        }\n",
              "      </script>\n",
              "    </div>\n",
              "  </div>\n",
              "  "
            ]
          },
          "metadata": {},
          "execution_count": 20
        }
      ]
    },
    {
      "cell_type": "markdown",
      "source": [
        "#### Saving Dataframes for further analysis"
      ],
      "metadata": {
        "id": "tGzeAojUY82f"
      }
    },
    {
      "cell_type": "code",
      "source": [
        "df1.compute().to_csv('/content/drive/MyDrive/finalpreprocesseddata.csv', index = False)\n",
        "df2.compute().to_csv('/content/drive/MyDrive/reviews.csv', index = False)\n",
        "df3.compute().to_csv('/content/drive/MyDrive/categories.csv', index = False)\n",
        "df4.compute().to_csv('/content/drive/MyDrive/similar.csv', index = False)"
      ],
      "metadata": {
        "id": "0JQiYYtuGZXt"
      },
      "execution_count": 21,
      "outputs": []
    },
    {
      "cell_type": "markdown",
      "source": [
        "## 2.Implementing a recommendation System based on the extracted features using Similarity Measures"
      ],
      "metadata": {
        "id": "NPFNnUMEhLtD"
      }
    },
    {
      "cell_type": "code",
      "source": [
        "from google.colab import drive\n",
        "drive.mount('/content/drive')"
      ],
      "metadata": {
        "colab": {
          "base_uri": "https://localhost:8080/"
        },
        "id": "fX39w9f-6RQ9",
        "outputId": "678b7dff-af7f-4657-cea6-a7ba4662848f"
      },
      "execution_count": 23,
      "outputs": [
        {
          "output_type": "stream",
          "name": "stdout",
          "text": [
            "Drive already mounted at /content/drive; to attempt to forcibly remount, call drive.mount(\"/content/drive\", force_remount=True).\n"
          ]
        }
      ]
    },
    {
      "cell_type": "markdown",
      "source": [
        "### Creating a Directed graph from the given edgelist"
      ],
      "metadata": {
        "id": "WoQc9JNIibAH"
      }
    },
    {
      "cell_type": "code",
      "execution_count": 25,
      "metadata": {
        "id": "bc2cffd0"
      },
      "outputs": [],
      "source": [
        "Graphtype = nx.DiGraph()\n",
        "filepath = 'drive/MyDrive/BAJAJ/GNN_datasets/amazon0601.txt'\n",
        "G = nx.read_edgelist(\n",
        "    filepath,\n",
        "    comments='#',\n",
        "    create_using=Graphtype,\n",
        "    nodetype=int\n",
        ")"
      ]
    },
    {
      "cell_type": "markdown",
      "source": [
        "#### Reading Metadata"
      ],
      "metadata": {
        "id": "X6LCZIe3igHL"
      }
    },
    {
      "cell_type": "code",
      "execution_count": 26,
      "metadata": {
        "id": "b87718d3"
      },
      "outputs": [],
      "source": [
        "df = pd.read_csv('drive/MyDrive/BAJAJ/GNN_datasets/finalpreprocesseddata.csv')"
      ]
    },
    {
      "cell_type": "code",
      "execution_count": 27,
      "metadata": {
        "colab": {
          "base_uri": "https://localhost:8080/",
          "height": 206
        },
        "id": "9ddd3d09",
        "outputId": "632ee8e3-bbb0-4385-f959-7b407224cd0c"
      },
      "outputs": [
        {
          "output_type": "execute_result",
          "data": {
            "text/plain": [
              "   ID        ASIN                                             title group  \\\n",
              "0   1  0827229534                             Patterns of Preaching  Book   \n",
              "1   2  0738700797                                         Candlemas  Book   \n",
              "2   3  0486287785  World War II Allied Fighter Planes Trading Cards  Book   \n",
              "3   4  0842328327                 Life Application Bible Commentary  Book   \n",
              "4   5  1577943082              Prayers That Avail Much for Business  Book   \n",
              "\n",
              "   salesrank  num_categories  totalreviews  downloadedreviews  avg_rating  \n",
              "0     396585               2             2                  2         5.0  \n",
              "1     168596               2            12                 12         4.5  \n",
              "2    1270652               1             1                  1         5.0  \n",
              "3     631289               5             1                  1         4.0  \n",
              "4     455160               2             0                  0         0.0  "
            ],
            "text/html": [
              "\n",
              "  <div id=\"df-1c77ac83-8fe2-4d12-8e33-59d22090997a\">\n",
              "    <div class=\"colab-df-container\">\n",
              "      <div>\n",
              "<style scoped>\n",
              "    .dataframe tbody tr th:only-of-type {\n",
              "        vertical-align: middle;\n",
              "    }\n",
              "\n",
              "    .dataframe tbody tr th {\n",
              "        vertical-align: top;\n",
              "    }\n",
              "\n",
              "    .dataframe thead th {\n",
              "        text-align: right;\n",
              "    }\n",
              "</style>\n",
              "<table border=\"1\" class=\"dataframe\">\n",
              "  <thead>\n",
              "    <tr style=\"text-align: right;\">\n",
              "      <th></th>\n",
              "      <th>ID</th>\n",
              "      <th>ASIN</th>\n",
              "      <th>title</th>\n",
              "      <th>group</th>\n",
              "      <th>salesrank</th>\n",
              "      <th>num_categories</th>\n",
              "      <th>totalreviews</th>\n",
              "      <th>downloadedreviews</th>\n",
              "      <th>avg_rating</th>\n",
              "    </tr>\n",
              "  </thead>\n",
              "  <tbody>\n",
              "    <tr>\n",
              "      <th>0</th>\n",
              "      <td>1</td>\n",
              "      <td>0827229534</td>\n",
              "      <td>Patterns of Preaching</td>\n",
              "      <td>Book</td>\n",
              "      <td>396585</td>\n",
              "      <td>2</td>\n",
              "      <td>2</td>\n",
              "      <td>2</td>\n",
              "      <td>5.0</td>\n",
              "    </tr>\n",
              "    <tr>\n",
              "      <th>1</th>\n",
              "      <td>2</td>\n",
              "      <td>0738700797</td>\n",
              "      <td>Candlemas</td>\n",
              "      <td>Book</td>\n",
              "      <td>168596</td>\n",
              "      <td>2</td>\n",
              "      <td>12</td>\n",
              "      <td>12</td>\n",
              "      <td>4.5</td>\n",
              "    </tr>\n",
              "    <tr>\n",
              "      <th>2</th>\n",
              "      <td>3</td>\n",
              "      <td>0486287785</td>\n",
              "      <td>World War II Allied Fighter Planes Trading Cards</td>\n",
              "      <td>Book</td>\n",
              "      <td>1270652</td>\n",
              "      <td>1</td>\n",
              "      <td>1</td>\n",
              "      <td>1</td>\n",
              "      <td>5.0</td>\n",
              "    </tr>\n",
              "    <tr>\n",
              "      <th>3</th>\n",
              "      <td>4</td>\n",
              "      <td>0842328327</td>\n",
              "      <td>Life Application Bible Commentary</td>\n",
              "      <td>Book</td>\n",
              "      <td>631289</td>\n",
              "      <td>5</td>\n",
              "      <td>1</td>\n",
              "      <td>1</td>\n",
              "      <td>4.0</td>\n",
              "    </tr>\n",
              "    <tr>\n",
              "      <th>4</th>\n",
              "      <td>5</td>\n",
              "      <td>1577943082</td>\n",
              "      <td>Prayers That Avail Much for Business</td>\n",
              "      <td>Book</td>\n",
              "      <td>455160</td>\n",
              "      <td>2</td>\n",
              "      <td>0</td>\n",
              "      <td>0</td>\n",
              "      <td>0.0</td>\n",
              "    </tr>\n",
              "  </tbody>\n",
              "</table>\n",
              "</div>\n",
              "      <button class=\"colab-df-convert\" onclick=\"convertToInteractive('df-1c77ac83-8fe2-4d12-8e33-59d22090997a')\"\n",
              "              title=\"Convert this dataframe to an interactive table.\"\n",
              "              style=\"display:none;\">\n",
              "        \n",
              "  <svg xmlns=\"http://www.w3.org/2000/svg\" height=\"24px\"viewBox=\"0 0 24 24\"\n",
              "       width=\"24px\">\n",
              "    <path d=\"M0 0h24v24H0V0z\" fill=\"none\"/>\n",
              "    <path d=\"M18.56 5.44l.94 2.06.94-2.06 2.06-.94-2.06-.94-.94-2.06-.94 2.06-2.06.94zm-11 1L8.5 8.5l.94-2.06 2.06-.94-2.06-.94L8.5 2.5l-.94 2.06-2.06.94zm10 10l.94 2.06.94-2.06 2.06-.94-2.06-.94-.94-2.06-.94 2.06-2.06.94z\"/><path d=\"M17.41 7.96l-1.37-1.37c-.4-.4-.92-.59-1.43-.59-.52 0-1.04.2-1.43.59L10.3 9.45l-7.72 7.72c-.78.78-.78 2.05 0 2.83L4 21.41c.39.39.9.59 1.41.59.51 0 1.02-.2 1.41-.59l7.78-7.78 2.81-2.81c.8-.78.8-2.07 0-2.86zM5.41 20L4 18.59l7.72-7.72 1.47 1.35L5.41 20z\"/>\n",
              "  </svg>\n",
              "      </button>\n",
              "      \n",
              "  <style>\n",
              "    .colab-df-container {\n",
              "      display:flex;\n",
              "      flex-wrap:wrap;\n",
              "      gap: 12px;\n",
              "    }\n",
              "\n",
              "    .colab-df-convert {\n",
              "      background-color: #E8F0FE;\n",
              "      border: none;\n",
              "      border-radius: 50%;\n",
              "      cursor: pointer;\n",
              "      display: none;\n",
              "      fill: #1967D2;\n",
              "      height: 32px;\n",
              "      padding: 0 0 0 0;\n",
              "      width: 32px;\n",
              "    }\n",
              "\n",
              "    .colab-df-convert:hover {\n",
              "      background-color: #E2EBFA;\n",
              "      box-shadow: 0px 1px 2px rgba(60, 64, 67, 0.3), 0px 1px 3px 1px rgba(60, 64, 67, 0.15);\n",
              "      fill: #174EA6;\n",
              "    }\n",
              "\n",
              "    [theme=dark] .colab-df-convert {\n",
              "      background-color: #3B4455;\n",
              "      fill: #D2E3FC;\n",
              "    }\n",
              "\n",
              "    [theme=dark] .colab-df-convert:hover {\n",
              "      background-color: #434B5C;\n",
              "      box-shadow: 0px 1px 3px 1px rgba(0, 0, 0, 0.15);\n",
              "      filter: drop-shadow(0px 1px 2px rgba(0, 0, 0, 0.3));\n",
              "      fill: #FFFFFF;\n",
              "    }\n",
              "  </style>\n",
              "\n",
              "      <script>\n",
              "        const buttonEl =\n",
              "          document.querySelector('#df-1c77ac83-8fe2-4d12-8e33-59d22090997a button.colab-df-convert');\n",
              "        buttonEl.style.display =\n",
              "          google.colab.kernel.accessAllowed ? 'block' : 'none';\n",
              "\n",
              "        async function convertToInteractive(key) {\n",
              "          const element = document.querySelector('#df-1c77ac83-8fe2-4d12-8e33-59d22090997a');\n",
              "          const dataTable =\n",
              "            await google.colab.kernel.invokeFunction('convertToInteractive',\n",
              "                                                     [key], {});\n",
              "          if (!dataTable) return;\n",
              "\n",
              "          const docLinkHtml = 'Like what you see? Visit the ' +\n",
              "            '<a target=\"_blank\" href=https://colab.research.google.com/notebooks/data_table.ipynb>data table notebook</a>'\n",
              "            + ' to learn more about interactive tables.';\n",
              "          element.innerHTML = '';\n",
              "          dataTable['output_type'] = 'display_data';\n",
              "          await google.colab.output.renderOutput(dataTable, element);\n",
              "          const docLink = document.createElement('div');\n",
              "          docLink.innerHTML = docLinkHtml;\n",
              "          element.appendChild(docLink);\n",
              "        }\n",
              "      </script>\n",
              "    </div>\n",
              "  </div>\n",
              "  "
            ]
          },
          "metadata": {},
          "execution_count": 27
        }
      ],
      "source": [
        "df.head()"
      ]
    },
    {
      "cell_type": "markdown",
      "source": [
        "##### Checking and Dropping Null Values"
      ],
      "metadata": {
        "id": "Z1xwNAKUitni"
      }
    },
    {
      "cell_type": "code",
      "execution_count": 28,
      "metadata": {
        "colab": {
          "base_uri": "https://localhost:8080/"
        },
        "id": "d4801bfd",
        "outputId": "02ed957b-bd71-49a2-dfb5-5c6f148d330a"
      },
      "outputs": [
        {
          "output_type": "execute_result",
          "data": {
            "text/plain": [
              "ID                   0\n",
              "ASIN                 0\n",
              "title                2\n",
              "group                0\n",
              "salesrank            0\n",
              "num_categories       0\n",
              "totalreviews         0\n",
              "downloadedreviews    0\n",
              "avg_rating           0\n",
              "dtype: int64"
            ]
          },
          "metadata": {},
          "execution_count": 28
        }
      ],
      "source": [
        "df.isnull().sum()\n",
        "df = df.dropna()"
      ]
    },
    {
      "cell_type": "code",
      "execution_count": 31,
      "metadata": {
        "colab": {
          "base_uri": "https://localhost:8080/"
        },
        "id": "24e60de1",
        "outputId": "9a5dbfc7-bb6a-4d65-92ff-5cb32ff7f4f6"
      },
      "outputs": [
        {
          "output_type": "execute_result",
          "data": {
            "text/plain": [
              "Book            393559\n",
              "Music           103144\n",
              "Video            26131\n",
              "DVD              19828\n",
              "Toy                  8\n",
              "Software             5\n",
              "CE                   4\n",
              "Video Games          1\n",
              "Baby Product         1\n",
              "Sports               1\n",
              "Name: group, dtype: int64"
            ]
          },
          "metadata": {},
          "execution_count": 31
        }
      ],
      "source": [
        "df['group'].value_counts()"
      ]
    },
    {
      "cell_type": "markdown",
      "source": [
        "#####Indexing the graph on the attribute 'ID'"
      ],
      "metadata": {
        "id": "o8bkbs1mjTf5"
      }
    },
    {
      "cell_type": "code",
      "execution_count": 33,
      "metadata": {
        "id": "e0ace1b6"
      },
      "outputs": [],
      "source": [
        "df = df.set_index('ID')"
      ]
    },
    {
      "cell_type": "markdown",
      "source": [
        "#### Selecting Attributes that each nodes will have "
      ],
      "metadata": {
        "id": "s_MSmwsEjXjB"
      }
    },
    {
      "cell_type": "code",
      "execution_count": 35,
      "metadata": {
        "id": "3f5f5b22"
      },
      "outputs": [],
      "source": [
        "nodeattrdf = df[['ASIN','title','group', 'num_categories','salesrank', 'totalreviews', 'downloadedreviews', 'avg_rating']].copy()"
      ]
    },
    {
      "cell_type": "markdown",
      "source": [
        "#### Combining the transaction data and the metadata into a networkX Directed Graph"
      ],
      "metadata": {
        "id": "Qaw_PcyQjZmB"
      }
    },
    {
      "cell_type": "code",
      "execution_count": 36,
      "metadata": {
        "id": "0a7b9e22"
      },
      "outputs": [],
      "source": [
        "nx.set_node_attributes(G, nodeattrdf.to_dict('index'))"
      ]
    },
    {
      "cell_type": "code",
      "execution_count": 37,
      "metadata": {
        "colab": {
          "base_uri": "https://localhost:8080/"
        },
        "id": "c8a625f2",
        "outputId": "0e3c9572-0dc9-4324-ab3d-4ddab49cbb50"
      },
      "outputs": [
        {
          "output_type": "execute_result",
          "data": {
            "text/plain": [
              "{'ASIN': '0231118597',\n",
              " 'avg_rating': 4.5,\n",
              " 'downloadedreviews': 15,\n",
              " 'group': 'Book',\n",
              " 'num_categories': 4,\n",
              " 'salesrank': 277409,\n",
              " 'title': 'Losing Matt Shepard',\n",
              " 'totalreviews': 15}"
            ]
          },
          "metadata": {},
          "execution_count": 37
        }
      ],
      "source": [
        "G.nodes[8]"
      ]
    },
    {
      "cell_type": "markdown",
      "source": [
        "####**Empty nodes/Disjoint nodes do not contribute significantly when we recommended products.So we have removed them**"
      ],
      "metadata": {
        "id": "QhQKZESDjc47"
      }
    },
    {
      "cell_type": "code",
      "execution_count": 38,
      "metadata": {
        "id": "85c12cb3"
      },
      "outputs": [],
      "source": [
        "\n",
        "remove = [nodes for nodes in dict(G.nodes()) if len(G.nodes[nodes]) == 0]"
      ]
    },
    {
      "cell_type": "code",
      "execution_count": 39,
      "metadata": {
        "id": "a4ee8862"
      },
      "outputs": [],
      "source": [
        "G.remove_nodes_from(remove)"
      ]
    },
    {
      "cell_type": "markdown",
      "source": [
        "Here, n is the array of all non-deleted nodes in the graph"
      ],
      "metadata": {
        "id": "s7eVQUnNjg0i"
      }
    },
    {
      "cell_type": "code",
      "execution_count": 41,
      "metadata": {
        "id": "233ed40e"
      },
      "outputs": [],
      "source": [
        "n = list(G.nodes)"
      ]
    },
    {
      "cell_type": "code",
      "execution_count": 42,
      "metadata": {
        "id": "de2d7f5b"
      },
      "outputs": [],
      "source": [
        "n =  np.array(n)\n",
        "n = np.unique(n)"
      ]
    },
    {
      "cell_type": "markdown",
      "source": [
        "##### Helper function to retrive all target nodes from the edges starting from the source"
      ],
      "metadata": {
        "id": "vlJ_0Ygul94b"
      }
    },
    {
      "cell_type": "code",
      "execution_count": 44,
      "metadata": {
        "id": "c15aacee"
      },
      "outputs": [],
      "source": [
        "def getclean(pro_id):    \n",
        "    l = str(list(G.edges(pro_id)))\n",
        "    l = l.replace('[','')\n",
        "    l = l.replace(']','')\n",
        "    l = l.replace(',','')\n",
        "    l = l.replace('(','')\n",
        "    l = l.replace(')','')\n",
        "    l = l.replace(str(pro_id)+\" \", '')\n",
        "    b = l.split()\n",
        "    b = np.array(b)\n",
        "    b = b.astype(int)\n",
        "    return b"
      ]
    },
    {
      "cell_type": "code",
      "source": [
        "G.edges(5)"
      ],
      "metadata": {
        "colab": {
          "base_uri": "https://localhost:8080/"
        },
        "id": "watyxZORSOLB",
        "outputId": "02b58e09-ddbe-45c7-978d-fc1804cf28b9"
      },
      "execution_count": 45,
      "outputs": [
        {
          "output_type": "execute_result",
          "data": {
            "text/plain": [
              "OutEdgeDataView([(5, 6), (5, 44), (5, 46), (5, 47), (5, 48), (5, 49), (5, 50), (5, 51), (5, 52), (5, 53)])"
            ]
          },
          "metadata": {},
          "execution_count": 45
        }
      ]
    },
    {
      "cell_type": "code",
      "source": [
        "getclean(5)"
      ],
      "metadata": {
        "colab": {
          "base_uri": "https://localhost:8080/"
        },
        "id": "nYJXKrDmULVm",
        "outputId": "ddaa8823-dbbf-469f-e489-645d627893e9"
      },
      "execution_count": 46,
      "outputs": [
        {
          "output_type": "execute_result",
          "data": {
            "text/plain": [
              "array([ 6, 44, 46, 47, 48, 49, 50, 51, 52, 53])"
            ]
          },
          "metadata": {},
          "execution_count": 46
        }
      ]
    },
    {
      "cell_type": "markdown",
      "source": [
        "####Function for user to search for a product"
      ],
      "metadata": {
        "id": "CGy9qpz3kCoo"
      }
    },
    {
      "cell_type": "code",
      "source": [
        "def search(s):\n",
        "  s = s.lower()\n",
        "  indx = df.index[(df['title'].str.contains(s, case = False))==True]   \n",
        "  indx = np.array(indx)\n",
        "  indx = indx.astype(int)\n",
        "  return indx"
      ],
      "metadata": {
        "id": "_epelfQ_mO9I"
      },
      "execution_count": 47,
      "outputs": []
    },
    {
      "cell_type": "markdown",
      "source": [
        "Storing array of indexes in an array"
      ],
      "metadata": {
        "id": "ftolcW3-kEkI"
      }
    },
    {
      "cell_type": "code",
      "source": [
        "iarray = search(str(input()))\n",
        "print(len(iarray))\n",
        "\n",
        "for i in range(0, len(iarray)):\n",
        "  if(iarray[i] in n):\n",
        "    print(iarray[i], G.nodes[iarray[i]]['title'])"
      ],
      "metadata": {
        "colab": {
          "base_uri": "https://localhost:8080/"
        },
        "id": "S5ywqUt1qFV-",
        "outputId": "60daa5b5-6565-4e5e-a763-8c8cd488c45f"
      },
      "execution_count": 48,
      "outputs": [
        {
          "name": "stdout",
          "output_type": "stream",
          "text": [
            "8\n"
          ]
        }
      ]
    },
    {
      "cell_type": "markdown",
      "source": [
        "##### Input the product id of the product bought by user"
      ],
      "metadata": {
        "id": "Cg2aioROmZwV"
      }
    },
    {
      "cell_type": "code",
      "execution_count": 51,
      "metadata": {
        "colab": {
          "base_uri": "https://localhost:8080/"
        },
        "id": "df1f9185",
        "outputId": "b4037086-8271-44d2-c98c-100bb01ee5f7"
      },
      "outputs": [
        {
          "output_type": "stream",
          "name": "stdout",
          "text": [
            "56\n",
            "Selected product is 56\n"
          ]
        }
      ],
      "source": [
        "tempinput = int(input())\n",
        "if(tempinput in n):\n",
        "  pro_id = tempinput\n",
        "  print(\"Selected product is\", pro_id)\n",
        "else:\n",
        "  print(\"Empty node has been removed from the graph!\")"
      ]
    },
    {
      "cell_type": "markdown",
      "source": [
        "#####Final result denotes all the connected edges to the source(source is product selected)"
      ],
      "metadata": {
        "id": "-D8uP3LYmd7P"
      }
    },
    {
      "cell_type": "code",
      "execution_count": 52,
      "metadata": {
        "id": "0f82930d"
      },
      "outputs": [],
      "source": [
        "finalresult = []\n",
        "resultarray = np.unique(getclean(pro_id))\n",
        "for i in range(1, len(resultarray)):\n",
        "    if(resultarray[i] in n):\n",
        "        finalresult.append(resultarray[i])\n",
        "\n",
        "print(len(finalresult))"
      ]
    },
    {
      "cell_type": "markdown",
      "source": [
        "#####Helper function to display titles"
      ],
      "metadata": {
        "id": "9K6Geeq1lSh1"
      }
    },
    {
      "cell_type": "code",
      "execution_count": 54,
      "metadata": {
        "id": "83704f85"
      },
      "outputs": [],
      "source": [
        "def showtitles(array):\n",
        "    titles = []\n",
        "    for i in range(len(array)):\n",
        "        titles.append(G.nodes[array[i]]['title'])\n",
        "    return titles"
      ]
    },
    {
      "cell_type": "markdown",
      "source": [
        "##### Helper function to display ASIN numbers"
      ],
      "metadata": {
        "id": "6qjjJXECmp6M"
      }
    },
    {
      "cell_type": "code",
      "source": [
        "def showasin(array):\n",
        "    asins = []\n",
        "    for i in range(len(array)):\n",
        "        asins.append(G.nodes[array[i]]['ASIN'])\n",
        "    asins = np.array(asins)\n",
        "    #asins = asins.astype(int)\n",
        "    return asins"
      ],
      "metadata": {
        "id": "UsicXyZM-mWy"
      },
      "execution_count": 55,
      "outputs": []
    },
    {
      "cell_type": "code",
      "execution_count": 56,
      "metadata": {
        "colab": {
          "base_uri": "https://localhost:8080/"
        },
        "id": "05af53c5",
        "outputId": "82ca5400-a6ef-453c-f3af-b5404d2826fb"
      },
      "outputs": [
        {
          "output_type": "stream",
          "name": "stdout",
          "text": [
            "Three Bricks Shy of a Load \n",
            "\n",
            "\n",
            " ['How the Other Half Lives', 'How to Kill a Monster (Goosebumps)', 'Investigating Computer Crime', 'Black Friday (Soul Survivor Series, Bk. 4)', 'Capital', 'Ten Black Dots', 'Cocktail Hour', 'You Can Name 100 Dinosaurs!', 'Dink the Little Dinosaur']\n"
          ]
        }
      ],
      "source": [
        "t = showtitles(finalresult)\n",
        "print(G.nodes[pro_id]['title'],\"\\n\\n\\n\", t)"
      ]
    },
    {
      "cell_type": "markdown",
      "source": [
        "##### Helper Function to retrive a subset of the dictionary(i.e the features we are concerned with)"
      ],
      "metadata": {
        "id": "j1YPDpF5mvJu"
      }
    },
    {
      "cell_type": "code",
      "execution_count": 57,
      "metadata": {
        "id": "bb9c6411"
      },
      "outputs": [],
      "source": [
        "def getsubdict(d):\n",
        "    required_keys = ('group' ,'num_categories', 'totalreviews', 'downloadedreviews', 'avg_rating')\n",
        "    subdict = {x: d[x] for x in required_keys if x in d}\n",
        "    return subdict\n",
        "    "
      ]
    },
    {
      "cell_type": "markdown",
      "source": [
        "**NOTE**\n",
        "\n",
        "Here, our initial approach was to calculate Correlation and Cosine similarities between the features of the two nodes to determine the \"weight\", or how similar they were. \n",
        "However, that approach was erroneous. Correlation implies that a product with high salesrank will be highly correlated with a product with high salesrank. But, Low salesrank is desirable. \n",
        "\n",
        "Hence, we moved to a new metric - Jaccard Index. "
      ],
      "metadata": {
        "id": "L_IVVyrvBVlR"
      }
    },
    {
      "cell_type": "code",
      "source": [
        "# def gethighestcorr(pro_id, finalresult, metric):  \n",
        "#     corrdict = {}\n",
        "#     cosdict = {}   \n",
        "#     selarray = np.array(list(getsubdict(G.nodes[pro_id]).values()))\n",
        "#     selarray = selarray.astype(float)\n",
        "#     for i in range(1,len(finalresult)):\n",
        "#         comparray = np.array(list(getsubdict(G.nodes[finalresult[i]]).values()))\n",
        "#         comparray = comparray.astype(float)        \n",
        "#         if(pro_id != i):\n",
        "#             cosineval = cosine_similarity([selarray], [comparray])[0][0]\n",
        "#             cosdict[finalresult[i]] = cosineval\n",
        "#             corr = np.corrcoef(selarray, comparray)[0][1]\n",
        "#             corrdict[finalresult[i]] = corr               \n",
        "#     corrdict = dict(sorted(corrdict.items(), key=lambda item: item[1], reverse = True))\n",
        "#     cosdict = dict(sorted(cosdict.items(), key=lambda item: item[1], reverse = True))\n",
        "#     print(corrdict, cosdict)\n",
        "#     if(metric == 'corr'):\n",
        "#       return corrdict\n",
        "#     elif(metric == 'cosine'):\n",
        "#       return cosdict\n",
        "# metric = input()\n",
        "# finaldict = gethighestcorr(pro_id, finalresult, metric)\n",
        "# len(finaldict)\n",
        "# top5 = np.array(list(finaldict.keys()))[:5]\n",
        "# top5\n",
        "# showtitles(top5)\n",
        "# showasin(top5)\n",
        "# arr1 = np.append(top5, pro_id)\n",
        "# finalresult = np.array(finalresult)\n",
        "# diff = np.setdiff1d(finalresult, top5)\n",
        "# arr2 = np.append(diff,pro_id)\n",
        "# H = G.subgraph(arr1)\n",
        "# L = G.subgraph(arr2)\n",
        "# fig = plt.figure(1, figsize=(20, 10), dpi= 200)\n",
        "# nx.draw_networkx(H, with_labels = True, edge_color = 'r')\n",
        "# nx.draw_networkx(L, with_labels = True)\n",
        "# print(pro_id)\n",
        "# print(finalresult)\n",
        "# print(top5)\n",
        "# type(top5)\n",
        "#Saving the graph locally to implement efficiently in API\n",
        "#nx.write_gpickle(G,'drive/MyDrive/BAJAJ/GNN_datasets/G.gpickle')"
      ],
      "metadata": {
        "id": "SyT8j9swo7Dx"
      },
      "execution_count": 72,
      "outputs": []
    },
    {
      "cell_type": "markdown",
      "source": [
        "#### **Jaccard index is a metric that is a a function of number of nodes, not node attributes. Hence, it serves out purpose.**\n",
        "\n",
        "The Jaccard Index, also known as the Jaccard similarity coefficient, is a statistic used in understanding the similarities between sample sets. The measurement emphasizes similarity between finite sample sets, and is formally defined as the size of the intersection divided by the size of the union of the sample sets. The mathematical representation of the index is written as:\n",
        "\n",
        "![image.png](data:image/png;base64,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)"
      ],
      "metadata": {
        "id": "nIuGpoYYlPGx"
      }
    },
    {
      "cell_type": "code",
      "source": [
        "def jaccard_similarity(list1, list2):\n",
        "    intersection = len(list(set(list1).intersection(list2)))\n",
        "    union = (len(set(list1)) + len(set(list2))) - intersection\n",
        "    return float(intersection) / union"
      ],
      "metadata": {
        "id": "layuxGcvgXB-"
      },
      "execution_count": 73,
      "outputs": []
    },
    {
      "cell_type": "markdown",
      "source": [
        "#####Helper function to calculate jaccard index values"
      ],
      "metadata": {
        "id": "72TnekA0nYMj"
      }
    },
    {
      "cell_type": "code",
      "source": [
        "def gethighestjaccard(pro_id, finalresult):\n",
        "  jaccdict = {}    \n",
        "  for i in range(0,len(finalresult)):     \n",
        "    if(pro_id != i):      \n",
        "      tempneighbours = []\n",
        "      resarray = getclean(finalresult[i])        \n",
        "      jaccdict[finalresult[i]] = jaccard_similarity(finalresult, resarray)\n",
        "  return jaccdict    \n",
        "        "
      ],
      "metadata": {
        "id": "JVMpM_hPTJBV"
      },
      "execution_count": 74,
      "outputs": []
    },
    {
      "cell_type": "markdown",
      "source": [
        "Sorting the Final Dictionary based on Jaccard Indexes"
      ],
      "metadata": {
        "id": "K2PQhK-Tnjxk"
      }
    },
    {
      "cell_type": "code",
      "source": [
        "finaldictjaccard = gethighestjaccard(pro_id, finalresult)\n",
        "finaldictjaccard = dict(sorted(finaldictjaccard.items(), key=lambda item: item[1], reverse = True))"
      ],
      "metadata": {
        "id": "95iJD9ptRUEP"
      },
      "execution_count": 75,
      "outputs": []
    },
    {
      "cell_type": "code",
      "source": [
        "finaldictjaccard"
      ],
      "metadata": {
        "colab": {
          "base_uri": "https://localhost:8080/"
        },
        "id": "kaLoG1NWgeYr",
        "outputId": "6ca23750-4029-471a-b7c5-874576cdf902"
      },
      "execution_count": 77,
      "outputs": [
        {
          "output_type": "execute_result",
          "data": {
            "text/plain": [
              "{6: 0.0,\n",
              " 47: 0.05555555555555555,\n",
              " 57: 0.058823529411764705,\n",
              " 119: 0.26666666666666666,\n",
              " 120: 0.26666666666666666,\n",
              " 121: 0.05555555555555555,\n",
              " 122: 0.1875,\n",
              " 123: 0.11764705882352941,\n",
              " 124: 0.0}"
            ]
          },
          "metadata": {},
          "execution_count": 77
        }
      ]
    },
    {
      "cell_type": "code",
      "source": [
        "top5jac = np.array(list(finaldictjaccard.keys()))[:5]"
      ],
      "metadata": {
        "id": "iknxdPjNTSyM"
      },
      "execution_count": 78,
      "outputs": []
    },
    {
      "cell_type": "code",
      "source": [
        "top5jac"
      ],
      "metadata": {
        "colab": {
          "base_uri": "https://localhost:8080/"
        },
        "id": "GsPgzPnZiTj_",
        "outputId": "784154e9-aed3-4259-b70b-2cdd7465a2d0"
      },
      "execution_count": 79,
      "outputs": [
        {
          "output_type": "execute_result",
          "data": {
            "text/plain": [
              "array([119, 120, 122, 123,  57])"
            ]
          },
          "metadata": {},
          "execution_count": 79
        }
      ]
    },
    {
      "cell_type": "markdown",
      "source": [
        "#### Top 5 Recommendations Made"
      ],
      "metadata": {
        "id": "b8k2yeYunsjl"
      }
    },
    {
      "cell_type": "code",
      "source": [
        "showtitles(top5jac)"
      ],
      "metadata": {
        "colab": {
          "base_uri": "https://localhost:8080/"
        },
        "id": "zL0A_WtxiXW2",
        "outputId": "f23f5f33-d0f6-4542-f493-d39b1eb61ba0"
      },
      "execution_count": 81,
      "outputs": [
        {
          "output_type": "execute_result",
          "data": {
            "text/plain": [
              "['Black Friday (Soul Survivor Series, Bk. 4)',\n",
              " 'Capital',\n",
              " 'Cocktail Hour',\n",
              " 'You Can Name 100 Dinosaurs!',\n",
              " 'Investigating Computer Crime']"
            ]
          },
          "metadata": {},
          "execution_count": 81
        }
      ]
    },
    {
      "cell_type": "markdown",
      "source": [
        "#### Assigning red edges for recommended products, and blue edges for non-recommended products"
      ],
      "metadata": {
        "id": "iX4NQVPCn1Qu"
      }
    },
    {
      "cell_type": "code",
      "source": [
        "K = nx.DiGraph()\n",
        "for i in top5jac:\n",
        "  K.add_edge(pro_id,i,color='r')\n",
        "difjac = np.setdiff1d(finalresult, top5jac)\n",
        "for i in difjac:\n",
        "  K.add_edge(pro_id,i,color='b')"
      ],
      "metadata": {
        "id": "LlUkBoCO1dNj"
      },
      "execution_count": 82,
      "outputs": []
    },
    {
      "cell_type": "code",
      "source": [
        "fig = plt.figure(1, figsize=(5, 3), dpi= 200)\n",
        "colors = nx.get_edge_attributes(K,'color').values()\n",
        "nx.draw_networkx(K,with_labels = True, edge_color=colors)"
      ],
      "metadata": {
        "colab": {
          "base_uri": "https://localhost:8080/",
          "height": 510
        },
        "id": "4H6sVUhr2L4Y",
        "outputId": "6df37c7f-dfae-478a-b190-7a80c7b1da49"
      },
      "execution_count": 83,
      "outputs": [
        {
          "output_type": "display_data",
          "data": {
            "text/plain": [
              "<Figure size 1000x600 with 1 Axes>"
            ],
            "image/png": "[encoded data removed]"
          },
          "metadata": {}
        }
      ]
    },
    {
      "cell_type": "code",
      "source": [
        ""
      ],
      "metadata": {
        "id": "Hw5cU9axO_Lh"
      },
      "execution_count": 83,
      "outputs": []
    }
  ],
  "metadata": {
    "kernelspec": {
      "display_name": "Python 3 (ipykernel)",
      "language": "python",
      "name": "python3"
    },
    "language_info": {
      "codemirror_mode": {
        "name": "ipython",
        "version": 3
      },
      "file_extension": ".py",
      "mimetype": "text/x-python",
      "name": "python",
      "nbconvert_exporter": "python",
      "pygments_lexer": "ipython3",
      "version": "3.8.8"
    },
    "colab": {
      "name": "HackRx30_Hackathon_June22_P1.ipynb",
      "provenance": [],
      "collapsed_sections": [],
      "toc_visible": true
    }
  },
  "nbformat": 4,
  "nbformat_minor": 0
}